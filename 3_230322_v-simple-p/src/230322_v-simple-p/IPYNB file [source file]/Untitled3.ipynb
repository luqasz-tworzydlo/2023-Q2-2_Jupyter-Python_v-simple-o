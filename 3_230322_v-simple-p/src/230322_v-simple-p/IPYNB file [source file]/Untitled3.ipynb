{
 "cells": [
  {
   "cell_type": "code",
   "execution_count": 1,
   "id": "24a8e34e",
   "metadata": {},
   "outputs": [],
   "source": [
    "# Z1 (napisz program sprawdzający czy z boków o długościach\n",
    "# podanych przez użytkownika można zbudować trójkąt)"
   ]
  },
  {
   "cell_type": "code",
   "execution_count": 2,
   "id": "9cade83a",
   "metadata": {},
   "outputs": [
    {
     "name": "stdout",
     "output_type": "stream",
     "text": [
      "Podaj długość boku a: 5\n",
      "Podaj długość boku b: 5\n",
      "Podaj długość boku c: 5\n",
      "Z podanych boków można zbudować trójkąt.\n"
     ]
    }
   ],
   "source": [
    "a = float(input(\"Podaj długość boku a: \"))\n",
    "b = float(input(\"Podaj długość boku b: \"))\n",
    "c = float(input(\"Podaj długość boku c: \"))\n",
    "\n",
    "if a + b > c and a + c > b and b + c > a:\n",
    "    print(\"Z podanych boków można zbudować trójkąt.\")\n",
    "else:\n",
    "    print(\"Z podanych boków nie można zbudować trójkąta.\")"
   ]
  },
  {
   "cell_type": "code",
   "execution_count": 3,
   "id": "f44d455c",
   "metadata": {},
   "outputs": [],
   "source": [
    "# Z2 (napisz program obliczający pierwiastki równania kwadratowego)\n",
    "import math"
   ]
  },
  {
   "cell_type": "code",
   "execution_count": 4,
   "id": "37f4b640",
   "metadata": {},
   "outputs": [
    {
     "name": "stdout",
     "output_type": "stream",
     "text": [
      "Podaj wartość a: 5\n",
      "Podaj wartość b: 5\n",
      "Podaj wartość c: 5\n",
      "Równanie nie ma pierwiastków rzeczywistych.\n"
     ]
    }
   ],
   "source": [
    "import math\n",
    "\n",
    "a = float(input(\"Podaj wartość a: \"))\n",
    "b = float(input(\"Podaj wartość b: \"))\n",
    "c = float(input(\"Podaj wartość c: \"))\n",
    "\n",
    "delta = b**2 - 4*a*c\n",
    "\n",
    "if delta > 0:\n",
    "    x1 = (-b + math.sqrt(delta))/(2*a)\n",
    "    x2 = (-b - math.sqrt(delta))/(2*a)\n",
    "    print(\"Pierwiastki równania to:\", x1, \"i\", x2)\n",
    "elif delta == 0:\n",
    "    x = -b/(2*a)\n",
    "    print(\"Równanie ma jeden pierwiastek:\", x)\n",
    "else:\n",
    "    print(\"Równanie nie ma pierwiastków rzeczywistych.\")"
   ]
  },
  {
   "cell_type": "code",
   "execution_count": 5,
   "id": "9ca9c789",
   "metadata": {},
   "outputs": [],
   "source": [
    "# Z3 (zapisz program, który dla zadanych dwóch liczb określi,\n",
    "# czy pierwsza jest wielokrotnością drugiej)"
   ]
  },
  {
   "cell_type": "code",
   "execution_count": 6,
   "id": "63c227be",
   "metadata": {},
   "outputs": [
    {
     "name": "stdout",
     "output_type": "stream",
     "text": [
      "Podaj pierwszą liczbę: 5\n",
      "Podaj drugą liczbę: 5\n",
      "5 jest wielokrotnością 5\n"
     ]
    }
   ],
   "source": [
    "a = int(input(\"Podaj pierwszą liczbę: \"))\n",
    "b = int(input(\"Podaj drugą liczbę: \"))\n",
    "\n",
    "if a % b == 0:\n",
    "    print(a, \"jest wielokrotnością\", b)\n",
    "else:\n",
    "    print(a, \"nie jest wielokrotnością\", b)"
   ]
  },
  {
   "cell_type": "code",
   "execution_count": 7,
   "id": "0476db73",
   "metadata": {},
   "outputs": [],
   "source": [
    "# Z4.1 (napisz program podawania daty w formacie – dzień (od 1 do 31),\n",
    "# miesiąc (od 1 do 12), rok (od 1900 do 2050); użytkownik wprowadza\n",
    "# każdą z wartości w osobnym kroku; jeżeli wprowadzona wartość\n",
    "# jest błędna program kończy swoje działanie; jeżeli wszystkie\n",
    "# trzy wartości są poprawne program wyświetla datę np. 22.3.2023)"
   ]
  },
  {
   "cell_type": "code",
   "execution_count": 8,
   "id": "07d9df90",
   "metadata": {},
   "outputs": [
    {
     "name": "stdout",
     "output_type": "stream",
     "text": [
      "Wpisz dzień: 22\n",
      "Wpisz miesiąc: 03\n",
      "Wpisz rok: 2023\n",
      "22.3.2023\n"
     ]
    }
   ],
   "source": [
    "dzien = int(input(\"Wpisz dzień: \"))\n",
    "miesiac = int(input(\"Wpisz miesiąc: \"))\n",
    "rok = int(input(\"Wpisz rok: \"))\n",
    "\n",
    "if dzien < 1 or dzien > 31 or miesiac < 1 or miesiac > 12 or rok < 1900 or rok > 2050:\n",
    "    print(\"Data nieprawidłowa!\")\n",
    "else:\n",
    "    print(f\"{dzien}.{miesiac}.{rok}\")"
   ]
  },
  {
   "cell_type": "code",
   "execution_count": 9,
   "id": "8f403548",
   "metadata": {},
   "outputs": [],
   "source": [
    "# Z4.2 (napisz program obliczający silnię z liczby podanej przez użytkownika)"
   ]
  },
  {
   "cell_type": "code",
   "execution_count": 10,
   "id": "15314b11",
   "metadata": {},
   "outputs": [
    {
     "name": "stdout",
     "output_type": "stream",
     "text": [
      "Wprowadź numer: 5\n",
      "Silnia z 5 równa się 120\n"
     ]
    }
   ],
   "source": [
    "n = int(input(\"Wprowadź numer: \"))\n",
    "\n",
    "silnia = 1\n",
    "for i in range(1, n+1):\n",
    "    silnia *= i\n",
    "\n",
    "print(f\"Silnia z {n} równa się {silnia}\")"
   ]
  },
  {
   "cell_type": "code",
   "execution_count": 11,
   "id": "a481255f",
   "metadata": {},
   "outputs": [],
   "source": [
    "# Z5 (napisz program, który porówna dwie listy i zwróci wartość\n",
    "# True w przypadku gdy listy będą zawierały co najmniej jeden\n",
    "# ten sam element; w przeciwnym razie zwróci wartość False;\n",
    "# użyj instrukcji break)"
   ]
  },
  {
   "cell_type": "code",
   "execution_count": 12,
   "id": "5c4261d8",
   "metadata": {},
   "outputs": [
    {
     "name": "stdout",
     "output_type": "stream",
     "text": [
      "False\n"
     ]
    }
   ],
   "source": [
    "list1 = [1, 2, 3, 4, 5]\n",
    "list2 = [6, 7, 8, 9, 10]\n",
    "\n",
    "znaleziono = False\n",
    "for i in list1:\n",
    "    for j in list2:\n",
    "        if i == j:\n",
    "            znaleziono = True\n",
    "            break\n",
    "    if znaleziono:\n",
    "        break\n",
    "\n",
    "print(znaleziono)"
   ]
  },
  {
   "cell_type": "code",
   "execution_count": 13,
   "id": "f052cf6d",
   "metadata": {},
   "outputs": [],
   "source": [
    "# Z6 (podana jest lista spółek z indeksu WIG wraz z ceną zamknięcia i walutą:)\n",
    "\n",
    "gra = {\n",
    "    'BBB': [452.5, 'PLN'],\n",
    "    'CDD': [55.25, 'USD'],\n",
    "    'AWM': [0.77, 'PLN'],\n",
    "    'ENO': [69.5, 'USD'],\n",
    "    'SIX': [500.0, 'PLN']\n",
    "}\n",
    "\n",
    "# używając instrukcji continue zbuduj pętlę,\n",
    "# która pozwoli zmienić cenę zamknięcia wyrażoną w USD na PLN;\n",
    "# przyjmij kurs USDPLN = 4.0; słownik gra wydrukuj do konsoli"
   ]
  },
  {
   "cell_type": "code",
   "execution_count": 14,
   "id": "d8ce5e2d",
   "metadata": {},
   "outputs": [
    {
     "name": "stdout",
     "output_type": "stream",
     "text": [
      "{'BBB': [452.5, 'PLN'], 'CDD': [221.0, 'PLN'], 'AWM': [0.77, 'PLN'], 'ENO': [278.0, 'PLN'], 'SIX': [500.0, 'PLN']}\n"
     ]
    }
   ],
   "source": [
    "gra = {\n",
    "    'BBB': [452.5, 'PLN'],\n",
    "    'CDD': [55.25, 'USD'],\n",
    "    'AWM': [0.77, 'PLN'],\n",
    "    'ENO': [69.5, 'USD'],\n",
    "    'SIX': [500.0, 'PLN']\n",
    "}\n",
    "\n",
    "USDPLN = 4.0\n",
    "\n",
    "for firma, dane in gra.items():\n",
    "    if dane[1] == 'USD':\n",
    "        dane[0] *= USDPLN\n",
    "        dane[1] = 'PLN'\n",
    "        continue\n",
    "        \n",
    "print(gra)"
   ]
  },
  {
   "cell_type": "code",
   "execution_count": null,
   "id": "ab59046a",
   "metadata": {},
   "outputs": [],
   "source": []
  }
 ],
 "metadata": {
  "kernelspec": {
   "display_name": "Python 3 (ipykernel)",
   "language": "python",
   "name": "python3"
  },
  "language_info": {
   "codemirror_mode": {
    "name": "ipython",
    "version": 3
   },
   "file_extension": ".py",
   "mimetype": "text/x-python",
   "name": "python",
   "nbconvert_exporter": "python",
   "pygments_lexer": "ipython3",
   "version": "3.9.13"
  }
 },
 "nbformat": 4,
 "nbformat_minor": 5
}
