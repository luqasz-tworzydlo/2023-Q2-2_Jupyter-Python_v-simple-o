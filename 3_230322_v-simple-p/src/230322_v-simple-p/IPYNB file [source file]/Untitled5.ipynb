{
 "cells": [
  {
   "cell_type": "code",
   "execution_count": 1,
   "id": "775bebb2",
   "metadata": {},
   "outputs": [],
   "source": [
    "# zaimportowanie modulu 'geometria' i skrocenie nazwy na 'geo'\n",
    "import geometria as geo"
   ]
  },
  {
   "cell_type": "code",
   "execution_count": 2,
   "id": "c24a7a15",
   "metadata": {},
   "outputs": [
    {
     "data": {
      "text/plain": [
       "50"
      ]
     },
     "execution_count": 2,
     "metadata": {},
     "output_type": "execute_result"
    }
   ],
   "source": [
    "geo.pole_prostokata(5,10)"
   ]
  },
  {
   "cell_type": "code",
   "execution_count": 3,
   "id": "f95bffff",
   "metadata": {},
   "outputs": [],
   "source": [
    "# instalacja numpy [powinna być domyślnie zainstalowana]\n",
    "# (1) uruchomić Anaconda Promp [jako admin]\n",
    "# (2) wpisać komendę: pip install numpy"
   ]
  },
  {
   "cell_type": "code",
   "execution_count": 4,
   "id": "e5da0c62",
   "metadata": {},
   "outputs": [],
   "source": [
    "# import biblioteki numpy\n",
    "import numpy as np\n",
    "# po wpisaniu 'np.' mozna nacisnac 'tab',\n",
    "# aby zobaczyc liste opcji do wybrania"
   ]
  },
  {
   "cell_type": "code",
   "execution_count": 5,
   "id": "300920e4",
   "metadata": {},
   "outputs": [],
   "source": [
    "# ndarray [lista / tablica wielowymiarowa]"
   ]
  },
  {
   "cell_type": "code",
   "execution_count": 6,
   "id": "85a27fd4",
   "metadata": {},
   "outputs": [],
   "source": [
    "# np.array()\n",
    "# np.arange()"
   ]
  },
  {
   "cell_type": "code",
   "execution_count": 7,
   "id": "12705ca3",
   "metadata": {},
   "outputs": [],
   "source": [
    "# przykładowa, jednowymiarowa macierz\n",
    "\n",
    "a = np.array([1,2,3,7,8,9])"
   ]
  },
  {
   "cell_type": "code",
   "execution_count": 8,
   "id": "1e4258ea",
   "metadata": {},
   "outputs": [
    {
     "data": {
      "text/plain": [
       "array([1, 2, 3, 7, 8, 9])"
      ]
     },
     "execution_count": 8,
     "metadata": {},
     "output_type": "execute_result"
    }
   ],
   "source": [
    "a"
   ]
  },
  {
   "cell_type": "code",
   "execution_count": 9,
   "id": "7d7e08ae",
   "metadata": {},
   "outputs": [],
   "source": [
    "b = np.arange(4)"
   ]
  },
  {
   "cell_type": "code",
   "execution_count": 10,
   "id": "f7913272",
   "metadata": {},
   "outputs": [
    {
     "data": {
      "text/plain": [
       "array([0, 1, 2, 3])"
      ]
     },
     "execution_count": 10,
     "metadata": {},
     "output_type": "execute_result"
    }
   ],
   "source": [
    "b"
   ]
  },
  {
   "cell_type": "code",
   "execution_count": 11,
   "id": "547bd8c4",
   "metadata": {},
   "outputs": [],
   "source": [
    "c = np.arange(2,10,2)"
   ]
  },
  {
   "cell_type": "code",
   "execution_count": 12,
   "id": "b94b258d",
   "metadata": {},
   "outputs": [
    {
     "data": {
      "text/plain": [
       "array([2, 4, 6, 8])"
      ]
     },
     "execution_count": 12,
     "metadata": {},
     "output_type": "execute_result"
    }
   ],
   "source": [
    "c"
   ]
  },
  {
   "cell_type": "code",
   "execution_count": 13,
   "id": "08fff406",
   "metadata": {},
   "outputs": [],
   "source": [
    "e = np.array([[1,2,3],[4,5,6]])"
   ]
  },
  {
   "cell_type": "code",
   "execution_count": 14,
   "id": "ce98165e",
   "metadata": {},
   "outputs": [
    {
     "data": {
      "text/plain": [
       "array([[1, 2, 3],\n",
       "       [4, 5, 6]])"
      ]
     },
     "execution_count": 14,
     "metadata": {},
     "output_type": "execute_result"
    }
   ],
   "source": [
    "e"
   ]
  },
  {
   "cell_type": "code",
   "execution_count": 15,
   "id": "bc6cf6d1",
   "metadata": {},
   "outputs": [],
   "source": [
    "f = np.zeros((2,3))"
   ]
  },
  {
   "cell_type": "code",
   "execution_count": 16,
   "id": "44a477ac",
   "metadata": {},
   "outputs": [
    {
     "data": {
      "text/plain": [
       "array([[0., 0., 0.],\n",
       "       [0., 0., 0.]])"
      ]
     },
     "execution_count": 16,
     "metadata": {},
     "output_type": "execute_result"
    }
   ],
   "source": [
    "f"
   ]
  },
  {
   "cell_type": "code",
   "execution_count": 17,
   "id": "b1d1f37e",
   "metadata": {},
   "outputs": [],
   "source": [
    "g = np.ones([2,3])"
   ]
  },
  {
   "cell_type": "code",
   "execution_count": 18,
   "id": "9c844361",
   "metadata": {},
   "outputs": [
    {
     "data": {
      "text/plain": [
       "array([[1., 1., 1.],\n",
       "       [1., 1., 1.]])"
      ]
     },
     "execution_count": 18,
     "metadata": {},
     "output_type": "execute_result"
    }
   ],
   "source": [
    "g"
   ]
  },
  {
   "cell_type": "code",
   "execution_count": 19,
   "id": "fe930a8a",
   "metadata": {},
   "outputs": [
    {
     "data": {
      "text/plain": [
       "array([[0.27632199, 0.7490417 , 0.50123652],\n",
       "       [0.65703699, 0.60130011, 0.1973396 ]])"
      ]
     },
     "execution_count": 19,
     "metadata": {},
     "output_type": "execute_result"
    }
   ],
   "source": [
    "np.random.random((2,3))"
   ]
  },
  {
   "cell_type": "code",
   "execution_count": 20,
   "id": "2e4af6a4",
   "metadata": {},
   "outputs": [],
   "source": [
    "a = np.array([1,2,3])\n",
    "b = np.array([4,5,7])"
   ]
  },
  {
   "cell_type": "code",
   "execution_count": 21,
   "id": "05feb172",
   "metadata": {},
   "outputs": [],
   "source": [
    "x = a+b"
   ]
  },
  {
   "cell_type": "code",
   "execution_count": 22,
   "id": "ed8d98ac",
   "metadata": {},
   "outputs": [
    {
     "data": {
      "text/plain": [
       "array([ 5,  7, 10])"
      ]
     },
     "execution_count": 22,
     "metadata": {},
     "output_type": "execute_result"
    }
   ],
   "source": [
    "x"
   ]
  },
  {
   "cell_type": "code",
   "execution_count": 23,
   "id": "48e673cc",
   "metadata": {},
   "outputs": [],
   "source": [
    "x = a-b"
   ]
  },
  {
   "cell_type": "code",
   "execution_count": 24,
   "id": "68e98f9d",
   "metadata": {},
   "outputs": [
    {
     "data": {
      "text/plain": [
       "array([-3, -3, -4])"
      ]
     },
     "execution_count": 24,
     "metadata": {},
     "output_type": "execute_result"
    }
   ],
   "source": [
    "x"
   ]
  },
  {
   "cell_type": "code",
   "execution_count": 25,
   "id": "c83da600",
   "metadata": {},
   "outputs": [],
   "source": [
    "x = a*b"
   ]
  },
  {
   "cell_type": "code",
   "execution_count": 26,
   "id": "0c2379f4",
   "metadata": {},
   "outputs": [
    {
     "data": {
      "text/plain": [
       "array([ 4, 10, 21])"
      ]
     },
     "execution_count": 26,
     "metadata": {},
     "output_type": "execute_result"
    }
   ],
   "source": [
    "x"
   ]
  },
  {
   "cell_type": "code",
   "execution_count": 27,
   "id": "a8b21cc4",
   "metadata": {},
   "outputs": [],
   "source": [
    "x = a/b"
   ]
  },
  {
   "cell_type": "code",
   "execution_count": 28,
   "id": "c34ee01d",
   "metadata": {},
   "outputs": [
    {
     "data": {
      "text/plain": [
       "array([0.25      , 0.4       , 0.42857143])"
      ]
     },
     "execution_count": 28,
     "metadata": {},
     "output_type": "execute_result"
    }
   ],
   "source": [
    "x"
   ]
  },
  {
   "cell_type": "code",
   "execution_count": 29,
   "id": "fd4637a7",
   "metadata": {},
   "outputs": [],
   "source": [
    "x = a%b"
   ]
  },
  {
   "cell_type": "code",
   "execution_count": 30,
   "id": "39970abc",
   "metadata": {},
   "outputs": [
    {
     "data": {
      "text/plain": [
       "array([1, 2, 3], dtype=int32)"
      ]
     },
     "execution_count": 30,
     "metadata": {},
     "output_type": "execute_result"
    }
   ],
   "source": [
    "x"
   ]
  },
  {
   "cell_type": "code",
   "execution_count": 31,
   "id": "15311319",
   "metadata": {},
   "outputs": [],
   "source": [
    "x = a**2"
   ]
  },
  {
   "cell_type": "code",
   "execution_count": 32,
   "id": "cf6228fe",
   "metadata": {},
   "outputs": [
    {
     "data": {
      "text/plain": [
       "array([1, 4, 9], dtype=int32)"
      ]
     },
     "execution_count": 32,
     "metadata": {},
     "output_type": "execute_result"
    }
   ],
   "source": [
    "x"
   ]
  },
  {
   "cell_type": "code",
   "execution_count": 33,
   "id": "582b6680",
   "metadata": {},
   "outputs": [],
   "source": [
    "a = np.array([[1,2,3],[7,8,9]])\n",
    "b = np.array([[4,5,7],[1,4,5]])"
   ]
  },
  {
   "cell_type": "code",
   "execution_count": 34,
   "id": "7c7a8898",
   "metadata": {},
   "outputs": [],
   "source": [
    "y = a*b"
   ]
  },
  {
   "cell_type": "code",
   "execution_count": 35,
   "id": "c0b0fbfd",
   "metadata": {},
   "outputs": [
    {
     "data": {
      "text/plain": [
       "array([[ 4, 10, 21],\n",
       "       [ 7, 32, 45]])"
      ]
     },
     "execution_count": 35,
     "metadata": {},
     "output_type": "execute_result"
    }
   ],
   "source": [
    "y"
   ]
  },
  {
   "cell_type": "code",
   "execution_count": 36,
   "id": "7cbb4b06",
   "metadata": {},
   "outputs": [
    {
     "data": {
      "text/plain": [
       "(2, 3)"
      ]
     },
     "execution_count": 36,
     "metadata": {},
     "output_type": "execute_result"
    }
   ],
   "source": [
    "y.shape"
   ]
  },
  {
   "cell_type": "code",
   "execution_count": 37,
   "id": "3ad8cb44",
   "metadata": {},
   "outputs": [
    {
     "data": {
      "text/plain": [
       "array([[ 4,  7],\n",
       "       [10, 32],\n",
       "       [21, 45]])"
      ]
     },
     "execution_count": 37,
     "metadata": {},
     "output_type": "execute_result"
    }
   ],
   "source": [
    "y.T"
   ]
  },
  {
   "cell_type": "code",
   "execution_count": 38,
   "id": "ecab1684",
   "metadata": {},
   "outputs": [
    {
     "data": {
      "text/plain": [
       "array([[False, False, False],\n",
       "       [False,  True,  True]])"
      ]
     },
     "execution_count": 38,
     "metadata": {},
     "output_type": "execute_result"
    }
   ],
   "source": [
    "y>30"
   ]
  },
  {
   "cell_type": "code",
   "execution_count": 39,
   "id": "462282e1",
   "metadata": {},
   "outputs": [
    {
     "data": {
      "text/plain": [
       "array([], shape=(0, 3), dtype=int32)"
      ]
     },
     "execution_count": 39,
     "metadata": {},
     "output_type": "execute_result"
    }
   ],
   "source": [
    "y[2:]"
   ]
  },
  {
   "cell_type": "code",
   "execution_count": 40,
   "id": "f408450b",
   "metadata": {},
   "outputs": [],
   "source": [
    "a = np.array([1,2,3,7,8,9])"
   ]
  },
  {
   "cell_type": "code",
   "execution_count": 41,
   "id": "efb2c37d",
   "metadata": {},
   "outputs": [
    {
     "data": {
      "text/plain": [
       "array([3, 7, 8, 9])"
      ]
     },
     "execution_count": 41,
     "metadata": {},
     "output_type": "execute_result"
    }
   ],
   "source": [
    "a[2:]"
   ]
  },
  {
   "cell_type": "code",
   "execution_count": 42,
   "id": "96603469",
   "metadata": {},
   "outputs": [
    {
     "name": "stdout",
     "output_type": "stream",
     "text": [
      "11\n"
     ]
    }
   ],
   "source": [
    "print(a[2]+a[4])"
   ]
  },
  {
   "cell_type": "code",
   "execution_count": 43,
   "id": "5092b2b2",
   "metadata": {},
   "outputs": [
    {
     "data": {
      "text/plain": [
       "array([2, 3, 7, 8])"
      ]
     },
     "execution_count": 43,
     "metadata": {},
     "output_type": "execute_result"
    }
   ],
   "source": [
    "a[1:5]"
   ]
  },
  {
   "cell_type": "code",
   "execution_count": null,
   "id": "f821ba6a",
   "metadata": {},
   "outputs": [],
   "source": []
  }
 ],
 "metadata": {
  "kernelspec": {
   "display_name": "Python 3 (ipykernel)",
   "language": "python",
   "name": "python3"
  },
  "language_info": {
   "codemirror_mode": {
    "name": "ipython",
    "version": 3
   },
   "file_extension": ".py",
   "mimetype": "text/x-python",
   "name": "python",
   "nbconvert_exporter": "python",
   "pygments_lexer": "ipython3",
   "version": "3.9.13"
  }
 },
 "nbformat": 4,
 "nbformat_minor": 5
}
