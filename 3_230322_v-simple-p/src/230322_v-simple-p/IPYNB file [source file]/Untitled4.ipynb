{
 "cells": [
  {
   "cell_type": "code",
   "execution_count": 1,
   "id": "1878f65f",
   "metadata": {},
   "outputs": [],
   "source": [
    "#TemporalModuly [Modulor]"
   ]
  },
  {
   "cell_type": "code",
   "execution_count": 2,
   "id": "c6666d20",
   "metadata": {},
   "outputs": [],
   "source": [
    "# zaimportowanie modulu 'STATISTICA' i skrocenie nazwy na 'st'\n",
    "import STATISTICA as st"
   ]
  },
  {
   "cell_type": "code",
   "execution_count": 3,
   "id": "e03c2d10",
   "metadata": {},
   "outputs": [],
   "source": [
    "l1 = [1,2,3,4,5,88,99,100]"
   ]
  },
  {
   "cell_type": "code",
   "execution_count": 4,
   "id": "86d6b9f3",
   "metadata": {},
   "outputs": [
    {
     "data": {
      "text/plain": [
       "37.75"
      ]
     },
     "execution_count": 4,
     "metadata": {},
     "output_type": "execute_result"
    }
   ],
   "source": [
    "st.srednia(l1)"
   ]
  },
  {
   "cell_type": "code",
   "execution_count": 5,
   "id": "bcce4fcd",
   "metadata": {},
   "outputs": [
    {
     "data": {
      "text/plain": [
       "2024.9375"
      ]
     },
     "execution_count": 5,
     "metadata": {},
     "output_type": "execute_result"
    }
   ],
   "source": [
    "st.wariancja(l1)"
   ]
  },
  {
   "cell_type": "code",
   "execution_count": 6,
   "id": "b91925ed",
   "metadata": {},
   "outputs": [
    {
     "data": {
      "text/plain": [
       "{'suma': 302,\n",
       " 'najmniejsza liczba': 1,\n",
       " 'najwieksza liczba': 100,\n",
       " 'srednia': 37.75,\n",
       " 'wariacja': 2024.9375}"
      ]
     },
     "execution_count": 6,
     "metadata": {},
     "output_type": "execute_result"
    }
   ],
   "source": [
    "st.oblicz(l1)"
   ]
  },
  {
   "cell_type": "code",
   "execution_count": 7,
   "id": "1c6eea2b",
   "metadata": {},
   "outputs": [],
   "source": [
    "t1 = [1,2,3,4,5,88,99,100]"
   ]
  },
  {
   "cell_type": "code",
   "execution_count": 8,
   "id": "271f7447",
   "metadata": {},
   "outputs": [
    {
     "data": {
      "text/plain": [
       "{'suma': 302,\n",
       " 'najmniejsza liczba': 1,\n",
       " 'najwieksza liczba': 100,\n",
       " 'srednia': 37.75,\n",
       " 'wariacja': 2024.9375}"
      ]
     },
     "execution_count": 8,
     "metadata": {},
     "output_type": "execute_result"
    }
   ],
   "source": [
    "st.oblicz(t1)"
   ]
  },
  {
   "cell_type": "code",
   "execution_count": 9,
   "id": "ee3fe939",
   "metadata": {},
   "outputs": [],
   "source": [
    "def srednia (*dane):\n",
    "    return sum(dane)/len(dane)"
   ]
  },
  {
   "cell_type": "code",
   "execution_count": 10,
   "id": "c6cdec03",
   "metadata": {},
   "outputs": [
    {
     "data": {
      "text/plain": [
       "2.0"
      ]
     },
     "execution_count": 10,
     "metadata": {},
     "output_type": "execute_result"
    }
   ],
   "source": [
    "srednia(1,2,3)"
   ]
  },
  {
   "cell_type": "code",
   "execution_count": 11,
   "id": "bd692439",
   "metadata": {},
   "outputs": [
    {
     "name": "stdout",
     "output_type": "stream",
     "text": [
      "Wprowadź wartość 'i' dla Ciągu Fibbonaciego: 3\n",
      "2\n"
     ]
    }
   ],
   "source": [
    "# napisz funkcję na Ciąg Fibonnaciego [przyklad nr 1]\n",
    "\n",
    "i=int(input(\"Wprowadź wartość 'i' dla Ciągu Fibbonaciego: \"))\n",
    "\n",
    "def fib_rekurencja(i):\n",
    "    if (i < 1):\n",
    "        return 0\n",
    "    if (i <= 2):\n",
    "        return 1\n",
    "    return fib_rekurencja(i-2) + fib_rekurencja(i-1)\n",
    "\n",
    "print(fib_rekurencja(i))"
   ]
  },
  {
   "cell_type": "code",
   "execution_count": 12,
   "id": "a898b39f",
   "metadata": {},
   "outputs": [
    {
     "name": "stdout",
     "output_type": "stream",
     "text": [
      "Wprowadź wartość 'i' dla Ciągu Fibbonaciego: 3\n",
      "2\n"
     ]
    }
   ],
   "source": [
    "# napisz funkcję na Ciąg Fibonnaciego [przyklad nr 2]\n",
    "\n",
    "i=int(input(\"Wprowadź wartość 'i' dla Ciągu Fibbonaciego: \"))\n",
    "\n",
    "def fib_rekurencja(i):\n",
    "    if (i <= 2):\n",
    "        return 1\n",
    "    return fib_rekurencja(i-2) + fib_rekurencja(i-1)\n",
    "\n",
    "print(fib_rekurencja(i))"
   ]
  },
  {
   "cell_type": "code",
   "execution_count": 13,
   "id": "7be3602d",
   "metadata": {},
   "outputs": [],
   "source": [
    "# napisz funkcję na Ciąg Fibonnaciego [przyklad nr 3]\n",
    "\n",
    "def fibo(n):\n",
    "    a,b = 0,1\n",
    "    while a<n:\n",
    "        print(a,end=' ')\n",
    "        a,b = b, a+b\n",
    "    print()"
   ]
  },
  {
   "cell_type": "code",
   "execution_count": 14,
   "id": "b4cec931",
   "metadata": {},
   "outputs": [
    {
     "name": "stdout",
     "output_type": "stream",
     "text": [
      "0 1 1 2 3 5 8 13 21 34 55 89 144 233 377 610 987 \n"
     ]
    }
   ],
   "source": [
    "fibo(1000)"
   ]
  },
  {
   "cell_type": "code",
   "execution_count": 15,
   "id": "1df23e49",
   "metadata": {},
   "outputs": [],
   "source": [
    "# isinstance\n",
    "x = isinstance(True, int)"
   ]
  },
  {
   "cell_type": "code",
   "execution_count": 16,
   "id": "dceedcd0",
   "metadata": {},
   "outputs": [
    {
     "name": "stdout",
     "output_type": "stream",
     "text": [
      "True\n"
     ]
    }
   ],
   "source": [
    "print(x)"
   ]
  },
  {
   "cell_type": "code",
   "execution_count": 17,
   "id": "ed1e3122",
   "metadata": {},
   "outputs": [],
   "source": [
    "# isinstance\n",
    "x = isinstance('Polska', int)"
   ]
  },
  {
   "cell_type": "code",
   "execution_count": 18,
   "id": "a140356f",
   "metadata": {},
   "outputs": [
    {
     "name": "stdout",
     "output_type": "stream",
     "text": [
      "False\n"
     ]
    }
   ],
   "source": [
    "print(x)"
   ]
  },
  {
   "cell_type": "code",
   "execution_count": 19,
   "id": "56b8609b",
   "metadata": {},
   "outputs": [],
   "source": [
    "# isinstance\n",
    "x = isinstance('Polska', (int, str, dict, list, tuple, float))"
   ]
  },
  {
   "cell_type": "code",
   "execution_count": 20,
   "id": "aa0481f8",
   "metadata": {},
   "outputs": [
    {
     "name": "stdout",
     "output_type": "stream",
     "text": [
      "True\n"
     ]
    }
   ],
   "source": [
    "print(x)"
   ]
  },
  {
   "cell_type": "code",
   "execution_count": 21,
   "id": "e38e9dd4",
   "metadata": {},
   "outputs": [],
   "source": [
    "#zip\n",
    "\n",
    "k = ('Ania','Basia','Kasia')\n",
    "m = ('Janek','Marek','Lukasz')"
   ]
  },
  {
   "cell_type": "code",
   "execution_count": 22,
   "id": "e733469b",
   "metadata": {},
   "outputs": [
    {
     "name": "stdout",
     "output_type": "stream",
     "text": [
      "(('Ania', 'Janek'), ('Basia', 'Marek'), ('Kasia', 'Lukasz'))\n"
     ]
    }
   ],
   "source": [
    "x=zip(k,m)\n",
    "#print(x)\n",
    "print(tuple(x))"
   ]
  },
  {
   "cell_type": "code",
   "execution_count": 23,
   "id": "5287833f",
   "metadata": {},
   "outputs": [
    {
     "name": "stdout",
     "output_type": "stream",
     "text": [
      "False\n"
     ]
    }
   ],
   "source": [
    "# 'any' (sprawdza, czy ma jakąkolwiek wartość True\n",
    "# [jeśli ma to zwróci True, a jeśli nie ma to False])\n",
    "lista = [False, False, False]\n",
    "x = any(lista)\n",
    "print(x)"
   ]
  },
  {
   "cell_type": "code",
   "execution_count": 24,
   "id": "19333055",
   "metadata": {},
   "outputs": [
    {
     "name": "stdout",
     "output_type": "stream",
     "text": [
      "True\n"
     ]
    }
   ],
   "source": [
    "# 'any' (sprawdza, czy ma jakąkolwiek wartość True\n",
    "# [jeśli ma to zwróci True, a jeśli nie ma to False])\n",
    "lista = [False, True, False]\n",
    "x = any(lista)\n",
    "print(x)"
   ]
  },
  {
   "cell_type": "code",
   "execution_count": 25,
   "id": "494e2d68",
   "metadata": {},
   "outputs": [
    {
     "name": "stdout",
     "output_type": "stream",
     "text": [
      "True\n"
     ]
    }
   ],
   "source": [
    "# 'all' (sprawdza, czy ma jakąkolwiek wartość False\n",
    "# [jeśli ma to zwróci False, a jeśli nie ma to True]\n",
    "\n",
    "lista=[True,True,True]\n",
    "x=all(lista)\n",
    "print(x)"
   ]
  },
  {
   "cell_type": "code",
   "execution_count": 26,
   "id": "1deaab39",
   "metadata": {},
   "outputs": [
    {
     "name": "stdout",
     "output_type": "stream",
     "text": [
      "False\n"
     ]
    }
   ],
   "source": [
    "# 'all' (sprawdza, czy ma jakąkolwiek wartość False\n",
    "# [jeśli ma to zwróci False, a jeśli nie ma to True]\n",
    "\n",
    "lista=[True,False,True]\n",
    "x=all(lista)\n",
    "print(x)"
   ]
  },
  {
   "cell_type": "code",
   "execution_count": 27,
   "id": "d2dca352",
   "metadata": {},
   "outputs": [
    {
     "name": "stdout",
     "output_type": "stream",
     "text": [
      "77\n"
     ]
    }
   ],
   "source": [
    "# eval\n",
    "\n",
    "x='print(77)'\n",
    "eval(x)"
   ]
  },
  {
   "cell_type": "code",
   "execution_count": 28,
   "id": "e320a9b6",
   "metadata": {},
   "outputs": [],
   "source": [
    "# zbuduj moduł o nazwie geometria [pole i obwód figury płaskiej dla 6 figur]"
   ]
  },
  {
   "cell_type": "code",
   "execution_count": 29,
   "id": "7c0f1e7b",
   "metadata": {},
   "outputs": [],
   "source": [
    "import math\n",
    "\n",
    "# figura nr 1 [kwadrat]\n",
    "def pole_kwadratu(a):\n",
    "    return a*a\n",
    "def obwod_kwadratu(a):\n",
    "    return 4*a\n",
    "\n",
    "# figura nr 2 [prostokąt]\n",
    "def pole_prostokata(a, b):\n",
    "    return a*b\n",
    "def obwod_prostokata(a, b):\n",
    "    return 2*a + 2*b\n",
    "\n",
    "# figura nr 3 [trójkąt]\n",
    "def pole_trojkata(a, h):\n",
    "    return 0.5*a*h\n",
    "def obwod_trojkata(a, b, c):\n",
    "    return a + b + c\n",
    "\n",
    "# figura nr 4 [równoległobok]\n",
    "def pole_rownolegloboku(a, h):\n",
    "    return a*h\n",
    "def obwod_rownolegloboku(a, b):\n",
    "    return 2*a + 2*b\n",
    "\n",
    "# figura nr 5 [trapez]\n",
    "def pole_trapezu(a, b, h):\n",
    "    return (a+b)*h/2\n",
    "def obwod_trapezu(a, b, c, d):\n",
    "    return a + b + c + d\n",
    "\n",
    "# figura nr 6 [koło]\n",
    "def pole_kola(r):\n",
    "    return math.pi * r**2\n",
    "def obwod_kola(r):\n",
    "    return 2 * math.pi * r"
   ]
  },
  {
   "cell_type": "code",
   "execution_count": 30,
   "id": "8aa3237b",
   "metadata": {},
   "outputs": [
    {
     "data": {
      "text/plain": [
       "50"
      ]
     },
     "execution_count": 30,
     "metadata": {},
     "output_type": "execute_result"
    }
   ],
   "source": [
    "pole_prostokata(5,10)"
   ]
  },
  {
   "cell_type": "code",
   "execution_count": null,
   "id": "5a6ed392",
   "metadata": {},
   "outputs": [],
   "source": []
  }
 ],
 "metadata": {
  "kernelspec": {
   "display_name": "Python 3 (ipykernel)",
   "language": "python",
   "name": "python3"
  },
  "language_info": {
   "codemirror_mode": {
    "name": "ipython",
    "version": 3
   },
   "file_extension": ".py",
   "mimetype": "text/x-python",
   "name": "python",
   "nbconvert_exporter": "python",
   "pygments_lexer": "ipython3",
   "version": "3.9.13"
  }
 },
 "nbformat": 4,
 "nbformat_minor": 5
}
