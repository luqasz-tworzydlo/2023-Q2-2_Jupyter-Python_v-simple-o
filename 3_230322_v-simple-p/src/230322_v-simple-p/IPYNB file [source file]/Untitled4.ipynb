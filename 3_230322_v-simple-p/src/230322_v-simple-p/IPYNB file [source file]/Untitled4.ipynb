{
 "cells": [
  {
   "cell_type": "code",
   "execution_count": 1,
   "id": "691778b0",
   "metadata": {},
   "outputs": [],
   "source": [
    "#TemporalModuly [Modulor]"
   ]
  },
  {
   "cell_type": "code",
   "execution_count": 2,
   "id": "d59d910a",
   "metadata": {},
   "outputs": [],
   "source": [
    "# zaimportowanie modulu 'STATISTICA' i skrocenie nazwy na 'st'\n",
    "import STATISTICA as st"
   ]
  },
  {
   "cell_type": "code",
   "execution_count": 3,
   "id": "b16745fa",
   "metadata": {},
   "outputs": [],
   "source": [
    "l1 = [1,2,3,4,5,88,99,100]"
   ]
  },
  {
   "cell_type": "code",
   "execution_count": 4,
   "id": "18a0a990",
   "metadata": {},
   "outputs": [
    {
     "data": {
      "text/plain": [
       "37.75"
      ]
     },
     "execution_count": 4,
     "metadata": {},
     "output_type": "execute_result"
    }
   ],
   "source": [
    "st.srednia(l1)"
   ]
  },
  {
   "cell_type": "code",
   "execution_count": 5,
   "id": "bc852ee8",
   "metadata": {},
   "outputs": [
    {
     "data": {
      "text/plain": [
       "2024.9375"
      ]
     },
     "execution_count": 5,
     "metadata": {},
     "output_type": "execute_result"
    }
   ],
   "source": [
    "st.wariancja(l1)"
   ]
  },
  {
   "cell_type": "code",
   "execution_count": 6,
   "id": "a1901a20",
   "metadata": {},
   "outputs": [
    {
     "data": {
      "text/plain": [
       "{'suma': 302,\n",
       " 'najmniejsza liczba': 1,\n",
       " 'najwieksza liczba': 100,\n",
       " 'srednia': 37.75,\n",
       " 'wariacja': 2024.9375}"
      ]
     },
     "execution_count": 6,
     "metadata": {},
     "output_type": "execute_result"
    }
   ],
   "source": [
    "st.oblicz(l1)"
   ]
  },
  {
   "cell_type": "code",
   "execution_count": 7,
   "id": "90a3ab24",
   "metadata": {},
   "outputs": [],
   "source": [
    "t1 = [1,2,3,4,5,88,99,100]"
   ]
  },
  {
   "cell_type": "code",
   "execution_count": 8,
   "id": "042e0c64",
   "metadata": {},
   "outputs": [
    {
     "data": {
      "text/plain": [
       "{'suma': 302,\n",
       " 'najmniejsza liczba': 1,\n",
       " 'najwieksza liczba': 100,\n",
       " 'srednia': 37.75,\n",
       " 'wariacja': 2024.9375}"
      ]
     },
     "execution_count": 8,
     "metadata": {},
     "output_type": "execute_result"
    }
   ],
   "source": [
    "st.oblicz(t1)"
   ]
  },
  {
   "cell_type": "code",
   "execution_count": 9,
   "id": "e31f1789",
   "metadata": {},
   "outputs": [],
   "source": [
    "def srednia (*dane):\n",
    "    return sum(dane)/len(dane)"
   ]
  },
  {
   "cell_type": "code",
   "execution_count": 10,
   "id": "ddcc9c79",
   "metadata": {},
   "outputs": [
    {
     "data": {
      "text/plain": [
       "2.0"
      ]
     },
     "execution_count": 10,
     "metadata": {},
     "output_type": "execute_result"
    }
   ],
   "source": [
    "srednia(1,2,3)"
   ]
  },
  {
   "cell_type": "code",
   "execution_count": 11,
   "id": "53b591bb",
   "metadata": {},
   "outputs": [
    {
     "name": "stdout",
     "output_type": "stream",
     "text": [
      "Wprowadź wartość 'i' dla Ciągu Fibbonaciego: 3\n",
      "2\n"
     ]
    }
   ],
   "source": [
    "# napisz funkcję na Ciąg Fibonnaciego [przyklad nr 1]\n",
    "\n",
    "i=int(input(\"Wprowadź wartość 'i' dla Ciągu Fibbonaciego: \"))\n",
    "\n",
    "def fib_rekurencja(i):\n",
    "    if (i < 1):\n",
    "        return 0\n",
    "    if (i <= 2):\n",
    "        return 1\n",
    "    return fib_rekurencja(i-2) + fib_rekurencja(i-1)\n",
    "\n",
    "print(fib_rekurencja(i))"
   ]
  },
  {
   "cell_type": "code",
   "execution_count": 12,
   "id": "54a50fa8",
   "metadata": {},
   "outputs": [
    {
     "name": "stdout",
     "output_type": "stream",
     "text": [
      "Wprowadź wartość 'i' dla Ciągu Fibbonaciego: 3\n",
      "2\n"
     ]
    }
   ],
   "source": [
    "# napisz funkcję na Ciąg Fibonnaciego [przyklad nr 2]\n",
    "\n",
    "i=int(input(\"Wprowadź wartość 'i' dla Ciągu Fibbonaciego: \"))\n",
    "\n",
    "def fib_rekurencja(i):\n",
    "    if (i <= 2):\n",
    "        return 1\n",
    "    return fib_rekurencja(i-2) + fib_rekurencja(i-1)\n",
    "\n",
    "print(fib_rekurencja(i))"
   ]
  },
  {
   "cell_type": "code",
   "execution_count": 13,
   "id": "e3470106",
   "metadata": {},
   "outputs": [],
   "source": [
    "# napisz funkcję na Ciąg Fibonnaciego [przyklad nr 3]\n",
    "\n",
    "def fibo(n):\n",
    "    a,b = 0,1\n",
    "    while a<n:\n",
    "        print(a,end=' ')\n",
    "        a,b = b, a+b\n",
    "    print()"
   ]
  },
  {
   "cell_type": "code",
   "execution_count": 14,
   "id": "4ac9dcca",
   "metadata": {},
   "outputs": [
    {
     "name": "stdout",
     "output_type": "stream",
     "text": [
      "0 1 1 2 3 5 8 13 21 34 55 89 144 233 377 610 987 \n"
     ]
    }
   ],
   "source": [
    "fibo(1000)"
   ]
  },
  {
   "cell_type": "code",
   "execution_count": 15,
   "id": "ff073a34",
   "metadata": {},
   "outputs": [],
   "source": [
    "# isinstance\n",
    "x = isinstance(True, int)"
   ]
  },
  {
   "cell_type": "code",
   "execution_count": 16,
   "id": "f69e0ee6",
   "metadata": {},
   "outputs": [
    {
     "name": "stdout",
     "output_type": "stream",
     "text": [
      "True\n"
     ]
    }
   ],
   "source": [
    "print(x)"
   ]
  },
  {
   "cell_type": "code",
   "execution_count": 17,
   "id": "bf26905f",
   "metadata": {},
   "outputs": [],
   "source": [
    "# isinstance\n",
    "x = isinstance('Polska', int)"
   ]
  },
  {
   "cell_type": "code",
   "execution_count": 18,
   "id": "3ed03df0",
   "metadata": {},
   "outputs": [
    {
     "name": "stdout",
     "output_type": "stream",
     "text": [
      "False\n"
     ]
    }
   ],
   "source": [
    "print(x)"
   ]
  },
  {
   "cell_type": "code",
   "execution_count": 19,
   "id": "de6d55d4",
   "metadata": {},
   "outputs": [],
   "source": [
    "# isinstance\n",
    "x = isinstance('Polska', (int, str, dict, list, tuple, float))"
   ]
  },
  {
   "cell_type": "code",
   "execution_count": 20,
   "id": "ddc77c44",
   "metadata": {},
   "outputs": [
    {
     "name": "stdout",
     "output_type": "stream",
     "text": [
      "True\n"
     ]
    }
   ],
   "source": [
    "print(x)"
   ]
  },
  {
   "cell_type": "code",
   "execution_count": 21,
   "id": "725f8430",
   "metadata": {},
   "outputs": [],
   "source": [
    "#zip\n",
    "\n",
    "k = ('Ania','Basia','Kasia')\n",
    "m = ('Janek','Marek','Lukasz')"
   ]
  },
  {
   "cell_type": "code",
   "execution_count": 22,
   "id": "425c0738",
   "metadata": {},
   "outputs": [
    {
     "name": "stdout",
     "output_type": "stream",
     "text": [
      "(('Ania', 'Janek'), ('Basia', 'Marek'), ('Kasia', 'Lukasz'))\n"
     ]
    }
   ],
   "source": [
    "x=zip(k,m)\n",
    "#print(x)\n",
    "print(tuple(x))"
   ]
  },
  {
   "cell_type": "code",
   "execution_count": 23,
   "id": "91833ca5",
   "metadata": {},
   "outputs": [
    {
     "name": "stdout",
     "output_type": "stream",
     "text": [
      "False\n"
     ]
    }
   ],
   "source": [
    "# 'any' (sprawdza, czy ma jakąkolwiek wartość True\n",
    "# [jeśli ma to zwróci True, a jeśli nie ma to False])\n",
    "lista = [False, False, False]\n",
    "x = any(lista)\n",
    "print(x)"
   ]
  },
  {
   "cell_type": "code",
   "execution_count": 24,
   "id": "34a36928",
   "metadata": {},
   "outputs": [
    {
     "name": "stdout",
     "output_type": "stream",
     "text": [
      "True\n"
     ]
    }
   ],
   "source": [
    "# 'any' (sprawdza, czy ma jakąkolwiek wartość True\n",
    "# [jeśli ma to zwróci True, a jeśli nie ma to False])\n",
    "lista = [False, True, False]\n",
    "x = any(lista)\n",
    "print(x)"
   ]
  },
  {
   "cell_type": "code",
   "execution_count": 25,
   "id": "21d8144e",
   "metadata": {},
   "outputs": [
    {
     "name": "stdout",
     "output_type": "stream",
     "text": [
      "True\n"
     ]
    }
   ],
   "source": [
    "# 'all' (sprawdza, czy ma jakąkolwiek wartość False\n",
    "# [jeśli ma to zwróci False, a jeśli nie ma to True]\n",
    "\n",
    "lista=[True,True,True]\n",
    "x=all(lista)\n",
    "print(x)"
   ]
  },
  {
   "cell_type": "code",
   "execution_count": 26,
   "id": "5a7b95bb",
   "metadata": {},
   "outputs": [
    {
     "name": "stdout",
     "output_type": "stream",
     "text": [
      "False\n"
     ]
    }
   ],
   "source": [
    "# 'all' (sprawdza, czy ma jakąkolwiek wartość False\n",
    "# [jeśli ma to zwróci False, a jeśli nie ma to True]\n",
    "\n",
    "lista=[True,False,True]\n",
    "x=all(lista)\n",
    "print(x)"
   ]
  },
  {
   "cell_type": "code",
   "execution_count": null,
   "id": "d189f42f",
   "metadata": {},
   "outputs": [],
   "source": []
  }
 ],
 "metadata": {
  "kernelspec": {
   "display_name": "Python 3 (ipykernel)",
   "language": "python",
   "name": "python3"
  },
  "language_info": {
   "codemirror_mode": {
    "name": "ipython",
    "version": 3
   },
   "file_extension": ".py",
   "mimetype": "text/x-python",
   "name": "python",
   "nbconvert_exporter": "python",
   "pygments_lexer": "ipython3",
   "version": "3.9.13"
  }
 },
 "nbformat": 4,
 "nbformat_minor": 5
}
