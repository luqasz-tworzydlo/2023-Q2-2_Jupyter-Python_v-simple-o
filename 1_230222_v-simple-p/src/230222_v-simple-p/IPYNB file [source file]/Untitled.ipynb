{
 "cells": [
  {
   "cell_type": "code",
   "execution_count": 1,
   "id": "b46f7518",
   "metadata": {},
   "outputs": [],
   "source": [
    "# Listy"
   ]
  },
  {
   "cell_type": "code",
   "execution_count": 2,
   "id": "55cfef10",
   "metadata": {},
   "outputs": [],
   "source": [
    "mojalista = ['jablko','banan','gruszka']"
   ]
  },
  {
   "cell_type": "code",
   "execution_count": 3,
   "id": "0fda3e0d",
   "metadata": {},
   "outputs": [
    {
     "name": "stdout",
     "output_type": "stream",
     "text": [
      "['jablko', 'banan', 'gruszka']\n"
     ]
    }
   ],
   "source": [
    "print(mojalista)"
   ]
  },
  {
   "cell_type": "code",
   "execution_count": 4,
   "id": "ea0a967b",
   "metadata": {},
   "outputs": [],
   "source": [
    "mojalista = ['jablko','banan','gruszka','sliwka','kiwi']"
   ]
  },
  {
   "cell_type": "code",
   "execution_count": 6,
   "id": "381daa7f",
   "metadata": {},
   "outputs": [
    {
     "name": "stdout",
     "output_type": "stream",
     "text": [
      "jablko\n"
     ]
    }
   ],
   "source": [
    "print(mojalista[0])"
   ]
  },
  {
   "cell_type": "code",
   "execution_count": 7,
   "id": "4d5827fe",
   "metadata": {},
   "outputs": [
    {
     "name": "stdout",
     "output_type": "stream",
     "text": [
      "jablko\n"
     ]
    }
   ],
   "source": [
    "print(mojalista[-5])"
   ]
  },
  {
   "cell_type": "code",
   "execution_count": 8,
   "id": "b0bc1256",
   "metadata": {},
   "outputs": [
    {
     "name": "stdout",
     "output_type": "stream",
     "text": [
      "['banan', 'gruszka']\n"
     ]
    }
   ],
   "source": [
    "print(mojalista[1:3])"
   ]
  },
  {
   "cell_type": "code",
   "execution_count": 9,
   "id": "4005c33b",
   "metadata": {},
   "outputs": [
    {
     "name": "stdout",
     "output_type": "stream",
     "text": [
      "['banan', 'gruszka', 'sliwka', 'kiwi']\n"
     ]
    }
   ],
   "source": [
    "print(mojalista[1:])"
   ]
  },
  {
   "cell_type": "code",
   "execution_count": 10,
   "id": "fbbaec76",
   "metadata": {},
   "outputs": [
    {
     "name": "stdout",
     "output_type": "stream",
     "text": [
      "['banan']\n"
     ]
    }
   ],
   "source": [
    "print(mojalista[-4:-3])"
   ]
  },
  {
   "cell_type": "code",
   "execution_count": 13,
   "id": "fe2986b0",
   "metadata": {},
   "outputs": [
    {
     "name": "stdout",
     "output_type": "stream",
     "text": [
      "jest sliwka\n"
     ]
    }
   ],
   "source": [
    "if 'sliwka' in mojalista:\n",
    "    print('jest sliwka')"
   ]
  },
  {
   "cell_type": "code",
   "execution_count": 14,
   "id": "e3e0c402",
   "metadata": {},
   "outputs": [
    {
     "data": {
      "text/plain": [
       "True"
      ]
     },
     "execution_count": 14,
     "metadata": {},
     "output_type": "execute_result"
    }
   ],
   "source": [
    "mojalista[3]=='sliwka'"
   ]
  },
  {
   "cell_type": "code",
   "execution_count": 16,
   "id": "07390ee6",
   "metadata": {},
   "outputs": [
    {
     "name": "stdout",
     "output_type": "stream",
     "text": [
      "jablko\n",
      "banan\n",
      "gruszka\n",
      "sliwka\n",
      "kiwi\n"
     ]
    }
   ],
   "source": [
    "for x in mojalista:\n",
    "    print(x)"
   ]
  },
  {
   "cell_type": "code",
   "execution_count": 17,
   "id": "c687805a",
   "metadata": {},
   "outputs": [],
   "source": [
    "mojalista.append(55)"
   ]
  },
  {
   "cell_type": "code",
   "execution_count": 18,
   "id": "80f15a93",
   "metadata": {},
   "outputs": [
    {
     "data": {
      "text/plain": [
       "['jablko', 'banan', 'gruszka', 'sliwka', 'kiwi', 55]"
      ]
     },
     "execution_count": 18,
     "metadata": {},
     "output_type": "execute_result"
    }
   ],
   "source": [
    "mojalista"
   ]
  },
  {
   "cell_type": "code",
   "execution_count": 19,
   "id": "9eefb95c",
   "metadata": {},
   "outputs": [],
   "source": [
    "mojalista.remove(55)"
   ]
  },
  {
   "cell_type": "code",
   "execution_count": 20,
   "id": "5a075dad",
   "metadata": {},
   "outputs": [
    {
     "data": {
      "text/plain": [
       "['jablko', 'banan', 'gruszka', 'sliwka', 'kiwi']"
      ]
     },
     "execution_count": 20,
     "metadata": {},
     "output_type": "execute_result"
    }
   ],
   "source": [
    "mojalista"
   ]
  },
  {
   "cell_type": "code",
   "execution_count": 21,
   "id": "ac0db1c9",
   "metadata": {},
   "outputs": [],
   "source": [
    "mojalista.insert(3,'poziomka')"
   ]
  },
  {
   "cell_type": "code",
   "execution_count": 22,
   "id": "49dd4e32",
   "metadata": {},
   "outputs": [
    {
     "data": {
      "text/plain": [
       "['jablko', 'banan', 'gruszka', 'poziomka', 'sliwka', 'kiwi']"
      ]
     },
     "execution_count": 22,
     "metadata": {},
     "output_type": "execute_result"
    }
   ],
   "source": [
    "mojalista"
   ]
  },
  {
   "cell_type": "code",
   "execution_count": 23,
   "id": "b2555bd2",
   "metadata": {},
   "outputs": [],
   "source": [
    "del mojalista[5]"
   ]
  },
  {
   "cell_type": "code",
   "execution_count": 24,
   "id": "9726d172",
   "metadata": {},
   "outputs": [
    {
     "data": {
      "text/plain": [
       "['jablko', 'banan', 'gruszka', 'poziomka', 'sliwka']"
      ]
     },
     "execution_count": 24,
     "metadata": {},
     "output_type": "execute_result"
    }
   ],
   "source": [
    "mojalista"
   ]
  },
  {
   "cell_type": "code",
   "execution_count": 25,
   "id": "427e9ec6",
   "metadata": {},
   "outputs": [],
   "source": [
    "l1=['a','b','c']\n",
    "l2=[1,2,3]"
   ]
  },
  {
   "cell_type": "code",
   "execution_count": 26,
   "id": "83a053de",
   "metadata": {},
   "outputs": [],
   "source": [
    "l3=l1+l2"
   ]
  },
  {
   "cell_type": "code",
   "execution_count": 27,
   "id": "1855e750",
   "metadata": {},
   "outputs": [
    {
     "data": {
      "text/plain": [
       "['a', 'b', 'c', 1, 2, 3]"
      ]
     },
     "execution_count": 27,
     "metadata": {},
     "output_type": "execute_result"
    }
   ],
   "source": [
    "l3"
   ]
  },
  {
   "cell_type": "code",
   "execution_count": 28,
   "id": "61173b18",
   "metadata": {},
   "outputs": [],
   "source": [
    "l4=[5,6,7]"
   ]
  },
  {
   "cell_type": "code",
   "execution_count": 29,
   "id": "a7777b62",
   "metadata": {},
   "outputs": [
    {
     "name": "stdout",
     "output_type": "stream",
     "text": [
      "['a', 'b', 'c', 1, 2, 3, 5]\n",
      "['a', 'b', 'c', 1, 2, 3, 5, 6]\n",
      "['a', 'b', 'c', 1, 2, 3, 5, 6, 7]\n"
     ]
    }
   ],
   "source": [
    "for x in l4:\n",
    "    l3.append(x)\n",
    "    print(l3)"
   ]
  },
  {
   "cell_type": "code",
   "execution_count": 30,
   "id": "6a061cb4",
   "metadata": {},
   "outputs": [],
   "source": [
    "mojalista2 = [1,1,1,1,1]"
   ]
  },
  {
   "cell_type": "code",
   "execution_count": 31,
   "id": "7a33291b",
   "metadata": {},
   "outputs": [
    {
     "data": {
      "text/plain": [
       "[1, 1, 1, 1, 1]"
      ]
     },
     "execution_count": 31,
     "metadata": {},
     "output_type": "execute_result"
    }
   ],
   "source": [
    "mojalista2"
   ]
  },
  {
   "cell_type": "code",
   "execution_count": 32,
   "id": "dece3679",
   "metadata": {},
   "outputs": [],
   "source": [
    "#clear(), count(), copy()"
   ]
  },
  {
   "cell_type": "code",
   "execution_count": 33,
   "id": "a57ce786",
   "metadata": {},
   "outputs": [],
   "source": [
    "# krotki to inaczej tuple"
   ]
  },
  {
   "cell_type": "code",
   "execution_count": 34,
   "id": "9c041907",
   "metadata": {},
   "outputs": [],
   "source": [
    "tupla = ('jablko','banan','gruszka','poziomka','sliwka')"
   ]
  },
  {
   "cell_type": "code",
   "execution_count": 35,
   "id": "1648689b",
   "metadata": {},
   "outputs": [
    {
     "data": {
      "text/plain": [
       "('jablko', 'banan', 'gruszka', 'poziomka', 'sliwka')"
      ]
     },
     "execution_count": 35,
     "metadata": {},
     "output_type": "execute_result"
    }
   ],
   "source": [
    "tupla"
   ]
  },
  {
   "cell_type": "code",
   "execution_count": 36,
   "id": "fa3e9d61",
   "metadata": {},
   "outputs": [
    {
     "name": "stdout",
     "output_type": "stream",
     "text": [
      "5\n"
     ]
    }
   ],
   "source": [
    "print(len(tupla))"
   ]
  },
  {
   "cell_type": "code",
   "execution_count": 37,
   "id": "e9c6d2db",
   "metadata": {},
   "outputs": [
    {
     "name": "stdout",
     "output_type": "stream",
     "text": [
      "<class 'tuple'>\n"
     ]
    }
   ],
   "source": [
    "print(type(tupla))"
   ]
  },
  {
   "cell_type": "code",
   "execution_count": 45,
   "id": "8793aa3c",
   "metadata": {},
   "outputs": [],
   "source": [
    "t1 = ('Magda',28,'Trie',17,'kobieta')"
   ]
  },
  {
   "cell_type": "code",
   "execution_count": 46,
   "id": "09833e4e",
   "metadata": {},
   "outputs": [
    {
     "data": {
      "text/plain": [
       "('Magda', 28, 'Trie', 17, 'kobieta')"
      ]
     },
     "execution_count": 46,
     "metadata": {},
     "output_type": "execute_result"
    }
   ],
   "source": [
    "t1"
   ]
  },
  {
   "cell_type": "code",
   "execution_count": 66,
   "id": "8b6a3423",
   "metadata": {},
   "outputs": [
    {
     "name": "stdout",
     "output_type": "stream",
     "text": [
      "('banan', 'gruszka')\n"
     ]
    }
   ],
   "source": [
    "print(tupla[1:3])"
   ]
  },
  {
   "cell_type": "code",
   "execution_count": 67,
   "id": "1830930a",
   "metadata": {},
   "outputs": [],
   "source": [
    "x = ('jablko','banan','gruszka','poziomka','sliwka')"
   ]
  },
  {
   "cell_type": "code",
   "execution_count": 68,
   "id": "39756cbd",
   "metadata": {},
   "outputs": [],
   "source": [
    "y = list(x)"
   ]
  },
  {
   "cell_type": "code",
   "execution_count": 69,
   "id": "f0067398",
   "metadata": {
    "scrolled": false
   },
   "outputs": [],
   "source": [
    "y.append('kiwi')"
   ]
  },
  {
   "cell_type": "code",
   "execution_count": 73,
   "id": "cbcaa99c",
   "metadata": {
    "scrolled": false
   },
   "outputs": [],
   "source": [
    "z = tuple(x)"
   ]
  },
  {
   "cell_type": "code",
   "execution_count": 84,
   "id": "2959bd73",
   "metadata": {},
   "outputs": [],
   "source": [
    "z = (type(z))"
   ]
  },
  {
   "cell_type": "code",
   "execution_count": 85,
   "id": "0e35bb80",
   "metadata": {},
   "outputs": [
    {
     "name": "stdout",
     "output_type": "stream",
     "text": [
      "<class 'type'>\n"
     ]
    }
   ],
   "source": [
    "print(z)"
   ]
  },
  {
   "cell_type": "code",
   "execution_count": 92,
   "id": "74de1cb9",
   "metadata": {},
   "outputs": [
    {
     "name": "stdout",
     "output_type": "stream",
     "text": [
      "jablko\n",
      "banan\n",
      "gruszka\n",
      "poziomka\n",
      "sliwka\n",
      "kiwi\n"
     ]
    }
   ],
   "source": [
    "for x in y:\n",
    "    print(x)"
   ]
  },
  {
   "cell_type": "code",
   "execution_count": 93,
   "id": "2833523a",
   "metadata": {},
   "outputs": [],
   "source": [
    "#count(), #index()"
   ]
  },
  {
   "cell_type": "code",
   "execution_count": 94,
   "id": "a622c57c",
   "metadata": {},
   "outputs": [],
   "source": [
    "#zbiory set"
   ]
  },
  {
   "cell_type": "code",
   "execution_count": 95,
   "id": "b276247d",
   "metadata": {},
   "outputs": [],
   "source": [
    "zb = {'jablko','banan','gruszka','poziomka','sliwka','kiwi'}"
   ]
  },
  {
   "cell_type": "code",
   "execution_count": 96,
   "id": "2347af60",
   "metadata": {},
   "outputs": [
    {
     "data": {
      "text/plain": [
       "{'banan', 'gruszka', 'jablko', 'kiwi', 'poziomka', 'sliwka'}"
      ]
     },
     "execution_count": 96,
     "metadata": {},
     "output_type": "execute_result"
    }
   ],
   "source": [
    "zb"
   ]
  },
  {
   "cell_type": "code",
   "execution_count": 97,
   "id": "147fab9f",
   "metadata": {},
   "outputs": [
    {
     "name": "stdout",
     "output_type": "stream",
     "text": [
      "sliwka\n",
      "kiwi\n",
      "banan\n",
      "jablko\n",
      "poziomka\n",
      "gruszka\n"
     ]
    }
   ],
   "source": [
    "for x in zb:\n",
    "    print(x)"
   ]
  },
  {
   "cell_type": "code",
   "execution_count": 98,
   "id": "f12da8a1",
   "metadata": {},
   "outputs": [
    {
     "name": "stdout",
     "output_type": "stream",
     "text": [
      "True\n"
     ]
    }
   ],
   "source": [
    "print('kiwi' in zb)"
   ]
  },
  {
   "cell_type": "code",
   "execution_count": 99,
   "id": "ac5a1ad4",
   "metadata": {},
   "outputs": [],
   "source": [
    "zb.add('malina')"
   ]
  },
  {
   "cell_type": "code",
   "execution_count": 100,
   "id": "86ebf395",
   "metadata": {},
   "outputs": [
    {
     "data": {
      "text/plain": [
       "{'banan', 'gruszka', 'jablko', 'kiwi', 'malina', 'poziomka', 'sliwka'}"
      ]
     },
     "execution_count": 100,
     "metadata": {},
     "output_type": "execute_result"
    }
   ],
   "source": [
    "zb"
   ]
  },
  {
   "cell_type": "code",
   "execution_count": 101,
   "id": "1274c8d6",
   "metadata": {},
   "outputs": [],
   "source": [
    "zb.remove('kiwi')"
   ]
  },
  {
   "cell_type": "code",
   "execution_count": 102,
   "id": "c40d332e",
   "metadata": {},
   "outputs": [
    {
     "data": {
      "text/plain": [
       "{'banan', 'gruszka', 'jablko', 'malina', 'poziomka', 'sliwka'}"
      ]
     },
     "execution_count": 102,
     "metadata": {},
     "output_type": "execute_result"
    }
   ],
   "source": [
    "zb"
   ]
  },
  {
   "cell_type": "code",
   "execution_count": 103,
   "id": "e51e5340",
   "metadata": {},
   "outputs": [],
   "source": [
    "s1 = {'a','b','c','d'}\n",
    "s2 = {1,2,3}"
   ]
  },
  {
   "cell_type": "code",
   "execution_count": 104,
   "id": "13e5a471",
   "metadata": {},
   "outputs": [],
   "source": [
    "s3 = s1.union(s2)"
   ]
  },
  {
   "cell_type": "code",
   "execution_count": 105,
   "id": "0d7852f9",
   "metadata": {},
   "outputs": [
    {
     "data": {
      "text/plain": [
       "{1, 2, 3, 'a', 'b', 'c', 'd'}"
      ]
     },
     "execution_count": 105,
     "metadata": {},
     "output_type": "execute_result"
    }
   ],
   "source": [
    "s3"
   ]
  },
  {
   "cell_type": "code",
   "execution_count": 106,
   "id": "045d42b4",
   "metadata": {},
   "outputs": [],
   "source": [
    "# slownik dict (dictionary)"
   ]
  },
  {
   "cell_type": "code",
   "execution_count": 107,
   "id": "2d128207",
   "metadata": {},
   "outputs": [],
   "source": [
    "d = {'Ania':22,'Marek':55,'Jan':33}"
   ]
  },
  {
   "cell_type": "code",
   "execution_count": 108,
   "id": "819e03fc",
   "metadata": {},
   "outputs": [
    {
     "name": "stdout",
     "output_type": "stream",
     "text": [
      "{'Ania': 22, 'Marek': 55, 'Jan': 33}\n"
     ]
    }
   ],
   "source": [
    "print(d)"
   ]
  },
  {
   "cell_type": "code",
   "execution_count": 109,
   "id": "897741ff",
   "metadata": {},
   "outputs": [
    {
     "data": {
      "text/plain": [
       "dict_keys(['Ania', 'Marek', 'Jan'])"
      ]
     },
     "execution_count": 109,
     "metadata": {},
     "output_type": "execute_result"
    }
   ],
   "source": [
    "d.keys()"
   ]
  },
  {
   "cell_type": "code",
   "execution_count": 110,
   "id": "554fbf8a",
   "metadata": {},
   "outputs": [
    {
     "data": {
      "text/plain": [
       "dict_values([22, 55, 33])"
      ]
     },
     "execution_count": 110,
     "metadata": {},
     "output_type": "execute_result"
    }
   ],
   "source": [
    "d.values()"
   ]
  },
  {
   "cell_type": "code",
   "execution_count": 111,
   "id": "1eb868fa",
   "metadata": {},
   "outputs": [
    {
     "data": {
      "text/plain": [
       "dict_items([('Ania', 22), ('Marek', 55), ('Jan', 33)])"
      ]
     },
     "execution_count": 111,
     "metadata": {},
     "output_type": "execute_result"
    }
   ],
   "source": [
    "d.items()"
   ]
  },
  {
   "cell_type": "code",
   "execution_count": 112,
   "id": "3ade5477",
   "metadata": {},
   "outputs": [],
   "source": [
    "d.update({'Baska':44})"
   ]
  },
  {
   "cell_type": "code",
   "execution_count": 113,
   "id": "9b1c3a9d",
   "metadata": {},
   "outputs": [
    {
     "data": {
      "text/plain": [
       "{'Ania': 22, 'Marek': 55, 'Jan': 33, 'Baska': 44}"
      ]
     },
     "execution_count": 113,
     "metadata": {},
     "output_type": "execute_result"
    }
   ],
   "source": [
    "d"
   ]
  },
  {
   "cell_type": "code",
   "execution_count": 114,
   "id": "228ba1a0",
   "metadata": {},
   "outputs": [],
   "source": [
    "del d['Marek']"
   ]
  },
  {
   "cell_type": "code",
   "execution_count": 115,
   "id": "f5859d3a",
   "metadata": {},
   "outputs": [
    {
     "data": {
      "text/plain": [
       "{'Ania': 22, 'Jan': 33, 'Baska': 44}"
      ]
     },
     "execution_count": 115,
     "metadata": {},
     "output_type": "execute_result"
    }
   ],
   "source": [
    "d"
   ]
  },
  {
   "cell_type": "code",
   "execution_count": 116,
   "id": "d176017a",
   "metadata": {},
   "outputs": [
    {
     "name": "stdout",
     "output_type": "stream",
     "text": [
      "Ania\n",
      "Jan\n",
      "Baska\n"
     ]
    }
   ],
   "source": [
    "for x in d:\n",
    "    print(x)"
   ]
  },
  {
   "cell_type": "code",
   "execution_count": 117,
   "id": "650c0b82",
   "metadata": {},
   "outputs": [
    {
     "data": {
      "text/plain": [
       "33"
      ]
     },
     "execution_count": 117,
     "metadata": {},
     "output_type": "execute_result"
    }
   ],
   "source": [
    "d.pop('Jan')"
   ]
  },
  {
   "cell_type": "code",
   "execution_count": 118,
   "id": "157e95db",
   "metadata": {},
   "outputs": [
    {
     "data": {
      "text/plain": [
       "{'Ania': 22, 'Baska': 44}"
      ]
     },
     "execution_count": 118,
     "metadata": {},
     "output_type": "execute_result"
    }
   ],
   "source": [
    "d"
   ]
  },
  {
   "cell_type": "code",
   "execution_count": 119,
   "id": "3fe83a27",
   "metadata": {},
   "outputs": [],
   "source": [
    "x = d.get('Baska')"
   ]
  },
  {
   "cell_type": "code",
   "execution_count": 120,
   "id": "4f1f6c05",
   "metadata": {},
   "outputs": [
    {
     "name": "stdout",
     "output_type": "stream",
     "text": [
      "44\n"
     ]
    }
   ],
   "source": [
    "print(x)"
   ]
  },
  {
   "cell_type": "code",
   "execution_count": 123,
   "id": "8651d16b",
   "metadata": {},
   "outputs": [],
   "source": [
    "# //////////////////////////////////////////"
   ]
  },
  {
   "cell_type": "code",
   "execution_count": 124,
   "id": "f4320234",
   "metadata": {},
   "outputs": [],
   "source": [
    "# http://colab.research.google.com/"
   ]
  },
  {
   "cell_type": "code",
   "execution_count": 125,
   "id": "399581a9",
   "metadata": {},
   "outputs": [],
   "source": [
    "# //////////////////////////////////////////"
   ]
  },
  {
   "cell_type": "code",
   "execution_count": 126,
   "id": "13a0562d",
   "metadata": {},
   "outputs": [],
   "source": [
    "#Exercise 1\n",
    "#a) Utworz zmienna x i przypisz do niej wartosc 3.\n",
    "#b) Utworz zmienna y i przypisz do niej wartosc 4.0\n",
    "#c) Dodaj obie liczby. Jaki wynik otrzymasz? Jaki jest typ zmiennej wynikowej?"
   ]
  },
  {
   "cell_type": "code",
   "execution_count": 127,
   "id": "123b5267",
   "metadata": {},
   "outputs": [],
   "source": [
    "x = 3\n",
    "y = 4.0"
   ]
  },
  {
   "cell_type": "code",
   "execution_count": 129,
   "id": "b7503c15",
   "metadata": {},
   "outputs": [
    {
     "name": "stdout",
     "output_type": "stream",
     "text": [
      "7.0\n"
     ]
    }
   ],
   "source": [
    "print(x+y)"
   ]
  },
  {
   "cell_type": "code",
   "execution_count": 130,
   "id": "16797102",
   "metadata": {},
   "outputs": [],
   "source": [
    "# //////////////////////////////////////////"
   ]
  },
  {
   "cell_type": "code",
   "execution_count": 132,
   "id": "e9140716",
   "metadata": {},
   "outputs": [],
   "source": [
    "# MS SQL Server 2019"
   ]
  },
  {
   "cell_type": "code",
   "execution_count": 133,
   "id": "9e56e439",
   "metadata": {},
   "outputs": [],
   "source": [
    "# //////////////////////////////////////////"
   ]
  },
  {
   "cell_type": "code",
   "execution_count": 135,
   "id": "dc47a848",
   "metadata": {},
   "outputs": [],
   "source": [
    "# declare @a int = 3"
   ]
  },
  {
   "cell_type": "code",
   "execution_count": 136,
   "id": "c8ffa6fd",
   "metadata": {},
   "outputs": [],
   "source": [
    "# declare @b decimal(8,1)=4.0"
   ]
  },
  {
   "cell_type": "code",
   "execution_count": 137,
   "id": "763a3b5b",
   "metadata": {},
   "outputs": [],
   "source": [
    "# SELECT @a+@b;"
   ]
  },
  {
   "cell_type": "code",
   "execution_count": 138,
   "id": "2b5f3697",
   "metadata": {},
   "outputs": [],
   "source": [
    "# output: 7.0"
   ]
  },
  {
   "cell_type": "code",
   "execution_count": 140,
   "id": "c40d3376",
   "metadata": {},
   "outputs": [],
   "source": [
    "# //////////////////////////////////////////"
   ]
  },
  {
   "cell_type": "code",
   "execution_count": null,
   "id": "1cb697fe",
   "metadata": {},
   "outputs": [],
   "source": []
  }
 ],
 "metadata": {
  "kernelspec": {
   "display_name": "Python 3 (ipykernel)",
   "language": "python",
   "name": "python3"
  },
  "language_info": {
   "codemirror_mode": {
    "name": "ipython",
    "version": 3
   },
   "file_extension": ".py",
   "mimetype": "text/x-python",
   "name": "python",
   "nbconvert_exporter": "python",
   "pygments_lexer": "ipython3",
   "version": "3.9.13"
  }
 },
 "nbformat": 4,
 "nbformat_minor": 5
}
