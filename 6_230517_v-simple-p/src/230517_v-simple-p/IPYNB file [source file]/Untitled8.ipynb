{
 "cells": [
  {
   "cell_type": "code",
   "execution_count": 81,
   "id": "457f5720",
   "metadata": {},
   "outputs": [],
   "source": [
    "# KSTUDENTWSB\\SQLEXPRESS [MS SQL Server ]"
   ]
  },
  {
   "cell_type": "code",
   "execution_count": 82,
   "id": "bd74a2ab",
   "metadata": {},
   "outputs": [],
   "source": [
    "# https://learn.microsoft.com/en-us/sql/samples/wide-world-importers-dw-install-configure?view=sql-server-ver16\n",
    "# https://github.com/Microsoft/sql-server-samples/releases/tag/wide-world-importers-v1.0\n",
    "# WideWorldImporters-Full.bak [plik do zaladowania do programu MS SQL Server]"
   ]
  },
  {
   "cell_type": "code",
   "execution_count": 83,
   "id": "be158f14",
   "metadata": {},
   "outputs": [],
   "source": [
    "# Kod do wykonania w MS SQL Server po odpowiednim załadowaniu i wybraniu pliku\n",
    "# SELECT *, DeliveryLocation.Lat as lat, DeliveryLocation.Long as Long\n",
    "# FROM Website.Customers"
   ]
  },
  {
   "cell_type": "code",
   "execution_count": 84,
   "id": "3a8c6103",
   "metadata": {},
   "outputs": [],
   "source": [
    "# załadowanie odpowiednich bibliotek do Jupyter Notebook\n",
    "import pyodbc\n",
    "import numpy as np\n",
    "import pandas as pd\n",
    "import matplotlib.pyplot as plt\n",
    "import plotly\n",
    "import plotly.express as px"
   ]
  },
  {
   "cell_type": "code",
   "execution_count": 85,
   "id": "2aaf16ed",
   "metadata": {},
   "outputs": [],
   "source": [
    "# How to Connect Python [Jupyter Notebook] to SQL Server using pyodbc\n",
    "# https://datatofish.com/how-to-connect-python-to-sql-server-using-pyodbc/"
   ]
  },
  {
   "cell_type": "code",
   "execution_count": 86,
   "id": "e4299241",
   "metadata": {},
   "outputs": [],
   "source": [
    "import pyodbc \n",
    "\n",
    "conn = pyodbc.connect('Driver={SQL Server};' # {ODBC Driver 17 for SQL Server}\n",
    "                      'Server=KSTUDENTWSB\\SQLEXPRESS;'\n",
    "                      'Database=WideWorldImporters;'\n",
    "                      'Trusted_Connection=yes;')"
   ]
  },
  {
   "cell_type": "code",
   "execution_count": 87,
   "id": "65a0298e",
   "metadata": {},
   "outputs": [
    {
     "data": {
      "text/plain": [
       "<pyodbc.Cursor at 0x1d526ab5d30>"
      ]
     },
     "execution_count": 87,
     "metadata": {},
     "output_type": "execute_result"
    }
   ],
   "source": [
    "cursor = conn.cursor()\n",
    "cursor.execute('SELECT *, DeliveryLocation.Lat as lat, DeliveryLocation.Long as Long FROM Website.Customers')"
   ]
  },
  {
   "cell_type": "code",
   "execution_count": 88,
   "id": "67745e18",
   "metadata": {},
   "outputs": [
    {
     "name": "stdout",
     "output_type": "stream",
     "text": [
      "(1, 'Tailspin Toys (Head Office)', 'Novelty Shop', 'Waldemar Fisar', 'Laimonis Berzins', '(308) 555-0100', '(308) 555-0101', 'Tailspin Toys', 'http://www.tailspintoys.com', 'Delivery Van', 'Lisco', b'\\xe6\\x10\\x00\\x00\\x01\\x0c\\xe7?ZR\\xa4\\xbfD@\\x10c\\x88R\\xb1\\xa7Y\\xc0', '', '', 41.4972022, -102.6201979)\n",
      "(2, 'Tailspin Toys (Sylvanite, MT)', 'Novelty Shop', 'Lorena Cindric', 'Hung Van Groesen', '(406) 555-0100', '(406) 555-0101', 'Tailspin Toys', 'http://www.tailspintoys.com/Sylvanite', 'Delivery Van', 'Sylvanite', b'\\xe6\\x10\\x00\\x00\\x01\\x0c\\xf3z\\x8b\\xe2\\xb0[H@\\x05o\\xa3\\\\\\xf5\\xf7\\\\\\xc0', '', '', 48.7163356, -115.8743507)\n",
      "(3, 'Tailspin Toys (Peeples Valley, AZ)', 'Novelty Shop', 'Bhaargav Rambhatla', 'Mudar Jevtic', '(480) 555-0100', '(480) 555-0101', 'Tailspin Toys', 'http://www.tailspintoys.com/PeeplesValley', 'Delivery Van', 'Peeples Valley', b'\\xe6\\x10\\x00\\x00\\x01\\x0c\\xc9uS\\xcak\"A@O\\xac\\xf8+\\x89.\\\\\\xc0', '', '', 34.2689145, -112.7271223)\n",
      "(4, 'Tailspin Toys (Medicine Lodge, KS)', 'Novelty Shop', 'Daniel Roman', 'Leyla Radnia', '(316) 555-0100', '(316) 555-0101', 'Tailspin Toys', 'http://www.tailspintoys.com/MedicineLodge', 'Delivery Van', 'Medicine Lodge', b'\\xe6\\x10\\x00\\x00\\x01\\x0c\\x02&\\x152\\xfc\\xa3B@\\xed\\xb7v\\xa2$\\xa5X\\xc0', '', '', 37.2811339, -98.580361)\n",
      "(5, 'Tailspin Toys (Gasport, NY)', 'Novelty Shop', 'Johanna Huiting', 'Robert Ruutli', '(212) 555-0100', '(212) 555-0101', 'Tailspin Toys', 'http://www.tailspintoys.com/Gasport', 'Delivery Van', 'Gasport', b'\\xe6\\x10\\x00\\x00\\x01\\x0cYHe/\\x80\\x99E@\\xf9;\\xcaw\\xdf\\xa4S\\xc0', '', '', 43.1992244, -78.5761394)\n",
      "(6, 'Tailspin Toys (Jessie, ND)', 'Novelty Shop', 'Biswajeet Thakur', 'Radha Shah', '(701) 555-0100', '(701) 555-0101', 'Tailspin Toys', 'http://www.tailspintoys.com/Jessie', 'Delivery Van', 'Jessie', b'\\xe6\\x10\\x00\\x00\\x01\\x0c\\xb9\\xa6@fg\\xc5G@\\xbd~w\\xe1=\\x8fX\\xc0', '', '', 47.542218, -98.2381519)\n",
      "(7, 'Tailspin Toys (Frankewing, TN)', 'Novelty Shop', 'Kalidas Nadar', 'Filip Nedvidek', '(423) 555-0100', '(423) 555-0101', 'Tailspin Toys', 'http://www.tailspintoys.com/Frankewing', 'Delivery Van', 'Frankewing', b'\\xe6\\x10\\x00\\x00\\x01\\x0c\\x8d\\xee v\\xa6\\x98A@\\xc8\\xeb\\xc1\\xa4x\\xb6U\\xc0', '', '', 35.19258, -86.8511135)\n",
      "(8, 'Tailspin Toys (Bow Mar, CO)', 'Novelty Shop', 'Kanti Kotadia', 'Hoa Cu', '(303) 555-0100', '(303) 555-0101', 'Tailspin Toys', 'http://www.tailspintoys.com/BowMar', 'Delivery Van', 'Bow Mar', b'\\xe6\\x10\\x00\\x00\\x01\\x0c\\xec1\\x91\\xd2l\\xd0C@{\\xb4\\x82\\xf02CZ\\xc0', '', '', 39.628321, -105.0499841)\n",
      "(9, 'Tailspin Toys (Netcong, NJ)', 'Novelty Shop', 'Sointu Aalto', 'Jae-Gon Min', '(201) 555-0100', '(201) 555-0101', 'Tailspin Toys', 'http://www.tailspintoys.com/Netcong', 'Delivery Van', 'Netcong', b'\\xe6\\x10\\x00\\x00\\x01\\x0c\\xcd\\x80i\\x07\\x12sD@\\xef\\xbb3$8\\xadR\\xc0', '', '', 40.8989877, -74.7065516)\n",
      "(10, 'Tailspin Toys (Wimbledon, ND)', 'Novelty Shop', 'Siddhartha Parkar', 'Paula Matos', '(701) 555-0100', '(701) 555-0101', 'Tailspin Toys', 'http://www.tailspintoys.com/Wimbledon', 'Delivery Van', 'Wimbledon', b'\\xe6\\x10\\x00\\x00\\x01\\x0c\\xef\\x14\\xbc2\\xb9\\x95G@\\xce\\xe77\\xa7m\\x9dX\\xc0', '', '', 47.1697143, -98.4598177)\n",
      "(11, 'Tailspin Toys (Devault, PA)', 'Novelty Shop', 'Elnaz Javan', 'Jayashish Ghatak', '(215) 555-0100', '(215) 555-0101', 'Tailspin Toys', 'http://www.tailspintoys.com/Devault', 'Delivery Van', 'Devault', b'\\xe6\\x10\\x00\\x00\\x01\\x0c\\x184>\\xdd\\x8a\\tD@h\\x18\\x88\\xaf@\\xe2R\\xc0', '', '', 40.0745503, -75.5351981)\n",
      "(12, 'Tailspin Toys (Biscay, MN)', 'Novelty Shop', 'Heloisa Fernandes', 'Amornrat Rattanaporn', '(218) 555-0100', '(218) 555-0101', 'Tailspin Toys', 'http://www.tailspintoys.com/Biscay', 'Delivery Van', 'Biscay', b'\\xe6\\x10\\x00\\x00\\x01\\x0cM\\x15\\x8cJ\\xeaiF@@#\"F\\x99\\x91W\\xc0', '', '', 44.8274625, -94.2749801)\n",
      "(13, 'Tailspin Toys (Stonefort, IL)', 'Novelty Shop', 'Razeena Hosseini', 'Leticia Ribeiro', '(217) 555-0100', '(217) 555-0101', 'Tailspin Toys', 'http://www.tailspintoys.com/Stonefort', 'Delivery Van', 'Stonefort', b'\\xe6\\x10\\x00\\x00\\x01\\x0c\\xf0\\x14r\\xa5\\x9e\\xceB@5Wr\\xbaQ-V\\xc0', '', '', 37.6142165, -88.7081133)\n",
      "(14, 'Tailspin Toys (Long Meadow, MD)', 'Novelty Shop', 'Tereza Valentova', 'Brijesh Ganguly', '(240) 555-0100', '(240) 555-0101', 'Tailspin Toys', 'http://www.tailspintoys.com/LongMeadow', 'Delivery Van', 'Long Meadow', b'\\xe6\\x10\\x00\\x00\\x01\\x0c\\x93g\\xa8\\x9b\\xd5\\xd7C@I\\xad\\xe6\\xef\\x94mS\\xc0', '', '', 39.6862063, -77.7122154)\n",
      "(15, 'Tailspin Toys (Batson, TX)', 'Novelty Shop', 'Filips Jaunzems', 'Bharati Bhowmick', '(210) 555-0100', '(210) 555-0101', 'Tailspin Toys', 'http://www.tailspintoys.com/Batson', 'Delivery Van', 'Batson', b'\\xe6\\x10\\x00\\x00\\x01\\x0ch\\xe2\\xc2&\\xd7?>@lb\\xdch\\xdb\\xa6W\\xc0', '', '', 30.2493767, -94.6071417)\n",
      "(16, 'Tailspin Toys (Coney Island, MO)', 'Novelty Shop', 'Nitin Matondkar', 'Joy Dutta', '(314) 555-0100', '(314) 555-0101', 'Tailspin Toys', 'http://www.tailspintoys.com/ConeyIsland', 'Delivery Van', 'Coney Island', b'\\xe6\\x10\\x00\\x00\\x01\\x0c\\x99PwT\\xebKB@\\xe10\\x87\\x93jYW\\xc0', '', '', 36.5931192, -93.3971299)\n",
      "(17, 'Tailspin Toys (East Fultonham, OH)', 'Novelty Shop', 'Adam Kubat', 'Gulzar Naidu', '(216) 555-0100', '(216) 555-0101', 'Tailspin Toys', 'http://www.tailspintoys.com/EastFultonham', 'Delivery Van', 'East Fultonham', b\"\\xe6\\x10\\x00\\x00\\x01\\x0c\\x90\\xf0b\\x06\\xcf\\xecC@~Q'E\\xd0\\x87T\\xc0\", '', '', 39.8500679, -82.1220868)\n",
      "(18, 'Tailspin Toys (Goffstown, NH)', 'Novelty Shop', 'Isabelle Vodlan', 'Prakash Sarma', '(603) 555-0100', '(603) 555-0101', 'Tailspin Toys', 'http://www.tailspintoys.com/Goffstown', 'Delivery Van', 'Goffstown', b'\\xe6\\x10\\x00\\x00\\x01\\x0c\\xfe\\xce\\x9b/\\x9b\\x82E@\\xecK6\\x1el\\xe6Q\\xc0', '', '', 43.0203609, -71.600349)\n",
      "(19, 'Tailspin Toys (Lemeta, AK)', 'Novelty Shop', 'Mithun Bhattacharya', 'Sandhya Raju', '(907) 555-0100', '(907) 555-0101', 'Tailspin Toys', 'http://www.tailspintoys.com/Lemeta', 'Delivery Van', 'Lemeta', b'\\xe6\\x10\\x00\\x00\\x01\\x0cJ)C\\xb0\\x057P@\\xf7L@]nwb\\xc0', '', '', 64.8597222, -147.7322222)\n",
      "(20, 'Tailspin Toys (College Place, WA)', 'Novelty Shop', 'Nghi Hua', 'Ravindra Parkar', '(206) 555-0100', '(206) 555-0101', 'Tailspin Toys', 'http://www.tailspintoys.com/CollegePlace', 'Delivery Van', 'College Place', b'\\xe6\\x10\\x00\\x00\\x01\\x0c\\xcbM/\\x8cO\\x06G@\\xd8\\xbfF\\xed\\xd9\\x98]\\xc0', '', '', 46.0493026, -118.3883012)\n",
      "(21, 'Tailspin Toys (Tresckow, PA)', 'Novelty Shop', 'Duleep Raju', 'Vlatka Duvnjak', '(215) 555-0100', '(215) 555-0101', 'Tailspin Toys', 'http://www.tailspintoys.com/Tresckow', 'Delivery Van', 'Tresckow', b'\\xe6\\x10\\x00\\x00\\x01\\x0c\\x17DI\\xed\\xeatD@\\xa7\\xa5\\x03\\xa3\\xdc\\xfdR\\xc0', '', '', 40.9134194, -75.9665916)\n",
      "(22, 'Tailspin Toys (Ward Ridge, FL)', 'Novelty Shop', 'Cristina Longo', 'Antonio Lucchese', '(239) 555-0100', '(239) 555-0101', 'Tailspin Toys', 'http://www.tailspintoys.com/WardRidge', 'Delivery Van', 'Ward Ridge', b'\\xe6\\x10\\x00\\x00\\x01\\x0c5\\xfe\\x8e\\xf2\\xdd\\xc9=@vb \\x19<RU\\xc0', '', '', 29.7885429, -85.2849181)\n",
      "(23, 'Tailspin Toys (Ikatan, AK)', 'Novelty Shop', 'Hang Tang', 'Hong Ang', '(907) 555-0100', '(907) 555-0101', 'Tailspin Toys', 'http://www.tailspintoys.com/Ikatan', 'Delivery Van', 'Ikatan', b'\\xe6\\x10\\x00\\x00\\x01\\x0c\\x00\\x00\\x00\\x00\\x00`K@\\x91\\xf8\\xcb\\xdd\\xddid\\xc0', '', '', 54.75, -163.3083333)\n",
      "(24, 'Tailspin Toys (Dundarrach, NC)', 'Novelty Shop', 'Intira Mookjai', 'Young-Tae Kim', '(252) 555-0100', '(252) 555-0101', 'Tailspin Toys', 'http://www.tailspintoys.com/Dundarrach', 'Delivery Van', 'Dundarrach', b'\\xe6\\x10\\x00\\x00\\x01\\x0cB\\xd2\\xa7U\\xf4vA@@3\\x88\\x0f\\xec\\xc9S\\xc0', '', '', 34.9293315, -79.155033)\n",
      "(25, 'Tailspin Toys (Avenal, CA)', 'Novelty Shop', 'Sulabha Khalsa', 'Alessandro Milano', '(209) 555-0100', '(209) 555-0101', 'Tailspin Toys', 'http://www.tailspintoys.com/Avenal', 'Delivery Van', 'Avenal', b'\\xe6\\x10\\x00\\x00\\x01\\x0c\\x97\\xd7[\\x14\\x87\\x00B@\\xd8\\x12M\\xfbA\\x08^\\xc0', '', '', 36.0041223, -120.1290272)\n",
      "(26, 'Tailspin Toys (Hedrick, IA)', 'Novelty Shop', 'Dhanishta Majji', 'Nils Podnieks', '(319) 555-0100', '(319) 555-0101', 'Tailspin Toys', 'http://www.tailspintoys.com/Hedrick', 'Delivery Van', 'Hedrick', b'\\xe6\\x10\\x00\\x00\\x01\\x0c\\x96\\x8fI\\xeb\\x14\\x96D@\\xd2\\xab\\x01J\\xc3\\x13W\\xc0', '', '', 41.1725134, -92.3087945)\n",
      "(27, 'Tailspin Toys (Bowlus, MN)', 'Novelty Shop', 'Paula Gonzales', 'Chetana Dewangan', '(218) 555-0100', '(218) 555-0101', 'Tailspin Toys', 'http://www.tailspintoys.com/Bowlus', 'Delivery Van', 'Bowlus', b'\\xe6\\x10\\x00\\x00\\x01\\x0c\\xce\\x82\\x9ak\\xe2\\xe8F@\\xeb\\xdcY`4\\x9aW\\xc0', '', '', 45.8194098, -94.4094468)\n",
      "(28, 'Tailspin Toys (North Ridge, NY)', 'Novelty Shop', 'Tatjana Utjesenovic', 'Theresa Boose', '(212) 555-0100', '(212) 555-0101', 'Tailspin Toys', 'http://www.tailspintoys.com/NorthRidge', 'Delivery Van', 'North Ridge', b'\\xe6\\x10\\x00\\x00\\x01\\x0c\\xf1\\xc7\\xa3\\n5\\x9bE@\\xf5\\x8d\\x9e\\x11\\xdb\\xb4S\\xc0', '', '', 43.2125562, -78.8258709)\n",
      "(29, 'Tailspin Toys (Eulaton, AL)', 'Novelty Shop', 'Karel Hanak', 'Fernanda Fierro', '(205) 555-0100', '(205) 555-0101', 'Tailspin Toys', 'http://www.tailspintoys.com/Eulaton', 'Delivery Van', 'Eulaton', b'\\xe6\\x10\\x00\\x00\\x01\\x0c^p\\xbc\\xf1\\xa4\\xd2@@CKh\\xdcezU\\xc0', '', '', 33.6456587, -85.9124671)\n",
      "(30, 'Tailspin Toys (Koontzville, WA)', 'Novelty Shop', 'Odessa Schneider', 'Konrads Sprogis', '(206) 555-0100', '(206) 555-0101', 'Tailspin Toys', 'http://www.tailspintoys.com/Koontzville', 'Delivery Van', 'Koontzville', b'\\xe6\\x10\\x00\\x00\\x01\\x0c\\x88\\x1fR\\xc2\\x02\\x02H@Ov3\\xa3\\x9f\\xbc]\\xc0', '', '', 48.0157092, -118.9472435)\n",
      "(31, 'Tailspin Toys (Lake Stevens, WA)', 'Novelty Shop', 'Kimberly Pace', 'Shobha Gupta', '(206) 555-0100', '(206) 555-0101', 'Tailspin Toys', 'http://www.tailspintoys.com/LakeStevens', 'Delivery Van', 'Lake Stevens', b'\\xe6\\x10\\x00\\x00\\x01\\x0c\\x15\\x1e4\\xbb\\xee\\x01H@a7l[\\x14\\x84^\\xc0', '', '', 48.015098, -122.0637425)\n",
      "(32, 'Tailspin Toys (Maypearl, TX)', 'Novelty Shop', 'Nikolajs Kalejs', 'Philippe Lamy', '(210) 555-0100', '(210) 555-0101', 'Tailspin Toys', 'http://www.tailspintoys.com/Maypearl', 'Delivery Van', 'Maypearl', b'\\xe6\\x10\\x00\\x00\\x01\\x0cw\\xcc\\x8a\\xf2\\x16(@@\\xec\\xb7\\xc0/\\xbf@X\\xc0', '', '', 32.3132003, -97.0116691)\n",
      "(33, 'Tailspin Toys (Boyden Arbor, SC)', 'Novelty Shop', 'Haasini Rai', 'Viktorie Melicharova', '(803) 555-0100', '(803) 555-0101', 'Tailspin Toys', 'http://www.tailspintoys.com/BoydenArbor', 'Delivery Van', 'Boyden Arbor', b'\\xe6\\x10\\x00\\x00\\x01\\x0c\\xcc\\xd6U\\xdc\\x13\\x03A@nG\\xdds\\x85<T\\xc0', '', '', 34.0240436, -80.9456453)\n",
      "(34, 'Tailspin Toys (Dallardsville, TX)', 'Novelty Shop', 'Anjali Asthana', 'Hanuman Negi', '(210) 555-0100', '(210) 555-0101', 'Tailspin Toys', 'http://www.tailspintoys.com/Dallardsville', 'Delivery Van', 'Dallardsville', b'\\xe6\\x10\\x00\\x00\\x01\\x0cN\\xd9D\\xc1\\xe7\\xa0>@ \\x95\\x07\\x8ep\\xa8W\\xc0', '', '', 30.6285363, -94.6318698)\n",
      "(35, 'Tailspin Toys (Slanesville, WV)', 'Novelty Shop', 'Shah Omidi', 'Chandra Mittal', '(304) 555-0100', '(304) 555-0101', 'Tailspin Toys', 'http://www.tailspintoys.com/Slanesville', 'Delivery Van', 'Slanesville', b'\\xe6\\x10\\x00\\x00\\x01\\x0c\\xd2\\xf0\\x1c\\x80\\xc3\\xafC@/\\xeeP^u\\xa1S\\xc0', '', '', 39.3731537, -78.5227886)\n",
      "(36, 'Tailspin Toys (Ekron, KY)', 'Novelty Shop', 'Ferhat Celik', 'Leyla Celik', '(270) 555-0100', '(270) 555-0101', 'Tailspin Toys', 'http://www.tailspintoys.com/Ekron', 'Delivery Van', 'Ekron', b'\\xe6\\x10\\x00\\x00\\x01\\x0c\\xa2\\xe6P+\\xf1\\xf6B@g{\\xf4\\x86{\\x8bU\\xc0', '', '', 37.9292349, -86.1794145)\n",
      "(37, 'Tailspin Toys (Kerby, OR)', 'Novelty Shop', 'Dayarama Kamei', 'Elisabeth Flamand', '(458) 555-0100', '(458) 555-0101', 'Tailspin Toys', 'http://www.tailspintoys.com/Kerby', 'Delivery Van', 'Kerby', b'\\xe6\\x10\\x00\\x00\\x01\\x0c\\xff\\xa2\\x15)\\xde\\x18E@&\\xaa\\xb7\\x06\\xb6\\xe9^\\xc0', '', '', 42.1942798, -123.651735)\n",
      "(38, 'Tailspin Toys (Airport Drive, MO)', 'Novelty Shop', 'Nils Kalnins', 'Rajiv Kotadia', '(314) 555-0100', '(314) 555-0101', 'Tailspin Toys', 'http://www.tailspintoys.com/AirportDrive', 'Delivery Van', 'Airport Drive', b'\\xe6\\x10\\x00\\x00\\x01\\x0c\\xe6\\xe0\\xe3]?\\x92B@\\xd5\\xd7\\xa9\\xa8\\xb0\\xa0W\\xc0', '', '', 37.1425588, -94.5107824)\n",
      "(39, 'Tailspin Toys (Diablock, KY)', 'Novelty Shop', 'Ashish Acharya', 'Filip Sedlar', '(270) 555-0100', '(270) 555-0101', 'Tailspin Toys', 'http://www.tailspintoys.com/Diablock', 'Delivery Van', 'Diablock', b'\\xe6\\x10\\x00\\x00\\x01\\x0c\\n{\\x7f(=\\x9dB@(\\x87\\xaa\\xf3\\x03\\xcbT\\xc0', '', '', 37.2284289, -83.1721162)\n",
      "(40, 'Tailspin Toys (Impact, TX)', 'Novelty Shop', 'Alena Prikrylova', 'Catina Bojin', '(210) 555-0100', '(210) 555-0101', 'Tailspin Toys', 'http://www.tailspintoys.com/Impact', 'Delivery Van', 'Impact', b'\\xe6\\x10\\x00\\x00\\x01\\x0c\\x14\\xc5P\\xf3\\xfa?@@p\\xb6\\xb91\\xbd\\xefX\\xc0', '', '', 32.4998459, -99.7459225)\n",
      "(41, 'Tailspin Toys (Olivette, MO)', 'Novelty Shop', 'Lana Rozej', 'Kalpana Mukherjee', '(314) 555-0100', '(314) 555-0101', 'Tailspin Toys', 'http://www.tailspintoys.com/Olivette', 'Delivery Van', 'Olivette', b'\\xe6\\x10\\x00\\x00\\x01\\x0c\\\\G\\x0b\\x86)UC@\\xce[+\\x90\\x0f\\x98V\\xc0', '', '', 38.6653297, -90.3759499)\n",
      "(42, 'Tailspin Toys (Arietta, NY)', 'Novelty Shop', 'Chandrakanta Raut', 'Ivan Castellanos', '(212) 555-0100', '(212) 555-0101', 'Tailspin Toys', 'http://www.tailspintoys.com/Arietta', 'Delivery Van', 'Arietta', b'\\xe6\\x10\\x00\\x00\\x01\\x0c\\xc3\\xf2\\xe7\\xdb\\x82\\x9fE@\\x96\\x1f]\\x11!\\xa1R\\xc0', '', '', 43.246181, -74.5176433)\n",
      "(43, 'Tailspin Toys (Upper Preston, WA)', 'Novelty Shop', 'Ganapati Gadiyaram', 'Parsa Blijleven', '(206) 555-0100', '(206) 555-0101', 'Tailspin Toys', 'http://www.tailspintoys.com/UpperPreston', 'Delivery Van', 'Upper Preston', b'\\xe6\\x10\\x00\\x00\\x01\\x0c\\xe0\\xd2\\xd6-\\xa7\\xc0G@\\xfb\\x969]\\x16z^\\xc0', '', '', 47.5051019, -121.907615)\n",
      "(44, 'Tailspin Toys (Amanda Park, WA)', 'Novelty Shop', 'Adrijana Blagojevic', 'Lina Martins', '(206) 555-0100', '(206) 555-0101', 'Tailspin Toys', 'http://www.tailspintoys.com/AmandaPark', 'Delivery Van', 'Amanda Park', b'\\xe6\\x10\\x00\\x00\\x01\\x0c\"\\xf4\\xd8;H\\xbbG@\\x86\\xb8(i\\xb4\\xf8^\\xc0', '', '', 47.4631419, -123.8860114)\n",
      "(45, 'Tailspin Toys (Severna Park, MD)', 'Novelty Shop', 'Lap Dinh', 'August Astrom', '(240) 555-0100', '(240) 555-0101', 'Tailspin Toys', 'http://www.tailspintoys.com/SevernaPark', 'Delivery Van', 'Severna Park', b'\\xe6\\x10\\x00\\x00\\x01\\x0c\\xf3\\x03Wy\\x02\\x89C@C|\\x16:\\xe5\"S\\xc0', '', '', 39.070388, -76.5452409)\n",
      "(46, 'Tailspin Toys (Jemison, AL)', 'Novelty Shop', 'Didem ozCelik', 'Krista Andrejev', '(205) 555-0100', '(205) 555-0101', 'Tailspin Toys', 'http://www.tailspintoys.com/Jemison', 'Delivery Van', 'Jemison', b'\\xe6\\x10\\x00\\x00\\x01\\x0c\\xe9\\xdcH4\\xdcz@@\"\\x1fO&\\xc9\\xafU\\xc0', '', '', 32.9598451, -86.7466522)\n",
      "(47, 'Tailspin Toys (Lake Hughes, CA)', 'Novelty Shop', 'Serhat Akbulut', 'Nadja Johansson', '(209) 555-0100', '(209) 555-0101', 'Tailspin Toys', 'http://www.tailspintoys.com/LakeHughes', 'Delivery Van', 'Lake Hughes', b'\\xe6\\x10\\x00\\x00\\x01\\x0c\\xb7Ya\\x9f\\xa5VA@\\x00\\xfdc\\xc6\\x80\\x9c]\\xc0', '', '', 34.6769294, -118.4453598)\n",
      "(48, 'Tailspin Toys (Trentwood, WA)', 'Novelty Shop', 'Daniela Barrios', 'Daina Celma', '(206) 555-0100', '(206) 555-0101', 'Tailspin Toys', 'http://www.tailspintoys.com/Trentwood', 'Delivery Van', 'Trentwood', b'\\xe6\\x10\\x00\\x00\\x01\\x0c\\x9eP>\\xf3(\\xd9G@g\\x8c\\xc5%}M]\\xc0', '', '', 47.6965622, -117.2107634)\n",
      "(49, 'Tailspin Toys (Muir, MI)', 'Novelty Shop', 'Julia Slobodova', 'Raimonds Kalnins', '(231) 555-0100', '(231) 555-0101', 'Tailspin Toys', 'http://www.tailspintoys.com/Muir', 'Delivery Van', 'Muir', b'\\xe6\\x10\\x00\\x00\\x01\\x0c\\xf8XU\\x8ax\\x7fE@\\x00\\xfc\\xf8\\xf0Q<U\\xc0', '', '', 42.9958661, -84.9425013)\n",
      "(50, 'Tailspin Toys (Hambleton, WV)', 'Novelty Shop', 'Marcela Jankova', 'Predrag Stojanovic', '(304) 555-0100', '(304) 555-0101', 'Tailspin Toys', 'http://www.tailspintoys.com/Hambleton', 'Delivery Van', 'Hambleton', b'\\xe6\\x10\\x00\\x00\\x01\\x0c\\xe8\\x8c\\x83\\xa6\\x80\\x8aC@,vE:M\\xe9S\\xc0', '', '', 39.0820511, -79.6453386)\n",
      "(51, 'Tailspin Toys (Imlaystown, NJ)', 'Novelty Shop', 'Dipali Sonkar', 'Mariana Apodaca', '(201) 555-0100', '(201) 555-0101', 'Tailspin Toys', 'http://www.tailspintoys.com/Imlaystown', 'Delivery Van', 'Imlaystown', b'\\xe6\\x10\\x00\\x00\\x01\\x0c\\xa7\\xf6\\xd8Lt\\x15D@\\xb7;\\xb5D\\xf8\\xa0R\\xc0', '', '', 40.1676117, -74.5151531)\n",
      "(52, 'Tailspin Toys (Idria, CA)', 'Novelty Shop', 'Bansidhar Mitra', 'Liia Mae', '(209) 555-0100', '(209) 555-0101', 'Tailspin Toys', 'http://www.tailspintoys.com/Idria', 'Delivery Van', 'Idria', b'\\xe6\\x10\\x00\\x00\\x01\\x0c\\xfa\\x16\\x8c\\x00]5B@\\x03\\xbd&Z(+^\\xc0', '', '', 36.4169007, -120.6743379)\n",
      "(53, 'Tailspin Toys (Nanafalia, AL)', 'Novelty Shop', 'Gunnar Persson', 'Parvati Modi', '(205) 555-0100', '(205) 555-0101', 'Tailspin Toys', 'http://www.tailspintoys.com/Nanafalia', 'Delivery Van', 'Nanafalia', b'\\xe6\\x10\\x00\\x00\\x01\\x0c_0nYt\\x0e@@\\x0b\\xac-\\x86<\\xffU\\xc0', '', '', 32.1129257, -87.9880691)\n",
      "(54, 'Tailspin Toys (Railroad, PA)', 'Novelty Shop', 'Vitezslav Rehak', 'Parsa Van Vossen', '(215) 555-0100', '(215) 555-0101', 'Tailspin Toys', 'http://www.tailspintoys.com/Railroad', 'Delivery Van', 'Railroad', b'\\xe6\\x10\\x00\\x00\\x01\\x0cSv\\xfaA]\\xe1C@\\xbd\\x08\\t\\x07\\xb1,S\\xc0', '', '', 39.7606585, -76.6983049)\n",
      "(55, 'Tailspin Toys (Gum Branch, GA)', 'Novelty Shop', 'Bharat Sikdar', 'Alain Aupry', '(229) 555-0100', '(229) 555-0101', 'Tailspin Toys', 'http://www.tailspintoys.com/GumBranch', 'Delivery Van', 'Gum Branch', b'\\xe6\\x10\\x00\\x00\\x01\\x0c\\xdeS\\xde3\\xb7\\xdb?@\\x8d8\\xae\\x90\\x83nT\\xc0', '', '', 31.8582642, -81.7267801)\n",
      "(56, 'Tailspin Toys (Royal City, WA)', 'Novelty Shop', 'Juan Bezanson', 'Ruby Charlton', '(206) 555-0100', '(206) 555-0101', 'Tailspin Toys', 'http://www.tailspintoys.com/RoyalCity', 'Delivery Van', 'Royal City', b'\\xe6\\x10\\x00\\x00\\x01\\x0cA\\x16\\xfd\\xfcRsG@NI1\\x9b[\\xe8]\\xc0', '', '', 46.9009701, -119.6305912)\n",
      "(57, 'Tailspin Toys (Lakemore, OH)', 'Novelty Shop', 'Aile Mae', 'Margherita Lucchesi', '(216) 555-0100', '(216) 555-0101', 'Tailspin Toys', 'http://www.tailspintoys.com/Lakemore', 'Delivery Van', 'Lakemore', b'\\xe6\\x10\\x00\\x00\\x01\\x0c\\xcbi\\xaa\\x82\\xac\\x82D@\\x07u6\\x89\\xe6[T\\xc0', '', '', 41.0208896, -81.4359458)\n",
      "(58, 'Tailspin Toys (Mappsburg, VA)', 'Novelty Shop', 'Pratap Varghese', 'Marcel Marquis', '(276) 555-0100', '(276) 555-0101', 'Tailspin Toys', 'http://www.tailspintoys.com/Mappsburg', 'Delivery Van', 'Mappsburg', b'\\xe6\\x10\\x00\\x00\\x01\\x0cy\\xc9\\xff\\xe4\\xef\\xc9B@ek\"\\xd8\\xdd\\xf0R\\xc0', '', '', 37.5776335, -75.7635403)\n",
      "(59, 'Tailspin Toys (Edgartown, MA)', 'Novelty Shop', 'Margita Kopecka', 'Mirjam Johansson', '(339) 555-0100', '(339) 555-0101', 'Tailspin Toys', 'http://www.tailspintoys.com/Edgartown', 'Delivery Van', 'Edgartown', b'\\xe6\\x10\\x00\\x00\\x01\\x0c\\xaa\\xfc!\\xec\\xca\\xb1D@\\xfbd{\\xe3\\xda\\xa0Q\\xc0', '', '', 41.3890052, -70.5133599)\n",
      "(60, 'Tailspin Toys (East Dailey, WV)', 'Novelty Shop', 'Lekha Mitra', 'Seeta Bose', '(304) 555-0100', '(304) 555-0101', 'Tailspin Toys', 'http://www.tailspintoys.com/EastDailey', 'Delivery Van', 'East Dailey', b\"\\xe6\\x10\\x00\\x00\\x01\\x0cJ\\x9eF\\xb5\\xe3cC@'?\\xf3\\x83\\x04\\xf9S\\xc0\", '', '', 38.7803866, -79.8909006)\n",
      "(61, 'Tailspin Toys (Fairfield Glade, TN)', 'Novelty Shop', 'Abhoy PrabhupÄ\\x81da', 'Seok-Ho Jeon', '(423) 555-0100', '(423) 555-0101', 'Tailspin Toys', 'http://www.tailspintoys.com/FairfieldGlade', 'Delivery Van', 'Fairfield Glade', b'\\xe6\\x10\\x00\\x00\\x01\\x0cS\\x91\\nc\\x0b\\x00B@\\xcbiO\\xc9\\xb98U\\xc0', '', '', 36.0003475, -84.8863395)\n",
      "(62, 'Tailspin Toys (Great Neck Estates, NY)', 'Novelty Shop', 'Alida Caune', 'Indiana Fritzsche', '(212) 555-0100', '(212) 555-0101', 'Tailspin Toys', 'http://www.tailspintoys.com/GreatNeckEstates', 'Delivery Van', 'Great Neck Estates', b\"\\xe6\\x10\\x00\\x00\\x01\\x0c\\xb7y\\x88\\xeb\\xbddD@\\xe6\\x8f\\x0e\\xb4'oR\\xc0\", '', '', 40.7870459, -73.7367983)\n",
      "(63, 'Tailspin Toys (Stallion Springs, CA)', 'Novelty Shop', 'Agnes Szolosy', 'Yu-jin Jee', '(209) 555-0100', '(209) 555-0101', 'Tailspin Toys', 'http://www.tailspintoys.com/StallionSprings', 'Delivery Van', 'Stallion Springs', b'\\xe6\\x10\\x00\\x00\\x01\\x0c\\xc3\\xc9G\\x9c_\\x8bA@\\xa2,\\xd76 \\xa9]\\xc0', '', '', 35.0888553, -118.6425912)\n",
      "(64, 'Tailspin Toys (Hodgdon, ME)', 'Novelty Shop', 'Rohana Kaskar', 'Grieta Kalnina', '(207) 555-0100', '(207) 555-0101', 'Tailspin Toys', 'http://www.tailspintoys.com/Hodgdon', 'Delivery Van', 'Hodgdon', b'\\xe6\\x10\\x00\\x00\\x01\\x0c\\xfb\\xac\\xd7\\x99\\xe7\\x06G@\\x99<\\xaf\\xc2w\\xf7P\\xc0', '', '', 46.0539429, -67.8666846)\n",
      "(65, 'Tailspin Toys (North Cowden, TX)', 'Novelty Shop', 'Hanuman Dubey', 'Paola Loggia', '(210) 555-0100', '(210) 555-0101', 'Tailspin Toys', 'http://www.tailspintoys.com/NorthCowden', 'Delivery Van', 'North Cowden', b'\\xe6\\x10\\x00\\x00\\x01\\x0cHe/\\x80\\x95\\x00@@RP@\\xc9\\xd3\\xa0Y\\xc0', '', '', 32.0045624, -102.5129264)\n",
      "(66, 'Tailspin Toys (Madaket, MA)', 'Novelty Shop', 'Bao Dao', 'Viljo Lampsa', '(339) 555-0100', '(339) 555-0101', 'Tailspin Toys', 'http://www.tailspintoys.com/Madaket', 'Delivery Van', 'Madaket', b'\\xe6\\x10\\x00\\x00\\x01\\x0c\\x15\\xc2\\x0fs\\xee\\xa2D@H\\xcd\\r<\\xad\\x8cQ\\xc0', '', '', 41.2729019, -70.1980734)\n",
      "(67, 'Tailspin Toys (Sentinel Butte, ND)', 'Novelty Shop', 'Preyakshna Aluri', 'Chandan Raut', '(701) 555-0100', '(701) 555-0101', 'Tailspin Toys', 'http://www.tailspintoys.com/SentinelButte', 'Delivery Van', 'Sentinel Butte', b'\\xe6\\x10\\x00\\x00\\x01\\x0c\\x06\\xf1&d\\x8cuG@\\x06b~\\x13\\xaf\\xf5Y\\xc0', '', '', 46.9183469, -103.8388108)\n",
      "(68, 'Tailspin Toys (Gardere, LA)', 'Novelty Shop', 'Valentina Conti', 'Narayan Mukherjee', '(225) 555-0100', '(225) 555-0101', 'Tailspin Toys', 'http://www.tailspintoys.com/Gardere', 'Delivery Van', 'Gardere', b'\\xe6\\x10\\x00\\x00\\x01\\x0cp\"\\x9f\\xfc\\x82X>@X\\x1f\\x0f}\\xf7\\xc8V\\xc0', '', '', 30.3457487, -91.1401055)\n",
      "(69, 'Tailspin Toys (Lytle Creek, CA)', 'Novelty Shop', 'Theodore Saucier', 'Chaowalit Pornpipatpong', '(209) 555-0100', '(209) 555-0101', 'Tailspin Toys', 'http://www.tailspintoys.com/LytleCreek', 'Delivery Van', 'Lytle Creek', b'\\xe6\\x10\\x00\\x00\\x01\\x0c\\xa2\\x01\\x06\\x93,!A@\\xd6\\x94\\xbf\\xd6\\x00`]\\xc0', '', '', 34.2591728, -117.5000512)\n",
      "(70, 'Tailspin Toys (New Baden, IL)', 'Novelty Shop', 'Mariana Fierro', 'Ivana Kozakova', '(217) 555-0100', '(217) 555-0101', 'Tailspin Toys', 'http://www.tailspintoys.com/NewBaden', 'Delivery Van', 'New Baden', b'\\xe6\\x10\\x00\\x00\\x01\\x0c\\xcc\\xe1\\xa4z|DC@\\x86\\x9c\\xadr\\xd7lV\\xc0', '', '', 38.5350488, -89.7006499)\n",
      "(71, 'Tailspin Toys (Good Hart, MI)', 'Novelty Shop', 'Afshin Djalili', 'Vaclav Holy', '(231) 555-0100', '(231) 555-0101', 'Tailspin Toys', 'http://www.tailspintoys.com/GoodHart', 'Delivery Van', 'Good Hart', b'\\xe6\\x10\\x00\\x00\\x01\\x0cW\\xa4\\xd3\\x04\\x9b\\xc8F@\\xb1\\xa5GS=GU\\xc0', '', '', 45.5672308, -85.113118)\n",
      "(72, 'Tailspin Toys (Cortaro, AZ)', 'Novelty Shop', 'Bianh Phan', 'Kanti Pipalia', '(480) 555-0100', '(480) 555-0101', 'Tailspin Toys', 'http://www.tailspintoys.com/Cortaro', 'Delivery Van', 'Cortaro', b'\\xe6\\x10\\x00\\x00\\x01\\x0c\\x89\\xaa\\xa9v\\x97-@@PW\\xd2\\xe5\\xa8\\xc5[\\xc0', '', '', 32.3561848, -111.0884337)\n",
      "(73, 'Tailspin Toys (Cokato, MN)', 'Novelty Shop', 'Koknesis Vitols', 'Malle Sepp', '(218) 555-0100', '(218) 555-0101', 'Tailspin Toys', 'http://www.tailspintoys.com/Cokato', 'Delivery Van', 'Cokato', b'\\xe6\\x10\\x00\\x00\\x01\\x0c\\x86\\xd2\\xcd\\xb4\\xb3\\x89F@nYt\\xa1(\\x8cW\\xc0', '', '', 45.0757967, -94.1899799)\n",
      "(74, 'Tailspin Toys (Indios, PR)', 'Novelty Shop', 'Roxane Rastgu', 'Hue Chu', '(787) 555-0100', '(787) 555-0101', 'Tailspin Toys', 'http://www.tailspintoys.com/Indios', 'Delivery Van', 'Indios', b'\\xe6\\x10\\x00\\x00\\x01\\x0c0\\xe3\\\\y\\x7f\\xfe1@\\x1a\\xef\\xd8\\x19p\\xb4P\\xc0', '', '', 17.9941326, -66.8193421)\n",
      "(75, 'Tailspin Toys (Windsor Locks, CT)', 'Novelty Shop', 'Vlasta Srbova', 'Gadhar Ghosh', '(203) 555-0100', '(203) 555-0101', 'Tailspin Toys', 'http://www.tailspintoys.com/WindsorLocks', 'Delivery Van', 'Windsor Locks', b'\\xe6\\x10\\x00\\x00\\x01\\x0c=\\xed\\x95\\x1e\\xf2\\xf6D@\\x04\\x98\\xe8\\xe2%(R\\xc0', '', '', 41.9292639, -72.6273124)\n",
      "(76, 'Tailspin Toys (Yewed, OK)', 'Novelty Shop', 'Lata Babu', 'Chandra De', '(405) 555-0100', '(405) 555-0101', 'Tailspin Toys', 'http://www.tailspintoys.com/Yewed', 'Delivery Van', 'Yewed', b'\\xe6\\x10\\x00\\x00\\x01\\x0cs\\x88\\x86m\\xd5WB@\\x8f,\\xd0V\\xc4\\x9bX\\xc0', '', '', 36.6862008006, -98.4338585885)\n",
      "(77, 'Tailspin Toys (Hahira, GA)', 'Novelty Shop', 'Airi Vassiljev', 'Hoang La', '(229) 555-0100', '(229) 555-0101', 'Tailspin Toys', 'http://www.tailspintoys.com/Hahira', 'Delivery Van', 'Hahira', b'\\xe6\\x10\\x00\\x00\\x01\\x0c\\xc4P\\x98A\\xc6\\xfd>@\\xfc\\xc6\\xd7\\x9e\\xd9\\xd7T\\xc0', '', '', 30.9913064, -83.3726575)\n",
      "(78, 'Tailspin Toys (Sekiu, WA)', 'Novelty Shop', 'Duleep Walia', 'Satish Gill', '(206) 555-0100', '(206) 555-0101', 'Tailspin Toys', 'http://www.tailspintoys.com/Sekiu', 'Delivery Van', 'Sekiu', b'\\xe6\\x10\\x00\\x00\\x01\\x0c\\xea \\xaf\\x07\\x93!H@\\xa5s4\\xfdH\\x13_\\xc0', '', '', 48.2622995, -124.3013299)\n",
      "(79, 'Tailspin Toys (Page City, KS)', 'Novelty Shop', 'Matyas Macek', 'Ethan Hopkins', '(316) 555-0100', '(316) 555-0101', 'Tailspin Toys', 'http://www.tailspintoys.com/PageCity', 'Delivery Van', 'Page City', b'\\xe6\\x10\\x00\\x00\\x01\\x0c\\x97\\xfc\\xf4D|\\x8bC@\\xd1\\xdf\\x95n\\\\IY\\xc0', '', '', 39.0897299, -101.1462666)\n",
      "(80, 'Tailspin Toys (Valdese, NC)', 'Novelty Shop', 'Bharat Ankitham', 'Be Phan', '(252) 555-0100', '(252) 555-0101', 'Tailspin Toys', 'http://www.tailspintoys.com/Valdese', 'Delivery Van', 'Valdese', b'\\xe6\\x10\\x00\\x00\\x01\\x0c\\xc6K\\xdc\\xcf\\xce\\xdeA@\\x9bq\\x1a\\xa2\\ndT\\xc0', '', '', 35.7406864, -81.563149)\n",
      "(81, 'Tailspin Toys (Big Moose, NY)', 'Novelty Shop', 'Vera Kubatova', 'Diego Almeida', '(212) 555-0100', '(212) 555-0101', 'Tailspin Toys', 'http://www.tailspintoys.com/BigMoose', 'Delivery Van', 'Big Moose', b'\\xe6\\x10\\x00\\x00\\x01\\x0c\\xb5\\xc9<M\\xc1\\xe8E@t\\xc2:D\\x92\\xbaR\\xc0', '', '', 43.8183991, -74.9151774)\n",
      "(82, 'Tailspin Toys (La Cueva, NM)', 'Novelty Shop', 'Rakesh Nishad', 'Huu Hoa', '(505) 555-0100', '(505) 555-0101', 'Tailspin Toys', 'http://www.tailspintoys.com/LaCueva', 'Delivery Van', 'La Cueva', b'\\xe6\\x10\\x00\\x00\\x01\\x0cf\\xbd\\x18\\xca\\x89\\xf8A@\\xb4\\xd8\\xdc\\x87\\xf2OZ\\xc0', '', '', 35.941705, -105.2491779)\n",
      "(83, 'Tailspin Toys (Absecon, NJ)', 'Novelty Shop', 'Sang Tran', 'Bela Nemeth', '(201) 555-0100', '(201) 555-0101', 'Tailspin Toys', 'http://www.tailspintoys.com/Absecon', 'Delivery Van', 'Absecon', b'\\xe6\\x10\\x00\\x00\\x01\\x0c\\x0f;\\x9du\\xd7\\xb6C@<\\x98^\\xac\\xb9\\x9fR\\xc0', '', '', 39.4284503, -74.4957076)\n",
      "(84, 'Tailspin Toys (Aceitunas, PR)', 'Novelty Shop', 'Eekalabya Bose', 'Margherita Bucco', '(787) 555-0100', '(787) 555-0101', 'Tailspin Toys', 'http://www.tailspintoys.com/Aceitunas', 'Delivery Van', 'Aceitunas', b\"\\xe6\\x10\\x00\\x00\\x01\\x0c\\xc7\\x86\\xc9\\xafzq2@9\\x1b<]'\\xc4P\\xc0\", '', '', 18.4432783, -67.0649026)\n",
      "(85, 'Tailspin Toys (Andrix, CO)', 'Novelty Shop', 'Tommy Kilpi', 'Giri Bhamidipati', '(303) 555-0100', '(303) 555-0101', 'Tailspin Toys', 'http://www.tailspintoys.com/Andrix', 'Delivery Van', 'Andrix', b'\\xe6\\x10\\x00\\x00\\x01\\x0c\\x18;\\x86l\\xc5\\xa3B@?$2bU\\xccY\\xc0', '', '', 37.2794624, -103.1927114)\n",
      "(86, 'Tailspin Toys (New Lexington, OH)', 'Novelty Shop', 'Andrea Ricci', 'Chung-Ho Han', '(216) 555-0100', '(216) 555-0101', 'Tailspin Toys', 'http://www.tailspintoys.com/NewLexington', 'Delivery Van', 'New Lexington', b'\\xe6\\x10\\x00\\x00\\x01\\x0cD\\x9c\\xf3\\xf8b\\xdbC@\\xa3V\\x98\\xbeW\\x8dT\\xc0', '', '', 39.7139579, -82.2084805)\n",
      "(87, 'Tailspin Toys (Sauquoit, NY)', 'Novelty Shop', 'Isabell  Duperre', 'Jasna Vujica', '(212) 555-0100', '(212) 555-0101', 'Tailspin Toys', 'http://www.tailspintoys.com/Sauquoit', 'Delivery Van', 'Sauquoit', b'\\xe6\\x10\\x00\\x00\\x01\\x0c\\x89yV\\xd2\\x8a\\x80E@BLx\\xf8\\xa1\\xd0R\\xc0', '', '', 43.0042365, -75.2598859)\n",
      "(88, 'Tailspin Toys (Dracut, MA)', 'Novelty Shop', 'Amarendra Ankitham', 'Isak Berggren', '(339) 555-0100', '(339) 555-0101', 'Tailspin Toys', 'http://www.tailspintoys.com/Dracut', 'Delivery Van', 'Dracut', b'\\xe6\\x10\\x00\\x00\\x01\\x0c\\x8aa=\\xa4\\xceUE@4N\\x9e\\rT\\xd3Q\\xc0', '', '', 42.6703687, -71.3020052)\n",
      "(89, 'Tailspin Toys (Victory Gardens, NJ)', 'Novelty Shop', 'Aakarsha Nookala', 'Ilgonis Rozitis', '(201) 555-0100', '(201) 555-0101', 'Tailspin Toys', 'http://www.tailspintoys.com/VictoryGardens', 'Delivery Van', 'Victory Gardens', b'\\xe6\\x10\\x00\\x00\\x01\\x0cs\\x80`\\x8e\\x1epD@ \\x01\\xedX\\xb6\\xa2R\\xc0', '', '', 40.8759325, -74.5423796)\n",
      "(90, 'Tailspin Toys (Tolna, ND)', 'Novelty Shop', 'Stanislav Sedlar', 'Telma Arvidsson', '(701) 555-0100', '(701) 555-0101', 'Tailspin Toys', 'http://www.tailspintoys.com/Tolna', 'Delivery Van', 'Tolna', b'\\xe6\\x10\\x00\\x00\\x01\\x0c-\\x8b\\xd3Z\\xe2\\xe9G@\\x14\\xda(\\xa1*\\x9cX\\xc0', '', '', 47.8272203, -98.4401019)\n",
      "(91, 'Tailspin Toys (Alstead, NH)', 'Novelty Shop', 'GokCe Karaca', 'Maria Munteanu', '(603) 555-0100', '(603) 555-0101', 'Tailspin Toys', 'http://www.tailspintoys.com/Alstead', 'Delivery Van', 'Alstead', b'\\xe6\\x10\\x00\\x00\\x01\\x0cbZ\\xe5S\\x11\\x93E@\\xcc\\x01\\xcc\\xc6\\x14\\x17R\\xc0', '', '', 43.1489663, -72.3606431)\n",
      "(92, 'Tailspin Toys (Sans Souci, SC)', 'Novelty Shop', 'Coralie Emond', 'Cong Trung', '(803) 555-0100', '(803) 555-0101', 'Tailspin Toys', 'http://www.tailspintoys.com/SansSouci', 'Delivery Van', 'Sans Souci', b'\\xe6\\x10\\x00\\x00\\x01\\x0c^\\xa8\\xb2\\xde^pA@e\\x08\\xb6\\x00#\\x9bT\\xc0', '', '', 34.8778952, -82.4240114)\n",
      "(93, 'Tailspin Toys (Clewiston, FL)', 'Novelty Shop', 'Karina Celmina', 'Nik Stoimenova', '(239) 555-0100', '(239) 555-0101', 'Tailspin Toys', 'http://www.tailspintoys.com/Clewiston', 'Delivery Van', 'Clewiston', b'\\xe6\\x10\\x00\\x00\\x01\\x0cr\\x9f\\xc1K\\x15\\xc1:@P\\xa5\\x0bV\\xc1;T\\xc0', '', '', 26.7542312, -80.9336753)\n",
      "(94, 'Tailspin Toys (Cheyenne Wells, CO)', 'Novelty Shop', 'Teresa Pisani', 'Murugan Thakur', '(303) 555-0100', '(303) 555-0101', 'Tailspin Toys', 'http://www.tailspintoys.com/CheyenneWells', 'Delivery Van', 'Cheyenne Wells', b'\\xe6\\x10\\x00\\x00\\x01\\x0c\\x1d\\xcc\\x81y#iC@\\x93\\x01\\xa0\\x8a\\x9b\\x96Y\\xc0', '', '', 38.8213951, -102.3532435)\n",
      "(95, 'Tailspin Toys (Lavon, TX)', 'Novelty Shop', 'Alba Ponce', 'Antra Dzene', '(210) 555-0100', '(210) 555-0101', 'Tailspin Toys', 'http://www.tailspintoys.com/Lavon', 'Delivery Van', 'Lavon', b\"\\xe6\\x10\\x00\\x00\\x01\\x0c\\x84\\x1e{\\x07\\x89\\x83@@\\xb7\\xde%'\\xc9\\x1bX\\xc0\", '', '', 33.0276193, -96.4341524)\n",
      "(96, 'Tailspin Toys (South La Paloma, TX)', 'Novelty Shop', 'Piper Leigh', 'Jautrite Krievina', '(210) 555-0100', '(210) 555-0101', 'Tailspin Toys', 'http://www.tailspintoys.com/SouthLaPaloma', 'Delivery Van', 'South La Paloma', b'\\xe6\\x10\\x00\\x00\\x01\\x0c\\xf7\\xfc\\xd5\\x88\\x05\\xe5;@\\x0eu\\x0eT\\xfc}X\\xc0', '', '', 27.8946157, -97.9685259)\n",
      "(97, 'Tailspin Toys (Manchester Center, VT)', 'Novelty Shop', 'Karie Seymour', 'Lorenzo Lee', '(802) 555-0100', '(802) 555-0101', 'Tailspin Toys', 'http://www.tailspintoys.com/ManchesterCenter', 'Delivery Van', 'Manchester Center', b'\\xe6\\x10\\x00\\x00\\x01\\x0c\\xf1\\xdbk\\x9c\\xa8\\x96E@\\xab\\x91\\x02\\xb0\\xa6CR\\xc0', '', '', 43.1770206, -73.0570488)\n",
      "(98, 'Tailspin Toys (El Centro, CA)', 'Novelty Shop', 'Timea Peto', 'Amanat Shaker Doust', '(209) 555-0100', '(209) 555-0101', 'Tailspin Toys', 'http://www.tailspintoys.com/ElCentro', 'Delivery Van', 'El Centro', b'\\xe6\\x10\\x00\\x00\\x01\\x0cL7\\x89A`e@@\\xe4=\\xbd\\x08\\t\\xe4\\\\\\xc0', '', '', 32.792, -115.5630514)\n",
      "(99, 'Tailspin Toys (Guin, AL)', 'Novelty Shop', 'Victoria Ene', 'Panit Meesang', '(205) 555-0100', '(205) 555-0101', 'Tailspin Toys', 'http://www.tailspintoys.com/Guin', 'Delivery Van', 'Guin', b'\\xe6\\x10\\x00\\x00\\x01\\x0c\\x99\\t+\\xba\\x9a\\xfb@@HB\\x11A\\x8b\\xfaU\\xc0', '', '', 33.9656594, -87.9147494)\n",
      "(100, 'Tailspin Toys (Tunnelhill, PA)', 'Novelty Shop', 'Bhavani Bhowmick', 'Ivica Debeljak', '(215) 555-0100', '(215) 555-0101', 'Tailspin Toys', 'http://www.tailspintoys.com/Tunnelhill', 'Delivery Van', 'Tunnelhill', b'\\xe6\\x10\\x00\\x00\\x01\\x0c\\xecl\\xc8?3=D@\\x8c$\\x8bE\\x9d\\xa2S\\xc0', '', '', 40.4781265, -78.5408491)\n",
      "(101, 'Tailspin Toys (Cundiyo, NM)', 'Novelty Shop', 'Yasmine Berggren', 'Anima Bagchi', '(505) 555-0100', '(505) 555-0101', 'Tailspin Toys', 'http://www.tailspintoys.com/Cundiyo', 'Delivery Van', 'Cundiyo', b'\\xe6\\x10\\x00\\x00\\x01\\x0c\\x05\\xca\\\\\\xcf\\xc6\\xfaA@\\x8e\\x15F\\xc4^yZ\\xc0', '', '', 35.9591922, -105.8964091)\n",
      "(102, 'Tailspin Toys (Fieldbrook, CA)', 'Novelty Shop', 'Tea Koppel', 'Bozena Palatova', '(209) 555-0100', '(209) 555-0101', 'Tailspin Toys', 'http://www.tailspintoys.com/Fieldbrook', 'Delivery Van', 'Fieldbrook', b'\\xe6\\x10\\x00\\x00\\x01\\x0c{\\xa8\\xc8|\\x9b{D@/Fn\\x97G\\x02_\\xc0', '', '', 40.9656826, -124.0356196)\n",
      "(103, 'Tailspin Toys (Kalvesta, KS)', 'Novelty Shop', 'Naseem Radan', 'Geza Olteanu', '(316) 555-0100', '(316) 555-0101', 'Tailspin Toys', 'http://www.tailspintoys.com/Kalvesta', 'Delivery Van', 'Kalvesta', b'\\xe6\\x10\\x00\\x00\\x01\\x0cKf\\xab\\x81\\x9c\\x07C@k<\"\\xf0Q\\x12Y\\xc0', '', '', 38.0594637, -100.2862511)\n",
      "(104, 'Tailspin Toys (Wallagrass, ME)', 'Novelty Shop', 'Laboni Deb', 'Antonin Klaus', '(207) 555-0100', '(207) 555-0101', 'Tailspin Toys', 'http://www.tailspintoys.com/Wallagrass', 'Delivery Van', 'Wallagrass', b'\\xe6\\x10\\x00\\x00\\x01\\x0c\\xbbn\\x00\\xec\\x92\\x90G@B\\x9dM\\xa29&Q\\xc0', '', '', 47.1294837, -68.5972677)\n",
      "(105, 'Tailspin Toys (Tomnolen, MS)', 'Novelty Shop', 'Sung-Hwan Hwang', 'Reigo Rebane', '(228) 555-0100', '(228) 555-0101', 'Tailspin Toys', 'http://www.tailspintoys.com/Tomnolen', 'Delivery Van', 'Tomnolen', b'\\xe6\\x10\\x00\\x00\\x01\\x0c\\x1c\\x10|g\\x0f\\xbe@@\\xcc\\xa5\\xa7~\\x14WV\\xc0', '', '', 33.4848451, -89.3606259)\n",
      "(106, 'Tailspin Toys (Tumacacori, AZ)', 'Novelty Shop', 'Shiva Pipalia', 'Aishwarya Beniwal', '(480) 555-0100', '(480) 555-0101', 'Tailspin Toys', 'http://www.tailspintoys.com/Tumacacori', 'Delivery Van', 'Tumacacori', b'\\xe6\\x10\\x00\\x00\\x01\\x0c\\xc5\\xd6\\xff\\xff\\x97\\x91?@\\xc5\\x19\\x00\\x00Y\\xc3[\\xc0', '', '', 31.5687255859, -111.052307129)\n",
      "(107, 'Tailspin Toys (Glen Avon, CA)', 'Novelty Shop', 'Karie Mercier', 'Milada Buresova', '(209) 555-0100', '(209) 555-0101', 'Tailspin Toys', 'http://www.tailspintoys.com/GlenAvon', 'Delivery Van', 'Glen Avon', b'\\xe6\\x10\\x00\\x00\\x01\\x0c\\xa1B\\x1a\\xba~\\x01A@PB\\x9f~\\x06_]\\xc0', '', '', 34.0116799, -117.4847714)\n",
      "(108, 'Tailspin Toys (Bernie, MO)', 'Novelty Shop', 'Bhanu Thota', 'Cyrus Poursokh', '(314) 555-0100', '(314) 555-0101', 'Tailspin Toys', 'http://www.tailspintoys.com/Bernie', 'Delivery Van', 'Bernie', b'\\xe6\\x10\\x00\\x00\\x01\\x0c\\xfc\\xea\\x05\\xfa\\x9fUB@B\\xc4\\x177\\xff}V\\xc0', '', '', 36.6689446, -89.9687021)\n",
      "(109, 'Tailspin Toys (South Laguna, CA)', 'Novelty Shop', 'Ae-Cha Joo', 'Jawid Pourali', '(209) 555-0100', '(209) 555-0101', 'Tailspin Toys', 'http://www.tailspintoys.com/SouthLaguna', 'Delivery Van', 'South Laguna', b'\\xe6\\x10\\x00\\x00\\x01\\x0c\\xc1\\xb8\\n\\x18\\x13\\xc0@@\\xc9\\xb5\\xfc\\x1b\\x8fo]\\xc0', '', '', 33.5005827, -117.7431097)\n",
      "(110, 'Tailspin Toys (North Crows Nest, IN)', 'Novelty Shop', 'Dinara Saparkyzy', 'Karel Sedlar', '(219) 555-0100', '(219) 555-0101', 'Tailspin Toys', 'http://www.tailspintoys.com/NorthCrowsNest', 'Delivery Van', 'North Crows Nest', b'\\xe6\\x10\\x00\\x00\\x01\\x0c\\x9f\\xb9=\\xf7\\xd4\\xeeC@*\\xef\\x99\\xdbs\\x8aU\\xc0', '', '', 39.8658742, -86.1633214)\n",
      "(111, 'Tailspin Toys (Oriole Beach, FL)', 'Novelty Shop', 'Adam Dvorak', 'Dhanishta Vankayala', '(239) 555-0100', '(239) 555-0101', 'Tailspin Toys', 'http://www.tailspintoys.com/OrioleBeach', 'Delivery Van', 'Oriole Beach', b'\\xe6\\x10\\x00\\x00\\x01\\x0coh%\\x08\\xb2_>@\\xd33\\xbd\\xc4\\xd8\\xc5U\\xc0', '', '', 30.3738103, -87.0913555)\n",
      "(112, 'Tailspin Toys (Sallyards, KS)', 'Novelty Shop', 'Ingrida Celmina', 'Be Dang', '(316) 555-0100', '(316) 555-0101', 'Tailspin Toys', 'http://www.tailspintoys.com/Sallyards', 'Delivery Van', 'Sallyards', b'\\xe6\\x10\\x00\\x00\\x01\\x0c\\x0bG\\xeb\\x03$\\xe9B@\\xdbv\\x90\\x8dv X\\xc0', '', '', 37.8214116, -96.5072359)\n",
      "(113, 'Tailspin Toys (Dahlia, NM)', 'Novelty Shop', 'Jae-Hwa Jang', 'Clara Cunha', '(505) 555-0100', '(505) 555-0101', 'Tailspin Toys', 'http://www.tailspintoys.com/Dahlia', 'Delivery Van', 'Dahlia', b'\\xe6\\x10\\x00\\x00\\x01\\x0c\\xcb\\xf2\\x1a`\\x8b\\x8fA@\\x8fh\\xa7\\x8b\\xb9QZ\\xc0', '', '', 35.1214409, -105.2769498)\n",
      "(114, 'Tailspin Toys (Cherry Grove Beach, SC)', 'Novelty Shop', 'Duck-Hwan Bae', 'Surya Mishra', '(803) 555-0100', '(803) 555-0101', 'Tailspin Toys', 'http://www.tailspintoys.com/CherryGroveBeach', 'Delivery Van', 'Cherry Grove Beach', b'\\xe6\\x10\\x00\\x00\\x01\\x0c\\x1e\\xb1\\xcc\\x11\\xe8\\xe9@@\\xeeG\\xe5\\x81#\\xa9S\\xc0', '', '', 33.8273947, -78.6427922)\n",
      "(115, 'Tailspin Toys (Bethania, NC)', 'Novelty Shop', 'Jagoda Vasiljevic', 'Eero Raud', '(252) 555-0100', '(252) 555-0101', 'Tailspin Toys', 'http://www.tailspintoys.com/Bethania', 'Delivery Van', 'Bethania', b'\\xe6\\x10\\x00\\x00\\x01\\x0c\\xc7\\x8b;\\x94W\\x17B@\\xa6\\x81z\\x8e\\xa3\\x15T\\xc0', '', '', 36.1823602, -80.3381077)\n",
      "(116, 'Tailspin Toys (Rafael Capó, PR)', 'Novelty Shop', 'Toma Nastase', 'Arjuna Haldar', '(787) 555-0100', '(787) 555-0101', 'Tailspin Toys', 'http://www.tailspintoys.com/RafaelCapó', 'Delivery Van', 'Rafael Capó', b'\\xe6\\x10\\x00\\x00\\x01\\x0c\\xfd\\x9e\\xfd\\xedWf2@z\\xeaGy\\x9c\\xb2P\\xc0', '', '', 18.3997792, -66.7908004)\n",
      "(117, 'Tailspin Toys (Scofield, UT)', 'Novelty Shop', 'Valerio Cardoso', 'Zac Wintle', '(385) 555-0100', '(385) 555-0101', 'Tailspin Toys', 'http://www.tailspintoys.com/Scofield', 'Delivery Van', 'Scofield', b'\\xe6\\x10\\x00\\x00\\x01\\x0cR\\xcb{A\\xb0\\xdcC@\\xf8\\xe4\\xbcZI\\xca[\\xc0', '', '', 39.7241289, -111.1607272)\n",
      "(118, 'Tailspin Toys (Vassalboro, ME)', 'Novelty Shop', 'Ileana Aguilar', 'Cai Nguyen', '(207) 555-0100', '(207) 555-0101', 'Tailspin Toys', 'http://www.tailspintoys.com/Vassalboro', 'Delivery Van', 'Vassalboro', b'\\xe6\\x10\\x00\\x00\\x01\\x0c\\xa0Z\\xd8.\\xc8:F@*\\x84\\x1f\\xe6\\\\kQ\\xc0', '', '', 44.4592341, -69.6775451)\n",
      "(119, 'Tailspin Toys (Statenville, GA)', 'Novelty Shop', 'Tjasa Weitzer', 'Shefali Bose', '(229) 555-0100', '(229) 555-0101', 'Tailspin Toys', 'http://www.tailspintoys.com/Statenville', 'Delivery Van', 'Statenville', b'\\xe6\\x10\\x00\\x00\\x01\\x0c\\xf5\\xd6\\xc0V\\t\\xb4>@ZD\\xb9\\xd9\\xc4\\xc1T\\xc0', '', '', 30.7032675, -83.0276398)\n",
      "(120, 'Tailspin Toys (Bratenahl, OH)', 'Novelty Shop', 'Lucas Van Veenen', 'Farzana Saidi', '(216) 555-0100', '(216) 555-0101', 'Tailspin Toys', 'http://www.tailspintoys.com/Bratenahl', 'Delivery Van', 'Bratenahl', b'\\xe6\\x10\\x00\\x00\\x01\\x0c\\x19\\xb8\\xf2Hr\\xc5D@\\xcc`\\x8cH\\x14hT\\xc0', '', '', 41.5425502, -81.626238)\n",
      "(121, 'Tailspin Toys (Elrosa, MN)', 'Novelty Shop', 'Steven Frasier', 'Amaranaath Muppavarapu', '(218) 555-0100', '(218) 555-0101', 'Tailspin Toys', 'http://www.tailspintoys.com/Elrosa', 'Delivery Van', 'Elrosa', b'\\xe6\\x10\\x00\\x00\\x01\\x0c2\\xc7\\x97\\xf5\\x07\\xc8F@\\x85\\xff\\xbe\\x90\\x9f\\xbcW\\xc0', '', '', 45.5627429, -94.9472391)\n",
      "(122, 'Tailspin Toys (McClave, CO)', 'Novelty Shop', 'Mauri Enestam', 'Lakshmi Nair', '(303) 555-0100', '(303) 555-0101', 'Tailspin Toys', 'http://www.tailspintoys.com/McClave', 'Delivery Van', 'McClave', b'\\xe6\\x10\\x00\\x00\\x01\\x0c\\x9f\\xfa\\xac\\xd7\\x99\\x11C@\\x0fa\\xfc4n\\xb6Y\\xc0', '', '', 38.1375074, -102.8504765)\n",
      "(123, 'Tailspin Toys (Roe Park, NY)', 'Novelty Shop', 'Ella Zvirbule', 'Vicente ChÃ¡vez', '(212) 555-0100', '(212) 555-0101', 'Tailspin Toys', 'http://www.tailspintoys.com/RoePark', 'Delivery Van', 'Roe Park', b'\\xe6\\x10\\x00\\x00\\x01\\x0c\\xacd\\x11\\xd4:\\xa7D@f\\xff\\x97\\xc6\\x8axR\\xc0', '', '', 41.3064828, -73.8834702)\n",
      "(124, 'Tailspin Toys (Hanoverton, OH)', 'Novelty Shop', 'Sevim AydÄ±n', 'Tamer Ayhan', '(216) 555-0100', '(216) 555-0101', 'Tailspin Toys', 'http://www.tailspintoys.com/Hanoverton', 'Delivery Van', 'Hanoverton', b'\\xe6\\x10\\x00\\x00\\x01\\x0c\\x93\\xdc\\x06Z&`D@\\x8d\\xd3\\x10U\\xf8;T\\xc0', '', '', 40.7511704, -80.937032)\n",
      "(125, 'Tailspin Toys (Annamoriah, WV)', 'Novelty Shop', 'Blanka Stavinohova', 'Josefa Diaz', '(304) 555-0100', '(304) 555-0101', 'Tailspin Toys', 'http://www.tailspintoys.com/Annamoriah', 'Delivery Van', 'Annamoriah', b'\\xe6\\x10\\x00\\x00\\x01\\x0c\\xf5\\xaa\\x84\\xddfxC@\\x9dL\\xdc*\\x88NT\\xc0', '', '', 38.9406392, -81.227061)\n",
      "(126, 'Tailspin Toys (Francis Mills, NJ)', 'Novelty Shop', 'Akanksha Iyengar', 'Markus Kantee', '(201) 555-0100', '(201) 555-0101', 'Tailspin Toys', 'http://www.tailspintoys.com/FrancisMills', 'Delivery Van', 'Francis Mills', b'\\xe6\\x10\\x00\\x00\\x01\\x0c\\xea\\xabPIB\\x11D@\\xc7\\xf6\\xb5\\x89n\\x99R\\xc0', '', '', 40.1348354, -74.3973717)\n",
      "(127, 'Tailspin Toys (Point Roberts, WA)', 'Novelty Shop', 'Kertu Smirnov', 'Lovro Kulaga', '(206) 555-0100', '(206) 555-0101', 'Tailspin Toys', 'http://www.tailspintoys.com/PointRoberts', 'Delivery Van', 'Point Roberts', b'\\xe6\\x10\\x00\\x00\\x01\\x0c\\xe9\\x06\\xaf\\x02!~H@\\r\\xfc\\xa8\\x86\\xfd\\xc4^\\xc0', '', '', 48.9853824, -123.077974)\n",
      "(128, 'Tailspin Toys (East Portal, CO)', 'Novelty Shop', 'Jure Grabensek', 'Chompunut Jetjirawat', '(303) 555-0100', '(303) 555-0101', 'Tailspin Toys', 'http://www.tailspintoys.com/EastPortal', 'Delivery Van', 'East Portal', b'\\xe6\\x10\\x00\\x00\\x01\\x0c\\xa2\\xe7\\xbb\\x00\\xa0\\xf3C@\\x8d\\xe05\\x9e>iZ\\xc0', '', '', 39.9033204, -105.6444469)\n",
      "(129, 'Tailspin Toys (Mineral Hills, MI)', 'Novelty Shop', 'Javiera Madera', 'Geetanjali Bagchi', '(231) 555-0100', '(231) 555-0101', 'Tailspin Toys', 'http://www.tailspintoys.com/MineralHills', 'Delivery Van', 'Mineral Hills', b'\\xe6\\x10\\x00\\x00\\x01\\x0c\\x83\\xc7\\x121\\x80\\x0eG@\\xab\\xefW\\\\w)V\\xc0', '', '', 46.1132871, -88.6479102)\n",
      "(130, 'Tailspin Toys (Maple Shade, NJ)', 'Novelty Shop', 'Aija Mottola', 'Elli Berg', '(201) 555-0100', '(201) 555-0101', 'Tailspin Toys', 'http://www.tailspintoys.com/MapleShade', 'Delivery Van', 'Maple Shade', b'\\xe6\\x10\\x00\\x00\\x01\\x0c\\x8c \\x846\\xef\\xf9C@\\x04U\\xa3W\\x83\\xbfR\\xc0', '', '', 39.9526127, -74.9923915)\n",
      "(131, 'Tailspin Toys (Kwethluk, AK)', 'Novelty Shop', 'Darshan Gupta', 'Prem Reddy', '(907) 555-0100', '(907) 555-0101', 'Tailspin Toys', 'http://www.tailspintoys.com/Kwethluk', 'Delivery Van', 'Kwethluk', b'\\xe6\\x10\\x00\\x00\\x01\\x0c\\xe7\\n\\xa5\\xe5\\xf6gN@@@\\xadX\\xf2-d\\xc0', '', '', 60.8122222, -161.4358333)\n",
      "(132, 'Tailspin Toys (Minidoka, ID)', 'Novelty Shop', 'Akanksha Sarma', 'Edward Alfred', '(208) 555-0100', '(208) 555-0101', 'Tailspin Toys', 'http://www.tailspintoys.com/Minidoka', 'Delivery Van', 'Minidoka', b'\\xe6\\x10\\x00\\x00\\x01\\x0c\\x97*\\x07i|`E@oR\\x87\\xcb`_\\\\\\xc0', '', '', 42.7537967, -113.4902829)\n",
      "(133, 'Tailspin Toys (Lake Erie Beach, NY)', 'Novelty Shop', 'Aino Kallas', 'Dhaaruni Vinjamuri', '(212) 555-0100', '(212) 555-0101', 'Tailspin Toys', 'http://www.tailspintoys.com/LakeErieBeach', 'Delivery Van', 'Lake Erie Beach', b'\\xe6\\x10\\x00\\x00\\x01\\x0cNi\\xb3\\xa0\\xe6OE@\\xd4\\x98\\x10sI\\xc4S\\xc0', '', '', 42.6242257, -79.066983)\n",
      "(134, 'Tailspin Toys (Tavares, FL)', 'Novelty Shop', 'An Dung Phung', 'Ioana Ibanescu', '(239) 555-0100', '(239) 555-0101', 'Tailspin Toys', 'http://www.tailspintoys.com/Tavares', 'Delivery Van', 'Tavares', b'\\xe6\\x10\\x00\\x00\\x01\\x0c\\xeeQ\\xc9J\\xdd\\xcd<@\\x97;3\\xc1pnT\\xc0', '', '', 28.8041579, -81.725632)\n",
      "(135, 'Tailspin Toys (Terre du Lac, MO)', 'Novelty Shop', 'Gaurav Sikdar', 'Christian Berggren', '(314) 555-0100', '(314) 555-0101', 'Tailspin Toys', 'http://www.tailspintoys.com/TerreduLac', 'Delivery Van', 'Terre du Lac', b\"\\xe6\\x10\\x00\\x00\\x01\\x0c\\xda\\x18\\xe0'\\xb3\\xf4B@\\xe5/\\x88\\xa3\\x06\\xa8V\\xc0\", '', '', 37.9117174, -90.6254052)\n",
      "(136, 'Tailspin Toys (Mount Montgomery, NV)', 'Novelty Shop', 'Anirban Sen', 'Joel Koivisto', '(702) 555-0100', '(702) 555-0101', 'Tailspin Toys', 'http://www.tailspintoys.com/MountMontgomery', 'Delivery Van', 'Mount Montgomery', b'\\xe6\\x10\\x00\\x00\\x01\\x0c\\xeax\\xcc@e\\xfdB@\\x7f\\x98\\xce\\x98\\x93\\x94]\\xc0', '', '', 37.9796525, -118.3215086)\n",
      "(137, 'Tailspin Toys (Carbonville, UT)', 'Novelty Shop', 'Chandrakanta Benjaree', 'Joy Das', '(385) 555-0100', '(385) 555-0101', 'Tailspin Toys', 'http://www.tailspintoys.com/Carbonville', 'Delivery Van', 'Carbonville', b'\\xe6\\x10\\x00\\x00\\x01\\x0cT\\x96\\xd7\\x00[\\xcfC@I\\x0b<\\x9ce\\xb5[\\xc0', '', '', 39.6199647, -110.8343268)\n",
      "(138, 'Tailspin Toys (Navassa, NC)', 'Novelty Shop', 'Badari Chadalavada', 'Zala Ude', '(252) 555-0100', '(252) 555-0101', 'Tailspin Toys', 'http://www.tailspintoys.com/Navassa', 'Delivery Van', 'Navassa', b'\\xe6\\x10\\x00\\x00\\x01\\x0c\\x93l\\x1a\\x80\\xb2 A@\\xc1\\x81\\xda\\xb9z\\x80S\\xc0', '', '', 34.2554474, -78.0074906)\n",
      "(139, 'Tailspin Toys (Hardeeville, SC)', 'Novelty Shop', 'Gabriele Udinesi', 'Murugan Dewangan', '(803) 555-0100', '(803) 555-0101', 'Tailspin Toys', 'http://www.tailspintoys.com/Hardeeville', 'Delivery Van', 'Hardeeville', b'\\xe6\\x10\\x00\\x00\\x01\\x0c\\\\j\\xce\\x0b\\xc1$@@\\x80\\xd8\\xd2\\xa3)ET\\xc0', '', '', 32.2871413, -81.0806665)\n",
      "(140, 'Tailspin Toys (Furley, KS)', 'Novelty Shop', 'Malay PrabhupÄ\\x81da', 'Nghi Ly', '(316) 555-0100', '(316) 555-0101', 'Tailspin Toys', 'http://www.tailspintoys.com/Furley', 'Delivery Van', 'Furley', b'\\xe6\\x10\\x00\\x00\\x01\\x0c%\\xe8/\\xf4\\x88\\xf0B@\\xc7\\xc3\\xd6\\xc7\\x9eMX\\xc0', '', '', 37.8791795, -97.2128162)\n",
      "(141, 'Tailspin Toys (Arrow Rock, MO)', 'Novelty Shop', 'Hedi Koppel', 'Teodors Klavins', '(314) 555-0100', '(314) 555-0101', 'Tailspin Toys', 'http://www.tailspintoys.com/ArrowRock', 'Delivery Van', 'Arrow Rock', b'\\xe6\\x10\\x00\\x00\\x01\\x0c\\xec\\x00\\xe3t\\xed\\x88C@a\\xc1\\xa2\\xc7\\x94<W\\xc0', '', '', 39.0697466, -92.9465808)\n",
      "(142, 'Tailspin Toys (King Cove, AK)', 'Novelty Shop', 'Denisa Ioveanu', 'Cosmin Nutiu', '(907) 555-0100', '(907) 555-0101', 'Tailspin Toys', 'http://www.tailspintoys.com/KingCove', 'Delivery Van', 'King Cove', b'\\xe6\\x10\\x00\\x00\\x01\\x0cJ\\xe0\\xc5\\xb1\\xe4\\x87K@\\x98u\\xb5\\xcb\\xedId\\xc0', '', '', 55.0616667, -162.3102778)\n",
      "(143, 'Tailspin Toys (Ashtabula, OH)', 'Novelty Shop', 'Vaclav Polaskova', 'Georg Valbe', '(216) 555-0100', '(216) 555-0101', 'Tailspin Toys', 'http://www.tailspintoys.com/Ashtabula', 'Delivery Van', 'Ashtabula', b'\\xe6\\x10\\x00\\x00\\x01\\x0c\\x95%\\xdf\\x11\\xba\\xeeD@\\xbe\\xe5\\xa0:\\x8c2T\\xc0', '', '', 41.8650534, -80.7898089)\n",
      "(144, 'Tailspin Toys (Larose, LA)', 'Novelty Shop', 'Pramod Nishad', 'Avani Aggarwal', '(225) 555-0100', '(225) 555-0101', 'Tailspin Toys', 'http://www.tailspintoys.com/Larose', 'Delivery Van', 'Larose', b'\\xe6\\x10\\x00\\x00\\x01\\x0c\\xd6\\xfc\\xf8K\\x8b\\x92=@n\\xf3k\\x90n\\x98V\\xc0', '', '', 29.572438, -90.3817483)\n",
      "(145, 'Tailspin Toys (Manahawkin, NJ)', 'Novelty Shop', 'Prasong Tuntayakul', 'Mariela Pasek', '(201) 555-0100', '(201) 555-0101', 'Tailspin Toys', 'http://www.tailspintoys.com/Manahawkin', 'Delivery Van', 'Manahawkin', b'\\xe6\\x10\\x00\\x00\\x01\\x0cF^\\xd6\\xc4\\x02\\xd9C@\\x1c\\x10|g\\x8f\\x90R\\xc0', '', '', 39.695397, -74.2587527)\n",
      "(146, 'Tailspin Toys (Belgreen, AL)', 'Novelty Shop', 'Aija Zvaigzne', 'Dharanikumaar Sonti', '(205) 555-0100', '(205) 555-0101', 'Tailspin Toys', 'http://www.tailspintoys.com/Belgreen', 'Delivery Van', 'Belgreen', b'\\xe6\\x10\\x00\\x00\\x01\\x0c\\xac\\xc6\\x12\\xd6\\xc6<A@\\xd7}\\x11~s\\xf7U\\xc0', '', '', 34.474818, -87.8664241)\n",
      "(147, 'Tailspin Toys (Fishtail, MT)', 'Novelty Shop', 'Gilbert Pelland', 'Ngoc Cao', '(406) 555-0100', '(406) 555-0101', 'Tailspin Toys', 'http://www.tailspintoys.com/Fishtail', 'Delivery Van', 'Fishtail', b'\\xe6\\x10\\x00\\x00\\x01\\x0c\\x94\\xbc\\xdf\\r\\x0e\\xbaF@\\x110_\\x03G`[\\xc0', '', '', 45.4535539, -109.5043343)\n",
      "(148, 'Tailspin Toys (Baraboo, WI)', 'Novelty Shop', 'Marcella Napolitani', 'Pavol Oravec', '(262) 555-0100', '(262) 555-0101', 'Tailspin Toys', 'http://www.tailspintoys.com/Baraboo', 'Delivery Van', 'Baraboo', b'\\xe6\\x10\\x00\\x00\\x01\\x0c\\x14\\xaa@\\xd2L\\xbcE@\\xe2\\xcduu\\xa2oV\\xc0', '', '', 43.4710944, -89.7442907)\n",
      "(149, 'Tailspin Toys (Inguadona, MN)', 'Novelty Shop', 'Femke Hollenberg', 'Roman Kubat', '(218) 555-0100', '(218) 555-0101', 'Tailspin Toys', 'http://www.tailspintoys.com/Inguadona', 'Delivery Van', 'Inguadona', b'\\xe6\\x10\\x00\\x00\\x01\\x0c\\xcb\\xc3\\x9df\\xdc}G@9\\xd7\\x8b\\xfcU\\x88W\\xc0', '', '', 46.9832886, -94.1302482)\n",
      "(150, 'Tailspin Toys (Corfu, NY)', 'Novelty Shop', 'Brita Jarvi', 'Lucie Hrdlickova', '(212) 555-0100', '(212) 555-0101', 'Tailspin Toys', 'http://www.tailspintoys.com/Corfu', 'Delivery Van', 'Corfu', b'\\xe6\\x10\\x00\\x00\\x01\\x0ch[\\xcd:\\xe3zE@A\\xa1\\xf9\\xf7\\xf4\\x99S\\xc0', '', '', 42.9600595, -78.4055767)\n",
      "(151, 'Tailspin Toys (Antares, AZ)', 'Novelty Shop', 'Donato Araujo', 'Alaine Berthelette', '(480) 555-0100', '(480) 555-0101', 'Tailspin Toys', 'http://www.tailspintoys.com/Antares', 'Delivery Van', 'Antares', b'\\xe6\\x10\\x00\\x00\\x01\\x0c\\x00R\\x9b8\\xb9\\xb5A@c^\\xecb\\xbfs\\\\\\xc0', '', '', 35.419715, -113.8085563)\n",
      "(152, 'Tailspin Toys (Sun River, MT)', 'Novelty Shop', 'Aleksander Jarvi', 'Kurt Konecny', '(406) 555-0100', '(406) 555-0101', 'Tailspin Toys', 'http://www.tailspintoys.com/SunRiver', 'Delivery Van', 'Sun River', b'\\xe6\\x10\\x00\\x00\\x01\\x0c\\r\\xb0E\\xc1B\\xc4G@7\\xb0\\x0b\\xf5*\\xee[\\xc0', '', '', 47.5332872, -111.7213719)\n",
      "(153, 'Tailspin Toys (Marcell, MN)', 'Novelty Shop', 'Malati Shenoy', 'Duong Duong', '(218) 555-0100', '(218) 555-0101', 'Tailspin Toys', 'http://www.tailspintoys.com/Marcell', 'Delivery Van', 'Marcell', b'\\xe6\\x10\\x00\\x00\\x01\\x0c\\xd7\\x04\\x07j\\xe7\\xcbG@\\x9d<va5lW\\xc0', '', '', 47.5929997, -93.6907581)\n",
      "(154, 'Tailspin Toys (Eden Valley, MN)', 'Novelty Shop', 'Gui-Hyun Ji', 'Karl Kangur', '(218) 555-0100', '(218) 555-0101', 'Tailspin Toys', 'http://www.tailspintoys.com/EdenValley', 'Delivery Van', 'Eden Valley', b'\\xe6\\x10\\x00\\x00\\x01\\x0c\\x9f\\xc7(\\xcf\\xbc\\xa9F@\\xa1\\xc6sl\\xf3\\xa2W\\xc0', '', '', 45.3260745, -94.5461074)\n",
      "(155, 'Tailspin Toys (Arbor Vitae, WI)', 'Novelty Shop', 'Michal Polaskova', 'Debendra Chakraborty', '(262) 555-0100', '(262) 555-0101', 'Tailspin Toys', 'http://www.tailspintoys.com/ArborVitae', 'Delivery Van', 'Arbor Vitae', b'\\xe6\\x10\\x00\\x00\\x01\\x0c\\xac\\x9bA2\\xd3\\xf5F@\\xc9\"\\xa8uvjV\\xc0', '', '', 45.9205077, -89.6634802)\n",
      "(156, 'Tailspin Toys (Hollywood Park, TX)', 'Novelty Shop', 'Dilara Ayhan', 'Virgiliu Vladu', '(210) 555-0100', '(210) 555-0101', 'Tailspin Toys', 'http://www.tailspintoys.com/HollywoodPark', 'Delivery Van', 'Hollywood Park', b'\\xe6\\x10\\x00\\x00\\x01\\x0c#\\x98\\x0f\\xad\\xba\\x99=@eS\\xae\\xf0.\\x9fX\\xc0', '', '', 29.6005047, -98.48724)\n",
      "(157, 'Tailspin Toys (Saks, AL)', 'Novelty Shop', 'Peter Macias', 'Nasrin Fard', '(205) 555-0100', '(205) 555-0101', 'Tailspin Toys', 'http://www.tailspintoys.com/Saks', 'Delivery Van', 'Saks', b'\\xe6\\x10\\x00\\x00\\x01\\x0c\\x08\\xe3\\xa7qo\\xd9@@4VQr\\xbduU\\xc0', '', '', 33.6987135, -85.8396879)\n",
      "(158, 'Tailspin Toys (Donner, LA)', 'Novelty Shop', 'Kurt Lukes', 'Daman Devulapalli', '(225) 555-0100', '(225) 555-0101', 'Tailspin Toys', 'http://www.tailspintoys.com/Donner', 'Delivery Van', 'Donner', b'\\xe6\\x10\\x00\\x00\\x01\\x0c\\x156\\xa8\\xa2\\x1d\\xb2=@\\xdf\\x94\\xa8\\xcdn\\xbcV\\xc0', '', '', 29.6957647, -90.9442629)\n",
      "(159, 'Tailspin Toys (Saint Louis Park, MN)', 'Novelty Shop', 'Beatrise Bite', 'Hele Semjonov', '(218) 555-0100', '(218) 555-0101', 'Tailspin Toys', 'http://www.tailspintoys.com/SaintLouisPark', 'Delivery Van', 'Saint Louis Park', b'\\xe6\\x10\\x00\\x00\\x01\\x0c\\xc8\\xaeY\\xd3ayF@\\xd6\\xd5.\\xb7EVW\\xc0', '', '', 44.9482979, -93.3480051)\n",
      "(160, 'Tailspin Toys (Crary, ND)', 'Novelty Shop', 'Bishwanath Ghosh', 'Gasper Jovicevic', '(701) 555-0100', '(701) 555-0101', 'Tailspin Toys', 'http://www.tailspintoys.com/Crary', 'Delivery Van', 'Crary', b'\\xe6\\x10\\x00\\x00\\x01\\x0c\\x03\\xf6\\x87\\x1c\\x11\\tH@6\\xd6\\xb4A\\xdc\\xa8X\\xc0', '', '', 48.0708347, -98.6384434)\n",
      "(161, 'Tailspin Toys (Aspen Park, CO)', 'Novelty Shop', 'Gianguido Lucchesi', 'Harihar Chatterjee', '(303) 555-0100', '(303) 555-0101', 'Tailspin Toys', 'http://www.tailspintoys.com/AspenPark', 'Delivery Van', 'Aspen Park', b'\\xe6\\x10\\x00\\x00\\x01\\x0c\\xc9<\\xf2\\x07\\x03\\xc5C@k\\xe9v\\x9b\\xdcRZ\\xc0', '', '', 39.539155, -105.2947148)\n",
      "(162, 'Tailspin Toys (Glen Park, NY)', 'Novelty Shop', 'Nu Bach', 'Gautama Reddy', '(212) 555-0100', '(212) 555-0101', 'Tailspin Toys', 'http://www.tailspintoys.com/GlenPark', 'Delivery Van', 'Glen Park', b'\\xe6\\x10\\x00\\x00\\x01\\x0c\\xd5\\x9d\\x82W&\\x00F@\\x1a+\\xd6\\x15\\xd8\\xfdR\\xc0', '', '', 44.0011701, -75.9663138)\n",
      "(163, 'Tailspin Toys (Panaca, NV)', 'Novelty Shop', 'Ivonna Ene', 'Girish Banerjee', '(702) 555-0100', '(702) 555-0101', 'Tailspin Toys', 'http://www.tailspintoys.com/Panaca', 'Delivery Van', 'Panaca', b'\\xe6\\x10\\x00\\x00\\x01\\x0c\\xbeje\\xc2/\\xe5B@\\xab\\xfd\\xe7z\\xec\\x98\\\\\\xc0', '', '', 37.79052, -114.3894336)\n",
      "(164, 'Tailspin Toys (Rothsville, PA)', 'Novelty Shop', 'Ceyhun sahin', 'Dhir Bhattacharya', '(215) 555-0100', '(215) 555-0101', 'Tailspin Toys', 'http://www.tailspintoys.com/Rothsville', 'Delivery Van', 'Rothsville', b'\\xe6\\x10\\x00\\x00\\x01\\x0c+\\xbb\\x05\\xb7Z\\x13D@\\x0f\\x8a\\x9ct\\x11\\x10S\\xc0', '', '', 40.1512059, -76.2510654)\n",
      "(165, 'Tailspin Toys (Topstone, CT)', 'Novelty Shop', 'Tian Peng', 'Mariano Costa', '(203) 555-0100', '(203) 555-0101', 'Tailspin Toys', 'http://www.tailspintoys.com/Topstone', 'Delivery Van', 'Topstone', b'\\xe6\\x10\\x00\\x00\\x01\\x0cQ9\\xdc\\xfd\\xe0\\xa5D@\\x0b\\xc36\\x98\\xbc\\\\R\\xc0', '', '', 41.2959287, -73.4490109)\n",
      "(166, 'Tailspin Toys (McCamey, TX)', 'Novelty Shop', 'Vlastimil Bohuslav', 'Beau  Boule', '(210) 555-0100', '(210) 555-0101', 'Tailspin Toys', 'http://www.tailspintoys.com/McCamey', 'Delivery Van', 'McCamey', b'\\xe6\\x10\\x00\\x00\\x01\\x0c\\x19^\\xa4\\xab\\xcf\"?@\\xf5v\\x95\\xffZ\\x8eY\\xc0', '', '', 31.1359813, -102.2243041)\n",
      "(167, 'Tailspin Toys (Rockwall, TX)', 'Novelty Shop', 'Nejc Vosnik', 'Amalendu Veturi', '(210) 555-0100', '(210) 555-0101', 'Tailspin Toys', 'http://www.tailspintoys.com/Rockwall', 'Delivery Van', 'Rockwall', b'\\xe6\\x10\\x00\\x00\\x01\\x0c\\xdaw\\xa0\\xa92w@@\\x87\\xcb\\xe0\\xdek\\x1dX\\xc0', '', '', 32.9312336, -96.4597089)\n",
      "(168, 'Tailspin Toys (Seagraves, TX)', 'Novelty Shop', 'Anindo Mazumdar', 'Tarja Saikkonen', '(210) 555-0100', '(210) 555-0101', 'Tailspin Toys', 'http://www.tailspintoys.com/Seagraves', 'Delivery Van', 'Seagraves', b\"\\xe6\\x10\\x00\\x00\\x01\\x0c\\x89\\xa0\\xc5\\xad\\xddx@@E\\x81>\\x91'\\xa4Y\\xc0\", '', '', 32.9442651, -102.564915)\n",
      "(169, 'Tailspin Toys (Sinclair, WY)', 'Novelty Shop', 'Nils Balodis', 'Bernadette    Potvin', '(307) 555-0100', '(307) 555-0101', 'Tailspin Toys', 'http://www.tailspintoys.com/Sinclair', 'Delivery Van', 'Sinclair', b'\\xe6\\x10\\x00\\x00\\x01\\x0c\\xfe\\xdd\\xf1\\xdc1\\xe3D@\\x16\\x85]\\x14=\\xc7Z\\xc0', '', '', 41.7749592, -107.113103)\n",
      "(170, 'Tailspin Toys (Eastchester, NY)', 'Novelty Shop', 'Daniella Barbosa', 'Nancy Hansson', '(212) 555-0100', '(212) 555-0101', 'Tailspin Toys', 'http://www.tailspintoys.com/Eastchester', 'Delivery Van', 'Eastchester', b'\\xe6\\x10\\x00\\x00\\x01\\x0c`\\x18U+\\xb8qD@\\xffX\\x88\\x0e\\x01uR\\xc0', '', '', 40.8884329, -73.8281895)\n",
      "(171, 'Tailspin Toys (Ortley Beach, NJ)', 'Novelty Shop', 'Raymond Levesque', 'Linda Fisher', '(201) 555-0100', '(201) 555-0101', 'Tailspin Toys', 'http://www.tailspintoys.com/OrtleyBeach', 'Delivery Van', 'Ortley Beach', b'\\xe6\\x10\\x00\\x00\\x01\\x0cpR\\xe2\\x84S\\xfaC@\\xa9\\xbf^a\\xc1\\x84R\\xc0', '', '', 39.9556738, -74.074303)\n",
      "(172, 'Tailspin Toys (Madrone, NM)', 'Novelty Shop', 'Raymond Desforges', 'Stern Neumann', '(505) 555-0100', '(505) 555-0101', 'Tailspin Toys', 'http://www.tailspintoys.com/Madrone', 'Delivery Van', 'Madrone', b'\\xe6\\x10\\x00\\x00\\x01\\x0c\\x9d;\\x0b\\x8c\\x06LA@\\xc93\\xd4\\xcd\\xea\\xaeZ\\xc0', '', '', 34.5939498, -106.7330813)\n",
      "(173, 'Tailspin Toys (Wappingers Falls, NY)', 'Novelty Shop', 'Raju Atluri', 'Cezar Preda', '(212) 555-0100', '(212) 555-0101', 'Tailspin Toys', 'http://www.tailspintoys.com/WappingersFalls', 'Delivery Van', 'Wappingers Falls', b'\\xe6\\x10\\x00\\x00\\x01\\x0cs\\x11\\xdf\\x89Y\\xccD@\\xc7h\\x1dUMzR\\xc0', '', '', 41.5964825, -73.91097)\n",
      "(174, 'Tailspin Toys (Astor Park, FL)', 'Novelty Shop', 'Matyas Bohuslav', 'Ambaajeeraav Ghattamaneni', '(239) 555-0100', '(239) 555-0101', 'Tailspin Toys', 'http://www.tailspintoys.com/AstorPark', 'Delivery Van', 'Astor Park', b\"\\xe6\\x10\\x00\\x00\\x01\\x0c\\xe8t\\x0f\\xbfQ'=@W\\xcfI\\xef\\x9bdT\\xc0\", '', '', 29.1535911, -81.5720175)\n",
      "(175, 'Tailspin Toys (San Acacia, NM)', 'Novelty Shop', 'Julio Correa', 'Hamsapriya Nandamuri', '(505) 555-0100', '(505) 555-0101', 'Tailspin Toys', 'http://www.tailspintoys.com/SanAcacia', 'Delivery Van', 'San Acacia', b'\\xe6\\x10\\x00\\x00\\x01\\x0c\\xe8\\x1a\\xc1!\\xaf A@z)\\x86\\xf5\\x90\\xb9Z\\xc0', '', '', 34.2553446, -106.8994726)\n",
      "(176, 'Tailspin Toys (Malott, WA)', 'Novelty Shop', 'Banshari De', 'Sudhir Yadav', '(206) 555-0100', '(206) 555-0101', 'Tailspin Toys', 'http://www.tailspintoys.com/Malott', 'Delivery Van', 'Malott', b'\\xe6\\x10\\x00\\x00\\x01\\x0c\\x89]\\xdb\\xdb-$H@\\x9alM\\x04;\\xed]\\xc0', '', '', 48.2826495, -119.7067271)\n",
      "(177, 'Tailspin Toys (Orrtanna, PA)', 'Novelty Shop', 'Ngai Lam', 'Camille Hetu', '(215) 555-0100', '(215) 555-0101', 'Tailspin Toys', 'http://www.tailspintoys.com/Orrtanna', 'Delivery Van', 'Orrtanna', b'\\xe6\\x10\\x00\\x00\\x01\\x0c\\x07\\x85\\xf7\\x0b,\\xecC@)\\xd0\\x82\\xab\\x17WS\\xc0', '', '', 39.8450942, -77.3608197)\n",
      "(178, 'Tailspin Toys (Armstrong Creek, WI)', 'Novelty Shop', 'Hyun-Doo Song', 'BahadÄ±r Korkmaz', '(262) 555-0100', '(262) 555-0101', 'Tailspin Toys', 'http://www.tailspintoys.com/ArmstrongCreek', 'Delivery Van', 'Armstrong Creek', b'\\xe6\\x10\\x00\\x00\\x01\\x0c\\xd8T\\xcc\\xf7B\\xd4F@i\\x7f\\xb1\\x08\\x8f\\x1cV\\xc0', '', '', 45.6582937, -88.4462301)\n",
      "(179, 'Tailspin Toys (Hiteman, IA)', 'Novelty Shop', 'Gabriela Srbova', 'Priya kaushal', '(319) 555-0100', '(319) 555-0101', 'Tailspin Toys', 'http://www.tailspintoys.com/Hiteman', 'Delivery Van', 'Hiteman', b'\\xe6\\x10\\x00\\x00\\x01\\x0c\\x07\\xb5\\xdf\\xda\\x89\\x87D@)W\\x1d\\xde\\x189W\\xc0', '', '', 41.0588945, -92.8921428)\n",
      "(180, 'Tailspin Toys (Caselton, NV)', 'Novelty Shop', 'Serkan senturk', 'Fatemeh Javan', '(702) 555-0100', '(702) 555-0101', 'Tailspin Toys', 'http://www.tailspintoys.com/Caselton', 'Delivery Van', 'Caselton', b'\\xe6\\x10\\x00\\x00\\x01\\x0c\"$\\xc1\\n\\xa6\\xf5B@@\\x8d\\xd6\\xac\\x0e\\x9f\\\\\\xc0', '', '', 37.9191297, -114.4852707)\n",
      "(181, 'Tailspin Toys (Heilwood, PA)', 'Novelty Shop', 'Aahlada Thota', 'Marten Keskkula', '(215) 555-0100', '(215) 555-0101', 'Tailspin Toys', 'http://www.tailspintoys.com/Heilwood', 'Delivery Van', 'Heilwood', b'\\xe6\\x10\\x00\\x00\\x01\\x0c!H\\x94\\xacyOD@\\x10y\\xcb\\xd5\\x8f\\xbaS\\xc0', '', '', 40.6209007, -78.915029)\n",
      "(182, 'Tailspin Toys (Hayes Center, NE)', 'Novelty Shop', 'Ayberk sahin', 'Magda Ciora', '(308) 555-0100', '(308) 555-0101', 'Tailspin Toys', 'http://www.tailspintoys.com/HayesCenter', 'Delivery Van', 'Hayes Center', b\"\\xe6\\x10\\x00\\x00\\x01\\x0c\\xd3\\x84\\xed'cAD@\\xc1\\xbc\\x11'AAY\\xc0\", '', '', 40.5108385, -101.0196016)\n",
      "(183, 'Tailspin Toys (Tierra Verde, FL)', 'Novelty Shop', 'Kaan Tekin', 'Harshini Kommineni', '(239) 555-0100', '(239) 555-0101', 'Tailspin Toys', 'http://www.tailspintoys.com/TierraVerde', 'Delivery Van', 'Tierra Verde', b'\\xe6\\x10\\x00\\x00\\x01\\x0c\\xa6\\xa9T?%\\xb1;@\\xc1\\x94\\xdc\\xbcL\\xaeT\\xc0', '', '', 27.6919746, -82.7234337)\n",
      "(184, 'Tailspin Toys (South Euclid, OH)', 'Novelty Shop', 'Lata Khandke', 'Emil Nutiu', '(216) 555-0100', '(216) 555-0101', 'Tailspin Toys', 'http://www.tailspintoys.com/SouthEuclid', 'Delivery Van', 'South Euclid', b'\\xe6\\x10\\x00\\x00\\x01\\x0c\\x00%\\x990\\xf5\\xc2D@\\x06|#_.aT\\xc0', '', '', 41.5231076, -81.5184553)\n",
      "(185, 'Tailspin Toys (Vidrine, LA)', 'Novelty Shop', 'Truman Eder', 'Lale Javan', '(225) 555-0100', '(225) 555-0101', 'Tailspin Toys', 'http://www.tailspintoys.com/Vidrine', 'Delivery Van', 'Vidrine', b'\\xe6\\x10\\x00\\x00\\x01\\x0c\\xb7\\x88\\xde\\x98T\\xb1>@D\\x8bl\\xe7{\\x19W\\xc0', '', '', 30.6926971, -92.3981875)\n",
      "(186, 'Tailspin Toys (Placer, OR)', 'Novelty Shop', 'Lorraine Paulet', 'Yusuf Johansson', '(458) 555-0100', '(458) 555-0101', 'Tailspin Toys', 'http://www.tailspintoys.com/Placer', 'Delivery Van', 'Placer', b'\\xe6\\x10\\x00\\x00\\x01\\x0c<@As\\xe7PE@\\xfa\\x88N\\x85.\\xd4^\\xc0', '', '', 42.6320633, -123.3153394)\n",
      "(187, 'Tailspin Toys (Brown City, MI)', 'Novelty Shop', 'Biplab De', 'Dhanishta Kidambi', '(231) 555-0100', '(231) 555-0101', 'Tailspin Toys', 'http://www.tailspintoys.com/BrownCity', 'Delivery Van', 'Brown City', b'\\xe6\\x10\\x00\\x00\\x01\\x0c\\x97\\xcfM\\xf6*\\x9bE@]\\t\\x93\\x98V\\xbfT\\xc0', '', '', 43.2122486, -82.9896604)\n",
      "(188, 'Tailspin Toys (Premont, TX)', 'Novelty Shop', 'Rachelle Brasseur', 'Bholanath Das', '(210) 555-0100', '(210) 555-0101', 'Tailspin Toys', 'http://www.tailspintoys.com/Premont', 'Delivery Van', 'Premont', b'\\xe6\\x10\\x00\\x00\\x01\\x0cf\\x9c+\\xefO\\\\;@\\xac\\xf2NO\\xe9\\x87X\\xc0', '', '', 27.3605947, -98.1236151)\n",
      "(189, 'Tailspin Toys (Wilkes-Barre, PA)', 'Novelty Shop', 'Sara Charlton', 'Libor safranek', '(215) 555-0100', '(215) 555-0101', 'Tailspin Toys', 'http://www.tailspintoys.com/Wilkes-Barre', 'Delivery Van', 'Wilkes-Barre', b'\\xe6\\x10\\x00\\x00\\x01\\x0c\\xb0\\x8c\\xb2#z\\x9fD@\\r\\x8e\\x92Wg\\xf8R\\xc0', '', '', 41.2459149, -75.8813075)\n",
      "(190, 'Tailspin Toys (Teutopolis, IL)', 'Novelty Shop', 'Ramesh Mukherjee', 'Byung-Hyun Gwak', '(217) 555-0100', '(217) 555-0101', 'Tailspin Toys', 'http://www.tailspintoys.com/Teutopolis', 'Delivery Van', 'Teutopolis', b'\\xe6\\x10\\x00\\x00\\x01\\x0cO\\xda\\nP\\t\\x91C@\\xbb>\\x18\\x1d5\\x1eV\\xc0', '', '', 39.1330967, -88.4719918)\n",
      "(191, 'Tailspin Toys (Orchard Hill, GA)', 'Novelty Shop', 'Ester Ahmadian', 'Kanika Mazumdar', '(229) 555-0100', '(229) 555-0101', 'Tailspin Toys', 'http://www.tailspintoys.com/OrchardHill', 'Delivery Van', 'Orchard Hill', b'\\xe6\\x10\\x00\\x00\\x01\\x0cd|\\xf3v\\xdf\\x97@@b\\xf5G\\x18\\x86\\rU\\xc0', '', '', 33.1865071, -84.2113095)\n",
      "(192, 'Tailspin Toys (Optimo, NM)', 'Novelty Shop', 'Daniel Magnusson', 'Cemal Dogan', '(505) 555-0100', '(505) 555-0101', 'Tailspin Toys', 'http://www.tailspintoys.com/Optimo', 'Delivery Van', 'Optimo', b'\\xe6\\x10\\x00\\x00\\x01\\x0c\\xff\\n\\xf4\\xe4\\xf5\\xf1A@\\x03W\\x1eIn3Z\\xc0', '', '', 35.8903166, -104.8036063)\n",
      "(193, 'Tailspin Toys (Knifley, KY)', 'Novelty Shop', 'Jack Carpenter', 'Am Lieu', '(270) 555-0100', '(270) 555-0101', 'Tailspin Toys', 'http://www.tailspintoys.com/Knifley', 'Delivery Van', 'Knifley', b'\\xe6\\x10\\x00\\x00\\x01\\x0c\\r\\xc0\\xab\\x8a\\x15\\x9fB@\\xde\\x8f\\xdb/\\x1fLU\\xc0', '', '', 37.2428449, -85.1894035)\n",
      "(194, 'Tailspin Toys (Naples Park, FL)', 'Novelty Shop', 'Thomas Fischer', 'Neil Logan', '(239) 555-0100', '(239) 555-0101', 'Tailspin Toys', 'http://www.tailspintoys.com/NaplesPark', 'Delivery Van', 'Naples Park', b'\\xe6\\x10\\x00\\x00\\x01\\x0c\\xe7\\x9dTE\\x02C:@o)\\x8c\\xd2\\xcasT\\xc0', '', '', 26.2617534, -81.8092543)\n",
      "(195, 'Tailspin Toys (Lesslie, SC)', 'Novelty Shop', 'Viollette Monty', 'Gita Dutta', '(803) 555-0100', '(803) 555-0101', 'Tailspin Toys', 'http://www.tailspintoys.com/Lesslie', 'Delivery Van', 'Lesslie', b'\\xe6\\x10\\x00\\x00\\x01\\x0c\\xdb\\xc1\\x88}\\x02rA@O\\x0f\\xc0\\xbc6=T\\xc0', '', '', 34.890701, -80.9564659)\n",
      "(196, 'Tailspin Toys (Howells, NE)', 'Novelty Shop', 'Alinne Cardoso', 'Uma Pandit', '(308) 555-0100', '(308) 555-0101', 'Tailspin Toys', 'http://www.tailspintoys.com/Howells', 'Delivery Van', 'Howells', b'\\xe6\\x10\\x00\\x00\\x01\\x0c\\x1a\\xf4J\\xfe\\xcc\\xdcD@\\x9b\\xdf\\xd5\\x17.@X\\xc0', '', '', 41.7250059, -97.0028133)\n",
      "(197, 'Tailspin Toys (Magalia, CA)', 'Novelty Shop', 'Mani Poddar', 'Rama Mukaddam', '(209) 555-0100', '(209) 555-0101', 'Tailspin Toys', 'http://www.tailspintoys.com/Magalia', 'Delivery Van', 'Magalia', b'\\xe6\\x10\\x00\\x00\\x01\\x0c*\\xf25\\x15\\xf3\\xe7C@^\\xe5\\xbf\\xf6\\x02e^\\xc0', '', '', 39.8121058, -121.5783059)\n",
      "(198, 'Tailspin Toys (Buell, MO)', 'Novelty Shop', 'Deakshitulu Mokkapati', 'Tereza PinÄ\\x8fakova', '(314) 555-0100', '(314) 555-0101', 'Tailspin Toys', 'http://www.tailspintoys.com/Buell', 'Delivery Van', 'Buell', b'\\xe6\\x10\\x00\\x00\\x01\\x0c\\x93\\xe3N\\xe9`\\x84C@\\x948\\x86[\\x19\\xdcV\\xc0', '', '', 39.0342075, -91.4390477)\n",
      "(199, 'Tailspin Toys (Antonito, CO)', 'Novelty Shop', 'Cezar Pavel', 'Bahaar Yekta', '(303) 555-0100', '(303) 555-0101', 'Tailspin Toys', 'http://www.tailspintoys.com/Antonito', 'Delivery Van', 'Antonito', b'\\xe6\\x10\\x00\\x00\\x01\\x0c\\xd7\\xc3\\x97\\x89\"\\x8aB@\\xdb\\xca\\x01q\\x8d\\x80Z\\xc0', '', '', 37.079179, -106.0086329)\n",
      "(200, 'Tailspin Toys (Tooele, UT)', 'Novelty Shop', 'Fanni Benko', 'Amar Dutta', '(385) 555-0100', '(385) 555-0101', 'Tailspin Toys', 'http://www.tailspintoys.com/Tooele', 'Delivery Van', 'Tooele', b'\\xe6\\x10\\x00\\x00\\x01\\x0c\\x85\\xb98\\x85\\xf0CD@BC\\xff\\x04\\x17\\x13\\\\\\xc0', '', '', 40.5307776, -112.29828)\n",
      "(201, 'Tailspin Toys (Skyway, WA)', 'Novelty Shop', 'Brenda Morgan', 'Kamal Nakhtare', '(206) 555-0100', '(206) 555-0101', 'Tailspin Toys', 'http://www.tailspintoys.com/Skyway', 'Delivery Van', 'Skyway', b'\\xe6\\x10\\x00\\x00\\x01\\x0c\\x83.\\x86\\x17\\xe9\\xbeG@wn5FF\\x90^\\xc0', '', '', 47.4914884, -122.2542892)\n",
      "(401, 'Wingtip Toys (Head Office)', 'Novelty Shop', 'Olga Alexandrova', 'Bibi Javan', '(303) 555-0100', '(303) 555-0101', 'Wingtip Toys', 'http://www.wingtiptoys.com', 'Delivery Van', 'Orchard Mesa', b'\\xe6\\x10\\x00\\x00\\x01\\x0c4\\x80\\xb7@\\x82\\x85C@&\\xa5E\"Y#[\\xc0', '', '', 39.0430375, -108.5523153)\n",
      "(402, 'Wingtip Toys (Black Lick, PA)', 'Novelty Shop', 'Maris Baltins', 'Taneli Hahl', '(215) 555-0100', '(215) 555-0101', 'Wingtip Toys', 'http://www.wingtiptoys.com/BlackLick', 'Delivery Van', 'Black Lick', b'\\xe6\\x10\\x00\\x00\\x01\\x0ct\\x8d\\xe0\\x90W=D@\\x9f)*\\xd1\\xc8\\xccS\\xc0', '', '', 40.4792348, -79.1997569)\n",
      "(403, 'Wingtip Toys (Queen Valley, AZ)', 'Novelty Shop', 'Parsa Reuser', 'Da-eun Kwak', '(480) 555-0100', '(480) 555-0101', 'Wingtip Toys', 'http://www.wingtiptoys.com/QueenValley', 'Delivery Van', 'Queen Valley', b'\\xe6\\x10\\x00\\x00\\x01\\x0cY8\\xa4\\xac:\\xa6@@\\xe4WbT\\x88\\xd2[\\xc0', '', '', 33.2986656, -111.2895709)\n",
      "(404, 'Wingtip Toys (Penns Creek, PA)', 'Novelty Shop', 'Duleep Srivastava', 'Kurt Balog', '(215) 555-0100', '(215) 555-0101', 'Wingtip Toys', 'http://www.wingtiptoys.com/PennsCreek', 'Delivery Van', 'Penns Creek', b'\\xe6\\x10\\x00\\x00\\x01\\x0c\\x11:\\xe8\\x12\\x0enD@~^\\xa7G\\x89CS\\xc0', '', '', 40.8598045, -77.0552539)\n",
      "(405, 'Wingtip Toys (Bourbonnais, IL)', 'Novelty Shop', 'Miran Nikolic', 'Indra Mudaliyar', '(217) 555-0100', '(217) 555-0101', 'Wingtip Toys', 'http://www.wingtiptoys.com/Bourbonnais', 'Delivery Van', 'Bourbonnais', b'\\xe6\\x10\\x00\\x00\\x01\\x0c\\xb2/42#\\x92D@5\\x86\\xef\\xb3\\x00\\xf8U\\xc0', '', '', 41.1416991, -87.8750429)\n",
      "(406, 'Wingtip Toys (Tuscaloosa, AL)', 'Novelty Shop', 'Calin Bojin', 'Maxime Westerink', '(205) 555-0100', '(205) 555-0101', 'Wingtip Toys', 'http://www.wingtiptoys.com/Tuscaloosa', 'Delivery Van', 'Tuscaloosa', b'\\xe6\\x10\\x00\\x00\\x01\\x0cT\\xef_\\x0f\\xdc\\x9a@@\\xfe\\x0f\\xb0Vm\\xe4U\\xc0', '', '', 33.2098407, -87.5691735)\n",
      "(407, 'Wingtip Toys (Mooringsport, LA)', 'Novelty Shop', 'Lang Le', 'Bozena Divisova', '(225) 555-0100', '(225) 555-0101', 'Wingtip Toys', 'http://www.wingtiptoys.com/Mooringsport', 'Delivery Van', 'Mooringsport', b'\\xe6\\x10\\x00\\x00\\x01\\x0c\\xec\\xde\\x8a\\xc4\\x04X@@\\xca\\xfd\\x0eE\\x81}W\\xc0', '', '', 32.6876455, -93.961015)\n",
      "(408, 'Wingtip Toys (Rockwall, TX)', 'Novelty Shop', 'Bhaagyalakshmi Muppavarapu', 'Durjoy Bose', '(210) 555-0100', '(210) 555-0101', 'Wingtip Toys', 'http://www.wingtiptoys.com/Rockwall', 'Delivery Van', 'Rockwall', b'\\xe6\\x10\\x00\\x00\\x01\\x0c\\xdaw\\xa0\\xa92w@@\\x87\\xcb\\xe0\\xdek\\x1dX\\xc0', '', '', 32.9312336, -96.4597089)\n",
      "(409, 'Wingtip Toys (Orick, CA)', 'Novelty Shop', 'Dimitry Nechita', 'Meredith Padilla', '(209) 555-0100', '(209) 555-0101', 'Wingtip Toys', 'http://www.wingtiptoys.com/Orick', 'Delivery Van', 'Orick', b'\\xe6\\x10\\x00\\x00\\x01\\x0c\\x9dj\\x88\\x85\\xb5\\xa4D@p\\x80\\xf4\\xa8\\xd3\\x03_\\xc0', '', '', 41.2867896, -124.0597937)\n",
      "(410, 'Wingtip Toys (Bernstein, TX)', 'Novelty Shop', 'Miroslav Kohout', 'Teresa Torres', '(210) 555-0100', '(210) 555-0101', 'Wingtip Toys', 'http://www.wingtiptoys.com/Bernstein', 'Delivery Van', 'Bernstein', b'\\xe6\\x10\\x00\\x00\\x01\\x0c\\xd0[\\xe1\\x02u2B@~\\xd0i\\xcc\\xdaVY\\xc0', '', '', 36.3941959, -101.3571044)\n",
      "(411, 'Wingtip Toys (Edmund, WI)', 'Novelty Shop', 'Fransje Mutlu', 'Karel Hybl', '(262) 555-0100', '(262) 555-0101', 'Wingtip Toys', 'http://www.wingtiptoys.com/Edmund', 'Delivery Van', 'Edmund', b'\\xe6\\x10\\x00\\x00\\x01\\x0c\\x15\\x88C\\xdb\\xd6{E@\\\\\\xe4\\x9e\\xae\\xee\\x90V\\xc0', '', '', 42.9674944, -90.264568)\n",
      "(412, 'Wingtip Toys (Bozeman Hot Springs, MT)', 'Novelty Shop', 'Chati Ornlamai', 'Tajana Lovric', '(406) 555-0100', '(406) 555-0101', 'Wingtip Toys', 'http://www.wingtiptoys.com/BozemanHotSprings', 'Delivery Van', 'Bozeman Hot Springs', b'\\xe6\\x10\\x00\\x00\\x01\\x0c\\xde\\x94\\xd8OD\\xd5F@\\xdeYt\\x18\\xd7\\xcb[\\xc0', '', '', 45.6661472137, -111.185003389)\n",
      "(413, 'Wingtip Toys (Truscott, TX)', 'Novelty Shop', 'Raine Knihtila', 'Dhir Mazumdar', '(210) 555-0100', '(210) 555-0101', 'Wingtip Toys', 'http://www.wingtiptoys.com/Truscott', 'Delivery Van', 'Truscott', b'\\xe6\\x10\\x00\\x00\\x01\\x0c\\x9bn~h\\x8b\\xe0@@/X\\x05\\xc5\\xea\\xf3X\\xc0', '', '', 33.7542544, -99.8112042)\n",
      "(414, 'Wingtip Toys (Rose Tree, PA)', 'Novelty Shop', 'Lan Chu', 'Tereza Prikrylova', '(215) 555-0100', '(215) 555-0101', 'Wingtip Toys', 'http://www.wingtiptoys.com/RoseTree', 'Delivery Van', 'Rose Tree', b'\\xe6\\x10\\x00\\x00\\x01\\x0c\\xa7\\xaf\\xe7k\\x96\\xf7C@\\x93\\xa7Q\\xed\\xf8\\xd8R\\xc0', '', '', 39.934278, -75.3901933)\n",
      "(415, 'Wingtip Toys (Leathersville, GA)', 'Novelty Shop', 'Maurice English', 'Daniella Ribeiro', '(229) 555-0100', '(229) 555-0101', 'Wingtip Toys', 'http://www.wingtiptoys.com/Leathersville', 'Delivery Van', 'Leathersville', b'\\xe6\\x10\\x00\\x00\\x01\\x0cD\\xb8n\\xef\\xbf\\xdb@@\\x87\\xe91\\x80&\\x9cT\\xc0', '', '', 33.7167949, -82.4398499)\n",
      "(416, 'Wingtip Toys (Necedah, WI)', 'Novelty Shop', 'Irene Sepp', 'Hubert Fields', '(262) 555-0100', '(262) 555-0101', 'Wingtip Toys', 'http://www.wingtiptoys.com/Necedah', 'Delivery Van', 'Necedah', b'\\xe6\\x10\\x00\\x00\\x01\\x0c\\xaa\\xd4\\xec\\x81V\\x03F@\\xf9\\xb3i\\xb6\\xbc\\x84V\\xc0', '', '', 44.0260775, -90.0740181)\n",
      "(417, 'Wingtip Toys (Chetek, WI)', 'Novelty Shop', 'Chandranath Bose', 'Gaurav Acharya', '(262) 555-0100', '(262) 555-0101', 'Wingtip Toys', 'http://www.wingtiptoys.com/Chetek', 'Delivery Van', 'Chetek', b'\\xe6\\x10\\x00\\x00\\x01\\x0c\\xf1#\\xc8R5\\xa8F@\\x14\\x0b\\xd7\\xfe\\xa9\\xe9V\\xc0', '', '', 45.3141273, -91.6510007)\n",
      "(418, 'Wingtip Toys (Yaak, MT)', 'Novelty Shop', 'Ana Julijana Isa', 'Libor Klaus', '(406) 555-0100', '(406) 555-0101', 'Wingtip Toys', 'http://www.wingtiptoys.com/Yaak', 'Delivery Van', 'Yaak', b'\\xe6\\x10\\x00\\x00\\x01\\x0c\\xde\\xa3H\\x08\\xa0jH@\\xa1\\xe5/\\xe3\\\\\\xed\\\\\\xc0', '', '', 48.8330088, -115.7087944)\n",
      "(419, 'Wingtip Toys (Compass Lake, FL)', 'Novelty Shop', 'Gireesh Bhogireddy', 'Stanislav Zeman', '(239) 555-0100', '(239) 555-0101', 'Wingtip Toys', 'http://www.wingtiptoys.com/CompassLake', 'Delivery Van', 'Compass Lake', b'\\xe6\\x10\\x00\\x00\\x01\\x0c\\x95\\x0b:\\xc6\\xba\\x97>@}\\x1f\\x0e\\x12\"YU\\xc0', '', '', 30.5926937, -85.3927045)\n",
      "(420, 'Wingtip Toys (Herlong, CA)', 'Novelty Shop', 'Premwadee Atitarn', 'Deeptendu Das', '(209) 555-0100', '(209) 555-0101', 'Wingtip Toys', 'http://www.wingtiptoys.com/Herlong', 'Delivery Van', 'Herlong', b'\\xe6\\x10\\x00\\x00\\x01\\x0c|\\xc1]\\xac^\\x12D@\\x08\\xb6\\x00#\\x9e\\x08^\\xc0', '', '', 40.1435142, -120.1346519)\n",
      "(421, 'Wingtip Toys (Highland Home, AL)', 'Novelty Shop', 'Nishant Patil', 'Bhaagyalakshmi Rajanala', '(205) 555-0100', '(205) 555-0101', 'Wingtip Toys', 'http://www.wingtiptoys.com/HighlandHome', 'Delivery Van', 'Highland Home', b'\\xe6\\x10\\x00\\x00\\x01\\x0c\\x8f\\xc6\\xa1~\\x17\\xf4?@\\xbf\\xac\\x9a1\\x16\\x94U\\xc0', '', '', 31.9534835, -86.3138546)\n",
      "(422, 'Wingtip Toys (Naches, WA)', 'Novelty Shop', 'Rohan Das', 'Bhaanusree Ankitham', '(206) 555-0100', '(206) 555-0101', 'Wingtip Toys', 'http://www.wingtiptoys.com/Naches', 'Delivery Van', 'Naches', b'\\xe6\\x10\\x00\\x00\\x01\\x0c\\xf2_ \\x08\\x90]G@\\xd7\\xc1\\xc1\\xde\\xc4,^\\xc0', '', '', 46.730958, -120.699516)\n",
      "(423, 'Wingtip Toys (Baldwin City, KS)', 'Novelty Shop', 'Aamdaal Kamasamudram', 'Karita Rosberg', '(316) 555-0100', '(316) 555-0101', 'Wingtip Toys', 'http://www.wingtiptoys.com/BaldwinCity', 'Delivery Van', 'Baldwin City', b'\\xe6\\x10\\x00\\x00\\x01\\x0c\\xe6\\x95\\xebm3cC@uq\\xc0S\\xed\\xcbW\\xc0', '', '', 38.775007, -95.1863603)\n",
      "(424, 'Wingtip Toys (Heartwell, NE)', 'Novelty Shop', 'Baebeesarasvati Kamasamudram', 'Hana Palatova', '(308) 555-0100', '(308) 555-0101', 'Wingtip Toys', 'http://www.wingtiptoys.com/Heartwell', 'Delivery Van', 'Heartwell', b'\\xe6\\x10\\x00\\x00\\x01\\x0c=\\x89\\xbeq\\x08ID@\\x8dC\\xfd.l\\xb2X\\xc0', '', '', 40.5705702, -98.787853)\n",
      "(425, 'Wingtip Toys (Bethel Acres, OK)', 'Novelty Shop', 'Marcello Dellucci', 'Shobha Raju', '(405) 555-0100', '(405) 555-0101', 'Wingtip Toys', 'http://www.wingtiptoys.com/BethelAcres', 'Delivery Van', 'Bethel Acres', b'\\xe6\\x10\\x00\\x00\\x01\\x0c[0\\x1a5\\x04\\xa8A@\\x97\\xef\\xf5\\xc2(CX\\xc0', '', '', 35.3126284006, -97.0493628885)\n",
      "(426, 'Wingtip Toys (Willow Valley, AZ)', 'Novelty Shop', 'Mee-Kyong Sin', 'VÄ›ra Kopecka', '(480) 555-0100', '(480) 555-0101', 'Wingtip Toys', 'http://www.wingtiptoys.com/WillowValley', 'Delivery Van', 'Willow Valley', b'\\xe6\\x10\\x00\\x00\\x01\\x0c\\xa0\\x15\\x18\\xb2\\xbatA@\\x82\\xee\\x81\\x0c\\xd3\\xa6\\\\\\xc0', '', '', 34.9119475, -114.6066314)\n",
      "(427, 'Wingtip Toys (Athol Springs, NY)', 'Novelty Shop', 'Ivica LuÄ\\x8dic', 'David Svoboda', '(212) 555-0100', '(212) 555-0101', 'Wingtip Toys', 'http://www.wingtiptoys.com/AtholSprings', 'Delivery Van', 'Athol Springs', b'\\xe6\\x10\\x00\\x00\\x01\\x0c\\x85\\n\\x0e/\\x88bE@Z\\x00\\tys\\xb7S\\xc0', '', '', 42.769781, -78.8664229)\n",
      "(428, 'Wingtip Toys (Paw Paw Lake, MI)', 'Novelty Shop', 'Vinicius Correa', 'Surat Pornpipatpong', '(231) 555-0100', '(231) 555-0101', 'Wingtip Toys', 'http://www.wingtiptoys.com/PawPawLake', 'Delivery Van', 'Paw Paw Lake', b'\\xe6\\x10\\x00\\x00\\x01\\x0c\\x1f\\xe1jS+\\x1bE@\\x00%\\xf4\\xe9g\\x91U\\xc0', '', '', 42.2122597, -86.2719674)\n",
      "(429, 'Wingtip Toys (Lilbourn, MO)', 'Novelty Shop', 'Fabio Pena', 'Kauan Gomes', '(314) 555-0100', '(314) 555-0101', 'Wingtip Toys', 'http://www.wingtiptoys.com/Lilbourn', 'Delivery Van', 'Lilbourn', b'\\xe6\\x10\\x00\\x00\\x01\\x0c\\xe3\\x02+\\xe2\\xcfKB@!\\xf7\\xbe\\x02bgV\\xc0', '', '', 36.5922816, -89.6153571)\n",
      "(430, 'Wingtip Toys (Lost River, ID)', 'Novelty Shop', 'Lakshmi Roy', 'Kersti Mihhailov', '(208) 555-0100', '(208) 555-0101', 'Wingtip Toys', 'http://www.wingtiptoys.com/LostRiver', 'Delivery Van', 'Lost River', b'\\xe6\\x10\\x00\\x00\\x01\\x0c\\xce\\xa5\\xb8\\xaa\\xec\\xd7E@{\\x84\\x9a!Ug\\\\\\xc0', '', '', 43.68691, -113.614571)\n",
      "(431, 'Wingtip Toys (Rosa Sánchez, PR)', 'Novelty Shop', 'Selma Seppanen', 'Danielle  Brasseur', '(787) 555-0100', '(787) 555-0101', 'Wingtip Toys', 'http://www.wingtiptoys.com/RosaSánchez', 'Delivery Van', 'Rosa Sánchez', b'\\xe6\\x10\\x00\\x00\\x01\\x0c\\xcc\\x0b\\xb0\\x8fN\\x0f2@{-\\xe8\\xbd1zP\\xc0', '', '', 18.0597925, -65.909286)\n",
      "(432, 'Wingtip Toys (Vamo, FL)', 'Novelty Shop', 'Bay Ly', 'Sanjiv Raina', '(239) 555-0100', '(239) 555-0101', 'Wingtip Toys', 'http://www.wingtiptoys.com/Vamo', 'Delivery Van', 'Vamo', b'\\xe6\\x10\\x00\\x00\\x01\\x0cL_\\xbe\\xab\\xd48;@*\\xe0C.\\xdd\\x9fT\\xc0', '', '', 27.2219951, -82.4978748)\n",
      "(433, 'Wingtip Toys (Balko, OK)', 'Novelty Shop', 'Adirake Saenamuang', 'Leena De', '(405) 555-0100', '(405) 555-0101', 'Wingtip Toys', 'http://www.wingtiptoys.com/Balko', 'Delivery Van', 'Balko', b'\\xe6\\x10\\x00\\x00\\x01\\x0c,\\th\\x14&QB@O\\xc3\\x94\\xa1Z-Y\\xc0', '', '', 36.6339746006, -100.708656688)\n",
      "(434, 'Wingtip Toys (Lime Lake, NY)', 'Novelty Shop', 'Tarja Penttila', 'Gunnar Larsson', '(212) 555-0100', '(212) 555-0101', 'Wingtip Toys', 'http://www.wingtiptoys.com/LimeLake', 'Delivery Van', 'Lime Lake', b'\\xe6\\x10\\x00\\x00\\x01\\x0c\\xafm\\x9b\\xf3\\x9d7E@\\xaa\\xbf\\xb9\\x1a\\xb4\\x9eS\\xc0', '', '', 42.4345078, -78.4797427)\n",
      "(435, 'Wingtip Toys (Teutopolis, IL)', 'Novelty Shop', 'Devendranath Huq', 'Vicente Cabrera', '(217) 555-0100', '(217) 555-0101', 'Wingtip Toys', 'http://www.wingtiptoys.com/Teutopolis', 'Delivery Van', 'Teutopolis', b'\\xe6\\x10\\x00\\x00\\x01\\x0cO\\xda\\nP\\t\\x91C@\\xbb>\\x18\\x1d5\\x1eV\\xc0', '', '', 39.1330967, -88.4719918)\n",
      "(436, 'Wingtip Toys (Gargatha, VA)', 'Novelty Shop', 'Enes Olsson', 'Milada Kubatova', '(276) 555-0100', '(276) 555-0101', 'Wingtip Toys', 'http://www.wingtiptoys.com/Gargatha', 'Delivery Van', 'Gargatha', b'\\xe6\\x10\\x00\\x00\\x01\\x0c\\x82\\x11E\\x92j\\xe6B@\\xd7b\\x01]E\\xe6R\\xc0', '', '', 37.8001273, -75.5979836)\n",
      "(437, 'Wingtip Toys (Cadogan, PA)', 'Novelty Shop', 'Vanja Grgic', 'Daniela Omelkova', '(215) 555-0100', '(215) 555-0101', 'Wingtip Toys', 'http://www.wingtiptoys.com/Cadogan', 'Delivery Van', 'Cadogan', b'\\xe6\\x10\\x00\\x00\\x01\\x0c\\x0b\\x1b\\xaf\\x8a\\x81`D@\\x99t\\xa5\\xaf1\\xe5S\\xc0', '', '', 40.7539533, -79.5811576)\n",
      "(438, 'Wingtip Toys (Lucasville, OH)', 'Novelty Shop', 'Dayaram Mishra', 'Gal Kokeza', '(216) 555-0100', '(216) 555-0101', 'Wingtip Toys', 'http://www.wingtiptoys.com/Lucasville', 'Delivery Van', 'Lucasville', b'\\xe6\\x10\\x00\\x00\\x01\\x0c%\\x1f\\xbb\\x0b\\x94pC@\\x15\\xf2\\xf7A\\xcc\\xbfT\\xc0', '', '', 38.879518, -82.9968419)\n",
      "(439, 'Wingtip Toys (Cylon, WI)', 'Novelty Shop', 'Mina Omidzadeh', 'Adrian Bengtsson', '(262) 555-0100', '(262) 555-0101', 'Wingtip Toys', 'http://www.wingtiptoys.com/Cylon', 'Delivery Van', 'Cylon', b'\\xe6\\x10\\x00\\x00\\x01\\x0c\\xa0\\xc1\\xa6\\xce\\xa3\\x8fF@\\x1e\\xe0I\\x0b\\x97\\x16W\\xc0', '', '', 45.1221865, -92.352969)\n",
      "(440, 'Wingtip Toys (Asher, OK)', 'Novelty Shop', 'Kadir Usenuly', 'Rajiv Shasthri', '(405) 555-0100', '(405) 555-0101', 'Wingtip Toys', 'http://www.wingtiptoys.com/Asher', 'Delivery Van', 'Asher', b'\\xe6\\x10\\x00\\x00\\x01\\x0c<ND\\x0c*\\x7fA@\\xa0\\xf5\\xbbs\\xa2<X\\xc0', '', '', 34.9934707006, -96.9474152885)\n",
      "(441, 'Wingtip Toys (Keosauqua, IA)', 'Novelty Shop', 'Kajsa Jakobsson', 'Elnaz Rahimi', '(319) 555-0100', '(319) 555-0101', 'Wingtip Toys', 'http://www.wingtiptoys.com/Keosauqua', 'Delivery Van', 'Keosauqua', b'\\xe6\\x10\\x00\\x00\\x01\\x0c \\x8a\\x13\\xa9z]D@\\x95U\\xc7\\xe0\\x97\\xfdV\\xc0', '', '', 40.7303058, -91.9623949)\n",
      "(442, 'Wingtip Toys (Homer City, PA)', 'Novelty Shop', 'Rahul Ghate', 'Chuan Wongsawat', '(215) 555-0100', '(215) 555-0101', 'Wingtip Toys', 'http://www.wingtiptoys.com/HomerCity', 'Delivery Van', 'Homer City', b\"\\xe6\\x10\\x00\\x00\\x01\\x0c\\xcf\\x8fu'\\x8eED@\\xda\\xa3\\x81ib\\xcaS\\xc0\", '', '', 40.5434007, -79.1622566)\n",
      "(443, 'Wingtip Toys (Berville, MI)', 'Novelty Shop', 'Lien Banh', 'Anshula Mitra', '(231) 555-0100', '(231) 555-0101', 'Wingtip Toys', 'http://www.wingtiptoys.com/Berville', 'Delivery Van', 'Berville', b'\\xe6\\x10\\x00\\x00\\x01\\x0c\\x836\\x945EtE@\\xc9\\xf7\\xd6\\xd1\\x82\\xb8T\\xc0', '', '', 42.9083621, -82.8829846)\n",
      "(444, 'Wingtip Toys (Tea, SD)', 'Novelty Shop', 'Divyendu Chakraborty', 'Rita Kauppi', '(605) 555-0100', '(605) 555-0101', 'Wingtip Toys', 'http://www.wingtiptoys.com/Tea', 'Delivery Van', 'Tea', b'\\xe6\\x10\\x00\\x00\\x01\\x0c\\x95\\x02\\x1c\\x8c\"\\xb9E@\\x83n\\x8a\"\\x7f5X\\xc0', '', '', 43.4463668, -96.8358847)\n",
      "(445, 'Wingtip Toys (Dacono, CO)', 'Novelty Shop', 'An Dung Ngo', 'Pranav Yadav', '(303) 555-0100', '(303) 555-0101', 'Wingtip Toys', 'http://www.wingtiptoys.com/Dacono', 'Delivery Van', 'Dacono', b'\\xe6\\x10\\x00\\x00\\x01\\x0c\\\\b\\x1b\\xa7\\xd7\\nD@\\xfcI\\xc6{\\x1f<Z\\xc0', '', '', 40.0847062, -104.9394216)\n",
      "(446, 'Wingtip Toys (Saint Landry, LA)', 'Novelty Shop', 'Chetana Kamath', 'Isabelina Flores', '(225) 555-0100', '(225) 555-0101', 'Wingtip Toys', 'http://www.wingtiptoys.com/SaintLandry', 'Delivery Van', 'Saint Landry', b'\\xe6\\x10\\x00\\x00\\x01\\x0c\\xbc\\x83\\x8e\\x0c(\\xd8>@d\\x1e\\xf9\\x83\\x81\\x10W\\xc0', '', '', 30.8443611, -92.257905)\n",
      "(447, 'Wingtip Toys (Coin, IA)', 'Novelty Shop', 'Premwadee Saowaluk', 'Adam Balaz', '(319) 555-0100', '(319) 555-0101', 'Wingtip Toys', 'http://www.wingtiptoys.com/Coin', 'Delivery Van', 'Coin', b'\\xe6\\x10\\x00\\x00\\x01\\x0c\\xcb[\\xbf\\xaa\\xc4SD@\\x8eE.\\x93\\xbc\\xceW\\xc0', '', '', 40.6544393, -95.2302597)\n",
      "(448, 'Wingtip Toys (Salt Wells, NV)', 'Novelty Shop', 'Jae-Hwa Min', 'Rafael Pena', '(702) 555-0100', '(702) 555-0101', 'Wingtip Toys', 'http://www.wingtiptoys.com/SaltWells', 'Delivery Van', 'Salt Wells', b'\\xe6\\x10\\x00\\x00\\x01\\x0c\\xd3\\xc4\\x96y\\x06\\xb0C@a\\xcb\\x86\\x90N\\xa5]\\xc0', '', '', 39.3751976, -118.5829202)\n",
      "(449, 'Wingtip Toys (Delray, WV)', 'Novelty Shop', 'Catalina Nechita', 'Robert Cosic', '(304) 555-0100', '(304) 555-0101', 'Wingtip Toys', 'http://www.wingtiptoys.com/Delray', 'Delivery Van', 'Delray', b'\\xe6\\x10\\x00\\x00\\x01\\x0c\\x9c\\xbeC\\xf6\\xe6\\x98C@\\xba\\x1b\\xfa\\xdd\\xaa\\xa6S\\xc0', '', '', 39.1945484, -78.6041789)\n",
      "(450, 'Wingtip Toys (Mount Summit, IN)', 'Novelty Shop', 'Constanza Laureano', 'Sunil Nakhtare', '(219) 555-0100', '(219) 555-0101', 'Wingtip Toys', 'http://www.wingtiptoys.com/MountSummit', 'Delivery Van', 'Mount Summit', b\"\\xe6\\x10\\x00\\x00\\x01\\x0c\\x02\\x91\\x8f'\\x93\\x00D@m\\xc0\\x8c\\xce\\x9eXU\\xc0\", '', '', 40.0044908, -85.3846928)\n",
      "(451, 'Wingtip Toys (Smoot, WY)', 'Novelty Shop', 'Aakriti Bhamidipati', 'Sakchai Supitayaporn', '(307) 555-0100', '(307) 555-0101', 'Wingtip Toys', 'http://www.wingtiptoys.com/Smoot', 'Delivery Van', 'Smoot', b'\\xe6\\x10\\x00\\x00\\x01\\x0c\\x8d\\x15\\xeb\\nlOE@\\xe0\\xeb\\xb5\\xea\\x84\\xba[\\xc0', '', '', 42.6204847, -110.9143626)\n",
      "(452, 'Wingtip Toys (Lake Davis, CA)', 'Novelty Shop', 'Himadri PrabhupÄ\\x81da', 'Lukas Kohout', '(209) 555-0100', '(209) 555-0101', 'Wingtip Toys', 'http://www.wingtiptoys.com/LakeDavis', 'Delivery Van', 'Lake Davis', b'\\xe6\\x10\\x00\\x00\\x01\\x0c\\xe56+\\xec\\xb3\\xefC@\\xe7<\\xbe\\x18\\xa5\\x1e^\\xc0', '', '', 39.8726783, -120.4788267)\n",
      "(453, 'Wingtip Toys (Stanardsville, VA)', 'Novelty Shop', 'Bryan Helms', 'Julianna Makay', '(276) 555-0100', '(276) 555-0101', 'Wingtip Toys', 'http://www.wingtiptoys.com/Stanardsville', 'Delivery Van', 'Stanardsville', b'\\xe6\\x10\\x00\\x00\\x01\\x0c\\xa5\\xf3\\x86\\xa0\\x0f&C@\\xa4\\x9aH\\x1f)\\x9cS\\xc0', '', '', 38.2973519, -78.4400099)\n",
      "(454, 'Wingtip Toys (Corcovado, PR)', 'Novelty Shop', 'Harri Kask', 'Rakhshinda Mansouri', '(787) 555-0100', '(787) 555-0101', 'Wingtip Toys', 'http://www.wingtiptoys.com/Corcovado', 'Delivery Van', 'Corcovado', b'\\xe6\\x10\\x00\\x00\\x01\\x0c\\xeb\\xda(\\xfccu2@A\\x94\\xd4\\xae\\xae\\xb1P\\xc0', '', '', 18.4585569, -66.7762868)\n",
      "(455, 'Wingtip Toys (Taft Heights, CA)', 'Novelty Shop', 'Ilse Sandell', 'Tibor Harsanyi', '(209) 555-0100', '(209) 555-0101', 'Wingtip Toys', 'http://www.wingtiptoys.com/TaftHeights', 'Delivery Van', 'Taft Heights', b'\\xe6\\x10\\x00\\x00\\x01\\x0c\\xab\\xcej\\x81=\\x91A@\\xb6\\\\Gf?\\xde]\\xc0', '', '', 35.1346895, -119.4726196)\n",
      "(456, 'Wingtip Toys (West Hempstead, NY)', 'Novelty Shop', 'Subhash Matondkar', 'Gurudas De', '(212) 555-0100', '(212) 555-0101', 'Wingtip Toys', 'http://www.wingtiptoys.com/WestHempstead', 'Delivery Van', 'West Hempstead', b'\\xe6\\x10\\x00\\x00\\x01\\x0c\\xf56\\xec\\xad7ZD@\\x8d*\\xc3\\xb8\\x9biR\\xc0', '', '', 40.7048242, -73.6501295)\n",
      "(457, 'Wingtip Toys (Portales, NM)', 'Novelty Shop', 'Eesvaraavu Ankitham', 'Angelina Karlsson', '(505) 555-0100', '(505) 555-0101', 'Wingtip Toys', 'http://www.wingtiptoys.com/Portales', 'Delivery Van', 'Portales', b'\\xe6\\x10\\x00\\x00\\x01\\x0c\\x99\\xe2`%\\xd5\\x17A@\\xae\\xb6\\x07\\xc6f\\xd5Y\\xc0', '', '', 34.1861922, -103.3343978)\n",
      "(458, 'Wingtip Toys (Coker, AL)', 'Novelty Shop', 'Miguel Paez', 'Anukul Dey', '(205) 555-0100', '(205) 555-0101', 'Wingtip Toys', 'http://www.wingtiptoys.com/Coker', 'Delivery Van', 'Coker', b'\\xe6\\x10\\x00\\x00\\x01\\x0c\\xbb44T{\\x9f@@\\xc8d\\xcc\\xb8\\x04\\xecU\\xc0', '', '', 33.2459512, -87.6877882)\n",
      "(459, 'Wingtip Toys (Haydenville, OH)', 'Novelty Shop', 'Tobias Gruber', 'Jitka Stastna', '(216) 555-0100', '(216) 555-0101', 'Wingtip Toys', 'http://www.wingtiptoys.com/Haydenville', 'Delivery Van', 'Haydenville', b'\\xe6\\x10\\x00\\x00\\x01\\x0c\\x99\\x9f\\x1b\\x9a\\xb2\\xbdC@\\x88S\\x9cY\\x01\\x95T\\xc0', '', '', 39.482013, -82.3282074)\n",
      "(460, 'Wingtip Toys (Mayhill, NM)', 'Novelty Shop', 'Daniela Dumina', 'Fahmidah Fallahi', '(505) 555-0100', '(505) 555-0101', 'Wingtip Toys', 'http://www.wingtiptoys.com/Mayhill', 'Delivery Van', 'Mayhill', b'\\xe6\\x10\\x00\\x00\\x01\\x0c\\xfauL\\x82\\xdcq@@}o\\x1d-\\x98^Z\\xc0', '', '', 32.8895419, -105.4780381)\n",
      "(461, 'Wingtip Toys (Vair, TX)', 'Novelty Shop', 'Ganesh Mukherjee', 'Hector Parra', '(210) 555-0100', '(210) 555-0101', 'Wingtip Toys', 'http://www.wingtiptoys.com/Vair', 'Delivery Van', 'Vair', b'\\xe6\\x10\\x00\\x00\\x01\\x0c\\xb4\\x99\\xf9\\xc4\\xf0G?@\\xd5\\x9c\\x17\\x82w\\xbaW\\xc0', '', '', 31.2810176, -94.9135442)\n",
      "(462, 'Wingtip Toys (Crossroads, NM)', 'Novelty Shop', 'Avanti Nishad', 'Gino Sal', '(505) 555-0100', '(505) 555-0101', 'Wingtip Toys', 'http://www.wingtiptoys.com/Crossroads', 'Delivery Van', 'Crossroads', b'\\xe6\\x10\\x00\\x00\\x01\\x0cC8f\\xd9\\x93\\xc1@@\\xed3\\xc26\\xbd\\xd5Y\\xc0', '', '', 33.5123245, -103.3396737)\n",
      "(463, 'Wingtip Toys (Cowlington, OK)', 'Novelty Shop', 'Daedeepya Thota', 'Lekha Sen', '(405) 555-0100', '(405) 555-0101', 'Wingtip Toys', 'http://www.wingtiptoys.com/Cowlington', 'Delivery Van', 'Cowlington', b'\\xe6\\x10\\x00\\x00\\x01\\x0c\\x8b;8y%\\xa7A@\"\\x9a\\xef\\x12\\x8b\\xb2W\\xc0', '', '', 35.3058311009, -94.7897384014)\n",
      "(464, 'Wingtip Toys (Glen Ullin, ND)', 'Novelty Shop', 'Gabriela Chirila', 'Elina Bite', '(701) 555-0100', '(701) 555-0101', 'Wingtip Toys', 'http://www.wingtiptoys.com/GlenUllin', 'Delivery Van', 'Glen Ullin', b'\\xe6\\x10\\x00\\x00\\x01\\x0c_IM\\x16RhG@\\xf7\\xack\\xb4\\x1cuY\\xc0', '', '', 46.8150051, -101.829877)\n",
      "(465, 'Wingtip Toys (Oologah, OK)', 'Novelty Shop', 'Nagur Atluri', 'Hanita Kamasamudram', '(405) 555-0100', '(405) 555-0101', 'Wingtip Toys', 'http://www.wingtiptoys.com/Oologah', 'Delivery Van', 'Oologah', b'\\xe6\\x10\\x00\\x00\\x01\\x0c\\x87\\x83\\x9c\\xe9\\xb99B@`D\\\\\\xb2\\xda\\xeeW\\xc0', '', '', 36.4509861006, -95.7320981885)\n",
      "(466, 'Wingtip Toys (Lytle, TX)', 'Novelty Shop', 'Sintja Buecek', 'Esha Singh', '(210) 555-0100', '(210) 555-0101', 'Wingtip Toys', 'http://www.wingtiptoys.com/Lytle', 'Delivery Van', 'Lytle', b\"\\xe6\\x10\\x00\\x00\\x01\\x0c`Z\\xd4'\\xb9;=@\\x87\\xe5*q\\xf8\\xb2X\\xc0\", '', '', 29.233294, -98.7964137)\n",
      "(467, 'Wingtip Toys (Mahaffey, PA)', 'Novelty Shop', 'Pongrit Srisati', 'Hanna Piip', '(215) 555-0100', '(215) 555-0101', 'Wingtip Toys', 'http://www.wingtiptoys.com/Mahaffey', 'Delivery Van', 'Mahaffey', b'\\xe6\\x10\\x00\\x00\\x01\\x0cf\\x8d\\xd5A\\xb9oD@8\\xf9-:Y\\xaeS\\xc0', '', '', 40.8728411, -78.724196)\n",
      "(468, 'Wingtip Toys (Sunburg, MN)', 'Novelty Shop', 'Linda Green', 'Baalamurali Kommineni', '(218) 555-0100', '(218) 555-0101', 'Wingtip Toys', 'http://www.wingtiptoys.com/Sunburg', 'Delivery Van', 'Sunburg', b'\\xe6\\x10\\x00\\x00\\x01\\x0c\\xff\\x80b\\xbf\\x82\\xacF@\\xebR\\xc8:A\\xcfW\\xc0', '', '', 45.3477401, -95.2383563)\n",
      "(469, 'Wingtip Toys (Johnetta, KY)', 'Novelty Shop', 'Sarmis Skujins', 'Amporn Jetjirawat', '(270) 555-0100', '(270) 555-0101', 'Wingtip Toys', 'http://www.wingtiptoys.com/Johnetta', 'Delivery Van', 'Johnetta', b'\\xe6\\x10\\x00\\x00\\x01\\x0c\\x0fq\\xbd\\xb73\\xb5B@\\xb2\\xf6w\\xb6G\\x0cU\\xc0', '', '', 37.4156408, -84.191877)\n",
      "(470, 'Wingtip Toys (Universal City, TX)', 'Novelty Shop', 'Libuse Srbova', 'Jimme Harmsen', '(210) 555-0100', '(210) 555-0101', 'Wingtip Toys', 'http://www.wingtiptoys.com/UniversalCity', 'Delivery Van', 'Universal City', b'\\xe6\\x10\\x00\\x00\\x01\\x0c\\xcey|1J\\x8c=@6\\xe6u\\xc4\\xa1\\x92X\\xc0', '', '', 29.5480071, -98.2911235)\n",
      "(471, 'Wingtip Toys (Ridgemark, CA)', 'Novelty Shop', 'Viktorie Stejskalova', 'Bishnu Bandopadhyay', '(209) 555-0100', '(209) 555-0101', 'Wingtip Toys', 'http://www.wingtiptoys.com/Ridgemark', 'Delivery Van', 'Ridgemark', b'\\xe6\\x10\\x00\\x00\\x01\\x0c\\x84\\xb6A\\x92\\xfegB@\\x8f\\xdc?\\xbbhW^\\xc0', '', '', 36.8124564, -121.3657673)\n",
      "(472, 'Wingtip Toys (San Jacinto, CA)', 'Novelty Shop', 'Slavko Pavlovic', 'Malorie Dupuy', '(209) 555-0100', '(209) 555-0101', 'Wingtip Toys', 'http://www.wingtiptoys.com/SanJacinto', 'Delivery Van', 'San Jacinto', b'\\xe6\\x10\\x00\\x00\\x01\\x0c\\xa4\\x87F\\x1cW\\xe4@@Cs\\x9dFZ=]\\xc0', '', '', 33.7839084, -116.958635)\n",
      "(473, 'Wingtip Toys (Floriston, CA)', 'Novelty Shop', 'Doru Munteanu', 'Ankita Mittal', '(209) 555-0100', '(209) 555-0101', 'Wingtip Toys', 'http://www.wingtiptoys.com/Floriston', 'Delivery Van', 'Floriston', b'\\xe6\\x10\\x00\\x00\\x01\\x0c^A\\xe4>\\x83\\xb2C@*\\xc9:\\x1c]\\x01^\\xc0', '', '', 39.3946303, -120.021308)\n",
      "(474, 'Wingtip Toys (Bokeelia, FL)', 'Novelty Shop', 'Aile Aasmae', 'Ezgi Kaya', '(239) 555-0100', '(239) 555-0101', 'Wingtip Toys', 'http://www.wingtiptoys.com/Bokeelia', 'Delivery Van', 'Bokeelia', b'\\xe6\\x10\\x00\\x00\\x01\\x0c\\x0b0\\xe2\\xf1\\xa3\\xb4:@\\xd1\\xca\\xbd\\xc0,\\x8aT\\xc0', '', '', 26.7056266, -82.1589815)\n",
      "(475, 'Wingtip Toys (Cale, AR)', 'Novelty Shop', 'Ava Edden', 'Adirake Narkbunnum', '(479) 555-0100', '(479) 555-0101', 'Wingtip Toys', 'http://www.wingtiptoys.com/Cale', 'Delivery Van', 'Cale', b'\\xe6\\x10\\x00\\x00\\x01\\x0c\\x922\\xf3.(\\xd0@@\\xaf}\\\\vcOW\\xc0', '', '', 33.6262263, -93.2404457)\n",
      "(476, 'Wingtip Toys (Karthaus, PA)', 'Novelty Shop', 'Manali Bose', 'Ji-min Jun', '(215) 555-0100', '(215) 555-0101', 'Wingtip Toys', 'http://www.wingtiptoys.com/Karthaus', 'Delivery Van', 'Karthaus', b'\\xe6\\x10\\x00\\x00\\x01\\x0c\\xe0*\\xf4fy\\x8fD@\\xe0\\x88I\\x13J\\x87S\\xc0', '', '', 41.1208924, -78.1138962)\n",
      "(477, 'Wingtip Toys (Glancy, MS)', 'Novelty Shop', 'Astrid Poisson', 'Timotej stakne', '(228) 555-0100', '(228) 555-0101', 'Wingtip Toys', 'http://www.wingtiptoys.com/Glancy', 'Delivery Van', 'Glancy', b'\\xe6\\x10\\x00\\x00\\x01\\x0cUl\\xcc\\xeb\\x88\\xd1?@e_hd\\xc6\\x9fV\\xc0', '', '', 31.8184955, -90.4964839)\n",
      "(478, 'Wingtip Toys (Stoneboro, PA)', 'Novelty Shop', 'Gi-Suk Heo', 'Roman Tomek', '(215) 555-0100', '(215) 555-0101', 'Wingtip Toys', 'http://www.wingtiptoys.com/Stoneboro', 'Delivery Van', 'Stoneboro', b'\\xe6\\x10\\x00\\x00\\x01\\x0c\\xb1\\x05s\\xaak\\xabD@\\xb3\\x86AO\\xb9\\x06T\\xc0', '', '', 41.3392232, -80.1050604)\n",
      "(479, 'Wingtip Toys (Mier, IN)', 'Novelty Shop', 'Irma Kruze', 'VÄ›ra Stejskalova', '(219) 555-0100', '(219) 555-0101', 'Wingtip Toys', 'http://www.wingtiptoys.com/Mier', 'Delivery Van', 'Mier', b'\\xe6\\x10\\x00\\x00\\x01\\x0c\\x17h\\xd2\\x01\\xa4ID@{%\\xda\\x9f\\xd5tU\\xc0', '', '', 40.5753176, -85.8255386)\n",
      "(480, 'Wingtip Toys (Wapinitia, OR)', 'Novelty Shop', 'Dhaeraemdranaadh Pamulaparthi', 'Victoria Brezeanu', '(458) 555-0100', '(458) 555-0101', 'Wingtip Toys', 'http://www.wingtiptoys.com/Wapinitia', 'Delivery Van', 'Wapinitia', b'\\xe6\\x10\\x00\\x00\\x01\\x0c\\xa2\\xfb(\\xd9\\xa0\\x8eF@; d\\xb4iP^\\xc0', '', '', 45.1142837, -121.2564517)\n",
      "(481, 'Wingtip Toys (White Church, MO)', 'Novelty Shop', 'Agrita Kalnina', 'Burak ozden', '(314) 555-0100', '(314) 555-0101', 'Wingtip Toys', 'http://www.wingtiptoys.com/WhiteChurch', 'Delivery Van', 'White Church', b'\\xe6\\x10\\x00\\x00\\x01\\x0c\\x9eQ\\xa9\\xc8\\xd7lB@\\xc4m~\\rR\\xf2V\\xc0', '', '', 36.8503352, -91.7862581)\n",
      "(482, 'Wingtip Toys (Caton, NY)', 'Novelty Shop', 'Ravindra Sandhu', 'Iulia Nechita', '(212) 555-0100', '(212) 555-0101', 'Wingtip Toys', 'http://www.wingtiptoys.com/Caton', 'Delivery Van', 'Caton', b'\\xe6\\x10\\x00\\x00\\x01\\x0c\\x0b\\x02u\\x141\\x07E@\\x94( \\x92\\xc6AS\\xc0', '', '', 42.0561853, -77.0277448)\n",
      "(483, 'Wingtip Toys (Plum Branch, SC)', 'Novelty Shop', 'Klara Rakus', 'Razeena Rezaei', '(803) 555-0100', '(803) 555-0101', 'Wingtip Toys', 'http://www.wingtiptoys.com/PlumBranch', 'Delivery Van', 'Plum Branch', b'\\xe6\\x10\\x00\\x00\\x01\\x0cYq\\x05o\\xa3\\xec@@\\xc5\\xff\\x1dQ\\xa1\\x90T\\xc0', '', '', 33.8487376, -82.259846)\n",
      "(484, 'Wingtip Toys (Mauldin, SC)', 'Novelty Shop', 'Am Lo', 'Edmee Schol', '(803) 555-0100', '(803) 555-0101', 'Wingtip Toys', 'http://www.wingtiptoys.com/Mauldin', 'Delivery Van', 'Mauldin', b'\\xe6\\x10\\x00\\x00\\x01\\x0c\\x015\\xb5l\\xadcA@\\x91\\xb7\\\\\\xfd\\xd8\\x93T\\xc0', '', '', 34.77873, -82.310119)\n",
      "(485, 'Wingtip Toys (Bonner Springs, KS)', 'Novelty Shop', 'Sophie Van Lier', 'Shiva Nair', '(316) 555-0100', '(316) 555-0101', 'Wingtip Toys', 'http://www.wingtiptoys.com/BonnerSprings', 'Delivery Van', 'Bonner Springs', b'\\xe6\\x10\\x00\\x00\\x01\\x0cF\\\\\\x00\\x1a\\xa5\\x87C@5\\xa3\\xd5\\x7f\\x8c\\xb8W\\xc0', '', '', 39.059726, -94.8835754)\n",
      "(486, 'Wingtip Toys (Lowellville, OH)', 'Novelty Shop', 'Dimitry Profis', 'Manindra Desai', '(216) 555-0100', '(216) 555-0101', 'Wingtip Toys', 'http://www.wingtiptoys.com/Lowellville', 'Delivery Van', 'Lowellville', b'\\xe6\\x10\\x00\\x00\\x01\\x0c\\xf1j\\x14\\xed\\x85\\x84D@\\xa5HcYU\"T\\xc0', '', '', 41.0353371, -80.5364593)\n",
      "(487, 'Wingtip Toys (Elverson, PA)', 'Novelty Shop', 'Jan Zeman', 'Jukka-Pekk Saarijarvi', '(215) 555-0100', '(215) 555-0101', 'Wingtip Toys', 'http://www.wingtiptoys.com/Elverson', 'Delivery Van', 'Elverson', b'\\xe6\\x10\\x00\\x00\\x01\\x0c\\xebW\\x95\\xd8\\x10\\x14D@\\xda\\xc5\\xd9\\x19K\\xf5R\\xc0', '', '', 40.1567641, -75.8327088)\n",
      "(488, 'Wingtip Toys (Isabela, PR)', 'Novelty Shop', 'Ranjit Dikshit', 'Marek Blaho', '(787) 555-0100', '(787) 555-0101', 'Wingtip Toys', 'http://www.wingtiptoys.com/Isabela', 'Delivery Van', 'Isabela', b\"\\xe6\\x10\\x00\\x00\\x01\\x0c'\\x9f\\x1e\\xdb2\\x802@\\n2]\\xe3\\x8e\\xc1P\\xc0\", '', '', 18.500776, -67.0243462)\n",
      "(489, 'Wingtip Toys (Sayner, WI)', 'Novelty Shop', 'Varuna Ganguly', 'Natalia Pokorna', '(262) 555-0100', '(262) 555-0101', 'Wingtip Toys', 'http://www.wingtiptoys.com/Sayner', 'Delivery Van', 'Sayner', b'\\xe6\\x10\\x00\\x00\\x01\\x0c\\xf0\\xa7\\xc6K7\\xfeF@T;\\xc3\\xd4\\x16bV\\xc0', '', '', 45.9860625, -89.5326435)\n",
      "(490, 'Wingtip Toys (Beals, ME)', 'Novelty Shop', 'Basak Tekin', 'Nicole Martinez', '(207) 555-0100', '(207) 555-0101', 'Wingtip Toys', 'http://www.wingtiptoys.com/Beals', 'Delivery Van', 'Beals', b'\\xe6\\x10\\x00\\x00\\x01\\x0c7\\xf7\\xfc\\xd5\\x88BF@*p\\xb2\\r\\\\\\xe7P\\xc0', '', '', 44.5198009, -67.6149935)\n",
      "(491, 'Wingtip Toys (Morton Grove, IL)', 'Novelty Shop', 'Doru Tirlea', 'Hema Jujjavarapu', '(217) 555-0100', '(217) 555-0101', 'Wingtip Toys', 'http://www.wingtiptoys.com/MortonGrove', 'Delivery Van', 'Morton Grove', b'\\xe6\\x10\\x00\\x00\\x01\\x0cc\\x19,\\xe61\\x05E@\\xb4\\xa5X\\x7f\\x15\\xf2U\\xc0', '', '', 42.0405853, -87.7825621)\n",
      "(492, 'Wingtip Toys (Birds, IL)', 'Novelty Shop', 'Jessica Perrine', 'Mukta Sarkar', '(217) 555-0100', '(217) 555-0101', 'Wingtip Toys', 'http://www.wingtiptoys.com/Birds', 'Delivery Van', 'Birds', b'\\xe6\\x10\\x00\\x00\\x01\\x0c\\x89\\xca+|\"kC@\\x81\\n\\xa2I\\xbd\\xeaU\\xc0', '', '', 38.8369899, -87.6678032)\n",
      "(493, 'Wingtip Toys (Federalsburg, MD)', 'Novelty Shop', 'Yavuz Cetinkaya', 'Jaydeb Ganguly', '(240) 555-0100', '(240) 555-0101', 'Wingtip Toys', 'http://www.wingtiptoys.com/Federalsburg', 'Delivery Van', 'Federalsburg', b'\\xe6\\x10\\x00\\x00\\x01\\x0ce\\xdeO2\\xdeXC@#|9\\xfdj\\xf1R\\xc0', '', '', 38.6942809, -75.7721551)\n",
      "(494, 'Wingtip Toys (Pikeview, CO)', 'Novelty Shop', 'Sirirat Kongpaisarn', 'Himani Sanyal', '(303) 555-0100', '(303) 555-0101', 'Wingtip Toys', 'http://www.wingtiptoys.com/Pikeview', 'Delivery Van', 'Pikeview', b\"\\xe6\\x10\\x00\\x00\\x01\\x0c-?p\\x95'uC@\\xde3\\xb7\\xe7\\x9e4Z\\xc0\", '', '', 38.9152705, -104.8221988)\n",
      "(495, 'Wingtip Toys (Boalsburg, PA)', 'Novelty Shop', 'Claude Bonsaint', 'Gopal Thakur', '(215) 555-0100', '(215) 555-0101', 'Wingtip Toys', 'http://www.wingtiptoys.com/Boalsburg', 'Delivery Van', 'Boalsburg', b'\\xe6\\x10\\x00\\x00\\x01\\x0c\\x82\\x16\\xb7vGcD@\\xcb\\x86\\x90N\\xb8rS\\xc0', '', '', 40.7756184, -77.7924992)\n",
      "(496, 'Wingtip Toys (Port Hueneme, CA)', 'Novelty Shop', 'Roman Pajer', 'Floris Veenhuizen', '(209) 555-0100', '(209) 555-0101', 'Wingtip Toys', 'http://www.wingtiptoys.com/PortHueneme', 'Delivery Van', 'Port Hueneme', b'\\xe6\\x10\\x00\\x00\\x01\\x0c;4\\xd1\\x8c\\xea\\x12A@I\\x8d\\xbf\\xa3|\\xcc]\\xc0', '', '', 34.1477829, -119.1951074)\n",
      "(497, 'Wingtip Toys (Verdery, SC)', 'Novelty Shop', 'Vitezslav Holy', 'Paul Valbe', '(803) 555-0100', '(803) 555-0101', 'Wingtip Toys', 'http://www.wingtiptoys.com/Verdery', 'Delivery Van', 'Verdery', b'\\xe6\\x10\\x00\\x00\\x01\\x0c\\xde\\xed\\xd5\"\\xfd\\rA@\\xc4k\\xa8b\\xf4\\x8fT\\xc0', '', '', 34.1092876, -82.2492911)\n",
      "(498, 'Wingtip Toys (Obetz, OH)', 'Novelty Shop', 'Devi Dewangan', 'William Bordelon', '(216) 555-0100', '(216) 555-0101', 'Wingtip Toys', 'http://www.wingtiptoys.com/Obetz', 'Delivery Van', 'Obetz', b'\\xe6\\x10\\x00\\x00\\x01\\x0c\\x8e\\x9d\\xa6\\x85\\x81\\xf0C@\\xaf\\xe7\\x10\\xdd\\xd8\\xbcT\\xc0', '', '', 39.8789527, -82.9507363)\n",
      "(499, 'Wingtip Toys (East Fultonham, OH)', 'Novelty Shop', 'Masa Buecek', 'Nguyet Trang', '(216) 555-0100', '(216) 555-0101', 'Wingtip Toys', 'http://www.wingtiptoys.com/EastFultonham', 'Delivery Van', 'East Fultonham', b\"\\xe6\\x10\\x00\\x00\\x01\\x0c\\x90\\xf0b\\x06\\xcf\\xecC@~Q'E\\xd0\\x87T\\xc0\", '', '', 39.8500679, -82.1220868)\n",
      "(500, 'Wingtip Toys (Obion, TN)', 'Novelty Shop', 'Bipin Modi', 'Dattaatraeya Vangapandu', '(423) 555-0100', '(423) 555-0101', 'Wingtip Toys', 'http://www.wingtiptoys.com/Obion', 'Delivery Van', 'Obion', b'\\xe6\\x10\\x00\\x00\\x01\\x0c@\\xca>~%!B@H\\xbf\"dELV\\xc0', '', '', 36.2589567, -89.1917353)\n",
      "(501, 'Wingtip Toys (Cavendish, VT)', 'Novelty Shop', 'Rahul Sarma', 'Deeba Hemmati', '(802) 555-0100', '(802) 555-0101', 'Wingtip Toys', 'http://www.wingtiptoys.com/Cavendish', 'Delivery Van', 'Cavendish', b'\\xe6\\x10\\x00\\x00\\x01\\x0c\\xa2\\x81\\xb3\\xef\\xe5\\xb0E@\\x16\\x86\\xc8\\xe9\\xeb&R\\xc0', '', '', 43.3820171, -72.608149)\n",
      "(502, 'Wingtip Toys (Miesville, MN)', 'Novelty Shop', 'Alejandro Escobar', 'Milada Hadrabova', '(218) 555-0100', '(218) 555-0101', 'Wingtip Toys', 'http://www.wingtiptoys.com/Miesville', 'Delivery Van', 'Miesville', b'\\xe6\\x10\\x00\\x00\\x01\\x0c\\xb8\\x80\\x86\\xed\\xddLF@\\xea\\xd2\\x1a\\xde\\x074W\\xc0', '', '', 44.6005227, -92.8129802)\n",
      "(503, 'Wingtip Toys (Valhalla, NC)', 'Novelty Shop', 'Andris Vitols', 'Lana Larsson', '(252) 555-0100', '(252) 555-0101', 'Wingtip Toys', 'http://www.wingtiptoys.com/Valhalla', 'Delivery Van', 'Valhalla', b'\\xe6\\x10\\x00\\x00\\x01\\x0cS\\x18\\xa5\\x95\\x8c\\x11B@\\x0b\\x13\\xfc%\\x18*S\\xc0', '', '', 36.1371028, -76.6577239)\n",
      "(504, 'Wingtip Toys (Cape Neddick, ME)', 'Novelty Shop', 'Mariela Weitzer', 'David Lanctot', '(207) 555-0100', '(207) 555-0101', 'Wingtip Toys', 'http://www.wingtiptoys.com/CapeNeddick', 'Delivery Van', 'Cape Neddick', b'\\xe6\\x10\\x00\\x00\\x01\\x0c\\xf7#\\xa0\\x1d\\xcb\\x98E@j\\xe2x\\x99\\xbc\\xa7Q\\xc0', '', '', 43.1936986, -70.6208862)\n",
      "(505, 'Wingtip Toys (Silver Plume, CO)', 'Novelty Shop', 'Alain Pelland', 'Ik-Soo Jo', '(303) 555-0100', '(303) 555-0101', 'Wingtip Toys', 'http://www.wingtiptoys.com/SilverPlume', 'Delivery Van', 'Silver Plume', b'\\xe6\\x10\\x00\\x00\\x01\\x0c\\x8e\\xa6\\xc4\\xbf\\x19\\xd9C@*K\\xbe#tnZ\\xc0', '', '', 39.6960983, -105.7258386)\n",
      "(506, 'Wingtip Toys (North Beach Haven, NJ)', 'Novelty Shop', 'Milica Stojkovic', 'Teemu Yli-Sirnio', '(201) 555-0100', '(201) 555-0101', 'Wingtip Toys', 'http://www.wingtiptoys.com/NorthBeachHaven', 'Delivery Van', 'North Beach Haven', b'\\xe6\\x10\\x00\\x00\\x01\\x0c\\xdc\\xb5)\\xc3]\\xc9C@k\\x84\\xd9_\\xd1\\x8eR\\xc0', '', '', 39.5731739, -74.2315292)\n",
      "(507, 'Wingtip Toys (Downingtown, PA)', 'Novelty Shop', 'Natalie Horackova', 'Francesca Greece', '(215) 555-0100', '(215) 555-0101', 'Wingtip Toys', 'http://www.wingtiptoys.com/Downingtown', 'Delivery Van', 'Downingtown', b'\\xe6\\x10\\x00\\x00\\x01\\x0c\\xdbG\\xb8\\xda\\xd4\\x00D@\\xb7G\\xcaq\\x02\\xedR\\xc0', '', '', 40.0064958, -75.7032742)\n",
      "(508, 'Wingtip Toys (Branson West, MO)', 'Novelty Shop', 'Baalaaditya Rallapalli', 'Antonin Holy', '(314) 555-0100', '(314) 555-0101', 'Wingtip Toys', 'http://www.wingtiptoys.com/BransonWest', 'Delivery Van', 'Branson West', b'\\xe6\\x10\\x00\\x00\\x01\\x0c=\\xcfD}7YB@\\xbe\\xac?x\\xa3WW\\xc0', '', '', 36.6970059, -93.3693524)\n",
      "(509, 'Wingtip Toys (Bergen Park, CO)', 'Novelty Shop', 'Matej Formanek', 'Mary Eder', '(303) 555-0100', '(303) 555-0101', 'Wingtip Toys', 'http://www.wingtiptoys.com/BergenPark', 'Delivery Van', 'Bergen Park', b'\\xe6\\x10\\x00\\x00\\x01\\x0c\\xddZ\\xcb\\t\\x7f\\xd8C@\\xc9Q%o%WZ\\xc0', '', '', 39.6913769, -105.3616598)\n",
      "(510, 'Wingtip Toys (Grabill, IN)', 'Novelty Shop', 'Manish Ghosh', 'Anish Naidu', '(219) 555-0100', '(219) 555-0101', 'Wingtip Toys', 'http://www.wingtiptoys.com/Grabill', 'Delivery Van', 'Grabill', b'\\xe6\\x10\\x00\\x00\\x01\\x0c\\x90d\\xfb5\\xfe\\x9aD@\\xb6\\x88\\x83\\xdf\\xe1=U\\xc0', '', '', 41.2108829, -84.9669112)\n",
      "(511, 'Wingtip Toys (North Manitou, MI)', 'Novelty Shop', 'Pracha Nantakarn', 'Malee Charoenkul', '(231) 555-0100', '(231) 555-0101', 'Wingtip Toys', 'http://www.wingtiptoys.com/NorthManitou', 'Delivery Van', 'North Manitou', b'\\xe6\\x10\\x00\\x00\\x01\\x0c\\xaf2\\t\\xcdd\\x8fF@[\\x9a[!\\xac~U\\xc0', '', '', 45.1202637, -85.979256)\n",
      "(512, 'Wingtip Toys (Philip, SD)', 'Novelty Shop', 'Charline Flamand', 'Dhavala Alladi', '(605) 555-0100', '(605) 555-0101', 'Wingtip Toys', 'http://www.wingtiptoys.com/Philip', 'Delivery Van', 'Philip', b\"\\xe6\\x10\\x00\\x00\\x01\\x0cw\\xf1##\\x0c\\x05F@'(\\x8f\\xb8\\x91jY\\xc0\", '', '', 44.0394329, -101.6651441)\n",
      "(513, 'Wingtip Toys (Straughn, IN)', 'Novelty Shop', 'Teodor Vlad', 'Peeter Keskula', '(219) 555-0100', '(219) 555-0101', 'Wingtip Toys', 'http://www.wingtiptoys.com/Straughn', 'Delivery Van', 'Straughn', b'\\xe6\\x10\\x00\\x00\\x01\\x0c\\x12\\x8bs/\\x8b\\xe7C@\\xc9\\x7f7\\x93\\xa5RU\\xc0', '', '', 39.8089351, -85.2913559)\n",
      "(514, 'Wingtip Toys (Gilford, NH)', 'Novelty Shop', 'Anda Liepa', 'Deakshitulu Paruchuri', '(603) 555-0100', '(603) 555-0101', 'Wingtip Toys', 'http://www.wingtiptoys.com/Gilford', 'Delivery Van', 'Gilford', b'\\xe6\\x10\\x00\\x00\\x01\\x0c\\xeeD\\xa4\\x01\\x17\\xc6E@\\x8b\\xe1\\xea\\x00\\x08\\xdaQ\\xc0', '', '', 43.5475771, -71.4067385)\n",
      "(515, 'Wingtip Toys (Del Valle, TX)', 'Novelty Shop', 'Jelena Utjesenovic', 'Debbie Clark', '(210) 555-0100', '(210) 555-0101', 'Wingtip Toys', 'http://www.wingtiptoys.com/DelValle', 'Delivery Van', 'Del Valle', b'\\xe6\\x10\\x00\\x00\\x01\\x0cM\\x94\\xce\\xd1\\xf45>@`\\x19\\xc0\\x00\\xe7iX\\xc0', '', '', 30.2107669, -97.6547243)\n",
      "(516, 'Wingtip Toys (Harkers Island, NC)', 'Novelty Shop', 'Adriana Horackova', 'Suniti Bhat', '(252) 555-0100', '(252) 555-0101', 'Wingtip Toys', 'http://www.wingtiptoys.com/HarkersIsland', 'Delivery Van', 'Harkers Island', b'\\xe6\\x10\\x00\\x00\\x01\\x0c\\xa9\\xb29\\x18\\xfbXA@\\xbbx\\xe4\\xb4\\xcc#S\\xc0', '', '', 34.6951628, -76.5593693)\n",
      "(517, 'Wingtip Toys (Licking, MO)', 'Novelty Shop', 'Miika Putkonen', 'Jose Williams', '(314) 555-0100', '(314) 555-0101', 'Wingtip Toys', 'http://www.wingtiptoys.com/Licking', 'Delivery Van', 'Licking', b'\\xe6\\x10\\x00\\x00\\x01\\x0c\\x9d]c<\\xef\\xbfB@\\r]?\\xb3\\xda\\xf6V\\xc0', '', '', 37.4994884, -91.8570984)\n",
      "(518, 'Wingtip Toys (Raton, NM)', 'Novelty Shop', 'Padma Iyer', 'Cai Cao', '(505) 555-0100', '(505) 555-0101', 'Wingtip Toys', 'http://www.wingtiptoys.com/Raton', 'Delivery Van', 'Raton', b'\\xe6\\x10\\x00\\x00\\x01\\x0c\\xd1\\t\\xfc<\\xa1sB@\\xc3\\xfb\\x05\\x16\\x1b\\x1cZ\\xc0', '', '', 36.9033581, -104.4391532)\n",
      "(519, 'Wingtip Toys (Boynton, OK)', 'Novelty Shop', 'Åšani Sen', 'Ngu Hoa', '(405) 555-0100', '(405) 555-0101', 'Wingtip Toys', 'http://www.wingtiptoys.com/Boynton', 'Delivery Van', 'Boynton', b'\\xe6\\x10\\x00\\x00\\x01\\x0c\\xed\\xc0\\x07W\\x8a\\xd3A@\\xf8\\xd7b\\x1f\\x83\\xebW\\xc0', '', '', 35.6526593006, -95.6798780885)\n",
      "(520, 'Wingtip Toys (Frenchburg, KY)', 'Novelty Shop', 'Helene Dupuy', 'Antonio Trentini', '(270) 555-0100', '(270) 555-0101', 'Wingtip Toys', 'http://www.wingtiptoys.com/Frenchburg', 'Delivery Van', 'Frenchburg', b'\\xe6\\x10\\x00\\x00\\x01\\x0c\\x1f\\x9f\\x90\\x9d\\xb7\\xf9B@Ah\\x985\\x0c\\xe8T\\xc0', '', '', 37.950916, -83.6257452)\n",
      "(521, 'Wingtip Toys (Robertsdale, AL)', 'Novelty Shop', 'omer ozbek', 'Andrei Bratianu', '(205) 555-0100', '(205) 555-0101', 'Wingtip Toys', 'http://www.wingtiptoys.com/Robertsdale', 'Delivery Van', 'Robertsdale', b'\\xe6\\x10\\x00\\x00\\x01\\x0c*^\\xc0&\\xc6\\x8d>@\\x9e\\xbd\\xe9L\\x90\\xedU\\xc0', '', '', 30.5538048, -87.7119324)\n",
      "(522, 'Wingtip Toys (Dickerson, MD)', 'Novelty Shop', 'Akshayakeerti Jandhyala', 'Tereza Stolinova', '(240) 555-0100', '(240) 555-0101', 'Wingtip Toys', 'http://www.wingtiptoys.com/Dickerson', 'Delivery Van', 'Dickerson', b'\\xe6\\x10\\x00\\x00\\x01\\x0c\\x01\\xdc,^,\\x9cC@\\x05\\xe0\\x9fR%[S\\xc0', '', '', 39.220104, -77.424153)\n",
      "(523, 'Wingtip Toys (Bruceton Mills, WV)', 'Novelty Shop', 'Ankolika Sen', 'Kristophe  Couet', '(304) 555-0100', '(304) 555-0101', 'Wingtip Toys', 'http://www.wingtiptoys.com/BrucetonMills', 'Delivery Van', 'Bruceton Mills', b'\\xe6\\x10\\x00\\x00\\x01\\x0cZ\\x92M\\x03P\\xd4C@y\\xa1o\\xc1\\x08\\xe9S\\xc0', '', '', 39.6586918, -79.6411594)\n",
      "(524, 'Wingtip Toys (Cloquet, MN)', 'Novelty Shop', 'Baalaamani Veturi', 'Gustav Korjus', '(218) 555-0100', '(218) 555-0101', 'Wingtip Toys', 'http://www.wingtiptoys.com/Cloquet', 'Delivery Van', 'Cloquet', b'\\xe6\\x10\\x00\\x00\\x01\\x0c\\xe2\\xba\\x18\\xb9]\\\\G@\\xea\\x8c9\\x19f\\x1dW\\xc0', '', '', 46.7216102, -92.4593566)\n",
      "(525, 'Wingtip Toys (Claycomo, MO)', 'Novelty Shop', 'Julia Konecna', 'Birgit Saar', '(314) 555-0100', '(314) 555-0101', 'Wingtip Toys', 'http://www.wingtiptoys.com/Claycomo', 'Delivery Van', 'Claycomo', b'\\xe6\\x10\\x00\\x00\\x01\\x0c\\xc3+I\\x9e\\xeb\\x99C@Kt\\x96Y\\x84\\x9fW\\xc0', '', '', 39.202503, -94.492453)\n",
      "(526, 'Wingtip Toys (Beekmantown, NY)', 'Novelty Shop', 'Madelaine  Paulet', 'Arundhati Bhowmick', '(212) 555-0100', '(212) 555-0101', 'Wingtip Toys', 'http://www.wingtiptoys.com/Beekmantown', 'Delivery Van', 'Beekmantown', b'\\xe6\\x10\\x00\\x00\\x01\\x0cC*{\\x01\\xacbF@\\x96\\x80\\xf3=~_R\\xc0', '', '', 44.7708742, -73.4920802)\n",
      "(527, 'Wingtip Toys (Islip Terrace, NY)', 'Novelty Shop', 'Mario Jogi', 'Martina Omelkova', '(212) 555-0100', '(212) 555-0101', 'Wingtip Toys', 'http://www.wingtiptoys.com/IslipTerrace', 'Delivery Van', 'Islip Terrace', b'\\xe6\\x10\\x00\\x00\\x01\\x0c\\x8b2\\xc0\\xaa\\x1f_D@\\x05n\\xdd\\xcdSLR\\xc0', '', '', 40.7431539, -73.192615)\n",
      "(528, 'Wingtip Toys (Rich Creek, VA)', 'Novelty Shop', 'Kaya ozbek', 'Lan Klanjcar', '(276) 555-0100', '(276) 555-0101', 'Wingtip Toys', 'http://www.wingtiptoys.com/RichCreek', 'Delivery Van', 'Rich Creek', b'\\xe6\\x10\\x00\\x00\\x01\\x0c\\xb5k\\xe7\\xa0\\xf0\\xb0B@p\\xdb\\xad\\x1b\\xa54T\\xc0', '', '', 37.3823434, -80.8225774)\n",
      "(529, 'Wingtip Toys (Griswoldville, GA)', 'Novelty Shop', 'Seo-yeon Rim', 'Giovanna Araujo', '(229) 555-0100', '(229) 555-0101', 'Wingtip Toys', 'http://www.wingtiptoys.com/Griswoldville', 'Delivery Van', 'Griswoldville', b'\\xe6\\x10\\x00\\x00\\x01\\x0c\\x13kL\\xe3ro@@41\\xb8AH\\xdfT\\xc0', '', '', 32.8706936, -83.4887852)\n",
      "(530, 'Wingtip Toys (East Mountain, TX)', 'Novelty Shop', 'Sitara Benjaree', 'Roberts Sprogis', '(210) 555-0100', '(210) 555-0101', 'Wingtip Toys', 'http://www.wingtiptoys.com/EastMountain', 'Delivery Van', 'East Mountain', b'\\xe6\\x10\\x00\\x00\\x01\\x0cA\\xef\\x8d!\\x00L@@\\xc1\\xbf\\xad`\\xc0\\xb6W\\xc0', '', '', 32.593754, -94.8554918)\n",
      "(531, 'Wingtip Toys (Omer, MI)', 'Novelty Shop', 'Javier Caraballo', 'Coralie Brasseur', '(231) 555-0100', '(231) 555-0101', 'Wingtip Toys', 'http://www.wingtiptoys.com/Omer', 'Delivery Van', 'Omer', b'\\xe6\\x10\\x00\\x00\\x01\\x0c\\xcct\\xf9 \\x15\\x06F@A\\x07\\x02\\t\\xaf\\xf6T\\xc0', '', '', 44.0475198, -83.8544333)\n",
      "(532, 'Wingtip Toys (Waycross, GA)', 'Novelty Shop', 'Akhtar Shahrestaani', 'Priya Joshi', '(229) 555-0100', '(229) 555-0101', 'Wingtip Toys', 'http://www.wingtiptoys.com/Waycross', 'Delivery Van', 'Waycross', b'\\xe6\\x10\\x00\\x00\\x01\\x0c[\\x86\\xeeH\\xab6?@\\xebLF:\\xa8\\x96T\\xc0', '', '', 31.2135511, -82.3540178)\n",
      "(533, 'Wingtip Toys (Nichols Hills, OK)', 'Novelty Shop', 'Vanita Bhowmick', 'Bruna Cavalcante', '(405) 555-0100', '(405) 555-0101', 'Wingtip Toys', 'http://www.wingtiptoys.com/NicholsHills', 'Delivery Van', 'Nichols Hills', b'\\xe6\\x10\\x00\\x00\\x01\\x0c\\x19U\\xf9\\xeb\\x04\\xc7A@\\xc7\\xa7\\xdcQ\\xa7dX\\xc0', '', '', 35.5548377006, -97.5727123885)\n",
      "(534, 'Wingtip Toys (Plaquemine, LA)', 'Novelty Shop', 'Nishant Menon', 'Ratnam Singh', '(225) 555-0100', '(225) 555-0101', 'Wingtip Toys', 'http://www.wingtiptoys.com/Plaquemine', 'Delivery Van', 'Plaquemine', b'\\xe6\\x10\\x00\\x00\\x01\\x0c\\xdcQ\\xf7\\\\\\x01J>@\\x90\\x92\\rZ\\xfe\\xceV\\xc0', '', '', 30.2890833, -91.2342744)\n",
      "(535, 'Wingtip Toys (Triadelphia, WV)', 'Novelty Shop', 'Josef Benda', 'Trishna Benipal', '(304) 555-0100', '(304) 555-0101', 'Wingtip Toys', 'http://www.wingtiptoys.com/Triadelphia', 'Delivery Van', 'Triadelphia', b'\\xe6\\x10\\x00\\x00\\x01\\x0c\\xdc\\xd1\\xa4\\xb9\\xba\\x06D@O\\x7fQ\\xdd7(T\\xc0', '', '', 40.0525734, -80.6284097)\n",
      "(536, 'Wingtip Toys (Ferney, SD)', 'Novelty Shop', 'Teresa Bender', 'Diego Buccho', '(605) 555-0100', '(605) 555-0101', 'Wingtip Toys', 'http://www.wingtiptoys.com/Ferney', 'Delivery Van', 'Ferney', b'\\xe6\\x10\\x00\\x00\\x01\\x0c\\xaeh\\xceUN\\xaaF@\\xb4\\xa9_\\x8eC\\x86X\\xc0', '', '', 45.3305156, -98.0978733)\n",
      "(537, 'Wingtip Toys (Akhiok, AK)', 'Novelty Shop', 'Deepesh Bose', 'Ambareesh Madhunapantula', '(907) 555-0100', '(907) 555-0101', 'Wingtip Toys', 'http://www.wingtiptoys.com/Akhiok', 'Delivery Van', 'Akhiok', b'\\xe6\\x10\\x00\\x00\\x01\\x0c[FE\\xf7\\x07yL@\\x84\\xc7m\\xearEc\\xc0', '', '', 56.9455556, -154.1702778)\n",
      "(538, 'Wingtip Toys (Deeson, MS)', 'Novelty Shop', 'Madhavi Gupta', 'Indu Chowdary', '(228) 555-0100', '(228) 555-0101', 'Wingtip Toys', 'http://www.wingtiptoys.com/Deeson', 'Delivery Van', 'Deeson', b'\\xe6\\x10\\x00\\x00\\x01\\x0cRy\\xe0\\x08\\xf7\\x02A@p\\xf4\\x8c\\xd8\\x02\\xb7V\\xc0', '', '', 34.0231639, -90.8595487)\n",
      "(539, 'Wingtip Toys (Nuangola, PA)', 'Novelty Shop', 'Bich Banh', 'Lennart Kask', '(215) 555-0100', '(215) 555-0101', 'Wingtip Toys', 'http://www.wingtiptoys.com/Nuangola', 'Delivery Van', 'Nuangola', b'\\xe6\\x10\\x00\\x00\\x01\\x0cI\\xd7L\\xbe\\xd9\\x93D@i\\xc7\\r\\xbf\\x9b\\xfeR\\xc0', '', '', 41.1550825, -75.978256)\n",
      "(540, 'Wingtip Toys (Weld, ME)', 'Novelty Shop', 'Åšani Nair', 'Cuc Tu', '(207) 555-0100', '(207) 555-0101', 'Wingtip Toys', 'http://www.wingtiptoys.com/Weld', 'Delivery Van', 'Weld', b'\\xe6\\x10\\x00\\x00\\x01\\x0c3\\x96\\x9f\\nnYF@\\x8c\\xd0t\\x1b\\xf9\\x9aQ\\xc0', '', '', 44.6986707, -70.4214543)\n",
      "(541, 'Wingtip Toys (Mickleton, NJ)', 'Novelty Shop', 'Angelina Gormanston', 'Prasanna Shetty', '(201) 555-0100', '(201) 555-0101', 'Wingtip Toys', 'http://www.wingtiptoys.com/Mickleton', 'Delivery Van', 'Mickleton', b'\\xe6\\x10\\x00\\x00\\x01\\x0c\\xd1\\x90\\x96o\"\\xe5C@Uso46\\xcfR\\xc0', '', '', 39.7901134, -75.2376834)\n",
      "(542, 'Wingtip Toys (Schererville, IN)', 'Novelty Shop', 'Prasert Supitayaporn', 'Gulzar Parkar', '(219) 555-0100', '(219) 555-0101', 'Wingtip Toys', 'http://www.wingtiptoys.com/Schererville', 'Delivery Van', 'Schererville', b'\\xe6\\x10\\x00\\x00\\x01\\x0c\\xfc\\x1f\\xbbfM\\xbdD@\\xcf\\xc0\\xc8\\xcb\\x1a\\xddU\\xc0', '', '', 41.4789246, -87.4547605)\n",
      "(543, 'Wingtip Toys (Lexington Heights, MI)', 'Novelty Shop', 'Abhaya Rambhatla', 'Naveed Alizadeh', '(231) 555-0100', '(231) 555-0101', 'Wingtip Toys', 'http://www.wingtiptoys.com/LexingtonHeights', 'Delivery Van', 'Lexington Heights', b'\\xe6\\x10\\x00\\x00\\x01\\x0c2\\x1ct\\xae\\xcd\\x9cE@\\xf6>\\xfa\\xcb\\x93\\xa1T\\xc0', '', '', 43.2250269, -82.5246458)\n",
      "(544, 'Wingtip Toys (Broomtown, AL)', 'Novelty Shop', 'Lalit Ogra', 'Badanika Vankayala', '(205) 555-0100', '(205) 555-0101', 'Wingtip Toys', 'http://www.wingtiptoys.com/Broomtown', 'Delivery Van', 'Broomtown', b'\\xe6\\x10\\x00\\x00\\x01\\x0cbz\\x0c\\xa0).A@9\\xac\\xbaXbaU\\xc0', '', '', 34.3606453, -85.5216276)\n",
      "(545, 'Wingtip Toys (Jamison, IA)', 'Novelty Shop', 'Mina Bagheri', 'Lien Lo', '(319) 555-0100', '(319) 555-0101', 'Wingtip Toys', 'http://www.wingtiptoys.com/Jamison', 'Delivery Van', 'Jamison', b'\\xe6\\x10\\x00\\x00\\x01\\x0c\\xfc\\xd3W\\xa1\\x92\\x8fD@C\\xc11penW\\xc0', '', '', 41.1216623, -93.7249413)\n",
      "(546, 'Wingtip Toys (Key Biscayne, FL)', 'Novelty Shop', 'Debraj Sanyal', 'Tara KlanCisar', '(239) 555-0100', '(239) 555-0101', 'Wingtip Toys', 'http://www.wingtiptoys.com/KeyBiscayne', 'Delivery Van', 'Key Biscayne', b'\\xe6\\x10\\x00\\x00\\x01\\x0c_\\xcf\\xd7,\\x97\\xb19@\\x93\\xbe\\xb5\\xb8k\\nT\\xc0', '', '', 25.693713, -80.1628248)\n",
      "(547, 'Wingtip Toys (Chaseley, ND)', 'Novelty Shop', 'Marco Costa', 'Alessandra Gallo', '(701) 555-0100', '(701) 555-0101', 'Wingtip Toys', 'http://www.wingtiptoys.com/Chaseley', 'Delivery Van', 'Chaseley', b'\\xe6\\x10\\x00\\x00\\x01\\x0c\\xa7V\\x04\\xa4\\xa2\\xb9G@\\xa8\\xf1\\x1c\\xdb|\\xf4X\\xc0', '', '', 47.4502759, -99.8201206)\n",
      "(548, 'Wingtip Toys (Indian Creek, IL)', 'Novelty Shop', 'Crina Nechita', 'Yi Min Zhong', '(217) 555-0100', '(217) 555-0101', 'Wingtip Toys', 'http://www.wingtiptoys.com/IndianCreek', 'Delivery Van', 'Indian Creek', b'\\xe6\\x10\\x00\\x00\\x01\\x0c\\xdb\\x9c\\xefL\\r\\x1dE@n.\\xa3\\xfd\\xb4\\xfeU\\xc0', '', '', 42.2269684, -87.9797968)\n",
      "(549, 'Wingtip Toys (Lake Ronkonkoma, NY)', 'Novelty Shop', 'Zala Ibrahimagic', 'Wander Ellenbroek', '(212) 555-0100', '(212) 555-0101', 'Wingtip Toys', 'http://www.wingtiptoys.com/LakeRonkonkoma', 'Delivery Van', 'Lake Ronkonkoma', b'\\xe6\\x10\\x00\\x00\\x01\\x0c\\xfc\\xb8G\\x80\\xe4jD@\\x96`\\xcc\\xf1eHR\\xc0', '', '', 40.8350983, -73.1312222)\n",
      "(550, 'Wingtip Toys (Morrison Bluff, AR)', 'Novelty Shop', 'Gundega Kundzina', 'Damyanti Byrraju', '(479) 555-0100', '(479) 555-0101', 'Wingtip Toys', 'http://www.wingtiptoys.com/MorrisonBluff', 'Delivery Van', 'Morrison Bluff', b'\\xe6\\x10\\x00\\x00\\x01\\x0c\\x0b*\\xaa~\\xa5\\xb1A@\\xa0\\x91cF\\xd3aW\\xc0', '', '', 35.387863, -93.5285202)\n",
      "(551, 'Wingtip Toys (Huntingburg, IN)', 'Novelty Shop', 'Parveen Haldar', 'Chau Chu', '(219) 555-0100', '(219) 555-0101', 'Wingtip Toys', 'http://www.wingtiptoys.com/Huntingburg', 'Delivery Van', 'Huntingburg', b'\\xe6\\x10\\x00\\x00\\x01\\x0cx2\\xee\\xbcC&C@aq\\x93\\xac\\x1e\\xbdU\\xc0', '', '', 38.2989422, -86.9549972)\n",
      "(552, 'Wingtip Toys (Shay, PA)', 'Novelty Shop', 'Noel Cartier', 'Aet Kasesalu', '(215) 555-0100', '(215) 555-0101', 'Wingtip Toys', 'http://www.wingtiptoys.com/Shay', 'Delivery Van', 'Shay', b'\\xe6\\x10\\x00\\x00\\x01\\x0c\\x01D\\x0b\\x1aD^D@\\x8d\\x16V\\xe0\\x1a\\xddS\\xc0', '', '', 40.7364533, -79.4547654)\n",
      "(553, 'Wingtip Toys (Helotes, TX)', 'Novelty Shop', 'Ilgonis Dzenis', 'Emine Gungor', '(210) 555-0100', '(210) 555-0101', 'Wingtip Toys', 'http://www.wingtiptoys.com/Helotes', 'Delivery Van', 'Helotes', b'\\xe6\\x10\\x00\\x00\\x01\\x0c\\xa5\\xe7\\xcc,\\xf8\\x93=@\\xe1\\xc4\\xa1\\xc8$\\xacX\\xc0', '', '', 29.5780056, -98.6897451)\n",
      "(554, 'Wingtip Toys (Hollandsburg, IN)', 'Novelty Shop', 'Ondrej Tomek', 'Ngon Ta', '(219) 555-0100', '(219) 555-0101', 'Wingtip Toys', 'http://www.wingtiptoys.com/Hollandsburg', 'Delivery Van', 'Hollandsburg', b'\\xe6\\x10\\x00\\x00\\x01\\x0c#\\xbb\\xd22R\\xe1C@%\\xc9s}\\x9f\\xc4U\\xc0', '', '', 39.760321, -87.0722345)\n",
      "(555, 'Wingtip Toys (Liberty Grove, MD)', 'Novelty Shop', 'Mohini Kaul', 'Alejandro Baeza', '(240) 555-0100', '(240) 555-0101', 'Wingtip Toys', 'http://www.wingtiptoys.com/LibertyGrove', 'Delivery Van', 'Liberty Grove', b'\\xe6\\x10\\x00\\x00\\x01\\x0c\\xa6\\x07\\xaa\\xeb\\xf5\\xd3C@\\xa1\\xe7`G\\xad\\x07S\\xc0', '', '', 39.6559424, -76.1199511)\n",
      "(556, 'Wingtip Toys (Morita, TX)', 'Novelty Shop', 'Arnab Malakar', 'Anupam Majumdar', '(210) 555-0100', '(210) 555-0101', 'Wingtip Toys', 'http://www.wingtiptoys.com/Morita', 'Delivery Van', 'Morita', b'\\xe6\\x10\\x00\\x00\\x01\\x0c\\xa2\\xb9\\xa9\\xdc\\x9f\\x17@@\\x9fMX,\\x8fhY\\xc0', '', '', 32.1845661, -101.6337386)\n",
      "(557, 'Wingtip Toys (New Laguna, NM)', 'Novelty Shop', 'Mary Barney', 'Amit Ghatak', '(505) 555-0100', '(505) 555-0101', 'Wingtip Toys', 'http://www.wingtiptoys.com/NewLaguna', 'Delivery Van', 'New Laguna', b'\\xe6\\x10\\x00\\x00\\x01\\x0c\\x8e\\xd5\\x9cr;\\x85A@j\\xad\\x1e\\xe6\\x01\\xdbZ\\xc0', '', '', 35.0408767, -107.4219909)\n",
      "(558, 'Wingtip Toys (Bourneville, OH)', 'Novelty Shop', 'Dhaeraemdranaadh Allu', 'Abel Pirvu', '(216) 555-0100', '(216) 555-0101', 'Wingtip Toys', 'http://www.wingtiptoys.com/Bourneville', 'Delivery Van', 'Bourneville', b'\\xe6\\x10\\x00\\x00\\x01\\x0c\\x11\\x15O\\xe2\\x18\\xa4C@n\\x19\\xcbO\\x05\\xcaT\\xc0', '', '', 39.2820094, -83.1565742)\n",
      "(559, 'Wingtip Toys (Mendoza, TX)', 'Novelty Shop', 'Paola Greece', 'Izabella Baltina', '(210) 555-0100', '(210) 555-0101', 'Wingtip Toys', 'http://www.wingtiptoys.com/Mendoza', 'Delivery Van', 'Mendoza', b'\\xe6\\x10\\x00\\x00\\x01\\x0c7qr\\xbfC\\x01>@\\xca9\\x0cA\\xe9kX\\xc0', '', '', 30.00494, -97.6861117)\n",
      "(560, 'Wingtip Toys (Palmas del Mar, PR)', 'Novelty Shop', 'Flora Olofsson', 'Vitezslav Drdla', '(787) 555-0100', '(787) 555-0101', 'Wingtip Toys', 'http://www.wingtiptoys.com/PalmasdelMar', 'Delivery Van', 'Palmas del Mar', b'\\xe6\\x10\\x00\\x00\\x01\\x0c.A\\xa1\\xf9\\xf7\\x142@\\xfdL\\xbdn\\x11sP\\xc0', '', '', 18.0819088, -65.797939)\n",
      "(561, 'Wingtip Toys (Marion Junction, AL)', 'Novelty Shop', 'Nguyet Bach', 'Ratnam Sidhu', '(205) 555-0100', '(205) 555-0101', 'Wingtip Toys', 'http://www.wingtiptoys.com/MarionJunction', 'Delivery Van', 'Marion Junction', b'\\xe6\\x10\\x00\\x00\\x01\\x0cnR\\xd1X\\xfb7@@\\x9f\\x82\\xb2\\xdfI\\xcfU\\xc0', '', '', 32.437358, -87.2388839)\n",
      "(562, 'Wingtip Toys (Ware Shoals, SC)', 'Novelty Shop', 'Jyoti Karnik', 'Dattu Gummadi', '(803) 555-0100', '(803) 555-0101', 'Wingtip Toys', 'http://www.wingtiptoys.com/WareShoals', 'Delivery Van', 'Ware Shoals', b'\\xe6\\x10\\x00\\x00\\x01\\x0c\\x12\\xc7\\x15r\\x003A@\\x8c(\\x92T\\xcb\\x8fT\\xc0', '', '', 34.3984511, -82.2467853)\n",
      "(563, 'Wingtip Toys (Lostine, OR)', 'Novelty Shop', 'Samuel Almaraz', 'Filip Bunderla', '(458) 555-0100', '(458) 555-0101', 'Wingtip Toys', 'http://www.wingtiptoys.com/Lostine', 'Delivery Van', 'Lostine', b'\\xe6\\x10\\x00\\x00\\x01\\x0c\\xf2\\x89+\\x1db\\xbeF@\\x8fa_\\xfc~[]\\xc0', '', '', 45.4873692, -117.4296256)\n",
      "(564, 'Wingtip Toys (Tilleda, WI)', 'Novelty Shop', 'Zuzana Kuchtova', 'Elias Niemi', '(262) 555-0100', '(262) 555-0101', 'Wingtip Toys', 'http://www.wingtiptoys.com/Tilleda', 'Delivery Van', 'Tilleda', b'\\xe6\\x10\\x00\\x00\\x01\\x0c\\xf7,\\xbeWchF@\\x1e\\xa2vdQ:V\\xc0', '', '', 44.8155317, -88.9112178)\n",
      "(565, 'Wingtip Toys (Wapiti, WY)', 'Novelty Shop', 'Mark Ruutel', 'Carla Osorio', '(307) 555-0100', '(307) 555-0101', 'Wingtip Toys', 'http://www.wingtiptoys.com/Wapiti', 'Delivery Van', 'Wapiti', b'\\xe6\\x10\\x00\\x00\\x01\\x0c\\xb0\\x19\\x85\\xc9\\xf9;F@\\xe1\\x0b\\x93\\xa9\\x02\\\\[\\xc0', '', '', 44.4685604, -109.4376625)\n",
      "(566, 'Wingtip Toys (Amado, AZ)', 'Novelty Shop', 'Corneliu Vladu', 'Ivo Valek', '(480) 555-0100', '(480) 555-0101', 'Wingtip Toys', 'http://www.wingtiptoys.com/Amado', 'Delivery Van', 'Amado', b'\\xe6\\x10\\x00\\x00\\x01\\x0c\\xf6\\xf4l\\xb16\\xb5?@\\xbf\\xfa.[!\\xc4[\\xc0', '', '', 31.7078658, -111.0645359)\n",
      "(567, 'Wingtip Toys (Jeromesville, OH)', 'Novelty Shop', 'Severins Polis', 'Chandran Bhattacharya', '(216) 555-0100', '(216) 555-0101', 'Wingtip Toys', 'http://www.wingtiptoys.com/Jeromesville', 'Delivery Van', 'Jeromesville', b'\\xe6\\x10\\x00\\x00\\x01\\x0c\\xae\\x94\\n\\xcf\\xf0fD@\\xd3\\xdb\\x9f\\x8b\\x86\\x8cT\\xc0', '', '', 40.8042239, -82.195712)\n",
      "(568, 'Wingtip Toys (Ovilla, TX)', 'Novelty Shop', 'Linda Ledezma', 'Zbynek Vacha', '(210) 555-0100', '(210) 555-0101', 'Wingtip Toys', 'http://www.wingtiptoys.com/Ovilla', 'Delivery Van', 'Ovilla', b'\\xe6\\x10\\x00\\x00\\x01\\x0c\\x85=\\x927eC@@\\x83\\xa0H\\x9c\\xba8X\\xc0', '', '', 32.5265264, -96.8863898)\n",
      "(569, 'Wingtip Toys (West Frostproof, FL)', 'Novelty Shop', 'Halit Gunes', 'Indu Nambiar', '(239) 555-0100', '(239) 555-0101', 'Wingtip Toys', 'http://www.wingtiptoys.com/WestFrostproof', 'Delivery Van', 'West Frostproof', b'\\xe6\\x10\\x00\\x00\\x01\\x0c6\\x01\\x86\\xe5\\xcf\\xbb;@\\x9a\\xee\\xd0\\x0bReT\\xc0', '', '', 27.733641, -81.5831327)\n",
      "(570, 'Wingtip Toys (Flomaton, AL)', 'Novelty Shop', 'Vallo Vesik', 'Dayaram Raut', '(205) 555-0100', '(205) 555-0101', 'Wingtip Toys', 'http://www.wingtiptoys.com/Flomaton', 'Delivery Van', 'Flomaton', b'\\xe6\\x10\\x00\\x00\\x01\\x0cA\\x0ct\\xed\\x0b\\x00?@\"DC\\x10\\xb1\\xd0U\\xc0', '', '', 31.000182, -87.2608071)\n",
      "(571, 'Wingtip Toys (Pawlet, VT)', 'Novelty Shop', 'Dana Mrazova', 'Saraswati Beniwal', '(802) 555-0100', '(802) 555-0101', 'Wingtip Toys', 'http://www.wingtiptoys.com/Pawlet', 'Delivery Van', 'Pawlet', b'\\xe6\\x10\\x00\\x00\\x01\\x0c\\x86\\x1b\\xf0\\xf9a\\xacE@p}\\xb3(GKR\\xc0', '', '', 43.34674, -73.1762182)\n",
      "(572, 'Wingtip Toys (Trout Run, PA)', 'Novelty Shop', 'Ema Slosar', 'Arto Heikkinen', '(215) 555-0100', '(215) 555-0101', 'Wingtip Toys', 'http://www.wingtiptoys.com/TroutRun', 'Delivery Van', 'Trout Run', b'\\xe6\\x10\\x00\\x00\\x01\\x0c!\\x11\\t\\x95n\\xb1D@|-Cw\\xa4CS\\xc0', '', '', 41.3861872, -77.0569132)\n",
      "(573, 'Wingtip Toys (Marin City, CA)', 'Novelty Shop', 'Hemchandra Debnath', 'Bala Ogra', '(209) 555-0100', '(209) 555-0101', 'Wingtip Toys', 'http://www.wingtiptoys.com/MarinCity', 'Delivery Van', 'Marin City', b'\\xe6\\x10\\x00\\x00\\x01\\x0c\\xa8\\xaa\\xd0@,\\xefB@\\xa2\\xc4\\x9d\\xc1\\x95\\xa0^\\xc0', '', '', 37.868538, -122.5091404)\n",
      "(574, 'Wingtip Toys (Molalla, OR)', 'Novelty Shop', 'Monika Valentova', 'Anuj Sonkar', '(458) 555-0100', '(458) 555-0101', 'Wingtip Toys', 'http://www.wingtiptoys.com/Molalla', 'Delivery Van', 'Molalla', b'\\xe6\\x10\\x00\\x00\\x01\\x0cl_@/\\xdc\\x92F@K\\xefv\\x18\\xee\\xa4^\\xc0', '', '', 45.1473445, -122.5770322)\n",
      "(575, 'Wingtip Toys (Trumansburg, NY)', 'Novelty Shop', 'Dattaatraeya Tottempudi', 'Emilia Samaniego', '(212) 555-0100', '(212) 555-0101', 'Wingtip Toys', 'http://www.wingtiptoys.com/Trumansburg', 'Delivery Van', 'Trumansburg', b'\\xe6\\x10\\x00\\x00\\x01\\x0c\\xff\\xa8\\xf2\\xe2iEE@l-\\x82\\xb5\\xa0*S\\xc0', '', '', 42.5422939, -76.6660589)\n",
      "(576, 'Wingtip Toys (Goodings Grove, IL)', 'Novelty Shop', 'Kahkushan Shakiba', 'Hathai Mookjai', '(217) 555-0100', '(217) 555-0101', 'Wingtip Toys', 'http://www.wingtiptoys.com/GoodingsGrove', 'Delivery Van', 'Goodings Grove', b'\\xe6\\x10\\x00\\x00\\x01\\x0c\\x07Y\\xbb\\x92\\x89\\xd0D@\\x91\\xec\\xb6\\xb0\\x93\\xfbU\\xc0', '', '', 41.6291984, -87.9308893)\n",
      "(577, 'Wingtip Toys (Cherryplain, NY)', 'Novelty Shop', 'Taner YÄ±lmaz', 'Birol Arslan', '(212) 555-0100', '(212) 555-0101', 'Wingtip Toys', 'http://www.wingtiptoys.com/Cherryplain', 'Delivery Van', 'Cherryplain', b'\\xe6\\x10\\x00\\x00\\x01\\x0c\\xe8\\x0b\\xc6-\\x8bPE@\\x04\\xa5\\r,\\xecVR\\xc0', '', '', 42.6292474, -73.3581648)\n",
      "(578, 'Wingtip Toys (Bell Acres, PA)', 'Novelty Shop', 'Abhra Thakur', 'Uma Khalsa', '(215) 555-0100', '(215) 555-0101', 'Wingtip Toys', 'http://www.wingtiptoys.com/BellAcres', 'Delivery Van', 'Bell Acres', b'\\xe6\\x10\\x00\\x00\\x01\\x0c2\\xf8ES\\x87KD@9\\xbf\\x17\\x15\\xa7\\nT\\xc0', '', '', 40.5900673, -80.1664479)\n",
      "(579, 'Wingtip Toys (Connoquenessing, PA)', 'Novelty Shop', 'Dunja Radoncis', 'Olya Seleznyov', '(215) 555-0100', '(215) 555-0101', 'Wingtip Toys', 'http://www.wingtiptoys.com/Connoquenessing', 'Delivery Van', 'Connoquenessing', b'\\xe6\\x10\\x00\\x00\\x01\\x0c\\xdc\\xe2\\xd0\\x11\\xafhD@\\xd0\\x10\\xe9\\x12\\xe9\\x00T\\xc0', '', '', 40.8178427, -80.0142257)\n",
      "(580, 'Wingtip Toys (Sarversville, PA)', 'Novelty Shop', 'Darakhshan Javaherian', \"Alexandre  L'Angelier\", '(215) 555-0100', '(215) 555-0101', 'Wingtip Toys', 'http://www.wingtiptoys.com/Sarversville', 'Delivery Van', 'Sarversville', b'\\xe6\\x10\\x00\\x00\\x01\\x0c\\xa6\\xd4%\\xe3\\x18\\\\D@\\x1e\\n\\xb0\\xd9[\\xf0S\\xc0', '', '', 40.7195095, -79.7556061)\n",
      "(581, 'Wingtip Toys (Munich, ND)', 'Novelty Shop', 'Youssef Eriksson', 'Arunima Ganguly', '(701) 555-0100', '(701) 555-0101', 'Wingtip Toys', 'http://www.wingtiptoys.com/Munich', 'Delivery Van', 'Munich', b'\\xe6\\x10\\x00\\x00\\x01\\x0c\\xb0\\xaa^~\\xa7UH@Q\\x89F\\xd2I\\xb5X\\xc0', '', '', 48.669174, -98.8326307)\n",
      "(582, 'Wingtip Toys (Montoya, NM)', 'Novelty Shop', 'Pavel Bohuslav', 'Mahendra Trivedi', '(505) 555-0100', '(505) 555-0101', 'Wingtip Toys', 'http://www.wingtiptoys.com/Montoya', 'Delivery Van', 'Montoya', b'\\xe6\\x10\\x00\\x00\\x01\\x0cB\\xe8E\\x92\\xc5\\x8cA@N~\\x8bN\\x16\\x04Z\\xc0', '', '', 35.0997794, -104.0638615)\n",
      "(583, 'Wingtip Toys (Knights Landing, CA)', 'Novelty Shop', 'Jiri Vacha', 'Constanta Dita', '(209) 555-0100', '(209) 555-0101', 'Wingtip Toys', 'http://www.wingtiptoys.com/KnightsLanding', 'Delivery Van', 'Knights Landing', b'\\xe6\\x10\\x00\\x00\\x01\\x0c7\\r\\x9b\\x12ZfC@(\\xf4\\xfa\\x93\\xf8m^\\xc0', '', '', 38.7996238, -121.718297)\n",
      "(584, 'Wingtip Toys (Cache, OK)', 'Novelty Shop', 'Magdalena Cervenkova', 'Sylvie Panetier', '(405) 555-0100', '(405) 555-0101', 'Wingtip Toys', 'http://www.wingtiptoys.com/Cache', 'Delivery Van', 'Cache', b'\\xe6\\x10\\x00\\x00\\x01\\x0c\\x05#XX\\x15QA@r\\xa9\\xcb\\xdb\\xc1\\xa9X\\xc0', '', '', 34.6334639006, -98.6524571885)\n",
      "(585, 'Wingtip Toys (Towaco, NJ)', 'Novelty Shop', 'Asha Mudigonda', 'Jaya Benjaree', '(201) 555-0100', '(201) 555-0101', 'Wingtip Toys', 'http://www.wingtiptoys.com/Towaco', 'Delivery Van', 'Towaco', b'\\xe6\\x10\\x00\\x00\\x01\\x0c\\xbc@I\\x81\\x05vD@o\\x87\\xe1~\\x1b\\x96R\\xc0', '', '', 40.922043, -74.3454282)\n",
      "(586, 'Wingtip Toys (Lynne, FL)', 'Novelty Shop', 'Anete Kundzina', 'Petr Drdla', '(239) 555-0100', '(239) 555-0101', 'Wingtip Toys', 'http://www.wingtiptoys.com/Lynne', 'Delivery Van', 'Lynne', b'\\xe6\\x10\\x00\\x00\\x01\\x0c\\xc49\\x8f/F1=@\\xdf\\xb8\\xd6(\\xb5zT\\xc0', '', '', 29.1924772, -81.9173071)\n",
      "(587, 'Wingtip Toys (Plata, TX)', 'Novelty Shop', 'Daniela Sal', 'Kunal Nakhtare', '(210) 555-0100', '(210) 555-0101', 'Wingtip Toys', 'http://www.wingtiptoys.com/Plata', 'Delivery Van', 'Plata', b'\\xe6\\x10\\x00\\x00\\x01\\x0cj\\x05<\\x1fT\\xe0=@r\\xb9\\x0b\\xde!\\x01Z\\xc0', '', '', 29.8762836, -104.0176921)\n",
      "(588, 'Wingtip Toys (Oak Point, TX)', 'Novelty Shop', 'Duangrat Atitarn', 'Ella Celmina', '(210) 555-0100', '(210) 555-0101', 'Wingtip Toys', 'http://www.wingtiptoys.com/OakPoint', 'Delivery Van', 'Oak Point', b'\\xe6\\x10\\x00\\x00\\x01\\x0c\\xe6\\xaa\\x1e\\xd5U\\x98@@\\xc9\\x929\\x96w?X\\xc0', '', '', 33.1901194, -96.991674)\n",
      "(589, 'Wingtip Toys (Alcester, SD)', 'Novelty Shop', 'Deviprasad PrabhupÄ\\x81da', 'Tess Seegers', '(605) 555-0100', '(605) 555-0101', 'Wingtip Toys', 'http://www.wingtiptoys.com/Alcester', 'Delivery Van', 'Alcester', b'\\xe6\\x10\\x00\\x00\\x01\\x0c\\x0b\\xac-\\x86\\xbc\\x82E@\\x16\\x80\\xeb/`(X\\xc0', '', '', 43.0213783, -96.6308708)\n",
      "(590, 'Wingtip Toys (McAdenville, NC)', 'Novelty Shop', 'Aija Lukstina', 'Sanjay Cheema', '(252) 555-0100', '(252) 555-0101', 'Wingtip Toys', 'http://www.wingtiptoys.com/McAdenville', 'Delivery Van', 'McAdenville', b'\\xe6\\x10\\x00\\x00\\x01\\x0c\\xb7\\xd5\\x07\\xed0\\xa1A@\\xe8\\x88|\\x97\\xd2DT\\xc0', '', '', 35.2593056, -81.0753535)\n",
      "(591, 'Wingtip Toys (Idaho City, ID)', 'Novelty Shop', 'Hoc Le', 'Blagoje Pavlovic', '(208) 555-0100', '(208) 555-0101', 'Wingtip Toys', 'http://www.wingtiptoys.com/IdahoCity', 'Delivery Van', 'Idaho City', b'\\xe6\\x10\\x00\\x00\\x01\\x0c\\xf4\\xcaPp\\x0c\\xeaE@_\\x10\\xecSi\\xf5\\\\\\xc0', '', '', 43.8285046, -115.8345537)\n",
      "(592, 'Wingtip Toys (Dunkerton, IA)', 'Novelty Shop', 'Bhairaam Kidambi', 'Aleksandrs Cirulis', '(319) 555-0100', '(319) 555-0101', 'Wingtip Toys', 'http://www.wingtiptoys.com/Dunkerton', 'Delivery Van', 'Dunkerton', b'\\xe6\\x10\\x00\\x00\\x01\\x0c\\x9a\\x17qK\\xf5HE@\\xb9z\\x04\\xedD\\nW\\xc0', '', '', 42.5699858, -92.1604569)\n",
      "(593, 'Wingtip Toys (Cuyamungue, NM)', 'Novelty Shop', 'Jae-Hwa Shin', 'Mala Naicker', '(505) 555-0100', '(505) 555-0101', 'Wingtip Toys', 'http://www.wingtiptoys.com/Cuyamungue', 'Delivery Van', 'Cuyamungue', b'\\xe6\\x10\\x00\\x00\\x01\\x0c4 \\x8c\\xe9S\\xefA@\\xc5?\\xc7\\xa2D\\x80Z\\xc0', '', '', 35.8697483, -106.0041892)\n",
      "(594, 'Wingtip Toys (Marfa, TX)', 'Novelty Shop', 'Caterina Fallaci', 'Brayden Macnamara', '(210) 555-0100', '(210) 555-0101', 'Wingtip Toys', 'http://www.wingtiptoys.com/Marfa', 'Delivery Van', 'Marfa', b'\\xe6\\x10\\x00\\x00\\x01\\x0c\\xbd.\\r\\r\\xd5N>@\\xa8Q\\xedx8\\x01Z\\xc0', '', '', 30.3079384, -104.0190718)\n",
      "(595, 'Wingtip Toys (Accomac, VA)', 'Novelty Shop', 'Baanuraekha Voleti', 'Renata Alva', '(276) 555-0100', '(276) 555-0101', 'Wingtip Toys', 'http://www.wingtiptoys.com/Accomac', 'Delivery Van', 'Accomac', b'\\xe6\\x10\\x00\\x00\\x01\\x0c\\xce\\x05\\xe4\\x01\\x1b\\xdcB@\\xad\\xdfLL\\x97\\xeaR\\xc0', '', '', 37.7195742, -75.6654845)\n",
      "(596, 'Wingtip Toys (Cos Cob, CT)', 'Novelty Shop', 'Ranjeet Haldar', 'Mandeep Desai', '(203) 555-0100', '(203) 555-0101', 'Wingtip Toys', 'http://www.wingtiptoys.com/CosCob', 'Delivery Van', 'Cos Cob', b'\\xe6\\x10\\x00\\x00\\x01\\x0c/\\x18\\\\sG\\x84D@\\xd5\\xaa\\x02Z_fR\\xc0', '', '', 41.0334305, -73.5995698)\n",
      "(597, 'Wingtip Toys (Haycock, AK)', 'Novelty Shop', 'Bhaamini Kanaparthi', 'Sun-Hi Oh', '(907) 555-0100', '(907) 555-0101', 'Wingtip Toys', 'http://www.wingtiptoys.com/Haycock', 'Delivery Van', 'Haycock', b'\\xe6\\x10\\x00\\x00\\x01\\x0c\\xb1\\x8f\\xa9\\x16lMP@n\\xf5A;L%d\\xc0', '', '', 65.2097222, -161.1655556)\n",
      "(598, \"Wingtip Toys (Kapa'a, HI)\", 'Novelty Shop', 'Margit Molnar', 'Amanda Kaulina', '(808) 555-0100', '(808) 555-0101', 'Wingtip Toys', \"http://www.wingtiptoys.com/Kapa'a\", 'Delivery Van', \"Kapa'a\", b'\\xe6\\x10\\x00\\x00\\x01\\x0c\\x85\\xbfd<1\\x136@\\x0b9w:.\\xeac\\xc0', '', '', 22.0749700304, -159.318143113)\n",
      "(599, 'Wingtip Toys (Dickworsham, TX)', 'Novelty Shop', 'Chandni Jandhyala', 'Verona Sykorova', '(210) 555-0100', '(210) 555-0101', 'Wingtip Toys', 'http://www.wingtiptoys.com/Dickworsham', 'Delivery Van', 'Dickworsham', b'\\xe6\\x10\\x00\\x00\\x01\\x0c\\xc3\\xdf\\xe5\\xd80\\xe0@@\\xc0\\xdfy\\xf3e\\x87X\\xc0', '', '', 33.7514907, -98.1155976)\n",
      "(600, 'Wingtip Toys (Caro, MI)', 'Novelty Shop', 'Ljubomir Nesic', 'Izan Arana', '(231) 555-0100', '(231) 555-0101', 'Wingtip Toys', 'http://www.wingtiptoys.com/Caro', 'Delivery Van', 'Caro', b'\\xe6\\x10\\x00\\x00\\x01\\x0c\\x9b\\x81\\x80k\\xdd\\xbeE@Z\\xb8\\xac\\xc2f\\xd9T\\xc0', '', '', 43.4911322, -83.396897)\n",
      "(601, 'Wingtip Toys (Ruthsburg, MD)', 'Novelty Shop', 'Telma Hermansson', 'Lubomir Spousta', '(240) 555-0100', '(240) 555-0101', 'Wingtip Toys', 'http://www.wingtiptoys.com/Ruthsburg', 'Delivery Van', 'Ruthsburg', b'\\xe6\\x10\\x00\\x00\\x01\\x0c$q\\xa0\\xd1g\\x80C@\\xdd\\xcf)\\xc8O\\xfdR\\xc0', '', '', 39.0031683, -75.9579945)\n",
      "(801, 'Eric Torres', 'Corporate', 'Eric Torres', None, '(307) 555-0100', '(307) 555-0101', None, 'http://www.microsoft.com/EricTorres/', 'Delivery Van', 'Shell', b'\\xe6\\x10\\x00\\x00\\x01\\x0c\\xe2\\xbe\\x1f\\xc8\\x8bDF@Y\\xe0\\x86s\\xe8\\xf1Z\\xc0', '', '', 44.5355158, -107.7798127)\n",
      "(802, 'Cosmina Vlad', 'Corporate', 'Cosmina Vlad', None, '(505) 555-0100', '(505) 555-0101', None, 'http://www.microsoft.com/CosminaVlad/', 'Delivery Van', 'Cañon', b'\\xe6\\x10\\x00\\x00\\x01\\x0cM38\\xa5\\x17\\xd4A@\\xd8\\x0eF\\xec\\x13\\xafZ\\xc0', '', '', 35.6569716, -106.735591)\n",
      "(803, 'Bala Dixit', 'Novelty Shop', 'Bala Dixit', None, '(209) 555-0100', '(209) 555-0101', None, 'http://www.microsoft.com/BalaDixit/', 'Delivery Van', 'Termo', b'\\xe6\\x10\\x00\\x00\\x01\\x0c\\xe9\\x91PD\\xd0nD@\\xcap\\x97Xt\\x1d^\\xc0', '', '', 40.8657308, -120.4602262)\n",
      "(804, 'Aleksandrs Riekstins', 'Computer Store', 'Aleksandrs Riekstins', None, '(605) 555-0100', '(605) 555-0101', None, 'http://www.microsoft.com/AleksandrsRiekstins/', 'Delivery Van', 'La Bolt', b'\\xe6\\x10\\x00\\x00\\x01\\x0c\\xb2\\xe2\\n\\xdeF\\x86F@\\xd3}J\\xdf5+X\\xc0', '', '', 45.0490377, -96.6751631)\n",
      "(805, 'Ratan Poddar', 'Novelty Shop', 'Ratan Poddar', None, '(907) 555-0100', '(907) 555-0101', None, 'http://www.microsoft.com/RatanPoddar/', 'Delivery Van', 'Ekwok', b'\\xe6\\x10\\x00\\x00\\x01\\x0c\\xb4\\xd7q\\xb2\\xc3\\xacM@y\\xf0\\xc9y5\\xafc\\xc0', '', '', 59.3497222, -157.4752778)\n",
      "(806, 'Shi Tu', 'Novelty Shop', 'Shi Tu', None, '(307) 555-0100', '(307) 555-0101', None, 'http://www.microsoft.com/ShiTu/', 'Delivery Van', 'Sinclair', b'\\xe6\\x10\\x00\\x00\\x01\\x0c\\xfe\\xdd\\xf1\\xdc1\\xe3D@\\x16\\x85]\\x14=\\xc7Z\\xc0', '', '', 41.7749592, -107.113103)\n",
      "(807, 'Gunnar Lohmus', 'Gift Store', 'Gunnar Lohmus', None, '(201) 555-0100', '(201) 555-0101', None, 'http://www.microsoft.com/GunnarLohmus/', 'Delivery Van', 'Wanaque', b'\\xe6\\x10\\x00\\x00\\x01\\x0c\\xf1\\xa04/\\xe2\\x84D@k\\xb2\\xeb\\x83\\xd1\\x92R\\xc0', '', '', 41.0381526, -74.2940378)\n",
      "(808, 'Jackson Kolios', 'Computer Store', 'Jackson Kolios', None, '(209) 555-0100', '(209) 555-0101', None, 'http://www.microsoft.com/JacksonKolios/', 'Delivery Van', 'Rail Road Flat', b'\\xe6\\x10\\x00\\x00\\x01\\x0c2y^\\x85\\xef+C@\\xc4M\\xfc\\x07\\xc7 ^\\xc0', '', '', 38.3432471, -120.5121479)\n",
      "(809, 'Madhu Dwivedi', 'Computer Store', 'Madhu Dwivedi', None, '(802) 555-0100', '(802) 555-0101', None, 'http://www.microsoft.com/MadhuDwivedi/', 'Delivery Van', 'Panton', b'\\xe6\\x10\\x00\\x00\\x01\\x0c\\xfc\\x85\\xc3w\\x07\\x13F@\\x8d_x%\\xc9UR\\xc0', '', '', 44.1486654, -73.340402)\n",
      "(810, 'Alena Kellnerova', 'Corporate', 'Alena Kellnerova', None, '(303) 555-0100', '(303) 555-0101', None, 'http://www.microsoft.com/AlenaKellnerova/', 'Delivery Van', 'Segundo', b'\\xe6\\x10\\x00\\x00\\x01\\x0cH_R\\xc6\\t\\x90B@=&\\xf7\\xe0Z0Z\\xc0', '', '', 37.1252983, -104.7555468)\n",
      "(811, 'Surendra Sahu', 'Novelty Shop', 'Surendra Sahu', None, '(210) 555-0100', '(210) 555-0101', None, 'http://www.microsoft.com/SurendraSahu/', 'Delivery Van', 'Old River-Winfree', b'\\xe6\\x10\\x00\\x00\\x01\\x0c|\\xe3\\xb5\\\\G\\xde=@\\xcev\\xe0\\xf7J\\xb5W\\xc0', '', '', 29.8682764, -94.8327007)\n",
      "(812, 'Celica Barajas', 'Supermarket', 'Celica Barajas', None, '(270) 555-0100', '(270) 555-0101', None, 'http://www.microsoft.com/CelicaBarajas/', 'Delivery Van', 'Drakesboro', b'\\xe6\\x10\\x00\\x00\\x01\\x0c\\xbb~\\xc1n\\xd8\\x9bB@\\x96\\xf1J\\xed \\xc3U\\xc0', '', '', 37.2175425, -87.0488847)\n",
      "(813, 'Shyam Poddar', 'Corporate', 'Shyam Poddar', None, '(218) 555-0100', '(218) 555-0101', None, 'http://www.microsoft.com/ShyamPoddar/', 'Delivery Van', 'Tenstrike', b'\\xe6\\x10\\x00\\x00\\x01\\x0c\\xa0p\\xd1$\\x0c\\xd4G@\\xa7E\\xd8K.\\xabW\\xc0', '', '', 47.6566206, -94.6747007)\n",
      "(814, 'Johanna Hoornstra', 'Novelty Shop', 'Johanna Hoornstra', None, '(210) 555-0100', '(210) 555-0101', None, 'http://www.microsoft.com/JohannaHoornstra/', 'Delivery Van', 'Petronila', b'\\xe6\\x10\\x00\\x00\\x01\\x0c\\xc7\\xba\\xb8\\x8d\\x06\\xac;@\\xf97\\xc3h\\xb1hX\\xc0', '', '', 27.671975, -97.6358282)\n",
      "(815, 'Libuse Valentova', 'Novelty Shop', 'Libuse Valentova', None, '(270) 555-0100', '(270) 555-0101', None, 'http://www.microsoft.com/LibuseValentova/', 'Delivery Van', 'Elkatawa', b'\\xe6\\x10\\x00\\x00\\x01\\x0c \\xe20\\xe2L\\xc7B@\\x9b6\\x88{Q\\xdbT\\xc0', '', '', 37.5570338, -83.4268483)\n",
      "(816, 'Harsha Huq', 'Gift Store', 'Harsha Huq', None, '(314) 555-0100', '(314) 555-0101', None, 'http://www.microsoft.com/HarshaHuq/', 'Delivery Van', 'Dennis Acres', b'\\xe6\\x10\\x00\\x00\\x01\\x0c\\xf1\\xa6\\xb6/\\xfb\\x85B@\\xcc\\xe3z%Z\\xa0W\\xc0', '', '', 37.0467281, -94.5055021)\n",
      "(817, 'Agrita Kanepa', 'Supermarket', 'Agrita Kanepa', None, '(201) 555-0100', '(201) 555-0101', None, 'http://www.microsoft.com/AgritaKanepa/', 'Delivery Van', 'Branchburg Park', b'\\xe6\\x10\\x00\\x00\\x01\\x0c\\x08\\x97\\xe9\\xf2AID@\\xc9f\\xfd\\x1c\\xd5\\xabR\\xc0', '', '', 40.5723251, -74.6848824)\n",
      "(818, 'Liia Orav', 'Novelty Shop', 'Liia Orav', None, '(252) 555-0100', '(252) 555-0101', None, 'http://www.microsoft.com/LiiaOrav/', 'Delivery Van', 'Bladenboro', b'\\xe6\\x10\\x00\\x00\\x01\\x0c\\xff\\x1ea\\xbd\\xf6DA@\\xa8\\x9a\\x0f\\xbef\\xb2S\\xc0', '', '', 34.5387799, -78.7875209)\n",
      "(819, 'Santiago Vera', 'Computer Store', 'Santiago Vera', None, '(304) 555-0100', '(304) 555-0101', None, 'http://www.microsoft.com/SantiagoVera/', 'Delivery Van', 'Nitro', b'\\xe6\\x10\\x00\\x00\\x01\\x0c\\xa0s\\x12\\xa5\\x185C@\\x81+4k\\x04vT\\xc0', '', '', 38.4148146, -81.8440197)\n",
      "(820, 'Knut Svensson', 'Computer Store', 'Knut Svensson', None, '(201) 555-0100', '(201) 555-0101', None, 'http://www.microsoft.com/KnutSvensson/', 'Delivery Van', 'Madison Park', b'\\xe6\\x10\\x00\\x00\\x01\\x0c\\xb0\\xa5\\xec\\x99\\xca9D@&h8\\n\\xb5\\x93R\\xc0', '', '', 40.4514954, -74.3079248)\n",
      "(821, 'Kwanjai Saowaluk', 'Supermarket', 'Kwanjai Saowaluk', None, '(787) 555-0100', '(787) 555-0101', None, 'http://www.microsoft.com/KwanjaiSaowaluk/', 'Delivery Van', 'Cataño', b\"\\xe6\\x10\\x00\\x00\\x01\\x0c\\xaf\\x13MV\\xfbp2@'++\\xf2\\x90\\x87P\\xc0\", '', '', 18.4413351, -66.1182218)\n",
      "(822, 'Suparna Bhattacharya', 'Supermarket', 'Suparna Bhattacharya', None, '(314) 555-0100', '(314) 555-0101', None, 'http://www.microsoft.com/SuparnaBhattacharya/', 'Delivery Van', 'Tiff City', b'\\xe6\\x10\\x00\\x00\\x01\\x0c\\xcf\\xbd\\x87K\\x8eUB@\\xd1\\x086\\xae\\x7f\\xa7W\\xc0', '', '', 36.668405, -94.617168)\n",
      "(823, 'Francisca Laureano', 'Gift Store', 'Francisca Laureano', None, '(319) 555-0100', '(319) 555-0101', None, 'http://www.microsoft.com/FranciscaLaureano/', 'Delivery Van', 'Jolley', b'\\xe6\\x10\\x00\\x00\\x01\\x0c-Nk\\x89K=E@\\xac\\x85\\xa3\\xf5\\x01\\xaeW\\xc0', '', '', 42.4788677, -94.7188696)\n",
      "(824, 'Risto Valbe', 'Supermarket', 'Risto Valbe', None, '(205) 555-0100', '(205) 555-0101', None, 'http://www.microsoft.com/RistoValbe/', 'Delivery Van', 'Bazemore', b'\\xe6\\x10\\x00\\x00\\x01\\x0c/S\\xee\\x99\\x80\\xf2@@s%\\xa7\\x1b\\xcd\\xecU\\xc0', '', '', 33.8945496, -87.7000188)\n",
      "(825, 'Jayanta Thakur', 'Gift Store', 'Jayanta Thakur', None, '(276) 555-0100', '(276) 555-0101', None, 'http://www.microsoft.com/JayantaThakur/', 'Delivery Van', 'Raven', b'\\xe6\\x10\\x00\\x00\\x01\\x0c\\xcfp\\xb9\\xb0$\\x8bB@\\x00\\xab#G\\xbavT\\xc0', '', '', 37.0870572, -81.8551195)\n",
      "(826, 'Leila Carvalho', 'Novelty Shop', 'Leila Carvalho', None, '(217) 555-0100', '(217) 555-0101', None, 'http://www.microsoft.com/LeilaCarvalho/', 'Delivery Van', 'Spillertown', b'\\xe6\\x10\\x00\\x00\\x01\\x0c\\x99\\xf2!\\xa8\\x1a\\xe2B@ \\xcehP\\xd9:V\\xc0', '', '', 37.7664385, -88.9195138)\n",
      "(827, 'Crina Grasu', 'Computer Store', 'Crina Grasu', None, '(308) 555-0100', '(308) 555-0101', None, 'http://www.microsoft.com/CrinaGrasu/', 'Delivery Van', 'Tamora', b'\\xe6\\x10\\x00\\x00\\x01\\x0cXx\\xf2DkrD@\\xa8\\r=\\x18gNX\\xc0', '', '', 40.8938986, -97.2250424)\n",
      "(828, 'Sercan Celik', 'Gift Store', 'Sercan Celik', None, '(217) 555-0100', '(217) 555-0101', None, 'http://www.microsoft.com/SercanCelik/', 'Delivery Van', 'Tolono', b'\\xe6\\x10\\x00\\x00\\x01\\x0c<\\xddy\\xe29\\xfeC@\\xcd\\n\\xa0s\\x92\\x10V\\xc0', '', '', 39.9861415, -88.2589387)\n",
      "(829, 'Jack Walker', 'Supermarket', 'Jack Walker', None, '(316) 555-0100', '(316) 555-0101', None, 'http://www.microsoft.com/JackWalker/', 'Delivery Van', 'Elbing', b'\\xe6\\x10\\x00\\x00\\x01\\x0c\\xaf|\\x96\\xe7\\xc1\\x06C@\\xe2\\xa5@\\x0b.HX\\xc0', '', '', 38.0527925, -97.1278103)\n",
      "(830, 'Jana Fialova', 'Novelty Shop', 'Jana Fialova', None, '(215) 555-0100', '(215) 555-0101', None, 'http://www.microsoft.com/JanaFialova/', 'Delivery Van', 'Weigelstown', b\"\\xe6\\x10\\x00\\x00\\x01\\x0cvf'(\\xea\\xfdC@\\x06\\\\\\xa1Y\\xa34S\\xc0\", '', '', 39.9837084, -76.8224701)\n",
      "(831, 'Bhaavan Rai', 'Corporate', 'Bhaavan Rai', None, '(308) 555-0100', '(308) 555-0101', None, 'http://www.microsoft.com/BhaavanRai/', 'Delivery Van', 'Chalco', b'\\xe6\\x10\\x00\\x00\\x01\\x0c\\x13\\x91\\xab\\xa2\\x89\\x97D@,\\x8c\\xe3v\\x9e\\tX\\xc0', '', '', 41.1838878, -96.1502969)\n",
      "(832, 'Aakriti Byrraju', 'Supermarket', 'Aakriti Byrraju', None, '(216) 555-0100', '(216) 555-0101', None, 'http://www.microsoft.com/AakritiByrraju/', 'Delivery Van', 'Glenwillow', b'\\xe6\\x10\\x00\\x00\\x01\\x0c\\xb5\\xa1\\x07\\xe3L\\xaeD@5\\xa09F\\r^T\\xc0', '', '', 41.3617214, -81.4695602)\n",
      "(833, 'Devraj Rao', 'Novelty Shop', 'Devraj Rao', None, '(385) 555-0100', '(385) 555-0101', None, 'http://www.microsoft.com/DevrajRao/', 'Delivery Van', 'Westwater', b'\\xe6\\x10\\x00\\x00\\x01\\x0c\\xeb\\xd8RQ\\x06\\x8aC@dMv}0G[\\xc0', '', '', 39.0783178, -109.1123346)\n",
      "(834, 'Cong Hoa', 'Gift Store', 'Cong Hoa', None, '(212) 555-0100', '(212) 555-0101', None, 'http://www.microsoft.com/CongHoa/', 'Delivery Van', 'Palatine Bridge', b'\\xe6\\x10\\x00\\x00\\x01\\x0c\\xca\\xdb\\xb6\\x94\\x98tE@\\xe7\\xbb\\xa5\\xe6\\xbc\\xa4R\\xc0', '', '', 42.9109064, -74.5740296)\n",
      "(835, 'Dominic Davignon', 'Supermarket', 'Dominic Davignon', None, '(209) 555-0100', '(209) 555-0101', None, 'http://www.microsoft.com/DominicDavignon/', 'Delivery Van', 'Twin Peaks', b'\\xe6\\x10\\x00\\x00\\x01\\x0c\\xae\\xd4\\xb3 \\x94\\x1eA@\\x8f\\x86\\xf8,\\xf4N]\\xc0', '', '', 34.2388955, -117.2336533)\n",
      "(836, 'Abel Spirlea', 'Novelty Shop', 'Abel Spirlea', None, '(218) 555-0100', '(218) 555-0101', None, 'http://www.microsoft.com/AbelSpirlea/', 'Delivery Van', 'Markville', b'\\xe6\\x10\\x00\\x00\\x01\\x0c\\x8ari\\xfc\\xc2\\x0bG@\\x91\\xca^\\x00+\\x15W\\xc0', '', '', 46.091888, -92.3307496)\n",
      "(837, 'Anil Sarkar', 'Supermarket', 'Anil Sarkar', None, '(215) 555-0100', '(215) 555-0101', None, 'http://www.microsoft.com/AnilSarkar/', 'Delivery Van', 'Gardners', b'\\xe6\\x10\\x00\\x00\\x01\\x0c\\x95\\xe3_\\x15\\xb9\\x00D@\\n\\xeb\\x10I>MS\\xc0', '', '', 40.0056483, -77.2069266)\n",
      "(838, 'Pavel Bogdanov', 'Corporate', 'Pavel Bogdanov', None, '(339) 555-0100', '(339) 555-0101', None, 'http://www.microsoft.com/PavelBogdanov/', 'Delivery Van', 'New Braintree', b'\\xe6\\x10\\x00\\x00\\x01\\x0c\\x1e\\x1f\\x88\\x87\\x8b(E@dL\\xb0\\xee\\x0e\\x08R\\xc0', '', '', 42.3167581, -72.1259114)\n",
      "(839, 'Juan Morse', 'Novelty Shop', 'Juan Morse', None, '(423) 555-0100', '(423) 555-0101', None, 'http://www.microsoft.com/JuanMorse/', 'Delivery Van', 'Greenback', b'\\xe6\\x10\\x00\\x00\\x01\\x0c\\xef6\\x14\\xe3\\xa1\\xd4A@W~tE\\x04\\x0bU\\xc0', '', '', 35.6611904, -84.1721357)\n",
      "(840, 'Rodrigo Figueiredo', 'Novelty Shop', 'Rodrigo Figueiredo', None, '(803) 555-0100', '(803) 555-0101', None, 'http://www.microsoft.com/RodrigoFigueiredo/', 'Delivery Van', 'Blackville', b'\\xe6\\x10\\x00\\x00\\x01\\x0c0\\xe2\\xf1\\xa3\\xd0\\xad@@5T\\xd6\\x80RQT\\xc0', '', '', 33.3579297, -81.2706606)\n",
      "(841, 'Camille Authier', 'Gift Store', 'Camille Authier', None, '(252) 555-0100', '(252) 555-0101', None, 'http://www.microsoft.com/CamilleAuthier/', 'Delivery Van', 'Abbottsburg', b'\\xe6\\x10\\x00\\x00\\x01\\x0c\\xe1&\\xa3\\xca0BA@\\xef`z\\xb1f\\xaeS\\xc0', '', '', 34.517114, -78.7250179)\n",
      "(842, 'Biju Deb', 'Gift Store', 'Biju Deb', None, '(218) 555-0100', '(218) 555-0101', None, 'http://www.microsoft.com/BijuDeb/', 'Delivery Van', 'Deer River', b'\\xe6\\x10\\x00\\x00\\x01\\x0c\\xdeu6\\xe4\\x9f\\xaaG@M\\x9eW\\xe1\\xbbrW\\xc0', '', '', 47.3330045, -93.7927173)\n",
      "(843, 'Marija Justina Pasek', 'Corporate', 'Marija Justina Pasek', None, '(215) 555-0100', '(215) 555-0101', None, 'http://www.microsoft.com/MarijaJustinaPasek/', 'Delivery Van', 'Marguerite', b'\\xe6\\x10\\x00\\x00\\x01\\x0cb\\x89bM\\xc0!D@\\x8c\\xba\\xd6\\xde\\xa7\\xddS\\xc0', '', '', 40.2636811, -79.463371)\n",
      "(844, 'Durdanah Abbasi', 'Supermarket', 'Durdanah Abbasi', None, '(201) 555-0100', '(201) 555-0101', None, 'http://www.microsoft.com/DurdanahAbbasi/', 'Delivery Van', 'Laurence Harbor', b'\\xe6\\x10\\x00\\x00\\x01\\x0c\\xf8\\x16\\xd6\\x8dw:D@\\xf3\\x16\\xb45\\xc7\\x8fR\\xc0', '', '', 40.4567735, -74.2465338)\n",
      "(845, 'Emilie Hrdlickova', 'Corporate', 'Emilie Hrdlickova', None, '(803) 555-0100', '(803) 555-0101', None, 'http://www.microsoft.com/EmilieHrdlickova/', 'Delivery Van', 'New Zion', b'\\xe6\\x10\\x00\\x00\\x01\\x0c\\x1a\\x8eB\\xed\\x12\\xec@@\\xc9-\\xf7\\x13\\xdf\\x01T\\xc0', '', '', 33.8443276, -80.0292406)\n",
      "(846, 'Malorie Bousquet', 'Gift Store', 'Malorie Bousquet', None, '(209) 555-0100', '(209) 555-0101', None, 'http://www.microsoft.com/MalorieBousquet/', 'Delivery Van', 'Valley View Park', b'\\xe6\\x10\\x00\\x00\\x01\\x0c\\xa2k\\x15\\xb3\\x14\\x1eA@r\\xf9\\x0f\\xe9\\xb7S]\\xc0', '', '', 34.2350067, -117.3081)\n",
      "(847, 'Kristiina Ivanov', 'Computer Store', 'Kristiina Ivanov', None, '(605) 555-0100', '(605) 555-0101', None, 'http://www.microsoft.com/KristiinaIvanov/', 'Delivery Van', 'Wounded Knee', b'\\xe6\\x10\\x00\\x00\\x01\\x0c=R3Z\\xfd\\x91E@\\x06*\\xe3\\xdfg\\x97Y\\xc0', '', '', 43.1405442, -102.365715)\n",
      "(848, 'Alvin Bollinger', 'Computer Store', 'Alvin Bollinger', None, '(270) 555-0100', '(270) 555-0101', None, 'http://www.microsoft.com/AlvinBollinger/', 'Delivery Van', 'Creelsboro', b'\\xe6\\x10\\x00\\x00\\x01\\x0c\\x9fk\\xa9\\xcdIqB@\\xb84#(\\xa3LU\\xc0', '', '', 36.8850648, -85.1974583)\n",
      "(849, 'Sabine Zalite', 'Supermarket', 'Sabine Zalite', None, '(210) 555-0100', '(210) 555-0101', None, 'http://www.microsoft.com/SabineZalite/', 'Delivery Van', 'Haltom City', b'\\xe6\\x10\\x00\\x00\\x01\\x0c\\x85\\xde,oXf@@\\xa1\\x8b\\xe1E:QX\\xc0', '', '', 32.7995738, -97.2691817)\n",
      "(850, 'Daakshaayaani Sankaramanchi', 'Gift Store', 'Daakshaayaani Sankaramanchi', None, '(319) 555-0100', '(319) 555-0101', None, 'http://www.microsoft.com/DaakshaayaaniSankaramanchi/', 'Delivery Van', 'Spillville', b'\\xe6\\x10\\x00\\x00\\x01\\x0c\\x17\\xcd\\x14\\x84<\\x9aE@\\x12\\x87l \\xdd\\xfcV\\xc0', '', '', 43.2049718, -91.9509965)\n",
      "(851, 'Ebru Erdogan', 'Gift Store', 'Ebru Erdogan', None, '(405) 555-0100', '(405) 555-0101', None, 'http://www.microsoft.com/EbruErdogan/', 'Delivery Van', 'Seiling', b'\\xe6\\x10\\x00\\x00\\x01\\x0chT\\xf8%v\\x13B@w\\xb05\\xc3\\xac\\xbcX\\xc0', '', '', 36.1520431006, -98.9480445885)\n",
      "(852, 'Bhagavaan Atluri', 'Supermarket', 'Bhagavaan Atluri', None, '(229) 555-0100', '(229) 555-0101', None, 'http://www.microsoft.com/BhagavaanAtluri/', 'Delivery Van', 'Coosa', b'\\xe6\\x10\\x00\\x00\\x01\\x0c\\xae\\x8c\\xfc\\xb0\\x94 A@\\x89,-~\\xaeVU\\xc0', '', '', 34.2545377, -85.3544002)\n",
      "(853, 'Caterina Pinto', 'Gift Store', 'Caterina Pinto', None, '(907) 555-0100', '(907) 555-0101', None, 'http://www.microsoft.com/CaterinaPinto/', 'Delivery Van', 'Akhiok', b'\\xe6\\x10\\x00\\x00\\x01\\x0c[FE\\xf7\\x07yL@\\x84\\xc7m\\xearEc\\xc0', '', '', 56.9455556, -154.1702778)\n",
      "(854, 'Daakshaayaani Kommineni', 'Novelty Shop', 'Daakshaayaani Kommineni', None, '(239) 555-0100', '(239) 555-0101', None, 'http://www.microsoft.com/DaakshaayaaniKommineni/', 'Delivery Van', 'Bakers Mill', b'\\xe6\\x10\\x00\\x00\\x01\\x0c\\xcdK\\xb4\\x9ad\\x94>@P\\xc4\"\\x86\\x1d\\xbcT\\xc0', '', '', 30.5796601, -82.939302)\n",
      "(855, 'Anna Mazzanti', 'Computer Store', 'Anna Mazzanti', None, '(314) 555-0100', '(314) 555-0101', None, 'http://www.microsoft.com/AnnaMazzanti/', 'Delivery Van', 'Humansville', b\"\\xe6\\x10\\x00\\x00\\x01\\x0c:'Q\\x8a\\xb1\\xe5B@[\\x0c\\x1e\\xa6\\xfddW\\xc0\", '', '', 37.7944806, -93.5779815)\n",
      "(856, 'Satish Mittal', 'Corporate', 'Satish Mittal', None, '(215) 555-0100', '(215) 555-0101', None, 'http://www.microsoft.com/SatishMittal/', 'Delivery Van', 'Dry Run', b'\\xe6\\x10\\x00\\x00\\x01\\x0c*ecos\\x15D@n\\xc4\\xee\\x96?pS\\xc0', '', '', 40.1675853, -77.7538812)\n",
      "(857, 'Clarissa Manfrin', 'Gift Store', 'Clarissa Manfrin', None, '(210) 555-0100', '(210) 555-0101', None, 'http://www.microsoft.com/ClarissaManfrin/', 'Delivery Van', 'Ben Arnold', b'\\xe6\\x10\\x00\\x00\\x01\\x0c\\x1dy{k\\xbb\\xf6>@\\xac\\x02\\xb5\\x18<?X\\xc0', '', '', 30.9637973, -96.988043)\n",
      "(858, 'Bimla PrabhupÄ\\x81da', 'Novelty Shop', 'Bimla PrabhupÄ\\x81da', None, '(209) 555-0100', '(209) 555-0101', None, 'http://www.microsoft.com/BimlaPrabhupÄ\\x81da/', 'Delivery Van', 'Yermo', b'\\xe6\\x10\\x00\\x00\\x01\\x0c\\xdao\\x92\\x8b\\xd6sA@\\x95\\xbf\\xd6\\x00\\x804]\\xc0', '', '', 34.9049849, -116.8203127)\n",
      "(859, 'Shah Alizadeh', 'Gift Store', 'Shah Alizadeh', None, '(304) 555-0100', '(304) 555-0101', None, 'http://www.microsoft.com/ShahAlizadeh/', 'Delivery Van', 'Gassaway', b'\\xe6\\x10\\x00\\x00\\x01\\x0cJ\\x94b\\xec)VC@\\x95\\xce,\\xae\\x961T\\xc0', '', '', 38.6731544, -80.7748218)\n",
      "(860, 'Marcela Lucescu', 'Corporate', 'Marcela Lucescu', None, '(231) 555-0100', '(231) 555-0101', None, 'http://www.microsoft.com/MarcelaLucescu/', 'Delivery Van', 'Ewen', b\"\\xe6\\x10\\x00\\x00\\x01\\x0c\\xc3\\x0c\\x8d'\\x82DG@G\\xf4|\\x17\\x00RV\\xc0\", '', '', 46.535222, -89.2812556)\n",
      "(861, 'Amarasimha Vinjamuri', 'Supermarket', 'Amarasimha Vinjamuri', None, '(339) 555-0100', '(339) 555-0101', None, 'http://www.microsoft.com/AmarasimhaVinjamuri/', 'Delivery Van', 'North Brookfield', b'\\xe6\\x10\\x00\\x00\\x01\\x0c46*&%\"E@\\xe4\\xf4\\xf5|M\\x05R\\xc0', '', '', 42.2667587, -72.0828545)\n",
      "(862, 'Lana Goransson', 'Supermarket', 'Lana Goransson', None, '(212) 555-0100', '(212) 555-0101', None, 'http://www.microsoft.com/LanaGoransson/', 'Delivery Van', 'Chateaugay', b'\\xe6\\x10\\x00\\x00\\x01\\x0c\\xc5\\xb4%a\\x95vF@\\xca\\x7f\\x92L\\x18\\x85R\\xc0', '', '', 44.9264337, -74.0796081)\n",
      "(863, 'Jakub Lukes', 'Corporate', 'Jakub Lukes', None, '(212) 555-0100', '(212) 555-0101', None, 'http://www.microsoft.com/JakubLukes/', 'Delivery Van', 'Eagle Valley', b'\\xe6\\x10\\x00\\x00\\x01\\x0cq-\\xa4\\r\\xd1\\x93D@\\x99\\x11\\xde\\x1e\\x84\\x8eR\\xc0', '', '', 41.1548173, -74.226814)\n",
      "(864, 'Mikhail Degtyarev', 'Computer Store', 'Mikhail Degtyarev', None, '(218) 555-0100', '(218) 555-0101', None, 'http://www.microsoft.com/MikhailDegtyarev/', 'Delivery Van', 'Beaver Bay', b'\\xe6\\x10\\x00\\x00\\x01\\x0c\\xafU\\xccR\\xfc\\xa0G@\\x83r6x:\\xd3V\\xc0', '', '', 47.2577003, -91.3004437)\n",
      "(865, 'Bijoya Thakur', 'Gift Store', 'Bijoya Thakur', None, '(225) 555-0100', '(225) 555-0101', None, 'http://www.microsoft.com/BijoyaThakur/', 'Delivery Van', 'Kinder', b'\\xe6\\x10\\x00\\x00\\x01\\x0c\\x11\\xe5\\x0bZH|>@\\xfb\\xe6\\xfe\\xeaq6W\\xc0', '', '', 30.485479, -92.850703)\n",
      "(866, 'Jay Bhuiyan', 'Gift Store', 'Jay Bhuiyan', None, '(215) 555-0100', '(215) 555-0101', None, 'http://www.microsoft.com/JayBhuiyan/', 'Delivery Van', 'Mount Pocono', b'\\xe6\\x10\\x00\\x00\\x01\\x0cDA\\xdf\\xcc\\x9e\\x8fD@\\xc2\\x8c\\x84\\x11V\\xd7R\\xc0', '', '', 41.1220337, -75.3646282)\n",
      "(867, 'Jasna Cerkez', 'Computer Store', 'Jasna Cerkez', None, '(304) 555-0100', '(304) 555-0101', None, 'http://www.microsoft.com/JasnaCerkez/', 'Delivery Van', 'Elk Garden', b'\\xe6\\x10\\x00\\x00\\x01\\x0c\\xa2\\xe1\\xdeF\\x14\\xb1C@\\xac\\x00\\xdfm\\xde\\xc9S\\xc0', '', '', 39.3834313, -79.154201)\n",
      "(868, 'Laura Sykorova', 'Novelty Shop', 'Laura Sykorova', None, '(316) 555-0100', '(316) 555-0101', None, 'http://www.microsoft.com/LauraSykorova/', 'Delivery Van', 'Coyville', b'\\xe6\\x10\\x00\\x00\\x01\\x0c\\xc9\\xc8Y\\xd8\\xd3\\xd7B@\\xc1G\\xb3hp\\xf9W\\xc0', '', '', 37.6861525, -95.8974859)\n",
      "(869, 'Abel Tatarescu', 'Novelty Shop', 'Abel Tatarescu', None, '(217) 555-0100', '(217) 555-0101', None, 'http://www.microsoft.com/AbelTatarescu/', 'Delivery Van', 'La Grange Park', b'\\xe6\\x10\\x00\\x00\\x01\\x0c[\\\\\\xe33\\xd9\\xeaD@:\\x07\\xcf\\x84&\\xf7U\\xc0', '', '', 41.8347535, -87.861726)\n",
      "(870, 'In-Su Bae', 'Gift Store', 'In-Su Bae', None, '(206) 555-0100', '(206) 555-0101', None, 'http://www.microsoft.com/In-SuBae/', 'Delivery Van', 'Meadowdale', b'\\xe6\\x10\\x00\\x00\\x01\\x0c\\xea\\xcd\\xa8\\xf9*\\xedG@\\x1bs\\x8d\\x85W\\x95^\\xc0', '', '', 47.852874, -122.3334669)\n",
      "(871, 'Darshana Madhunapantula', 'Computer Store', 'Darshana Madhunapantula', None, '(240) 555-0100', '(240) 555-0101', None, 'http://www.microsoft.com/DarshanaMadhunapantula/', 'Delivery Van', 'Tolchester Beach', b'\\xe6\\x10\\x00\\x00\\x01\\x0c\\x86\\x8ec\\x04\\xc9\\x9bC@\\xef\\\\\\xb4\\x99\\x85\\x0fS\\xc0', '', '', 39.2170720564, -76.2425293218)\n",
      "(872, 'Katerina Hadrabova', 'Corporate', 'Katerina Hadrabova', None, '(219) 555-0100', '(219) 555-0101', None, 'http://www.microsoft.com/KaterinaHadrabova/', 'Delivery Van', 'La Paz', b'\\xe6\\x10\\x00\\x00\\x01\\x0c%]\\x8e\\xb2\\xd9\\xbaD@|\"\\xf4\\xd8\\xbb\\x93U\\xc0', '', '', 41.4597686, -86.3083403)\n",
      "(873, 'Hana Hlouskova', 'Supermarket', 'Hana Hlouskova', None, '(505) 555-0100', '(505) 555-0101', None, 'http://www.microsoft.com/HanaHlouskova/', 'Delivery Van', 'Moquino', b'\\xe6\\x10\\x00\\x00\\x01\\x0c\\xa7\\xe0\\x95\\xc9\\x15\\x96A@!\\x15\\x10\\xa4\\x9c\\xd7Z\\xc0', '', '', 35.1725399, -107.3689356)\n",
      "(874, 'Daniel Martensson', 'Novelty Shop', 'Daniel Martensson', None, '(225) 555-0100', '(225) 555-0101', None, 'http://www.microsoft.com/DanielMartensson/', 'Delivery Van', 'Mamou', b'\\xe6\\x10\\x00\\x00\\x01\\x0ch\\xe7\\xd9QA\\xa2>@\\x16/\\xbb\\xcc\\xd5\\x1aW\\xc0', '', '', 30.6338092, -92.4192993)\n",
      "(875, 'Philip Walker', 'Novelty Shop', 'Philip Walker', None, '(216) 555-0100', '(216) 555-0101', None, 'http://www.microsoft.com/PhilipWalker/', 'Delivery Van', 'Waite Hill', b\"\\xe6\\x10\\x00\\x00\\x01\\x0cM\\xaf\\x8390\\xcfD@I\\xca'u\\x93XT\\xc0\", '', '', 41.6186592, -81.3840001)\n",
      "(876, 'Marie LeBatelier', 'Novelty Shop', 'Marie LeBatelier', None, '(210) 555-0100', '(210) 555-0101', None, 'http://www.microsoft.com/MarieLeBatelier/', 'Delivery Van', 'Coupland', b'\\xe6\\x10\\x00\\x00\\x01\\x0c(\\x91\\x8e\\xbc\\xbdu>@\\xa6\\x9c/\\xf6\\xdeXX\\xc0', '', '', 30.4599264, -97.3886085)\n",
      "(877, 'Leyla Siavashi', 'Gift Store', 'Leyla Siavashi', None, '(201) 555-0100', '(201) 555-0101', None, 'http://www.microsoft.com/LeylaSiavashi/', 'Delivery Van', 'Marcella', b'\\xe6\\x10\\x00\\x00\\x01\\x0c\\x8c\\xa1\\x9chW~D@\\x131\\x80K[\\x9eR\\xc0', '', '', 40.9870425, -74.4743222)\n",
      "(878, 'Miriam House', 'Corporate', 'Miriam House', None, '(701) 555-0100', '(701) 555-0101', None, 'http://www.microsoft.com/MiriamHouse/', 'Delivery Van', 'Makoti', b'\\xe6\\x10\\x00\\x00\\x01\\x0c->\\xaa\\x06\\x06\\xfbG@*\\xe1\\t\\xbd~sY\\xc0', '', '', 47.9611214, -101.8046105)\n",
      "(879, 'Jitka Necesana', 'Computer Store', 'Jitka Necesana', None, '(212) 555-0100', '(212) 555-0101', None, 'http://www.microsoft.com/JitkaNecesana/', 'Delivery Van', 'Conesus Lake', b'\\xe6\\x10\\x00\\x00\\x01\\x0c\\xdb[\\x80lHcE@y]\\x1a\\x1a\\xaamS\\xc0', '', '', 42.7756477, -77.7135072)\n",
      "(880, 'Edmee Glissen', 'Computer Store', 'Edmee Glissen', None, '(208) 555-0100', '(208) 555-0101', None, 'http://www.microsoft.com/EdmeeGlissen/', 'Delivery Van', 'McCammon', b'\\xe6\\x10\\x00\\x00\\x01\\x0c\\xc6\\xbb\\xc8\\xa9BSE@\\xe4\\x98v{Z\\x0c\\\\\\xc0', '', '', 42.6504719, -112.1930226)\n",
      "(881, 'Magdalena Michnova', 'Computer Store', 'Magdalena Michnova', None, '(907) 555-0100', '(907) 555-0101', None, 'http://www.microsoft.com/MagdalenaMichnova/', 'Delivery Van', 'Wrangell', b'\\xe6\\x10\\x00\\x00\\x01\\x0c\\x13\\xaf\\xfcCD<L@\\xc0\\xbfR\\xa7\\r\\x8c`\\xc0', '', '', 56.4708333, -132.3766667)\n",
      "(882, 'Maryann Huddleston', 'Gift Store', 'Maryann Huddleston', None, '(304) 555-0100', '(304) 555-0101', None, 'http://www.microsoft.com/MaryannHuddleston/', 'Delivery Van', 'Robertsburg', b\"\\xe6\\x10\\x00\\x00\\x01\\x0c'>-\\xf5\\xe2SC@u\\xf8\\xb5?\\xe1|T\\xc0\", '', '', 38.6553637, -81.9512481)\n",
      "(883, 'Radha Barua', 'Gift Store', 'Radha Barua', None, '(405) 555-0100', '(405) 555-0101', None, 'http://www.microsoft.com/RadhaBarua/', 'Delivery Van', 'McQueen', b'\\xe6\\x10\\x00\\x00\\x01\\x0cZ\\x96l\\xd3\\xd8UA@m\\xd9\\x91Ro\\xeeX\\xc0', '', '', 34.6706795006, -99.7255445885)\n",
      "(884, 'Anindya Ghatak', 'Computer Store', 'Anindya Ghatak', None, '(219) 555-0100', '(219) 555-0101', None, 'http://www.microsoft.com/AnindyaGhatak/', 'Delivery Van', 'Switz City', b'\\xe6\\x10\\x00\\x00\\x01\\x0c\\x14\\xaeG\\xe1z\\x84C@\\x08\\xac\\x1cZd\\xc3U\\xc0', '', '', 39.035, -87.053)\n",
      "(885, 'Chandrashekhar Dasgupta', 'Corporate', 'Chandrashekhar Dasgupta', None, '(208) 555-0100', '(208) 555-0101', None, 'http://www.microsoft.com/ChandrashekharDasgupta/', 'Delivery Van', 'New Plymouth', b'\\xe6\\x10\\x00\\x00\\x01\\x0c\\xe7j\\xd0<%\\xfcE@j\\x87\\xbf&k4]\\xc0', '', '', 43.9698864, -116.81904)\n",
      "(886, 'Debbie Molina', 'Supermarket', 'Debbie Molina', None, '(270) 555-0100', '(270) 555-0101', None, 'http://www.microsoft.com/DebbieMolina/', 'Delivery Van', 'Garlin', b'\\xe6\\x10\\x00\\x00\\x01\\x0cN\"g\\x06\\x96\\x8eB@\\xe8\\x87\\x11\\xc2#PU\\xc0', '', '', 37.1139534, -85.2521825)\n",
      "(887, 'Baran Jonsson', 'Supermarket', 'Baran Jonsson', None, '(458) 555-0100', '(458) 555-0101', None, 'http://www.microsoft.com/BaranJonsson/', 'Delivery Van', 'Cave Junction', b'\\xe6\\x10\\x00\\x00\\x01\\x0c1gl\\x9e\\xd9\\x14E@8\\x11\\xfd\\xdaz\\xe9^\\xc0', '', '', 42.1628912, -123.6481235)\n",
      "(888, 'Jai Lamble', 'Corporate', 'Jai Lamble', None, '(479) 555-0100', '(479) 555-0101', None, 'http://www.microsoft.com/JaiLamble/', 'Delivery Van', 'Grider', b'\\xe6\\x10\\x00\\x00\\x01\\x0c\\xdfb\\x8f\\x9a\\xc0\\xd1A@=b\\xf4\\xdc\\xc2~V\\xc0', '', '', 35.6386903, -89.9806435)\n",
      "(889, 'Sointu Savonheimo', 'Gift Store', 'Sointu Savonheimo', None, '(701) 555-0100', '(701) 555-0101', None, 'http://www.microsoft.com/SointuSavonheimo/', 'Delivery Van', 'Argusville', b'\\xe6\\x10\\x00\\x00\\x01\\x0c\\x83\\xcb\\x19@\\xae\\x86G@\\x9cmnL\\xcf;X\\xc0', '', '', 47.0521927, -96.9345275)\n",
      "(890, 'Olya Izmaylov', 'Computer Store', 'Olya Izmaylov', None, '(210) 555-0100', '(210) 555-0101', None, 'http://www.microsoft.com/OlyaIzmaylov/', 'Delivery Van', 'Flowella', b'\\xe6\\x10\\x00\\x00\\x01\\x0cHG\\x83%h7;@\\xc63h\\xe8\\x1f\\x84X\\xc0', '', '', 27.2164329, -98.0644475)\n",
      "(891, 'Taneli Riutta', 'Supermarket', 'Taneli Riutta', None, '(276) 555-0100', '(276) 555-0101', None, 'http://www.microsoft.com/TaneliRiutta/', 'Delivery Van', 'Sandy Level', b'\\xe6\\x10\\x00\\x00\\x01\\x0c\\x91\\x10@\\xc5\\xccHB@\\xa9p_b\\x07\\xeeS\\xc0', '', '', 36.5687491, -79.7192007)\n",
      "(892, 'Bahaar Asef zade', 'Supermarket', 'Bahaar Asef zade', None, '(225) 555-0100', '(225) 555-0101', None, 'http://www.microsoft.com/BahaarAsefzade/', 'Delivery Van', 'Alden Bridge', b'\\xe6\\x10\\x00\\x00\\x01\\x0c\\xd8\\x1dA\\xe07c@@\\x1eSwe\\x17nW\\xc0', '', '', 32.7751427, -93.720178)\n",
      "(893, 'Leyla Asef zade', 'Novelty Shop', 'Leyla Asef zade', None, '(216) 555-0100', '(216) 555-0101', None, 'http://www.microsoft.com/LeylaAsefzade/', 'Delivery Van', 'West Elkton', b'\\xe6\\x10\\x00\\x00\\x01\\x0cQ\\x83i\\x18>\\xcbC@\\xfd\\xc7\\x9d-{#U\\xc0', '', '', 39.5878325, -84.5543932)\n",
      "(894, 'Gabriela Hernandes', 'Corporate', 'Gabriela Hernandes', None, '(239) 555-0100', '(239) 555-0101', None, 'http://www.microsoft.com/GabrielaHernandes/', 'Delivery Van', 'Cypress Quarters', b'\\xe6\\x10\\x00\\x00\\x01\\x0c\\x9a\\xe9\\x03n\\x82@;@\\xf4F\\xf7\\xbd\\x174T\\xc0', '', '', 27.2519902, -80.8139491)\n",
      "(895, 'Geza Roman', 'Corporate', 'Geza Roman', None, '(215) 555-0100', '(215) 555-0101', None, 'http://www.microsoft.com/GezaRoman/', 'Delivery Van', 'Oval', b'\\xe6\\x10\\x00\\x00\\x01\\x0c7\\r\\x9b\\x12Z\\x93D@\\xb8\\xa5\\x1f\\x1e\\xd3JS\\xc0', '', '', 41.1511863, -77.1691356)\n",
      "(896, 'Leonardo Folliero', 'Supermarket', 'Leonardo Folliero', None, '(339) 555-0100', '(339) 555-0101', None, 'http://www.microsoft.com/LeonardoFolliero/', 'Delivery Van', 'Cotuit', b'\\xe6\\x10\\x00\\x00\\x01\\x0c\\x13\\xf8\\x1e\\x89\\xf2\\xceD@\\xb1\\xf4FR\\xf7\\x9bQ\\xc0', '', '', 41.6167766, -70.4369703)\n",
      "(897, 'Allan Mannik', 'Corporate', 'Allan Mannik', None, '(218) 555-0100', '(218) 555-0101', None, 'http://www.microsoft.com/AllanMannik/', 'Delivery Van', 'Lake Crystal', b'\\xe6\\x10\\x00\\x00\\x01\\x0c\\xa7\\xc0\\x13\\xc4\\x8a\\rF@\\xf3\\xef\\xe9\\xa0\\x01\\x8eW\\xc0', '', '', 44.1057973, -94.2188494)\n",
      "(898, 'Gopalgobinda Sikdar', 'Computer Store', 'Gopalgobinda Sikdar', None, '(307) 555-0100', '(307) 555-0101', None, 'http://www.microsoft.com/GopalgobindaSikdar/', 'Delivery Van', 'Orpha', b'\\xe6\\x10\\x00\\x00\\x01\\x0cI\\x1f\\xa9tfmE@51\\x13\\xfb:`Z\\xc0', '', '', 42.8546892, -105.5035999)\n",
      "(899, 'Chin-Sun Chang', 'Corporate', 'Chin-Sun Chang', None, '(605) 555-0100', '(605) 555-0101', None, 'http://www.microsoft.com/Chin-SunChang/', 'Delivery Van', 'Capa', b'\\xe6\\x10\\x00\\x00\\x01\\x0czm\\xdb\\x9c\\xef\\rF@\\x81\\xc7\\\\\\xbe\\x9a>Y\\xc0', '', '', 44.1088749, -100.9781948)\n",
      "(900, 'Lilli Sokk', 'Gift Store', 'Lilli Sokk', None, '(229) 555-0100', '(229) 555-0101', None, 'http://www.microsoft.com/LilliSokk/', 'Delivery Van', 'Gresston', b'\\xe6\\x10\\x00\\x00\\x01\\x0c\\xac;\\x16\\xdb\\xa4$@@\\xdaq\\xc3\\xef&\\xd0T\\xc0', '', '', 32.286281, -83.2523765)\n",
      "(901, 'Adrian Andreasson', 'Corporate', 'Adrian Andreasson', None, '(217) 555-0100', '(217) 555-0101', None, 'http://www.microsoft.com/AdrianAndreasson/', 'Delivery Van', 'Du Quoin', b'\\xe6\\x10\\x00\\x00\\x01\\x0c\\xcf\\xb1\\xcd\\xd7v\\x01C@\\xc7\\x81W\\xcb\\x1dOV\\xc0', '', '', 38.0114393, -89.2361935)\n",
      "(902, 'Kamila Michnova', 'Supermarket', 'Kamila Michnova', None, '(210) 555-0100', '(210) 555-0101', None, 'http://www.microsoft.com/KamilaMichnova/', 'Delivery Van', 'The Colony', b'\\xe6\\x10\\x00\\x00\\x01\\x0c\\xaf\\x04\\xf7\\xa8d\\x8b@@}\\x9bY\\xa6\\xba8X\\xc0', '', '', 33.0890094, -96.8863922)\n",
      "(903, 'Bing Han', 'Computer Store', 'Bing Han', None, '(228) 555-0100', '(228) 555-0101', None, 'http://www.microsoft.com/BingHan/', 'Delivery Van', 'Darling', b'\\xe6\\x10\\x00\\x00\\x01\\x0c\\x00+\\xd1\\xa3\\xf3-A@j\\x85\\xe9{\\x8d\\x91V\\xc0', '', '', 34.3589978, -90.2742605)\n",
      "(904, 'Olafs Rozitis', 'Corporate', 'Olafs Rozitis', None, '(316) 555-0100', '(316) 555-0101', None, 'http://www.microsoft.com/OlafsRozitis/', 'Delivery Van', 'Sherwin', b'\\xe6\\x10\\x00\\x00\\x01\\x0c\\xa0\\x9e\\xe3H\\x0c\\x97B@\\x15+\\xb4\\xbd\\xa7\\xbcW\\xc0', '', '', 37.1800624, -94.9477381)\n",
      "(905, 'Sara Huiting', 'Supermarket', 'Sara Huiting', None, '(218) 555-0100', '(218) 555-0101', None, 'http://www.microsoft.com/SaraHuiting/', 'Delivery Van', 'Bock', b'\\xe6\\x10\\x00\\x00\\x01\\x0c9\\x8ab\\xa8y\\xe4F@AC\\xa4K\\xa4cW\\xc0', '', '', 45.7849627, -93.5569028)\n",
      "(906, 'Ajitaab Pakalapati', 'Computer Store', 'Ajitaab Pakalapati', None, '(209) 555-0100', '(209) 555-0101', None, 'http://www.microsoft.com/AjitaabPakalapati/', 'Delivery Van', 'Caruthers', b'\\xe6\\x10\\x00\\x00\\x01\\x0c\\x93\\x93\\xe4\\x14xEB@\\x11\\xa9i\\x17S\\xf5]\\xc0', '', '', 36.5427271, -119.8331965)\n",
      "(907, 'Eugen Agafitei', 'Supermarket', 'Eugen Agafitei', None, '(252) 555-0100', '(252) 555-0101', None, 'http://www.microsoft.com/EugenAgafitei/', 'Delivery Van', 'Shawboro', b'\\xe6\\x10\\x00\\x00\\x01\\x0c\\xcc\\x1a\\x06=\\xe53B@bk\\x11\\xac\\x05\\x06S\\xc0', '', '', 36.4054333, -76.0940962)\n",
      "(908, 'Sumati Bhat', 'Novelty Shop', 'Sumati Bhat', None, '(206) 555-0100', '(206) 555-0101', None, 'http://www.microsoft.com/SumatiBhat/', 'Delivery Van', 'Harbour Pointe', b'\\xe6\\x10\\x00\\x00\\x01\\x0c\\xa1\\x13B\\x07]\\xf1G@\\x08y\\x98Q\\x87\\x93^\\xc0', '', '', 47.8856515, -122.3051342)\n",
      "(909, 'Dena Glissen', 'Supermarket', 'Dena Glissen', None, '(316) 555-0100', '(316) 555-0101', None, 'http://www.microsoft.com/DenaGlissen/', 'Delivery Van', 'Coffeyville', b'\\xe6\\x10\\x00\\x00\\x01\\x0c\\xee\\xcfEC\\xc6\\x84B@f\\xf6y\\x8cr\\xe7W\\xc0', '', '', 37.0373005, -95.6163665)\n",
      "(910, 'Elina Kaleja', 'Gift Store', 'Elina Kaleja', None, '(225) 555-0100', '(225) 555-0101', None, 'http://www.microsoft.com/ElinaKaleja/', 'Delivery Van', 'Golden Meadow', b'\\xe6\\x10\\x00\\x00\\x01\\x0c\\x1d\\x8c}n\\ra=@\\xb7\\xb8!!\\xa5\\x90V\\xc0', '', '', 29.3791112, -90.2600787)\n",
      "(911, 'Liidia Lepp', 'Gift Store', 'Liidia Lepp', None, '(276) 555-0100', '(276) 555-0101', None, 'http://www.microsoft.com/LiidiaLepp/', 'Delivery Van', 'Oakpark', b'\\xe6\\x10\\x00\\x00\\x01\\x0c\\x1e\\xe8W)\\xf3.C@\\x1c\\x14\\x83v=\\x8aS\\xc0', '', '', 38.3667957, -78.1600014)\n",
      "(912, 'Volkan senturk', 'Computer Store', 'Volkan senturk', None, '(276) 555-0100', '(276) 555-0101', None, 'http://www.microsoft.com/Volkansenturk/', 'Delivery Van', 'Wyndham', b'\\xe6\\x10\\x00\\x00\\x01\\x0cr<\\xfa\\xbag\\xd9B@{\\xcb\\x8b\\x023gS\\xc0', '', '', 37.6984781, -77.6124884)\n",
      "(913, 'Violetta KlanCisar', 'Supermarket', 'Violetta KlanCisar', None, '(225) 555-0100', '(225) 555-0101', None, 'http://www.microsoft.com/ViolettaKlanCisar/', 'Delivery Van', 'Bayou Cane', b'\\xe6\\x10\\x00\\x00\\x01\\x0cB^\\x0f&\\xc5\\x9f=@\\x85\\xcb\\xcf\\xb2\\x13\\xb0V\\xc0', '', '', 29.624102, -90.7512023)\n",
      "(914, 'Chandana Shasthri', 'Supermarket', 'Chandana Shasthri', None, '(803) 555-0100', '(803) 555-0101', None, 'http://www.microsoft.com/ChandanaShasthri/', 'Delivery Van', 'Nesmith', b'\\xe6\\x10\\x00\\x00\\x01\\x0c\\x1e!\\xb9\\xeb[\\xd4@@\\xa8\\x1eip\\xdb\\xe0S\\xc0', '', '', 33.6590552, -79.5133935)\n",
      "(915, 'Ana Florea', 'Corporate', 'Ana Florea', None, '(210) 555-0100', '(210) 555-0101', None, 'http://www.microsoft.com/AnaFlorea/', 'Delivery Van', 'Buchanan Lake Village', b'\\xe6\\x10\\x00\\x00\\x01\\x0c\\xec\\x1f\\xfa\\xa4\\xc9\\xd9>@NT\\x809\\xc4\\x9cX\\xc0', '', '', 30.8507331, -98.4494766)\n",
      "(916, 'Pinja Jantunen', 'Gift Store', 'Pinja Jantunen', None, '(308) 555-0100', '(308) 555-0101', None, 'http://www.microsoft.com/PinjaJantunen/', 'Delivery Van', 'Nehawka', b'\\xe6\\x10\\x00\\x00\\x01\\x0c\\xba\\xa50J+jD@F\\x10B\\x9bw\\xffW\\xc0', '', '', 40.8294461, -95.9916752)\n",
      "(917, 'Pari Hosseini', 'Novelty Shop', 'Pari Hosseini', None, '(505) 555-0100', '(505) 555-0101', None, 'http://www.microsoft.com/PariHosseini/', 'Delivery Van', 'Soham', b'\\xe6\\x10\\x00\\x00\\x01\\x0c\\x8d\"\\x10T2\\xb5A@7v\\xe4\\xa3\\xa0_Z\\xc0', '', '', 35.4155984, -105.4941797)\n",
      "(918, 'Isidora Morales', 'Novelty Shop', 'Isidora Morales', None, '(406) 555-0100', '(406) 555-0101', None, 'http://www.microsoft.com/IsidoraMorales/', 'Delivery Van', 'Twodot', b'\\xe6\\x10\\x00\\x00\\x01\\x0c5\\x82\\xe8\\xa4R6G@Cr2q\\xab\\x84[\\xc0', '', '', 46.4243971, -110.072964)\n",
      "(919, 'Kertu Sokk', 'Computer Store', 'Kertu Sokk', None, '(212) 555-0100', '(212) 555-0101', None, 'http://www.microsoft.com/KertuSokk/', 'Delivery Van', 'Greig', b'\\xe6\\x10\\x00\\x00\\x01\\x0c}\\xcc\\x07\\x04:\\xd7E@\\x93\\xf9\\xec%\\xb2\\xd6R\\xc0', '', '', 43.681458, -75.3546233)\n",
      "(920, 'Gayatri Gajula', 'Computer Store', 'Gayatri Gajula', None, '(212) 555-0100', '(212) 555-0101', None, 'http://www.microsoft.com/GayatriGajula/', 'Delivery Van', 'Shenorock', b'\\xe6\\x10\\x00\\x00\\x01\\x0c\\xf9\\x8c\\x9f!w\\xaaD@\\x04\\x144w>oR\\xc0', '', '', 41.3317606, -73.7381876)\n",
      "(921, 'Victoria Lacusta', 'Supermarket', 'Victoria Lacusta', None, '(212) 555-0100', '(212) 555-0101', None, 'http://www.microsoft.com/VictoriaLacusta/', 'Delivery Van', 'Conewango', b'\\xe6\\x10\\x00\\x00\\x01\\x0c\\xf4=~\\xca\\x8c\\x1eE@\\xf5\\xcdGc\\xfe\\xc1S\\xc0', '', '', 42.2386716, -79.0311516)\n",
      "(922, 'Sumati Chatterjee', 'Gift Store', 'Sumati Chatterjee', None, '(231) 555-0100', '(231) 555-0101', None, 'http://www.microsoft.com/SumatiChatterjee/', 'Delivery Van', 'North Muskegon', b'\\xe6\\x10\\x00\\x00\\x01\\x0c\\xa5\\x17\\x10\\xb5\\xc8\\xa0E@\\xf0m\\xfa\\xb3\\x1f\\x91U\\xc0', '', '', 43.2561251, -86.26756)\n",
      "(923, 'Tai Bach', 'Novelty Shop', 'Tai Bach', None, '(219) 555-0100', '(219) 555-0101', None, 'http://www.microsoft.com/TaiBach/', 'Delivery Van', 'Fortville', b'\\xe6\\x10\\x00\\x00\\x01\\x0c\\xc3d\\xaa`T\\xf7C@k6E6FvU\\xc0', '', '', 39.9322625, -85.8480354)\n",
      "(924, 'Eva Schulteisz', 'Novelty Shop', 'Eva Schulteisz', None, '(252) 555-0100', '(252) 555-0101', None, 'http://www.microsoft.com/EvaSchulteisz/', 'Delivery Van', 'Hightsville', b'\\xe6\\x10\\x00\\x00\\x01\\x0c\\x05\\x86Q\\xb5\\x82\"A@\\x96\\x0b\\xf08\\xa0{S\\xc0', '', '', 34.2696139, -77.9316542)\n",
      "(925, 'Can ozcan', 'Corporate', 'Can ozcan', None, '(215) 555-0100', '(215) 555-0101', None, 'http://www.microsoft.com/Canozcan/', 'Delivery Van', 'Oley', b'\\xe6\\x10\\x00\\x00\\x01\\x0c\\xc8\\x11\\xc6\\xaa\\x9c1D@\\xa2\\x06xw\\x89\\xf2R\\xc0', '', '', 40.3875936, -75.7896403)\n",
      "(926, 'Richard Friar', 'Corporate', 'Richard Friar', None, '(339) 555-0100', '(339) 555-0101', None, 'http://www.microsoft.com/RichardFriar/', 'Delivery Van', 'North Eastham', b'\\xe6\\x10\\x00\\x00\\x01\\x0c\\xca\\x04W\\xd4\\xbb\\xeeD@\\\\\\xe4\\x9e\\xaen\\x7fQ\\xc0', '', '', 41.8651071, -69.9911305)\n",
      "(927, 'Matyas Sedlar', 'Novelty Shop', 'Matyas Sedlar', None, '(270) 555-0100', '(270) 555-0101', None, 'http://www.microsoft.com/MatyasSedlar/', 'Delivery Van', 'Calvert City', b'\\xe6\\x10\\x00\\x00\\x01\\x0ce\\x03D\\x1cF\\x84B@\\xa2\\xda;\\xfef\\x16V\\xc0', '', '', 37.0333896, -88.3500362)\n",
      "(928, 'Arijit Bhuiyan', 'Computer Store', 'Arijit Bhuiyan', None, '(212) 555-0100', '(212) 555-0101', None, 'http://www.microsoft.com/ArijitBhuiyan/', 'Delivery Van', 'Esopus', b'\\xe6\\x10\\x00\\x00\\x01\\x0c\\x87\\xe8\\xc6\\xaa\\xf7\\xe9D@T(\\xc1\\xd1\\xc4}R\\xc0', '', '', 41.8278707, -73.9651379)\n",
      "(929, 'Vladimir Henzl', 'Supermarket', 'Vladimir Henzl', None, '(907) 555-0100', '(907) 555-0101', None, 'http://www.microsoft.com/VladimirHenzl/', 'Delivery Van', 'Port Chilkoot', b'\\xe6\\x10\\x00\\x00\\x01\\x0cn\\xf5A;L\\x9dM@F\\xbd\\x96F\\x02\\xee`\\xc0', '', '', 59.2288889, -135.4377778)\n",
      "(930, 'Shantanu Huq', 'Gift Store', 'Shantanu Huq', None, '(252) 555-0100', '(252) 555-0101', None, 'http://www.microsoft.com/ShantanuHuq/', 'Delivery Van', 'Cramerton', b'\\xe6\\x10\\x00\\x00\\x01\\x0c\\x16\\xf4\\x83_\\x8f\\x9eA@[\\x0eO\\n\\xceDT\\xc0', '', '', 35.2387504, -81.0750757)\n",
      "(931, 'Nada Jovanovic', 'Corporate', 'Nada Jovanovic', None, '(215) 555-0100', '(215) 555-0101', None, 'http://www.microsoft.com/NadaJovanovic/', 'Delivery Van', 'North York', b'\\xe6\\x10\\x00\\x00\\x01\\x0cz;\\x1d#4\\xfdC@Go]\\xd6\\xe9.S\\xc0', '', '', 39.9781536, -76.7330223)\n",
      "(932, 'Nicolo Cattaneo', 'Corporate', 'Nicolo Cattaneo', None, '(212) 555-0100', '(212) 555-0101', None, 'http://www.microsoft.com/NicoloCattaneo/', 'Delivery Van', 'Schoharie', b'\\xe6\\x10\\x00\\x00\\x01\\x0c.\\x0f\\xe3\\x7f<UE@r\\x02.#\\xd0\\x93R\\xc0', '', '', 42.6659088, -74.3095787)\n",
      "(933, 'Joel Carrillo', 'Computer Store', 'Joel Carrillo', None, '(405) 555-0100', '(405) 555-0101', None, 'http://www.microsoft.com/JoelCarrillo/', 'Delivery Van', 'Drumright', b\"\\xe6\\x10\\x00\\x00\\x01\\x0c\\r\\xa7?H\\x05\\xffA@\\x0c>\\xf3\\x90\\xfe'X\\xc0\", '', '', 35.9923487006, -96.6249124885)\n",
      "(934, 'Ivan Sepulveda', 'Novelty Shop', 'Ivan Sepulveda', None, '(218) 555-0100', '(218) 555-0101', None, 'http://www.microsoft.com/IvanSepulveda/', 'Delivery Van', 'Northrop', b'\\xe6\\x10\\x00\\x00\\x01\\x0cb\\xce}\\x83@\\xdeE@\\xc2S#O\\xed\\x9bW\\xc0', '', '', 43.7363438, -94.4363592)\n",
      "(935, 'Daevasree Samavedam', 'Corporate', 'Daevasree Samavedam', None, '(201) 555-0100', '(201) 555-0101', None, 'http://www.microsoft.com/DaevasreeSamavedam/', 'Delivery Van', 'Golf View', b'\\xe6\\x10\\x00\\x00\\x01\\x0cA\\xa8A\\x87\\xaf\\xd9C@`\\xfdD\\n\\n\\xdeR\\xc0', '', '', 39.7006692, -75.4693628)\n",
      "(936, 'Ludmila Smidova', 'Novelty Shop', 'Ludmila Smidova', None, '(480) 555-0100', '(480) 555-0101', None, 'http://www.microsoft.com/LudmilaSmidova/', 'Delivery Van', 'Tempe', b'\\xe6\\x10\\x00\\x00\\x01\\x0c\\xb3\\xb6)\\x1e\\x17\\xb5@@L\\x1cy 2\\xfa[\\xc0', '', '', 33.414768, -111.9093095)\n",
      "(937, 'Manca Hrastovsek', 'Gift Store', 'Manca Hrastovsek', None, '(205) 555-0100', '(205) 555-0101', None, 'http://www.microsoft.com/MancaHrastovsek/', 'Delivery Van', 'Southside', b'\\xe6\\x10\\x00\\x00\\x01\\x0c\\x8c\\xa1\\x9chW\\xf6@@D\\x85\\x8f-p\\x81U\\xc0', '', '', 33.9245425, -86.0224718)\n",
      "(938, 'Anna Gyarmathi', 'Novelty Shop', 'Anna Gyarmathi', None, '(252) 555-0100', '(252) 555-0101', None, 'http://www.microsoft.com/AnnaGyarmathi/', 'Delivery Van', 'Kannapolis', b\"\\xe6\\x10\\x00\\x00\\x01\\x0c\\x04k\\xe6\\xdaa\\xbeA@\\xb6\\x93\\xd2}\\xca'T\\xc0\", '', '', 35.4873613, -80.6217341)\n",
      "(939, 'Ioana Florea', 'Supermarket', 'Ioana Florea', None, '(339) 555-0100', '(339) 555-0101', None, 'http://www.microsoft.com/IoanaFlorea/', 'Delivery Van', 'Nahant', b'\\xe6\\x10\\x00\\x00\\x01\\x0cBZ\\x08\\x17\\x976E@0\\xe5\\x8d\\xdd\\xcf\\xbaQ\\xc0', '', '', 42.4264859, -70.9189371)\n",
      "(940, 'Lorin Astrom', 'Gift Store', 'Lorin Astrom', None, '(210) 555-0100', '(210) 555-0101', None, 'http://www.microsoft.com/LorinAstrom/', 'Delivery Van', 'Port Alto', b'\\xe6\\x10\\x00\\x00\\x01\\x0c5\\nIf\\xf5\\xa8<@\\x060\\xc0\\x99s\\x1aX\\xc0', '', '', 28.6599945, -96.4133057)\n",
      "(941, 'Bishwa Chatterjee', 'Novelty Shop', 'Bishwa Chatterjee', None, '(239) 555-0100', '(239) 555-0101', None, 'http://www.microsoft.com/BishwaChatterjee/', 'Delivery Van', 'Lake Clarke Shores', b'\\xe6\\x10\\x00\\x00\\x01\\x0c\\xf1#\\xc8R5\\xa5:@\\x8ad~$\\xdb\\x04T\\xc0', '', '', 26.6453449, -80.0758754)\n",
      "(942, 'Chaayaadaevi Sonti', 'Corporate', 'Chaayaadaevi Sonti', None, '(217) 555-0100', '(217) 555-0101', None, 'http://www.microsoft.com/ChaayaadaeviSonti/', 'Delivery Van', 'Roachtown', b'\\xe6\\x10\\x00\\x00\\x01\\x0c\\xe8\\xc7\\xba\\x13G;C@\\xa9e\\x10\\xc4\\x9e\\x82V\\xc0', '', '', 38.4631066, -90.0409403)\n",
      "(943, 'Drazenka Jelic', 'Novelty Shop', 'Drazenka Jelic', None, '(803) 555-0100', '(803) 555-0101', None, 'http://www.microsoft.com/DrazenkaJelic/', 'Delivery Van', 'Cherry Grove Beach', b'\\xe6\\x10\\x00\\x00\\x01\\x0c\\x1e\\xb1\\xcc\\x11\\xe8\\xe9@@\\xeeG\\xe5\\x81#\\xa9S\\xc0', '', '', 33.8273947, -78.6427922)\n",
      "(944, 'Ida Celma', 'Novelty Shop', 'Ida Celma', None, '(319) 555-0100', '(319) 555-0101', None, 'http://www.microsoft.com/IdaCelma/', 'Delivery Van', 'Hawarden', b'\\xe6\\x10\\x00\\x00\\x01\\x0c@S\\n\\x15w\\x7fE@\"\\xfeaK\\x0f\\x1fX\\xc0', '', '', 42.9958216, -96.4853085)\n",
      "(945, 'Hoc Tran', 'Computer Store', 'Hoc Tran', None, '(339) 555-0100', '(339) 555-0101', None, 'http://www.microsoft.com/HocTran/', 'Delivery Van', 'White Horse Beach', b'\\xe6\\x10\\x00\\x00\\x01\\x0c\\\\\\x8f\\xc2\\xf5(\\xf7D@\\xe69\\xc7%\\xb3\\xa3Q\\xc0', '', '', 41.9309375, -70.5578093)\n",
      "(946, 'David safranek', 'Supermarket', 'David safranek', None, '(215) 555-0100', '(215) 555-0101', None, 'http://www.microsoft.com/Davidsafranek/', 'Delivery Van', 'Toughkenamon', b'\\xe6\\x10\\x00\\x00\\x01\\x0cP\\x95\\xa5\\x8cn\\xeaC@\\xc2mm\\xe1y\\xf0R\\xc0', '', '', 39.8314987, -75.757439)\n",
      "(947, 'Svetlana Todorovic', 'Supermarket', 'Svetlana Todorovic', None, '(206) 555-0100', '(206) 555-0101', None, 'http://www.microsoft.com/SvetlanaTodorovic/', 'Delivery Van', 'Venersborg', b'\\xe6\\x10\\x00\\x00\\x01\\x0c\\xcc\\x85%y\\t\\xe3F@\\r\\x17\\xb9\\xa7+\\x9b^\\xc0', '', '', 45.7737266, -122.4245395)\n",
      "(948, 'Richard Zahradnicek', 'Supermarket', 'Richard Zahradnicek', None, '(314) 555-0100', '(314) 555-0101', None, 'http://www.microsoft.com/RichardZahradnicek/', 'Delivery Van', 'Jane', b'\\xe6\\x10\\x00\\x00\\x01\\x0c\\xcf\\x1cH\\xcd\\rFB@\\xb4\\x18\\xe1\\x92\\x88\\x93W\\xc0', '', '', 36.5472962, -94.3052108)\n",
      "(949, 'Seo-yun Paik', 'Corporate', 'Seo-yun Paik', None, '(210) 555-0100', '(210) 555-0101', None, 'http://www.microsoft.com/Seo-yunPaik/', 'Delivery Van', 'Jones Creek', b'\\xe6\\x10\\x00\\x00\\x01\\x0c\\x0c\\x01e\\xf8\\xf4\\xf7<@`\\x1dlV\"\\xddW\\xc0', '', '', 28.9685817, -95.4552208)\n",
      "(950, 'Emily Whittle', 'Corporate', 'Emily Whittle', None, '(231) 555-0100', '(231) 555-0101', None, 'http://www.microsoft.com/EmilyWhittle/', 'Delivery Van', 'Huntington Woods', b'\\xe6\\x10\\x00\\x00\\x01\\x0c\\xfe\\x1e\\x06\\x04\\x84=E@\\x06\\t\\xf6\\x04\\xae\\xcaT\\xc0', '', '', 42.4805913, -83.1668713)\n",
      "(951, 'Eliza Persson', 'Supermarket', 'Eliza Persson', None, '(209) 555-0100', '(209) 555-0101', None, 'http://www.microsoft.com/ElizaPersson/', 'Delivery Van', 'Jesmond Dene', b'\\xe6\\x10\\x00\\x00\\x01\\x0cI:\\xb9\\x95\\x14\\x97@@\\xcc\\xb0\\xf6\\x1c\\xfdF]\\xc0', '', '', 33.1803157, -117.1091988)\n",
      "(952, 'Chuan Wattanasin', 'Novelty Shop', 'Chuan Wattanasin', None, '(217) 555-0100', '(217) 555-0101', None, 'http://www.microsoft.com/ChuanWattanasin/', 'Delivery Van', 'Flanagan', b'\\xe6\\x10\\x00\\x00\\x01\\x0c\\xae\\xbc?9epD@D\\xbaD\\x9a\\x1d7V\\xc0', '', '', 40.8780891, -88.8611818)\n",
      "(953, 'Linh Dao', 'Supermarket', 'Linh Dao', None, '(228) 555-0100', '(228) 555-0101', None, 'http://www.microsoft.com/LinhDao/', 'Delivery Van', 'Mashulaville', b'\\xe6\\x10\\x00\\x00\\x01\\x0c\\x86\\x81\\xf8\\n\\x1c\\x8b@@\\xefg\\xc2@\\xa1/V\\xc0', '', '', 33.0867933, -88.7442171)\n",
      "(954, 'Nasrin Omidzadeh', 'Supermarket', 'Nasrin Omidzadeh', None, '(239) 555-0100', '(239) 555-0101', None, 'http://www.microsoft.com/NasrinOmidzadeh/', 'Delivery Van', 'Mary Esther', b'\\xe6\\x10\\x00\\x00\\x01\\x0cam\\x8c\\x9d\\xf0h>@\\\\\\xfb\\xa7\\xc0n\\xaaU\\xc0', '', '', 30.4099215, -86.6630098)\n",
      "(955, 'Raghu Sandhu', 'Novelty Shop', 'Raghu Sandhu', None, '(240) 555-0100', '(240) 555-0101', None, 'http://www.microsoft.com/RaghuSandhu/', 'Delivery Van', 'Bowleys Quarters', b'\\xe6\\x10\\x00\\x00\\x01\\x0c\\xe6\\x85*\\xeb\\xed\\xaaC@\\x0f\\x0b\\xb5\\xa6\\xf9\\x18S\\xc0', '', '', 39.3353857, -76.3902375)\n",
      "(956, 'Nhung Thach', 'Computer Store', 'Nhung Thach', None, '(480) 555-0100', '(480) 555-0101', None, 'http://www.microsoft.com/NhungThach/', 'Delivery Van', 'Red Mesa', b'\\xe6\\x10\\x00\\x00\\x01\\x0c\\xa7M+\\xf5\\x0b{B@\\xf8m\\xf0\\xd4\\xcfV[\\xc0', '', '', 36.9613024198, -109.356435046)\n",
      "(957, 'Hee-Young Suh', 'Novelty Shop', 'Hee-Young Suh', None, '(209) 555-0100', '(209) 555-0101', None, 'http://www.microsoft.com/Hee-YoungSuh/', 'Delivery Van', 'Nicasio', b'\\xe6\\x10\\x00\\x00\\x01\\x0c\\xa4\\xa7\\xc8!\\xe2\\x07C@P\\xe4I\\xd2\\xb5\\xac^\\xc0', '', '', 38.0615885, -122.6985975)\n",
      "(958, 'Valentin Tirlea', 'Gift Store', 'Valentin Tirlea', None, '(210) 555-0100', '(210) 555-0101', None, 'http://www.microsoft.com/ValentinTirlea/', 'Delivery Van', 'Pharr', b'\\xe6\\x10\\x00\\x00\\x01\\x0c\\x94b\\xec)\\xde1:@\\xb5\\xb5\\xcft\\xc0\\x8bX\\xc0', '', '', 26.1947962, -98.1836216)\n",
      "(959, 'Dhaatri Chavva', 'Novelty Shop', 'Dhaatri Chavva', None, '(207) 555-0100', '(207) 555-0101', None, 'http://www.microsoft.com/DhaatriChavva/', 'Delivery Van', 'Edgecomb', b'\\xe6\\x10\\x00\\x00\\x01\\x0cB\\xc8\\x1eF\\xad\\xfaE@\\xb3\\xb2}\\xc8[hQ\\xc0', '', '', 43.9584129, -69.630602)\n",
      "(960, 'Edgar Jogi', 'Computer Store', 'Edgar Jogi', None, '(209) 555-0100', '(209) 555-0101', None, 'http://www.microsoft.com/EdgarJogi/', 'Delivery Van', 'Bombay Beach', b'\\xe6\\x10\\x00\\x00\\x01\\x0c\\xb2\\xe043\\xe9\\xac@@9\\xd9a\\xa7\\xb3\\xee\\\\\\xc0', '', '', 33.3508667, -115.7297152)\n",
      "(961, 'Rani Ganguly', 'Gift Store', 'Rani Ganguly', None, '(209) 555-0100', '(209) 555-0101', None, 'http://www.microsoft.com/RaniGanguly/', 'Delivery Van', 'Arrowhead Highlands', b'\\xe6\\x10\\x00\\x00\\x01\\x0c[\\xad\\xb8\\xddp\\x1dA@\\xc4m~\\r\\xd2P]\\xc0', '', '', 34.2300069, -117.2628206)\n",
      "(962, 'Bhagavati Vinjamuri', 'Supermarket', 'Bhagavati Vinjamuri', None, '(319) 555-0100', '(319) 555-0101', None, 'http://www.microsoft.com/BhagavatiVinjamuri/', 'Delivery Van', 'Ewart', b\"\\xe6\\x10\\x00\\x00\\x01\\x0c\\xec\\x15\\x16\\xdc\\x0f\\xd2D@\\xd9s>\\xe1\\x11'W\\xc0\", '', '', 41.641109, -92.6104663)\n",
      "(963, 'Be Trang', 'Corporate', 'Be Trang', None, '(405) 555-0100', '(405) 555-0101', None, 'http://www.microsoft.com/BeTrang/', 'Delivery Van', 'Watonga', b'\\xe6\\x10\\x00\\x00\\x01\\x0c\\x04#\\xfd\\x9e\\xa2\\xecA@\\x81\\x17\\xedY\\xf6\\x9bX\\xc0', '', '', 35.8487128006, -98.4369110885)\n",
      "(964, 'Ingrida Zeltina', 'Supermarket', 'Ingrida Zeltina', None, '(239) 555-0100', '(239) 555-0101', None, 'http://www.microsoft.com/IngridaZeltina/', 'Delivery Van', 'Trilby', b'\\xe6\\x10\\x00\\x00\\x01\\x0c\\x1fr\\xe9Nfv<@\\xc9\\xc0K\\xbaw\\x8cT\\xc0', '', '', 28.4624986, -82.1948076)\n",
      "(965, 'Phoung Cu', 'Corporate', 'Phoung Cu', None, '(208) 555-0100', '(208) 555-0101', None, 'http://www.microsoft.com/PhoungCu/', 'Delivery Van', 'McCall', b'\\xe6\\x10\\x00\\x00\\x01\\x0c\\xda:8\\xd8\\x9btF@0;z\\xb2Q\\x06]\\xc0', '', '', 44.911006, -116.0987364)\n",
      "(966, 'Sara Walkky', 'Supermarket', 'Sara Walkky', None, '(303) 555-0100', '(303) 555-0101', None, 'http://www.microsoft.com/SaraWalkky/', 'Delivery Van', 'Chipita Park', b'\\xe6\\x10\\x00\\x00\\x01\\x0c:%{\\xdfSvC@\\xfe\\x85y\\xeal@Z\\xc0', '', '', 38.9244346, -105.0066477)\n",
      "(967, 'Meera Patel', 'Gift Store', 'Meera Patel', None, '(217) 555-0100', '(217) 555-0101', None, 'http://www.microsoft.com/MeeraPatel/', 'Delivery Van', 'Hanaford', b'\\xe6\\x10\\x00\\x00\\x01\\x0c\\\\o@\\xf0\\x9d\\xfaB@&\\x199\\x0b{5V\\xc0', '', '', 37.9579449, -88.835635)\n",
      "(968, 'Anca Gogean', 'Corporate', 'Anca Gogean', None, '(209) 555-0100', '(209) 555-0101', None, 'http://www.microsoft.com/AncaGogean/', 'Delivery Van', 'Arrowbear Lake', b'\\xe6\\x10\\x00\\x00\\x01\\x0c\\xb4\\x12\\x04\\xd9\\xfc\\x1aA@\\n<\\xe6\\xf2UE]\\xc0', '', '', 34.2108413, -117.0833709)\n",
      "(969, 'Staffan Persson', 'Computer Store', 'Staffan Persson', None, '(314) 555-0100', '(314) 555-0101', None, 'http://www.microsoft.com/StaffanPersson/', 'Delivery Van', 'Phelps City', b'\\xe6\\x10\\x00\\x00\\x01\\x0c1,\\xdaw\\xa03D@\\x9c\\x9b\\x80pO\\xe6W\\xc0', '', '', 40.4033346, -95.5985986)\n",
      "(970, 'Isidora Urias', 'Novelty Shop', 'Isidora Urias', None, '(239) 555-0100', '(239) 555-0101', None, 'http://www.microsoft.com/IsidoraUrias/', 'Delivery Van', 'Bratt', b'\\xe6\\x10\\x00\\x00\\x01\\x0c\\x1e|\\x17\\xa5:\\xf7>@\\xad\\xad\\x8e\\xd2[\\xdbU\\xc0', '', '', 30.9657386, -87.4274794)\n",
      "(971, 'Dhanishta Mokkapati', 'Corporate', 'Dhanishta Mokkapati', None, '(907) 555-0100', '(907) 555-0101', None, 'http://www.microsoft.com/DhanishtaMokkapati/', 'Delivery Van', 'Iliamna', b\"\\xe6\\x10\\x00\\x00\\x01\\x0c\\x17\\x9d,\\xb5\\xde\\xe0M@f\\xed\\x00\\x99']c\\xc0\", '', '', 59.7567965, -154.9110837)\n",
      "(972, 'Lakshmi Benipal', 'Computer Store', 'Lakshmi Benipal', None, '(209) 555-0100', '(209) 555-0101', None, 'http://www.microsoft.com/LakshmiBenipal/', 'Delivery Van', 'Lompoc', b'\\xe6\\x10\\x00\\x00\\x01\\x0c\\x19^\\xa4\\xab\\xcfQA@\\r@Y\\xe7N\\x1d^\\xc0', '', '', 34.6391501, -120.4579409)\n",
      "(973, 'Kumar Kamei', 'Novelty Shop', 'Kumar Kamei', None, '(304) 555-0100', '(304) 555-0101', None, 'http://www.microsoft.com/KumarKamei/', 'Delivery Van', 'Middleway', b'\\xe6\\x10\\x00\\x00\\x01\\x0c\\xc8\\xbc\\xe9\\xf1\\xd6\\xa6C@\\xa2S\\xa1\\xcb\\xe5~S\\xc0', '', '', 39.3034346, -77.9827756)\n",
      "(974, 'Emil Roman', 'Computer Store', 'Emil Roman', None, '(210) 555-0100', '(210) 555-0101', None, 'http://www.microsoft.com/EmilRoman/', 'Delivery Van', 'Kopperl', b'\\xe6\\x10\\x00\\x00\\x01\\x0c\\x1f\\xee\\x8f\\x9c\\xf1\\x08@@-\\x8d\\xa9\\x05@`X\\xc0', '', '', 32.0698734, -97.5039076)\n",
      "(975, 'Prabodh Nair', 'Novelty Shop', 'Prabodh Nair', None, '(605) 555-0100', '(605) 555-0101', None, 'http://www.microsoft.com/PrabodhNair/', 'Delivery Van', 'Tschetter Colony', b'\\xe6\\x10\\x00\\x00\\x01\\x0c\\x97\\xf0:\\xd1d\\xafE@p\\x8fJV\\xeakX\\xc0', '', '', 43.3702642, -97.6861778)\n",
      "(976, 'Alinne Matos', 'Computer Store', 'Alinne Matos', None, '(229) 555-0100', '(229) 555-0101', None, 'http://www.microsoft.com/AlinneMatos/', 'Delivery Van', 'Sea Island', b'\\xe6\\x10\\x00\\x00\\x01\\x0c`\\xb2L\\x1a\\xfe.?@\\x8c\\x03\\x9ejcVT\\xc0', '', '', 31.1835648, -81.3498179)\n",
      "(977, 'Mauno Laurila', 'Novelty Shop', 'Mauno Laurila', None, '(216) 555-0100', '(216) 555-0101', None, 'http://www.microsoft.com/MaunoLaurila/', 'Delivery Van', 'North Eaton', b'\\xe6\\x10\\x00\\x00\\x01\\x0c\\xe5\\xcb\\xb0\\xf6\\x1c\\xa8D@s\\xc9\\x82\\xd3\\xcc~T\\xc0', '', '', 41.3133839, -81.9812516)\n",
      "(978, 'Baalaamjali Devulapalli', 'Supermarket', 'Baalaamjali Devulapalli', None, '(505) 555-0100', '(505) 555-0101', None, 'http://www.microsoft.com/BaalaamjaliDevulapalli/', 'Delivery Van', 'Puerto de Luna', b\"\\xe6\\x10\\x00\\x00\\x01\\x0c9\\n\\x10\\x053jA@\\xfal\\xd3\\x8e\\xd1'Z\\xc0\", '', '', 34.829682, -104.6221654)\n",
      "(979, 'Melani Ravlen', 'Corporate', 'Melani Ravlen', None, '(405) 555-0100', '(405) 555-0101', None, 'http://www.microsoft.com/MelaniRavlen/', 'Delivery Van', 'Cookietown', b'\\xe6\\x10\\x00\\x00\\x01\\x0c\\xfa\\xba\\x7fy\\xb7#A@\\x06\\xcc\\xb3\\xfa\\x89\\x9eX\\xc0', '', '', 34.2790367006, -98.4771715885)\n",
      "(980, 'Om Yadav', 'Novelty Shop', 'Om Yadav', None, '(262) 555-0100', '(262) 555-0101', None, 'http://www.microsoft.com/OmYadav/', 'Delivery Van', 'Lunds', b'\\xe6\\x10\\x00\\x00\\x01\\x0c\\xc1(\\xf7\\xf1\\x86YF@*\\x1ak\\x7f\\xe7\"V\\xc0', '', '', 44.6994307, -88.5453795)\n",
      "(981, 'Mahmut ozbek', 'Gift Store', 'Mahmut ozbek', None, '(339) 555-0100', '(339) 555-0101', None, 'http://www.microsoft.com/Mahmutozbek/', 'Delivery Van', 'Bernardston', b\"\\xe6\\x10\\x00\\x00\\x01\\x0c\\xc9'\\xbf\\xa0\\xe0UE@g\\x03\\xfa\\x8e+#R\\xc0\", '', '', 42.6709176, -72.5495336)\n",
      "(982, 'Yves Belisle', 'Supermarket', 'Yves Belisle', None, '(480) 555-0100', '(480) 555-0101', None, 'http://www.microsoft.com/YvesBelisle/', 'Delivery Van', 'Walapai', b'\\xe6\\x10\\x00\\x00\\x01\\x0c0|\\xe9\\x92\\x16\\xacA@\\x84\\xdc\\xa0Q\\x95x\\\\\\xc0', '', '', 35.3444389, -113.8841137)\n",
      "(983, 'Sabine Alksne', 'Supermarket', 'Sabine Alksne', None, '(479) 555-0100', '(479) 555-0101', None, 'http://www.microsoft.com/SabineAlksne/', 'Delivery Van', 'Grannis', b'\\xe6\\x10\\x00\\x00\\x01\\x0c\\x14_\\xed(\\xce\\x1eA@\\x80[\\xc1\\x80o\\x95W\\xc0', '', '', 34.2406665, -94.3349306)\n",
      "(984, 'Kamala Nishad', 'Corporate', 'Kamala Nishad', None, '(201) 555-0100', '(201) 555-0101', None, 'http://www.microsoft.com/KamalaNishad/', 'Delivery Van', 'Haddon Heights', b'\\xe6\\x10\\x00\\x00\\x01\\x0c\\xeb\\xcen\\x88L\\xf0C@\\x0c\\x92>\\xad\"\\xc4R\\xc0', '', '', 39.8773356, -75.0646165)\n",
      "(985, 'Roko Ilic', 'Corporate', 'Roko Ilic', None, '(262) 555-0100', '(262) 555-0101', None, 'http://www.microsoft.com/RokoIlic/', 'Delivery Van', 'Grantsburg', b'\\xe6\\x10\\x00\\x00\\x01\\x0c\\xdb\\x81\\xdf+_\\xe3F@\\x16\\x96\\x89l\\xb1+W\\xc0', '', '', 45.7763419, -92.6827041)\n",
      "(986, 'Neil Farrelly', 'Novelty Shop', 'Neil Farrelly', None, '(215) 555-0100', '(215) 555-0101', None, 'http://www.microsoft.com/NeilFarrelly/', 'Delivery Van', 'Sabinsville', b'\\xe6\\x10\\x00\\x00\\x01\\x0c<rZ\\xa6\\x15\\xefD@8\\xf5\\x81\\xe4\\x9daS\\xc0', '', '', 41.8678482, -77.525262)\n",
      "(987, 'Akhil Nadar', 'Supermarket', 'Akhil Nadar', None, '(479) 555-0100', '(479) 555-0101', None, 'http://www.microsoft.com/AkhilNadar/', 'Delivery Van', 'Schaal', b'\\xe6\\x10\\x00\\x00\\x01\\x0c\\x8b\\x02\\xd8\\xdb\\xc1\\xe9@@#/kb\\x81}W\\xc0', '', '', 33.8262286, -93.961022)\n",
      "(988, 'Maksims Krastins', 'Gift Store', 'Maksims Krastins', None, '(304) 555-0100', '(304) 555-0101', None, 'http://www.microsoft.com/MaksimsKrastins/', 'Delivery Van', 'Lorentz', b'\\xe6\\x10\\x00\\x00\\x01\\x0ca\\x05S(f\\x81C@\\x0e5e\\x02Y\\x13T\\xc0', '', '', 39.0109301, -80.3023077)\n",
      "(989, 'Milinka Zujovic', 'Gift Store', 'Milinka Zujovic', None, '(316) 555-0100', '(316) 555-0101', None, 'http://www.microsoft.com/MilinkaZujovic/', 'Delivery Van', 'Zurich', b'\\xe6\\x10\\x00\\x00\\x01\\x0c\\xf96X\\x93\\x02\\x9eC@\\xe9\\x98\\x98\\xd3\\n\\xdcX\\xc0', '', '', 39.2344536, -99.4381608)\n",
      "(990, 'Andris Saulitis', 'Corporate', 'Andris Saulitis', None, '(210) 555-0100', '(210) 555-0101', None, 'http://www.microsoft.com/AndrisSaulitis/', 'Delivery Van', 'El Refugio', b'\\xe6\\x10\\x00\\x00\\x01\\x0cl[\\x94\\xd9 W:@\\xc9Xm\\xfe_\\xb0X\\xc0', '', '', 26.340345, -98.755859)\n",
      "(991, 'Valter Viiding', 'Supermarket', 'Valter Viiding', None, '(216) 555-0100', '(216) 555-0101', None, 'http://www.microsoft.com/ValterViiding/', 'Delivery Van', 'Cuyahoga Heights', b\"\\xe6\\x10\\x00\\x00\\x01\\x0cr;\\x8f\\xe5\\xb8\\xb7D@na'\\x06\\x12jT\\xc0\", '', '', 41.4353301, -81.6573501)\n",
      "(992, 'Amarakumaar Gadiyaram', 'Novelty Shop', 'Amarakumaar Gadiyaram', None, '(303) 555-0100', '(303) 555-0101', None, 'http://www.microsoft.com/AmarakumaarGadiyaram/', 'Delivery Van', 'Vollmar', b'\\xe6\\x10\\x00\\x00\\x01\\x0c\\xca\\x80\\xfd!G\\x11D@\\xb2w\\x90\\xe8\\xaf5Z\\xc0', '', '', 40.1349833, -104.8388616)\n",
      "(993, 'Gasper Havzija', 'Gift Store', 'Gasper Havzija', None, '(314) 555-0100', '(314) 555-0101', None, 'http://www.microsoft.com/GasperHavzija/', 'Delivery Van', 'Shell Knob', b'\\xe6\\x10\\x00\\x00\\x01\\x0c\\xf7\\xd6v\\xc9\\xeePB@\\x82\\xfb\\xa6U\\x99hW\\xc0', '', '', 36.6322872, -93.6343588)\n",
      "(994, 'Libuse Kuchtova', 'Supermarket', 'Libuse Kuchtova', None, '(210) 555-0100', '(210) 555-0101', None, 'http://www.microsoft.com/LibuseKuchtova/', 'Delivery Van', 'Van Alstyne', b'\\xe6\\x10\\x00\\x00\\x01\\x0c\\xe3\\xe3\\x13\\xb2\\xf3\\xb5@@C\\x99\\xfc\\x05\\xf1$X\\xc0', '', '', 33.4214995, -96.5772109)\n",
      "(995, 'Kumar Naicker', 'Novelty Shop', 'Kumar Naicker', None, '(262) 555-0100', '(262) 555-0101', None, 'http://www.microsoft.com/KumarNaicker/', 'Delivery Van', 'Oconto Falls', b'\\xe6\\x10\\x00\\x00\\x01\\x0cZ\\x0e\\xf4P\\xdboF@\\x94\\x10Q\\xf1$\\tV\\xc0', '', '', 44.8738805, -88.1428798)\n",
      "(996, 'Laszlo Gardenier', 'Gift Store', 'Laszlo Gardenier', None, '(215) 555-0100', '(215) 555-0101', None, 'http://www.microsoft.com/LaszloGardenier/', 'Delivery Van', 'Marion Hill', b'\\xe6\\x10\\x00\\x00\\x01\\x0cO\\xacS\\xe5{]D@\\xf0A\\x19\\xf4\\xef\\x12T\\xc0', '', '', 40.7303435, -80.2958956)\n",
      "(997, 'Nada Ana Slosar', 'Supermarket', 'Nada Ana Slosar', None, '(239) 555-0100', '(239) 555-0101', None, 'http://www.microsoft.com/NadaAnaSlosar/', 'Delivery Van', 'Cloud Lake', b'\\xe6\\x10\\x00\\x00\\x01\\x0c\\x05M\\xf0\\xf2\\x19\\xad:@|j\\xabH\\xbb\\x04T\\xc0', '', '', 26.6761772, -80.0739309)\n",
      "(998, 'Mahavir Sonkar', 'Computer Store', 'Mahavir Sonkar', None, '(505) 555-0100', '(505) 555-0101', None, 'http://www.microsoft.com/MahavirSonkar/', 'Delivery Van', 'Pastura', b'\\xe6\\x10\\x00\\x00\\x01\\x0c\\xaa\\xbf\\xb9\\x1a4dA@\\xd5\\xfes=v<Z\\xc0', '', '', 34.7828401, -104.9447168)\n",
      "(999, 'Kristi Part', 'Supermarket', 'Kristi Part', None, '(702) 555-0100', '(702) 555-0101', None, 'http://www.microsoft.com/KristiPart/', 'Delivery Van', 'Yerington', b'\\xe6\\x10\\x00\\x00\\x01\\x0c\\xbf\\x00\\x0c\\x15-~C@\\x81\\xc0\\xb9um\\xca]\\xc0', '', '', 38.9857508, -119.1629309)\n",
      "(1000, 'Krishnam Allu', 'Novelty Shop', 'Krishnam Allu', None, '(405) 555-0100', '(405) 555-0101', None, 'http://www.microsoft.com/KrishnamAllu/', 'Delivery Van', 'Catesby', b'\\xe6\\x10\\x00\\x00\\x01\\x0c\\x06w$\\xf5\\x9e?B@\\xaa}`\\xe5%\\xffX\\xc0', '', '', 36.4970385006, -99.9866879885)\n",
      "(1001, 'Dinh Mai', 'Computer Store', 'Dinh Mai', None, '(210) 555-0100', '(210) 555-0101', None, 'http://www.microsoft.com/', 'Delivery Van', 'Dorchester', b'\\xe6\\x10\\x00\\x00\\x01\\x0cb\\xe0\\x14\\xb1\\xe3\\xc3@@a\\xca\\x1b\\xbb\\x1f,X\\xc0', None, None, 33.5303861, -96.6894367)\n",
      "(1002, 'Stefan Selezeanu', 'Computer Store', 'Stefan Selezeanu', None, '(212) 555-0100', '(212) 555-0101', None, 'http://www.microsoft.com/', 'Delivery Van', 'Copake', b'\\xe6\\x10\\x00\\x00\\x01\\x0cdP\\xb7\\xfd<\\rE@\\xbbU!/5cR\\xc0', None, None, 42.1034238, -73.5501211)\n",
      "(1003, 'Hue Ton', 'Supermarket', 'Hue Ton', None, '(252) 555-0100', '(252) 555-0101', None, 'http://www.microsoft.com/', 'Delivery Van', 'Holden Beach', b\"\\xe6\\x10\\x00\\x00\\x01\\x0c'\\x19\\x94\\xc4\\xed\\xf4@@\\xe3\\xe6\\xaf\\xebr\\x93S\\xc0\", None, None, 33.9135061, -78.3038892)\n",
      "(1004, 'Drishti Bose', 'Gift Store', 'Drishti Bose', None, '(479) 555-0100', '(479) 555-0101', None, 'http://www.microsoft.com/', 'Delivery Van', 'Wesson', b'\\xe6\\x10\\x00\\x00\\x01\\x0c\\x18\\xc5\\xbc\\xd8\\xc5\\x8e@@\\x8a^\\xa1j\\xcf0W\\xc0', None, None, 33.1154128, -92.7626597)\n",
      "(1005, 'Bhadram Kamasamudram', 'Novelty Shop', 'Bhadram Kamasamudram', None, '(802) 555-0100', '(802) 555-0101', None, 'http://www.microsoft.com/', 'Delivery Van', 'Wells', b'\\xe6\\x10\\x00\\x00\\x01\\x0c\\xd6)E\\xe1i\\xb5E@>\\xda\\xee\\xd4\\x12MR\\xc0', None, None, 43.4172937, -73.2042744)\n",
      "(1006, 'Taj Syme', 'Novelty Shop', 'Taj Syme', None, '(216) 555-0100', '(216) 555-0101', None, 'http://www.microsoft.com/', 'Delivery Van', 'Oakshade', b'\\xe6\\x10\\x00\\x00\\x01\\x0c\\xa8\\xbe\\x98\\xd2\\x9f\\xd5D@\\x8d\\xfdv#\\xbd\\tU\\xc0', None, None, 41.6689399, -84.1521691)\n",
      "(1007, 'Irma Berzina', 'Corporate', 'Irma Berzina', None, '(458) 555-0100', '(458) 555-0101', None, 'http://www.microsoft.com/', 'Delivery Van', 'Newberg', b'\\xe6\\x10\\x00\\x00\\x01\\x0c\\xdb\\xb8jCj\\xa6F@\\xf3X32H\\xbe^\\xc0', None, None, 45.3001179, -122.9731565)\n",
      "(1008, 'Vedrana Kovacevic', 'Novelty Shop', 'Vedrana Kovacevic', None, '(479) 555-0100', '(479) 555-0101', None, 'http://www.microsoft.com/', 'Delivery Van', 'Reader', b'\\xe6\\x10\\x00\\x00\\x01\\x0c\\xe9\\xed\\xcfEC\\xe0@@\\xd6(\\xda\\x0b\\xbbFW\\xc0', None, None, 33.752053, -93.1051664)\n",
      "(1009, 'Bhagavateeprasaad Malladi', 'Computer Store', 'Bhagavateeprasaad Malladi', None, '(479) 555-0100', '(479) 555-0101', None, 'http://www.microsoft.com/', 'Delivery Van', 'Greenfield', b'\\xe6\\x10\\x00\\x00\\x01\\x0c\\xf1[\\xbe?\\xef\\xd0A@-\\xaf\\\\o\\x9b\\xadV\\xc0', None, None, 35.6323013, -90.712612)\n",
      "(1010, 'Serdar ozCelik', 'Supermarket', 'Serdar ozCelik', None, '(210) 555-0100', '(210) 555-0101', None, 'http://www.microsoft.com/', 'Delivery Van', 'Dawn', b'\\xe6\\x10\\x00\\x00\\x01\\x0c3,\\x90\\xea\\x85tA@t\\x14\\xd6|\\xcb\\x8cY\\xc0', None, None, 34.9103368, -102.1999199)\n",
      "(1011, 'Rajeev Sandhu', 'Gift Store', 'Rajeev Sandhu', None, '(458) 555-0100', '(458) 555-0101', None, 'http://www.microsoft.com/', 'Delivery Van', 'Wasco', b'\\xe6\\x10\\x00\\x00\\x01\\x0c?\\x85m\\xd5\\xbf\\xcbF@f\\xfa%\\xe2\\xad,^\\xc0', None, None, 45.5917918, -120.698113)\n",
      "(1012, 'Urve Kasesalu', 'Corporate', 'Urve Kasesalu', None, '(319) 555-0100', '(319) 555-0101', None, 'http://www.microsoft.com/', 'Delivery Van', 'Cherokee', b'\\xe6\\x10\\x00\\x00\\x01\\x0c\\xb6\\x1b3?\\xed_E@m\\x03w\\xa0N\\xe3W\\xc0', None, None, 42.7494277, -95.551674)\n",
      "(1013, 'Annette  Hetu', 'Computer Store', 'Annette  Hetu', None, '(405) 555-0100', '(405) 555-0101', None, 'http://www.microsoft.com/', 'Delivery Van', 'Hanna', b'\\xe6\\x10\\x00\\x00\\x01\\x0c\\xa7;g\\xfd\\xc1\\x9aA@\\x1d0\\x7f\\xed\\x7f\\xfaW\\xc0', None, None, 35.2090451006, -95.9140580885)\n",
      "(1014, 'Narendra Tickoo', 'Novelty Shop', 'Narendra Tickoo', None, '(803) 555-0100', '(803) 555-0101', None, 'http://www.microsoft.com/', 'Delivery Van', 'Dillon', b'\\xe6\\x10\\x00\\x00\\x01\\x0c\\xf4P\\xdb\\x86Q5A@\\xbb\\x89\\x10\\r\\xc1\\xd7S\\xc0', None, None, 34.4165505, -79.3711579)\n",
      "(1015, 'Isa Hulsegge', 'Computer Store', 'Isa Hulsegge', None, '(252) 555-0100', '(252) 555-0101', None, 'http://www.microsoft.com/', 'Delivery Van', 'Saxapahaw', b'\\xe6\\x10\\x00\\x00\\x01\\x0c\\x13?k#C\\xf9A@\\x81#\\x81\\x06\\x9b\\xd4S\\xc0', None, None, 35.9473614, -79.321962)\n",
      "(1016, 'Aive Petrov', 'Supermarket', 'Aive Petrov', None, '(316) 555-0100', '(316) 555-0101', None, 'http://www.microsoft.com/', 'Delivery Van', 'Virgil', b'\\xe6\\x10\\x00\\x00\\x01\\x0c\\x11\\xb3M\\xe0\\x8c\\xfdB@Q\\x88\\x80C\\xa8\\x00X\\xc0', None, None, 37.9808617, -96.01027)\n",
      "(1017, 'David Novacek ', 'Gift Store', 'David Novacek ', None, '(423) 555-0100', '(423) 555-0101', None, 'http://www.microsoft.com/', 'Delivery Van', 'Corryton', b'\\xe6\\x10\\x00\\x00\\x01\\x0c\\xf5\\x8c3<\\xac\\x13B@\\x02Lt\\xf1\\x12\\xf2T\\xc0', None, None, 36.1536937, -83.7824062)\n",
      "(1018, 'Nils Kaulins', 'Computer Store', 'Nils Kaulins', None, '(406) 555-0100', '(406) 555-0101', None, 'http://www.microsoft.com/', 'Delivery Van', 'Greycliff', b'\\xe6\\x10\\x00\\x00\\x01\\x0c]?\\xb3\\xda\\xb2\\xe1F@\\xc6?\"\\\\7r[\\xc0', None, None, 45.7632707, -109.7846289)\n",
      "(1019, 'Dhanishta Pullela', 'Novelty Shop', 'Dhanishta Pullela', None, '(304) 555-0100', '(304) 555-0101', None, 'http://www.microsoft.com/', 'Delivery Van', 'Gallipolis Ferry', b'\\xe6\\x10\\x00\\x00\\x01\\x0c\\xca\\xca\\x8a<\\xa4bC@6\\xf5\\xcbq\\xb8\\x8cT\\xc0', None, None, 38.7706371, -82.1987576)\n",
      "(1020, 'Hai Banh', 'Computer Store', 'Hai Banh', None, '(252) 555-0100', '(252) 555-0101', None, 'http://www.microsoft.com/', 'Delivery Van', 'Claremont', b'\\xe6\\x10\\x00\\x00\\x01\\x0c\":_Gw\\xdbA@\\x96\\x9cn4[IT\\xc0', None, None, 35.7145776, -81.1461917)\n",
      "(1021, 'Fabrice Cloutier', 'Supermarket', 'Fabrice Cloutier', None, '(252) 555-0100', '(252) 555-0101', None, 'http://www.microsoft.com/', 'Delivery Van', 'Staley', b'\\xe6\\x10\\x00\\x00\\x01\\x0c\\xd4\\x87\\x89a\\xe2\\xe5A@\\xce\\xa7\\x8eUJ\\xe3S\\xc0', None, None, 35.7959711, -79.551412)\n",
      "(1022, 'Nadir Seddigh', 'Computer Store', 'Nadir Seddigh', None, '(907) 555-0100', '(907) 555-0101', None, 'http://www.microsoft.com/', 'Delivery Van', 'Biorka', b'\\xe6\\x10\\x00\\x00\\x01\\x0c \\xcehP\\xd9\\xe9J@\\xfd\\xb77d\\xa8\\xc6d\\xc0', None, None, 53.8269444, -166.2080556)\n",
      "(1023, 'Farzana Habibi', 'Corporate', 'Farzana Habibi', None, '(219) 555-0100', '(219) 555-0101', None, 'http://www.microsoft.com/', 'Delivery Van', 'Brookville', b'\\xe6\\x10\\x00\\x00\\x01\\x0c\\xce\\x1c\\x92Z(\\xb6C@}\\xdb]\\xb1\\xd0@U\\xc0', None, None, 39.4231065, -85.0127376)\n",
      "(1024, 'Arka Chatterjee', 'Supermarket', 'Arka Chatterjee', None, '(303) 555-0100', '(303) 555-0101', None, 'http://www.microsoft.com/', 'Delivery Van', 'Byers', b'\\xe6\\x10\\x00\\x00\\x01\\x0c(\\xaa\\xc82\\x0e\\xdbC@8H-9\\x93\\x0eZ\\xc0', None, None, 39.7113708, -104.2277358)\n",
      "(1025, 'Tuulikki Linna', 'Gift Store', 'Tuulikki Linna', None, '(217) 555-0100', '(217) 555-0101', None, 'http://www.microsoft.com/', 'Delivery Van', 'Otterville', b'\\xe6\\x10\\x00\\x00\\x01\\x0cV\\x89h*z\\x86C@\\xc4\\x88\\x8e.\\x80\\x99V\\xc0', None, None, 39.0506032, -90.3984486)\n",
      "(1026, 'Daniella Cavalcante', 'Computer Store', 'Daniella Cavalcante', None, '(405) 555-0100', '(405) 555-0101', None, 'http://www.microsoft.com/', 'Delivery Van', 'Ravia', b'\\xe6\\x10\\x00\\x00\\x01\\x0c\\xb7\\xb5\\xf8as\\x1fA@\\xeb/+|\\x9c1X\\xc0', None, None, 34.2457087006, -96.7751760885)\n",
      "(1027, 'Serdar ozden', 'Corporate', 'Serdar ozden', None, '(319) 555-0100', '(319) 555-0101', None, 'http://www.microsoft.com/', 'Delivery Van', 'Richland', b'\\xe6\\x10\\x00\\x00\\x01\\x0c\\xd9\\x8b\\xb2\\xc8\\xc0\\x97D@\\xc4]\\xbd\\x8a\\x8c\\xffV\\xc0', None, None, 41.1855708, -91.992953)\n",
      "(1028, 'Emma Van Zant', 'Gift Store', 'Emma Van Zant', None, '(303) 555-0100', '(303) 555-0101', None, 'http://www.microsoft.com/', 'Delivery Van', 'Wray', b'\\xe6\\x10\\x00\\x00\\x01\\x0c\\x03dC\\x92\\xb4\\tD@KVE\\xb8I\\x8eY\\xc0', None, None, 40.0758231, -102.2232495)\n",
      "(1029, 'Veronika Necesana', 'Novelty Shop', 'Veronika Necesana', None, '(218) 555-0100', '(218) 555-0101', None, 'http://www.microsoft.com/', 'Delivery Van', 'Dover', b'\\xe6\\x10\\x00\\x00\\x01\\x0c\\xd9\\x1a[\\x19\\x9e\\xfcE@x^*6\\xe6\\x08W\\xc0', None, None, 43.9735748, -92.139051)\n",
      "(1030, 'Chompoo Atitarn', 'Computer Store', 'Chompoo Atitarn', None, '(603) 555-0100', '(603) 555-0101', None, 'http://www.microsoft.com/', 'Delivery Van', 'Ashland', b'\\xe6\\x10\\x00\\x00\\x01\\x0c\\xff\\x9d\\xa3D\\x01\\xd9E@\\xdd\\xd2jH\\\\\\xe8Q\\xc0', None, None, 43.6953512, -71.6306325)\n",
      "(1031, 'Dipti Shah', 'Gift Store', 'Dipti Shah', None, '(216) 555-0100', '(216) 555-0101', None, 'http://www.microsoft.com/', 'Delivery Van', 'Scioto Furnace', b'\\xe6\\x10\\x00\\x00\\x01\\x0c\\xac\\x1cZd;fC@e\\xc2/\\xf5\\xf3\\xb0T\\xc0', None, None, 38.7986875, -82.76489)\n",
      "(1032, 'Som Mukherjee', 'Novelty Shop', 'Som Mukherjee', None, '(385) 555-0100', '(385) 555-0101', None, 'http://www.microsoft.com/', 'Delivery Van', 'Moroni', b'\\xe6\\x10\\x00\\x00\\x01\\x0c^\\x14=\\xf01\\xc3C@\\xfe++M\\xca\\xe5[\\xc0', None, None, 39.5249615, -111.5904725)\n",
      "(1033, 'Cuneyt Arslan', 'Supermarket', 'Cuneyt Arslan', None, '(405) 555-0100', '(405) 555-0101', None, 'http://www.microsoft.com/', 'Delivery Van', 'Komalty', b'\\xe6\\x10\\x00\\x00\\x01\\x0cW\\x18\\xdf\\xae\\x97\\x86A@e\\xd6\\xc2\\x94\\xe7\\xc0X\\xc0', None, None, 35.0515040006, -99.0141345885)\n",
      "(1034, 'Aishwarya Dantuluri', 'Novelty Shop', 'Aishwarya Dantuluri', None, '(209) 555-0100', '(209) 555-0101', None, 'http://www.microsoft.com/', 'Delivery Van', 'Biggs', b'\\xe6\\x10\\x00\\x00\\x01\\x0cR\\xa3\\xeb\\x1d\\xc9\\xb4C@\\x9d\\xeb\\xa0\\xb7\\x9dm^\\xc0', None, None, 39.4123876, -121.7127513)\n",
      "(1035, 'Manjunatha Karnik', 'Computer Store', 'Manjunatha Karnik', None, '(405) 555-0100', '(405) 555-0101', None, 'http://www.microsoft.com/', 'Delivery Van', 'Wright City', b'\\xe6\\x10\\x00\\x00\\x01\\x0c\\x0e!\\x10\\xeb2\\x08A@:\\xc0\\x03k\\xbb\\xc1W\\xc0', None, None, 34.0640539006, -95.0270640885)\n",
      "(1036, 'Erik Malk', 'Computer Store', 'Erik Malk', None, '(406) 555-0100', '(406) 555-0101', None, 'http://www.microsoft.com/', 'Delivery Van', 'Basin', b'\\xe6\\x10\\x00\\x00\\x01\\x0c\\xb8)\\xd4\\x89\\xba\"G@\\x88\\x83\\x84(\\xdf\\x10\\\\\\xc0', None, None, 46.2713177, -112.2636205)\n",
      "(1037, 'David Jaramillo', 'Corporate', 'David Jaramillo', None, '(803) 555-0100', '(803) 555-0101', None, 'http://www.microsoft.com/', 'Delivery Van', 'Ridgeway', b\"\\xe6\\x10\\x00\\x00\\x01\\x0c\\xc8\\x9a\\xec\\xfa`'A@\\xbd/\\xd3\\x9bv=T\\xc0\", None, None, 34.3076471, -80.9603643)\n",
      "(1038, 'Damodara Trivedi', 'Gift Store', 'Damodara Trivedi', None, '(210) 555-0100', '(210) 555-0101', None, 'http://www.microsoft.com/', 'Delivery Van', 'Tarzan', b\"\\xe6\\x10\\x00\\x00\\x01\\x0c\\x0c\\xbas\\x17\\x17'@@\\xb3?\\xf5\\xb4h~Y\\xc0\", None, None, 32.3053922, -101.9751408)\n",
      "(1039, 'Bhaamini Palagummi', 'Gift Store', 'Bhaamini Palagummi', None, '(212) 555-0100', '(212) 555-0101', None, 'http://www.microsoft.com/', 'Delivery Van', 'Lake Mohegan', b'\\xe6\\x10\\x00\\x00\\x01\\x0cv\\xe9\\x15\\x05\\xb0\\xa8D@D6\\xeb\\xe7(vR\\xc0', None, None, 41.3178717, -73.8462467)\n",
      "(1040, 'Damodar Shenoy', 'Novelty Shop', 'Damodar Shenoy', None, '(229) 555-0100', '(229) 555-0101', None, 'http://www.microsoft.com/', 'Delivery Van', 'Scott', b'\\xe6\\x10\\x00\\x00\\x01\\x0c\\xee\\xee\\\\s\\xa2F@@HZ\\xe0\\xe1\\xac\\xaaT\\xc0', None, None, 32.5518326, -82.6668019)\n",
      "(1041, 'Tomo Vidovic', 'Supermarket', 'Tomo Vidovic', None, '(207) 555-0100', '(207) 555-0101', None, 'http://www.microsoft.com/', 'Delivery Van', 'Tremont', b'\\xe6\\x10\\x00\\x00\\x01\\x0cph\\x80\\xc1$\"F@\\x17\\x035\\xc6\\x98\\x1aQ\\xc0', None, None, 44.2667467, -68.4155746)\n",
      "(1042, 'Nguyen Banh', 'Novelty Shop', 'Nguyen Banh', None, '(239) 555-0100', '(239) 555-0101', None, 'http://www.microsoft.com/', 'Delivery Van', 'Florahome', b'\\xe6\\x10\\x00\\x00\\x01\\x0c\\x13Rm&\\x95\\xbb=@\\x07\\xfa\\xfa\\x10\\x8axT\\xc0', None, None, 29.7327446, -81.8834269)\n",
      "(1043, 'Raj Verma', 'Corporate', 'Raj Verma', None, '(203) 555-0100', '(203) 555-0101', None, 'http://www.microsoft.com/', 'Delivery Van', 'Colebrook', b'\\xe6\\x10\\x00\\x00\\x01\\x0c\\xc1\\x0f\\x185\\xa9\\xfeD@\\xa3\\x18j^\\x1fFR\\xc0', None, None, 41.9895388, -73.0956646)\n",
      "(1044, 'Hanita Nookala', 'Novelty Shop', 'Hanita Nookala', None, '(225) 555-0100', '(225) 555-0101', None, 'http://www.microsoft.com/', 'Delivery Van', 'Meaux', b'\\xe6\\x10\\x00\\x00\\x01\\x0c\\xef\\tm\\x94P\\x05>@\\xb8\\xd8\\xa3&\\xb0\\x0bW\\xc0', None, None, 30.0207608, -92.1826264)\n",
      "(1045, 'Matteo Cattaneo', 'Supermarket', 'Matteo Cattaneo', None, '(229) 555-0100', '(229) 555-0101', None, 'http://www.microsoft.com/', 'Delivery Van', 'Nicholson', b'\\xe6\\x10\\x00\\x00\\x01\\x0c*\\xa2p\\x87\\x97\\x0eA@2\\xa8\\xdb~\\x9e\\xdbT\\xc0', None, None, 34.1139993, -83.4315488)\n",
      "(1046, 'Christian Couet', 'Computer Store', 'Christian Couet', None, '(212) 555-0100', '(212) 555-0101', None, 'http://www.microsoft.com/', 'Delivery Van', 'Great Neck', b'\\xe6\\x10\\x00\\x00\\x01\\x0ca\\xe92\\xeb{fD@\\x97\\xb2g*\\x9fnR\\xc0', None, None, 40.8006567, -73.7284647)\n",
      "(1047, 'Ivana Hadrabova', 'Computer Store', 'Ivana Hadrabova', None, '(603) 555-0100', '(603) 555-0101', None, 'http://www.microsoft.com/', 'Delivery Van', 'Lancaster', b'\\xe6\\x10\\x00\\x00\\x01\\x0c0\\x7f\\x85\\xcc\\x95>F@\\xc7\\r\\xbf\\x9bn\\xe4Q\\xc0', None, None, 44.4889465, -71.569251)\n",
      "(1048, 'Abhra Ganguly', 'Gift Store', 'Abhra Ganguly', None, '(212) 555-0100', '(212) 555-0101', None, 'http://www.microsoft.com/', 'Delivery Van', 'Walker Valley', b\"\\xe6\\x10\\x00\\x00\\x01\\x0c'\\xe9P<\\x1d\\xd1D@)\\x07\\xb3\\t0\\x98R\\xc0\", None, None, 41.6337047, -74.377932)\n",
      "(1049, 'Amet Shergill', 'Corporate', 'Amet Shergill', None, '(303) 555-0100', '(303) 555-0101', None, 'http://www.microsoft.com/', 'Delivery Van', 'Yampa', b\"\\xe6\\x10\\x00\\x00\\x01\\x0c'V\\xfc\\x95\\x84\\x13D@\\x81\\x0f\\xb9t'\\xbaZ\\xc0\", None, None, 40.1524837, -106.9086582)\n",
      "(1050, 'Amrita Ganguly', 'Supermarket', 'Amrita Ganguly', None, '(787) 555-0100', '(787) 555-0101', None, 'http://www.microsoft.com/', 'Delivery Van', 'Palmas del Mar', b'\\xe6\\x10\\x00\\x00\\x01\\x0c.A\\xa1\\xf9\\xf7\\x142@\\xfdL\\xbdn\\x11sP\\xc0', None, None, 18.0819088, -65.797939)\n",
      "(1051, 'Sylvie Laramee', 'Gift Store', 'Sylvie Laramee', None, '(787) 555-0100', '(787) 555-0101', None, 'http://www.microsoft.com/', 'Delivery Van', 'Isabela', b\"\\xe6\\x10\\x00\\x00\\x01\\x0c'\\x9f\\x1e\\xdb2\\x802@\\n2]\\xe3\\x8e\\xc1P\\xc0\", None, None, 18.500776, -67.0243462)\n",
      "(1052, 'Ian Olofsson', 'Supermarket', 'Ian Olofsson', None, '(339) 555-0100', '(339) 555-0101', None, 'http://www.microsoft.com/', 'Delivery Van', 'Liberty Plain', b\"\\xe6\\x10\\x00\\x00\\x01\\x0c\\xc9\\xe4\\xd4\\xce0\\x18E@\\x1e\\x8c\\xd8'\\x80\\xb8Q\\xc0\", None, None, 42.1889895, -70.882822)\n",
      "(1053, 'Luis Saucedo', 'Computer Store', 'Luis Saucedo', None, '(210) 555-0100', '(210) 555-0101', None, 'http://www.microsoft.com/', 'Delivery Van', 'Linden', b'\\xe6\\x10\\x00\\x00\\x01\\x0c\\x07\\xbeX\\xce\\x94\\x81@@\\\\\\t8\\xdfc\\x97W\\xc0', None, None, 33.0123537, -94.3654707)\n",
      "(1054, 'Emma Salpa', 'Supermarket', 'Emma Salpa', None, '(205) 555-0100', '(205) 555-0101', None, 'http://www.microsoft.com/', 'Delivery Van', 'Rogersville', b'\\xe6\\x10\\x00\\x00\\x01\\x0c\\x06\\xd8G\\xa7\\xaeiA@\\x1e\\x91J\\x0c\\xdd\\xd2U\\xc0', None, None, 34.8256425, -87.2947417)\n",
      "(1055, 'Adriana Pena', 'Computer Store', 'Adriana Pena', None, '(252) 555-0100', '(252) 555-0101', None, 'http://www.microsoft.com/', 'Delivery Van', 'Roberta Mill', b'\\xe6\\x10\\x00\\x00\\x01\\x0c4%\\xa3\\x14\\xbe\\xadA@\\xf8\\xbe]\\x9b\\xb2(T\\xc0', None, None, 35.3573633, -80.6359013)\n",
      "(1056, 'Kalyani Benjaree', 'Corporate', 'Kalyani Benjaree', None, '(212) 555-0100', '(212) 555-0101', None, 'http://www.microsoft.com/', 'Delivery Van', 'Bowmansville', b'\\xe6\\x10\\x00\\x00\\x01\\x0c\\xd3\\xea\\xf58\\x1dxE@\\xc4\\x98\\xf4\\xf7\\xd2\\xabS\\xc0', None, None, 42.9383918, -78.6847515)\n",
      "(1057, 'Ganesh Majumdar', 'Computer Store', 'Ganesh Majumdar', None, '(217) 555-0100', '(217) 555-0101', None, 'http://www.microsoft.com/', 'Delivery Van', 'Orland Hills', b'\\xe6\\x10\\x00\\x00\\x01\\x0c\\xdb?\\x05v\\xeb\\xcaD@)\\x00kz\\xf5\\xf5U\\xc0', None, None, 41.5853107, -87.8431078)\n",
      "(1058, 'Jaroslav Fisar', 'Gift Store', 'Jaroslav Fisar', None, '(215) 555-0100', '(215) 555-0101', None, 'http://www.microsoft.com/', 'Delivery Van', 'Sigel', b'\\xe6\\x10\\x00\\x00\\x01\\x0cz\\xab\\xaeC5\\xa3D@X\\x18\\xc7\\xed<\\xc7S\\xc0', None, None, 41.275063, -79.1130938)\n",
      "(1059, 'Jibek Juniskyzy', 'Supermarket', 'Jibek Juniskyzy', None, '(217) 555-0100', '(217) 555-0101', None, 'http://www.microsoft.com/', 'Delivery Van', 'Ellisville', b'\\xe6\\x10\\x00\\x00\\x01\\x0c\\xd2\\x18R\\xea7PD@\\x7f\\xac\\x96*\\x87\\x93V\\xc0', None, None, 40.6267064, -90.3051249)\n",
      "(1060, 'Anand Mudaliyar', 'Corporate', 'Anand Mudaliyar', None, '(206) 555-0100', '(206) 555-0101', None, 'http://www.microsoft.com/', 'Delivery Van', 'Midland', b'\\xe6\\x10\\x00\\x00\\x01\\x0c\\x87\\xbf\\xcb\\xb1a\\x95G@\\xa1^:\\xf7\\xe8\\x99^\\xc0', None, None, 47.1670439, -122.4048441)\n",
      "(1061, 'Agrita Abele', 'Computer Store', 'Agrita Abele', None, '(206) 555-0100', '(206) 555-0101', None, 'http://www.microsoft.com/', 'Delivery Van', 'Long Beach', b'\\xe6\\x10\\x00\\x00\\x01\\x0c\\x11\\x15O\\xe2\\x18-G@\\x15\\x9a\\xda\\x08z\\x03_\\xc0', None, None, 46.3523219, -124.0543234)\n"
     ]
    }
   ],
   "source": [
    "for i in cursor:\n",
    "    print(i)"
   ]
  },
  {
   "cell_type": "code",
   "execution_count": 89,
   "id": "4ab9a3be",
   "metadata": {},
   "outputs": [
    {
     "name": "stderr",
     "output_type": "stream",
     "text": [
      "C:\\Users\\studentwsb\\anaconda3\\lib\\site-packages\\pandas\\io\\sql.py:761: UserWarning:\n",
      "\n",
      "pandas only support SQLAlchemy connectable(engine/connection) ordatabase string URI or sqlite3 DBAPI2 connectionother DBAPI2 objects are not tested, please consider using SQLAlchemy\n",
      "\n"
     ]
    }
   ],
   "source": [
    "# pandas.read_sql_query\n",
    "# https://pandas.pydata.org/docs/reference/api/pandas.read_sql_query.html\n",
    "\n",
    "df = pd.read_sql_query('SELECT *, DeliveryLocation.Lat as lat, DeliveryLocation.Long as Long FROM Website.Customers', conn)"
   ]
  },
  {
   "cell_type": "code",
   "execution_count": 90,
   "id": "503f2779",
   "metadata": {},
   "outputs": [
    {
     "data": {
      "text/html": [
       "<div>\n",
       "<style scoped>\n",
       "    .dataframe tbody tr th:only-of-type {\n",
       "        vertical-align: middle;\n",
       "    }\n",
       "\n",
       "    .dataframe tbody tr th {\n",
       "        vertical-align: top;\n",
       "    }\n",
       "\n",
       "    .dataframe thead th {\n",
       "        text-align: right;\n",
       "    }\n",
       "</style>\n",
       "<table border=\"1\" class=\"dataframe\">\n",
       "  <thead>\n",
       "    <tr style=\"text-align: right;\">\n",
       "      <th></th>\n",
       "      <th>CustomerID</th>\n",
       "      <th>CustomerName</th>\n",
       "      <th>CustomerCategoryName</th>\n",
       "      <th>PrimaryContact</th>\n",
       "      <th>AlternateContact</th>\n",
       "      <th>PhoneNumber</th>\n",
       "      <th>FaxNumber</th>\n",
       "      <th>BuyingGroupName</th>\n",
       "      <th>WebsiteURL</th>\n",
       "      <th>DeliveryMethod</th>\n",
       "      <th>CityName</th>\n",
       "      <th>DeliveryLocation</th>\n",
       "      <th>DeliveryRun</th>\n",
       "      <th>RunPosition</th>\n",
       "      <th>lat</th>\n",
       "      <th>Long</th>\n",
       "    </tr>\n",
       "  </thead>\n",
       "  <tbody>\n",
       "    <tr>\n",
       "      <th>0</th>\n",
       "      <td>1</td>\n",
       "      <td>Tailspin Toys (Head Office)</td>\n",
       "      <td>Novelty Shop</td>\n",
       "      <td>Waldemar Fisar</td>\n",
       "      <td>Laimonis Berzins</td>\n",
       "      <td>(308) 555-0100</td>\n",
       "      <td>(308) 555-0101</td>\n",
       "      <td>Tailspin Toys</td>\n",
       "      <td>http://www.tailspintoys.com</td>\n",
       "      <td>Delivery Van</td>\n",
       "      <td>Lisco</td>\n",
       "      <td>b'\\xe6\\x10\\x00\\x00\\x01\\x0c\\xe7?ZR\\xa4\\xbfD@\\x1...</td>\n",
       "      <td></td>\n",
       "      <td></td>\n",
       "      <td>41.497202</td>\n",
       "      <td>-102.620198</td>\n",
       "    </tr>\n",
       "    <tr>\n",
       "      <th>1</th>\n",
       "      <td>2</td>\n",
       "      <td>Tailspin Toys (Sylvanite, MT)</td>\n",
       "      <td>Novelty Shop</td>\n",
       "      <td>Lorena Cindric</td>\n",
       "      <td>Hung Van Groesen</td>\n",
       "      <td>(406) 555-0100</td>\n",
       "      <td>(406) 555-0101</td>\n",
       "      <td>Tailspin Toys</td>\n",
       "      <td>http://www.tailspintoys.com/Sylvanite</td>\n",
       "      <td>Delivery Van</td>\n",
       "      <td>Sylvanite</td>\n",
       "      <td>b'\\xe6\\x10\\x00\\x00\\x01\\x0c\\xf3z\\x8b\\xe2\\xb0[H@...</td>\n",
       "      <td></td>\n",
       "      <td></td>\n",
       "      <td>48.716336</td>\n",
       "      <td>-115.874351</td>\n",
       "    </tr>\n",
       "    <tr>\n",
       "      <th>2</th>\n",
       "      <td>3</td>\n",
       "      <td>Tailspin Toys (Peeples Valley, AZ)</td>\n",
       "      <td>Novelty Shop</td>\n",
       "      <td>Bhaargav Rambhatla</td>\n",
       "      <td>Mudar Jevtic</td>\n",
       "      <td>(480) 555-0100</td>\n",
       "      <td>(480) 555-0101</td>\n",
       "      <td>Tailspin Toys</td>\n",
       "      <td>http://www.tailspintoys.com/PeeplesValley</td>\n",
       "      <td>Delivery Van</td>\n",
       "      <td>Peeples Valley</td>\n",
       "      <td>b'\\xe6\\x10\\x00\\x00\\x01\\x0c\\xc9uS\\xcak\"A@O\\xac\\...</td>\n",
       "      <td></td>\n",
       "      <td></td>\n",
       "      <td>34.268915</td>\n",
       "      <td>-112.727122</td>\n",
       "    </tr>\n",
       "    <tr>\n",
       "      <th>3</th>\n",
       "      <td>4</td>\n",
       "      <td>Tailspin Toys (Medicine Lodge, KS)</td>\n",
       "      <td>Novelty Shop</td>\n",
       "      <td>Daniel Roman</td>\n",
       "      <td>Leyla Radnia</td>\n",
       "      <td>(316) 555-0100</td>\n",
       "      <td>(316) 555-0101</td>\n",
       "      <td>Tailspin Toys</td>\n",
       "      <td>http://www.tailspintoys.com/MedicineLodge</td>\n",
       "      <td>Delivery Van</td>\n",
       "      <td>Medicine Lodge</td>\n",
       "      <td>b'\\xe6\\x10\\x00\\x00\\x01\\x0c\\x02&amp;\\x152\\xfc\\xa3B@...</td>\n",
       "      <td></td>\n",
       "      <td></td>\n",
       "      <td>37.281134</td>\n",
       "      <td>-98.580361</td>\n",
       "    </tr>\n",
       "    <tr>\n",
       "      <th>4</th>\n",
       "      <td>5</td>\n",
       "      <td>Tailspin Toys (Gasport, NY)</td>\n",
       "      <td>Novelty Shop</td>\n",
       "      <td>Johanna Huiting</td>\n",
       "      <td>Robert Ruutli</td>\n",
       "      <td>(212) 555-0100</td>\n",
       "      <td>(212) 555-0101</td>\n",
       "      <td>Tailspin Toys</td>\n",
       "      <td>http://www.tailspintoys.com/Gasport</td>\n",
       "      <td>Delivery Van</td>\n",
       "      <td>Gasport</td>\n",
       "      <td>b'\\xe6\\x10\\x00\\x00\\x01\\x0cYHe/\\x80\\x99E@\\xf9;\\...</td>\n",
       "      <td></td>\n",
       "      <td></td>\n",
       "      <td>43.199224</td>\n",
       "      <td>-78.576139</td>\n",
       "    </tr>\n",
       "    <tr>\n",
       "      <th>...</th>\n",
       "      <td>...</td>\n",
       "      <td>...</td>\n",
       "      <td>...</td>\n",
       "      <td>...</td>\n",
       "      <td>...</td>\n",
       "      <td>...</td>\n",
       "      <td>...</td>\n",
       "      <td>...</td>\n",
       "      <td>...</td>\n",
       "      <td>...</td>\n",
       "      <td>...</td>\n",
       "      <td>...</td>\n",
       "      <td>...</td>\n",
       "      <td>...</td>\n",
       "      <td>...</td>\n",
       "      <td>...</td>\n",
       "    </tr>\n",
       "    <tr>\n",
       "      <th>658</th>\n",
       "      <td>1057</td>\n",
       "      <td>Ganesh Majumdar</td>\n",
       "      <td>Computer Store</td>\n",
       "      <td>Ganesh Majumdar</td>\n",
       "      <td>None</td>\n",
       "      <td>(217) 555-0100</td>\n",
       "      <td>(217) 555-0101</td>\n",
       "      <td>None</td>\n",
       "      <td>http://www.microsoft.com/</td>\n",
       "      <td>Delivery Van</td>\n",
       "      <td>Orland Hills</td>\n",
       "      <td>b'\\xe6\\x10\\x00\\x00\\x01\\x0c\\xdb?\\x05v\\xeb\\xcaD@...</td>\n",
       "      <td>None</td>\n",
       "      <td>None</td>\n",
       "      <td>41.585311</td>\n",
       "      <td>-87.843108</td>\n",
       "    </tr>\n",
       "    <tr>\n",
       "      <th>659</th>\n",
       "      <td>1058</td>\n",
       "      <td>Jaroslav Fisar</td>\n",
       "      <td>Gift Store</td>\n",
       "      <td>Jaroslav Fisar</td>\n",
       "      <td>None</td>\n",
       "      <td>(215) 555-0100</td>\n",
       "      <td>(215) 555-0101</td>\n",
       "      <td>None</td>\n",
       "      <td>http://www.microsoft.com/</td>\n",
       "      <td>Delivery Van</td>\n",
       "      <td>Sigel</td>\n",
       "      <td>b'\\xe6\\x10\\x00\\x00\\x01\\x0cz\\xab\\xaeC5\\xa3D@X\\x...</td>\n",
       "      <td>None</td>\n",
       "      <td>None</td>\n",
       "      <td>41.275063</td>\n",
       "      <td>-79.113094</td>\n",
       "    </tr>\n",
       "    <tr>\n",
       "      <th>660</th>\n",
       "      <td>1059</td>\n",
       "      <td>Jibek Juniskyzy</td>\n",
       "      <td>Supermarket</td>\n",
       "      <td>Jibek Juniskyzy</td>\n",
       "      <td>None</td>\n",
       "      <td>(217) 555-0100</td>\n",
       "      <td>(217) 555-0101</td>\n",
       "      <td>None</td>\n",
       "      <td>http://www.microsoft.com/</td>\n",
       "      <td>Delivery Van</td>\n",
       "      <td>Ellisville</td>\n",
       "      <td>b'\\xe6\\x10\\x00\\x00\\x01\\x0c\\xd2\\x18R\\xea7PD@\\x7...</td>\n",
       "      <td>None</td>\n",
       "      <td>None</td>\n",
       "      <td>40.626706</td>\n",
       "      <td>-90.305125</td>\n",
       "    </tr>\n",
       "    <tr>\n",
       "      <th>661</th>\n",
       "      <td>1060</td>\n",
       "      <td>Anand Mudaliyar</td>\n",
       "      <td>Corporate</td>\n",
       "      <td>Anand Mudaliyar</td>\n",
       "      <td>None</td>\n",
       "      <td>(206) 555-0100</td>\n",
       "      <td>(206) 555-0101</td>\n",
       "      <td>None</td>\n",
       "      <td>http://www.microsoft.com/</td>\n",
       "      <td>Delivery Van</td>\n",
       "      <td>Midland</td>\n",
       "      <td>b'\\xe6\\x10\\x00\\x00\\x01\\x0c\\x87\\xbf\\xcb\\xb1a\\x9...</td>\n",
       "      <td>None</td>\n",
       "      <td>None</td>\n",
       "      <td>47.167044</td>\n",
       "      <td>-122.404844</td>\n",
       "    </tr>\n",
       "    <tr>\n",
       "      <th>662</th>\n",
       "      <td>1061</td>\n",
       "      <td>Agrita Abele</td>\n",
       "      <td>Computer Store</td>\n",
       "      <td>Agrita Abele</td>\n",
       "      <td>None</td>\n",
       "      <td>(206) 555-0100</td>\n",
       "      <td>(206) 555-0101</td>\n",
       "      <td>None</td>\n",
       "      <td>http://www.microsoft.com/</td>\n",
       "      <td>Delivery Van</td>\n",
       "      <td>Long Beach</td>\n",
       "      <td>b'\\xe6\\x10\\x00\\x00\\x01\\x0c\\x11\\x15O\\xe2\\x18-G@...</td>\n",
       "      <td>None</td>\n",
       "      <td>None</td>\n",
       "      <td>46.352322</td>\n",
       "      <td>-124.054323</td>\n",
       "    </tr>\n",
       "  </tbody>\n",
       "</table>\n",
       "<p>663 rows × 16 columns</p>\n",
       "</div>"
      ],
      "text/plain": [
       "     CustomerID                        CustomerName CustomerCategoryName  \\\n",
       "0             1         Tailspin Toys (Head Office)         Novelty Shop   \n",
       "1             2       Tailspin Toys (Sylvanite, MT)         Novelty Shop   \n",
       "2             3  Tailspin Toys (Peeples Valley, AZ)         Novelty Shop   \n",
       "3             4  Tailspin Toys (Medicine Lodge, KS)         Novelty Shop   \n",
       "4             5         Tailspin Toys (Gasport, NY)         Novelty Shop   \n",
       "..          ...                                 ...                  ...   \n",
       "658        1057                     Ganesh Majumdar       Computer Store   \n",
       "659        1058                      Jaroslav Fisar           Gift Store   \n",
       "660        1059                     Jibek Juniskyzy          Supermarket   \n",
       "661        1060                     Anand Mudaliyar            Corporate   \n",
       "662        1061                        Agrita Abele       Computer Store   \n",
       "\n",
       "         PrimaryContact  AlternateContact     PhoneNumber       FaxNumber  \\\n",
       "0        Waldemar Fisar  Laimonis Berzins  (308) 555-0100  (308) 555-0101   \n",
       "1        Lorena Cindric  Hung Van Groesen  (406) 555-0100  (406) 555-0101   \n",
       "2    Bhaargav Rambhatla      Mudar Jevtic  (480) 555-0100  (480) 555-0101   \n",
       "3          Daniel Roman      Leyla Radnia  (316) 555-0100  (316) 555-0101   \n",
       "4       Johanna Huiting     Robert Ruutli  (212) 555-0100  (212) 555-0101   \n",
       "..                  ...               ...             ...             ...   \n",
       "658     Ganesh Majumdar              None  (217) 555-0100  (217) 555-0101   \n",
       "659      Jaroslav Fisar              None  (215) 555-0100  (215) 555-0101   \n",
       "660     Jibek Juniskyzy              None  (217) 555-0100  (217) 555-0101   \n",
       "661     Anand Mudaliyar              None  (206) 555-0100  (206) 555-0101   \n",
       "662        Agrita Abele              None  (206) 555-0100  (206) 555-0101   \n",
       "\n",
       "    BuyingGroupName                                 WebsiteURL DeliveryMethod  \\\n",
       "0     Tailspin Toys                http://www.tailspintoys.com   Delivery Van   \n",
       "1     Tailspin Toys      http://www.tailspintoys.com/Sylvanite   Delivery Van   \n",
       "2     Tailspin Toys  http://www.tailspintoys.com/PeeplesValley   Delivery Van   \n",
       "3     Tailspin Toys  http://www.tailspintoys.com/MedicineLodge   Delivery Van   \n",
       "4     Tailspin Toys        http://www.tailspintoys.com/Gasport   Delivery Van   \n",
       "..              ...                                        ...            ...   \n",
       "658            None                  http://www.microsoft.com/   Delivery Van   \n",
       "659            None                  http://www.microsoft.com/   Delivery Van   \n",
       "660            None                  http://www.microsoft.com/   Delivery Van   \n",
       "661            None                  http://www.microsoft.com/   Delivery Van   \n",
       "662            None                  http://www.microsoft.com/   Delivery Van   \n",
       "\n",
       "           CityName                                   DeliveryLocation  \\\n",
       "0             Lisco  b'\\xe6\\x10\\x00\\x00\\x01\\x0c\\xe7?ZR\\xa4\\xbfD@\\x1...   \n",
       "1         Sylvanite  b'\\xe6\\x10\\x00\\x00\\x01\\x0c\\xf3z\\x8b\\xe2\\xb0[H@...   \n",
       "2    Peeples Valley  b'\\xe6\\x10\\x00\\x00\\x01\\x0c\\xc9uS\\xcak\"A@O\\xac\\...   \n",
       "3    Medicine Lodge  b'\\xe6\\x10\\x00\\x00\\x01\\x0c\\x02&\\x152\\xfc\\xa3B@...   \n",
       "4           Gasport  b'\\xe6\\x10\\x00\\x00\\x01\\x0cYHe/\\x80\\x99E@\\xf9;\\...   \n",
       "..              ...                                                ...   \n",
       "658    Orland Hills  b'\\xe6\\x10\\x00\\x00\\x01\\x0c\\xdb?\\x05v\\xeb\\xcaD@...   \n",
       "659           Sigel  b'\\xe6\\x10\\x00\\x00\\x01\\x0cz\\xab\\xaeC5\\xa3D@X\\x...   \n",
       "660      Ellisville  b'\\xe6\\x10\\x00\\x00\\x01\\x0c\\xd2\\x18R\\xea7PD@\\x7...   \n",
       "661         Midland  b'\\xe6\\x10\\x00\\x00\\x01\\x0c\\x87\\xbf\\xcb\\xb1a\\x9...   \n",
       "662      Long Beach  b'\\xe6\\x10\\x00\\x00\\x01\\x0c\\x11\\x15O\\xe2\\x18-G@...   \n",
       "\n",
       "    DeliveryRun RunPosition        lat        Long  \n",
       "0                            41.497202 -102.620198  \n",
       "1                            48.716336 -115.874351  \n",
       "2                            34.268915 -112.727122  \n",
       "3                            37.281134  -98.580361  \n",
       "4                            43.199224  -78.576139  \n",
       "..          ...         ...        ...         ...  \n",
       "658        None        None  41.585311  -87.843108  \n",
       "659        None        None  41.275063  -79.113094  \n",
       "660        None        None  40.626706  -90.305125  \n",
       "661        None        None  47.167044 -122.404844  \n",
       "662        None        None  46.352322 -124.054323  \n",
       "\n",
       "[663 rows x 16 columns]"
      ]
     },
     "execution_count": 90,
     "metadata": {},
     "output_type": "execute_result"
    }
   ],
   "source": [
    "df"
   ]
  },
  {
   "cell_type": "code",
   "execution_count": 91,
   "id": "31499943",
   "metadata": {},
   "outputs": [],
   "source": [
    "fig = px.scatter_mapbox(df, lat='lat', lon='Long', hover_name='CityName', hover_data=['CustomerID'], zoom=3)"
   ]
  },
  {
   "cell_type": "code",
   "execution_count": 92,
   "id": "ca9b83c4",
   "metadata": {},
   "outputs": [
    {
     "data": {
      "application/vnd.plotly.v1+json": {
       "config": {
        "plotlyServerURL": "https://plot.ly"
       },
       "data": [
        {
         "customdata": [
          [
           1
          ],
          [
           2
          ],
          [
           3
          ],
          [
           4
          ],
          [
           5
          ],
          [
           6
          ],
          [
           7
          ],
          [
           8
          ],
          [
           9
          ],
          [
           10
          ],
          [
           11
          ],
          [
           12
          ],
          [
           13
          ],
          [
           14
          ],
          [
           15
          ],
          [
           16
          ],
          [
           17
          ],
          [
           18
          ],
          [
           19
          ],
          [
           20
          ],
          [
           21
          ],
          [
           22
          ],
          [
           23
          ],
          [
           24
          ],
          [
           25
          ],
          [
           26
          ],
          [
           27
          ],
          [
           28
          ],
          [
           29
          ],
          [
           30
          ],
          [
           31
          ],
          [
           32
          ],
          [
           33
          ],
          [
           34
          ],
          [
           35
          ],
          [
           36
          ],
          [
           37
          ],
          [
           38
          ],
          [
           39
          ],
          [
           40
          ],
          [
           41
          ],
          [
           42
          ],
          [
           43
          ],
          [
           44
          ],
          [
           45
          ],
          [
           46
          ],
          [
           47
          ],
          [
           48
          ],
          [
           49
          ],
          [
           50
          ],
          [
           51
          ],
          [
           52
          ],
          [
           53
          ],
          [
           54
          ],
          [
           55
          ],
          [
           56
          ],
          [
           57
          ],
          [
           58
          ],
          [
           59
          ],
          [
           60
          ],
          [
           61
          ],
          [
           62
          ],
          [
           63
          ],
          [
           64
          ],
          [
           65
          ],
          [
           66
          ],
          [
           67
          ],
          [
           68
          ],
          [
           69
          ],
          [
           70
          ],
          [
           71
          ],
          [
           72
          ],
          [
           73
          ],
          [
           74
          ],
          [
           75
          ],
          [
           76
          ],
          [
           77
          ],
          [
           78
          ],
          [
           79
          ],
          [
           80
          ],
          [
           81
          ],
          [
           82
          ],
          [
           83
          ],
          [
           84
          ],
          [
           85
          ],
          [
           86
          ],
          [
           87
          ],
          [
           88
          ],
          [
           89
          ],
          [
           90
          ],
          [
           91
          ],
          [
           92
          ],
          [
           93
          ],
          [
           94
          ],
          [
           95
          ],
          [
           96
          ],
          [
           97
          ],
          [
           98
          ],
          [
           99
          ],
          [
           100
          ],
          [
           101
          ],
          [
           102
          ],
          [
           103
          ],
          [
           104
          ],
          [
           105
          ],
          [
           106
          ],
          [
           107
          ],
          [
           108
          ],
          [
           109
          ],
          [
           110
          ],
          [
           111
          ],
          [
           112
          ],
          [
           113
          ],
          [
           114
          ],
          [
           115
          ],
          [
           116
          ],
          [
           117
          ],
          [
           118
          ],
          [
           119
          ],
          [
           120
          ],
          [
           121
          ],
          [
           122
          ],
          [
           123
          ],
          [
           124
          ],
          [
           125
          ],
          [
           126
          ],
          [
           127
          ],
          [
           128
          ],
          [
           129
          ],
          [
           130
          ],
          [
           131
          ],
          [
           132
          ],
          [
           133
          ],
          [
           134
          ],
          [
           135
          ],
          [
           136
          ],
          [
           137
          ],
          [
           138
          ],
          [
           139
          ],
          [
           140
          ],
          [
           141
          ],
          [
           142
          ],
          [
           143
          ],
          [
           144
          ],
          [
           145
          ],
          [
           146
          ],
          [
           147
          ],
          [
           148
          ],
          [
           149
          ],
          [
           150
          ],
          [
           151
          ],
          [
           152
          ],
          [
           153
          ],
          [
           154
          ],
          [
           155
          ],
          [
           156
          ],
          [
           157
          ],
          [
           158
          ],
          [
           159
          ],
          [
           160
          ],
          [
           161
          ],
          [
           162
          ],
          [
           163
          ],
          [
           164
          ],
          [
           165
          ],
          [
           166
          ],
          [
           167
          ],
          [
           168
          ],
          [
           169
          ],
          [
           170
          ],
          [
           171
          ],
          [
           172
          ],
          [
           173
          ],
          [
           174
          ],
          [
           175
          ],
          [
           176
          ],
          [
           177
          ],
          [
           178
          ],
          [
           179
          ],
          [
           180
          ],
          [
           181
          ],
          [
           182
          ],
          [
           183
          ],
          [
           184
          ],
          [
           185
          ],
          [
           186
          ],
          [
           187
          ],
          [
           188
          ],
          [
           189
          ],
          [
           190
          ],
          [
           191
          ],
          [
           192
          ],
          [
           193
          ],
          [
           194
          ],
          [
           195
          ],
          [
           196
          ],
          [
           197
          ],
          [
           198
          ],
          [
           199
          ],
          [
           200
          ],
          [
           201
          ],
          [
           401
          ],
          [
           402
          ],
          [
           403
          ],
          [
           404
          ],
          [
           405
          ],
          [
           406
          ],
          [
           407
          ],
          [
           408
          ],
          [
           409
          ],
          [
           410
          ],
          [
           411
          ],
          [
           412
          ],
          [
           413
          ],
          [
           414
          ],
          [
           415
          ],
          [
           416
          ],
          [
           417
          ],
          [
           418
          ],
          [
           419
          ],
          [
           420
          ],
          [
           421
          ],
          [
           422
          ],
          [
           423
          ],
          [
           424
          ],
          [
           425
          ],
          [
           426
          ],
          [
           427
          ],
          [
           428
          ],
          [
           429
          ],
          [
           430
          ],
          [
           431
          ],
          [
           432
          ],
          [
           433
          ],
          [
           434
          ],
          [
           435
          ],
          [
           436
          ],
          [
           437
          ],
          [
           438
          ],
          [
           439
          ],
          [
           440
          ],
          [
           441
          ],
          [
           442
          ],
          [
           443
          ],
          [
           444
          ],
          [
           445
          ],
          [
           446
          ],
          [
           447
          ],
          [
           448
          ],
          [
           449
          ],
          [
           450
          ],
          [
           451
          ],
          [
           452
          ],
          [
           453
          ],
          [
           454
          ],
          [
           455
          ],
          [
           456
          ],
          [
           457
          ],
          [
           458
          ],
          [
           459
          ],
          [
           460
          ],
          [
           461
          ],
          [
           462
          ],
          [
           463
          ],
          [
           464
          ],
          [
           465
          ],
          [
           466
          ],
          [
           467
          ],
          [
           468
          ],
          [
           469
          ],
          [
           470
          ],
          [
           471
          ],
          [
           472
          ],
          [
           473
          ],
          [
           474
          ],
          [
           475
          ],
          [
           476
          ],
          [
           477
          ],
          [
           478
          ],
          [
           479
          ],
          [
           480
          ],
          [
           481
          ],
          [
           482
          ],
          [
           483
          ],
          [
           484
          ],
          [
           485
          ],
          [
           486
          ],
          [
           487
          ],
          [
           488
          ],
          [
           489
          ],
          [
           490
          ],
          [
           491
          ],
          [
           492
          ],
          [
           493
          ],
          [
           494
          ],
          [
           495
          ],
          [
           496
          ],
          [
           497
          ],
          [
           498
          ],
          [
           499
          ],
          [
           500
          ],
          [
           501
          ],
          [
           502
          ],
          [
           503
          ],
          [
           504
          ],
          [
           505
          ],
          [
           506
          ],
          [
           507
          ],
          [
           508
          ],
          [
           509
          ],
          [
           510
          ],
          [
           511
          ],
          [
           512
          ],
          [
           513
          ],
          [
           514
          ],
          [
           515
          ],
          [
           516
          ],
          [
           517
          ],
          [
           518
          ],
          [
           519
          ],
          [
           520
          ],
          [
           521
          ],
          [
           522
          ],
          [
           523
          ],
          [
           524
          ],
          [
           525
          ],
          [
           526
          ],
          [
           527
          ],
          [
           528
          ],
          [
           529
          ],
          [
           530
          ],
          [
           531
          ],
          [
           532
          ],
          [
           533
          ],
          [
           534
          ],
          [
           535
          ],
          [
           536
          ],
          [
           537
          ],
          [
           538
          ],
          [
           539
          ],
          [
           540
          ],
          [
           541
          ],
          [
           542
          ],
          [
           543
          ],
          [
           544
          ],
          [
           545
          ],
          [
           546
          ],
          [
           547
          ],
          [
           548
          ],
          [
           549
          ],
          [
           550
          ],
          [
           551
          ],
          [
           552
          ],
          [
           553
          ],
          [
           554
          ],
          [
           555
          ],
          [
           556
          ],
          [
           557
          ],
          [
           558
          ],
          [
           559
          ],
          [
           560
          ],
          [
           561
          ],
          [
           562
          ],
          [
           563
          ],
          [
           564
          ],
          [
           565
          ],
          [
           566
          ],
          [
           567
          ],
          [
           568
          ],
          [
           569
          ],
          [
           570
          ],
          [
           571
          ],
          [
           572
          ],
          [
           573
          ],
          [
           574
          ],
          [
           575
          ],
          [
           576
          ],
          [
           577
          ],
          [
           578
          ],
          [
           579
          ],
          [
           580
          ],
          [
           581
          ],
          [
           582
          ],
          [
           583
          ],
          [
           584
          ],
          [
           585
          ],
          [
           586
          ],
          [
           587
          ],
          [
           588
          ],
          [
           589
          ],
          [
           590
          ],
          [
           591
          ],
          [
           592
          ],
          [
           593
          ],
          [
           594
          ],
          [
           595
          ],
          [
           596
          ],
          [
           597
          ],
          [
           598
          ],
          [
           599
          ],
          [
           600
          ],
          [
           601
          ],
          [
           801
          ],
          [
           802
          ],
          [
           803
          ],
          [
           804
          ],
          [
           805
          ],
          [
           806
          ],
          [
           807
          ],
          [
           808
          ],
          [
           809
          ],
          [
           810
          ],
          [
           811
          ],
          [
           812
          ],
          [
           813
          ],
          [
           814
          ],
          [
           815
          ],
          [
           816
          ],
          [
           817
          ],
          [
           818
          ],
          [
           819
          ],
          [
           820
          ],
          [
           821
          ],
          [
           822
          ],
          [
           823
          ],
          [
           824
          ],
          [
           825
          ],
          [
           826
          ],
          [
           827
          ],
          [
           828
          ],
          [
           829
          ],
          [
           830
          ],
          [
           831
          ],
          [
           832
          ],
          [
           833
          ],
          [
           834
          ],
          [
           835
          ],
          [
           836
          ],
          [
           837
          ],
          [
           838
          ],
          [
           839
          ],
          [
           840
          ],
          [
           841
          ],
          [
           842
          ],
          [
           843
          ],
          [
           844
          ],
          [
           845
          ],
          [
           846
          ],
          [
           847
          ],
          [
           848
          ],
          [
           849
          ],
          [
           850
          ],
          [
           851
          ],
          [
           852
          ],
          [
           853
          ],
          [
           854
          ],
          [
           855
          ],
          [
           856
          ],
          [
           857
          ],
          [
           858
          ],
          [
           859
          ],
          [
           860
          ],
          [
           861
          ],
          [
           862
          ],
          [
           863
          ],
          [
           864
          ],
          [
           865
          ],
          [
           866
          ],
          [
           867
          ],
          [
           868
          ],
          [
           869
          ],
          [
           870
          ],
          [
           871
          ],
          [
           872
          ],
          [
           873
          ],
          [
           874
          ],
          [
           875
          ],
          [
           876
          ],
          [
           877
          ],
          [
           878
          ],
          [
           879
          ],
          [
           880
          ],
          [
           881
          ],
          [
           882
          ],
          [
           883
          ],
          [
           884
          ],
          [
           885
          ],
          [
           886
          ],
          [
           887
          ],
          [
           888
          ],
          [
           889
          ],
          [
           890
          ],
          [
           891
          ],
          [
           892
          ],
          [
           893
          ],
          [
           894
          ],
          [
           895
          ],
          [
           896
          ],
          [
           897
          ],
          [
           898
          ],
          [
           899
          ],
          [
           900
          ],
          [
           901
          ],
          [
           902
          ],
          [
           903
          ],
          [
           904
          ],
          [
           905
          ],
          [
           906
          ],
          [
           907
          ],
          [
           908
          ],
          [
           909
          ],
          [
           910
          ],
          [
           911
          ],
          [
           912
          ],
          [
           913
          ],
          [
           914
          ],
          [
           915
          ],
          [
           916
          ],
          [
           917
          ],
          [
           918
          ],
          [
           919
          ],
          [
           920
          ],
          [
           921
          ],
          [
           922
          ],
          [
           923
          ],
          [
           924
          ],
          [
           925
          ],
          [
           926
          ],
          [
           927
          ],
          [
           928
          ],
          [
           929
          ],
          [
           930
          ],
          [
           931
          ],
          [
           932
          ],
          [
           933
          ],
          [
           934
          ],
          [
           935
          ],
          [
           936
          ],
          [
           937
          ],
          [
           938
          ],
          [
           939
          ],
          [
           940
          ],
          [
           941
          ],
          [
           942
          ],
          [
           943
          ],
          [
           944
          ],
          [
           945
          ],
          [
           946
          ],
          [
           947
          ],
          [
           948
          ],
          [
           949
          ],
          [
           950
          ],
          [
           951
          ],
          [
           952
          ],
          [
           953
          ],
          [
           954
          ],
          [
           955
          ],
          [
           956
          ],
          [
           957
          ],
          [
           958
          ],
          [
           959
          ],
          [
           960
          ],
          [
           961
          ],
          [
           962
          ],
          [
           963
          ],
          [
           964
          ],
          [
           965
          ],
          [
           966
          ],
          [
           967
          ],
          [
           968
          ],
          [
           969
          ],
          [
           970
          ],
          [
           971
          ],
          [
           972
          ],
          [
           973
          ],
          [
           974
          ],
          [
           975
          ],
          [
           976
          ],
          [
           977
          ],
          [
           978
          ],
          [
           979
          ],
          [
           980
          ],
          [
           981
          ],
          [
           982
          ],
          [
           983
          ],
          [
           984
          ],
          [
           985
          ],
          [
           986
          ],
          [
           987
          ],
          [
           988
          ],
          [
           989
          ],
          [
           990
          ],
          [
           991
          ],
          [
           992
          ],
          [
           993
          ],
          [
           994
          ],
          [
           995
          ],
          [
           996
          ],
          [
           997
          ],
          [
           998
          ],
          [
           999
          ],
          [
           1000
          ],
          [
           1001
          ],
          [
           1002
          ],
          [
           1003
          ],
          [
           1004
          ],
          [
           1005
          ],
          [
           1006
          ],
          [
           1007
          ],
          [
           1008
          ],
          [
           1009
          ],
          [
           1010
          ],
          [
           1011
          ],
          [
           1012
          ],
          [
           1013
          ],
          [
           1014
          ],
          [
           1015
          ],
          [
           1016
          ],
          [
           1017
          ],
          [
           1018
          ],
          [
           1019
          ],
          [
           1020
          ],
          [
           1021
          ],
          [
           1022
          ],
          [
           1023
          ],
          [
           1024
          ],
          [
           1025
          ],
          [
           1026
          ],
          [
           1027
          ],
          [
           1028
          ],
          [
           1029
          ],
          [
           1030
          ],
          [
           1031
          ],
          [
           1032
          ],
          [
           1033
          ],
          [
           1034
          ],
          [
           1035
          ],
          [
           1036
          ],
          [
           1037
          ],
          [
           1038
          ],
          [
           1039
          ],
          [
           1040
          ],
          [
           1041
          ],
          [
           1042
          ],
          [
           1043
          ],
          [
           1044
          ],
          [
           1045
          ],
          [
           1046
          ],
          [
           1047
          ],
          [
           1048
          ],
          [
           1049
          ],
          [
           1050
          ],
          [
           1051
          ],
          [
           1052
          ],
          [
           1053
          ],
          [
           1054
          ],
          [
           1055
          ],
          [
           1056
          ],
          [
           1057
          ],
          [
           1058
          ],
          [
           1059
          ],
          [
           1060
          ],
          [
           1061
          ]
         ],
         "hovertemplate": "<b>%{hovertext}</b><br><br>lat=%{lat}<br>Long=%{lon}<br>CustomerID=%{customdata[0]}<extra></extra>",
         "hovertext": [
          "Lisco",
          "Sylvanite",
          "Peeples Valley",
          "Medicine Lodge",
          "Gasport",
          "Jessie",
          "Frankewing",
          "Bow Mar",
          "Netcong",
          "Wimbledon",
          "Devault",
          "Biscay",
          "Stonefort",
          "Long Meadow",
          "Batson",
          "Coney Island",
          "East Fultonham",
          "Goffstown",
          "Lemeta",
          "College Place",
          "Tresckow",
          "Ward Ridge",
          "Ikatan",
          "Dundarrach",
          "Avenal",
          "Hedrick",
          "Bowlus",
          "North Ridge",
          "Eulaton",
          "Koontzville",
          "Lake Stevens",
          "Maypearl",
          "Boyden Arbor",
          "Dallardsville",
          "Slanesville",
          "Ekron",
          "Kerby",
          "Airport Drive",
          "Diablock",
          "Impact",
          "Olivette",
          "Arietta",
          "Upper Preston",
          "Amanda Park",
          "Severna Park",
          "Jemison",
          "Lake Hughes",
          "Trentwood",
          "Muir",
          "Hambleton",
          "Imlaystown",
          "Idria",
          "Nanafalia",
          "Railroad",
          "Gum Branch",
          "Royal City",
          "Lakemore",
          "Mappsburg",
          "Edgartown",
          "East Dailey",
          "Fairfield Glade",
          "Great Neck Estates",
          "Stallion Springs",
          "Hodgdon",
          "North Cowden",
          "Madaket",
          "Sentinel Butte",
          "Gardere",
          "Lytle Creek",
          "New Baden",
          "Good Hart",
          "Cortaro",
          "Cokato",
          "Indios",
          "Windsor Locks",
          "Yewed",
          "Hahira",
          "Sekiu",
          "Page City",
          "Valdese",
          "Big Moose",
          "La Cueva",
          "Absecon",
          "Aceitunas",
          "Andrix",
          "New Lexington",
          "Sauquoit",
          "Dracut",
          "Victory Gardens",
          "Tolna",
          "Alstead",
          "Sans Souci",
          "Clewiston",
          "Cheyenne Wells",
          "Lavon",
          "South La Paloma",
          "Manchester Center",
          "El Centro",
          "Guin",
          "Tunnelhill",
          "Cundiyo",
          "Fieldbrook",
          "Kalvesta",
          "Wallagrass",
          "Tomnolen",
          "Tumacacori",
          "Glen Avon",
          "Bernie",
          "South Laguna",
          "North Crows Nest",
          "Oriole Beach",
          "Sallyards",
          "Dahlia",
          "Cherry Grove Beach",
          "Bethania",
          "Rafael Capó",
          "Scofield",
          "Vassalboro",
          "Statenville",
          "Bratenahl",
          "Elrosa",
          "McClave",
          "Roe Park",
          "Hanoverton",
          "Annamoriah",
          "Francis Mills",
          "Point Roberts",
          "East Portal",
          "Mineral Hills",
          "Maple Shade",
          "Kwethluk",
          "Minidoka",
          "Lake Erie Beach",
          "Tavares",
          "Terre du Lac",
          "Mount Montgomery",
          "Carbonville",
          "Navassa",
          "Hardeeville",
          "Furley",
          "Arrow Rock",
          "King Cove",
          "Ashtabula",
          "Larose",
          "Manahawkin",
          "Belgreen",
          "Fishtail",
          "Baraboo",
          "Inguadona",
          "Corfu",
          "Antares",
          "Sun River",
          "Marcell",
          "Eden Valley",
          "Arbor Vitae",
          "Hollywood Park",
          "Saks",
          "Donner",
          "Saint Louis Park",
          "Crary",
          "Aspen Park",
          "Glen Park",
          "Panaca",
          "Rothsville",
          "Topstone",
          "McCamey",
          "Rockwall",
          "Seagraves",
          "Sinclair",
          "Eastchester",
          "Ortley Beach",
          "Madrone",
          "Wappingers Falls",
          "Astor Park",
          "San Acacia",
          "Malott",
          "Orrtanna",
          "Armstrong Creek",
          "Hiteman",
          "Caselton",
          "Heilwood",
          "Hayes Center",
          "Tierra Verde",
          "South Euclid",
          "Vidrine",
          "Placer",
          "Brown City",
          "Premont",
          "Wilkes-Barre",
          "Teutopolis",
          "Orchard Hill",
          "Optimo",
          "Knifley",
          "Naples Park",
          "Lesslie",
          "Howells",
          "Magalia",
          "Buell",
          "Antonito",
          "Tooele",
          "Skyway",
          "Orchard Mesa",
          "Black Lick",
          "Queen Valley",
          "Penns Creek",
          "Bourbonnais",
          "Tuscaloosa",
          "Mooringsport",
          "Rockwall",
          "Orick",
          "Bernstein",
          "Edmund",
          "Bozeman Hot Springs",
          "Truscott",
          "Rose Tree",
          "Leathersville",
          "Necedah",
          "Chetek",
          "Yaak",
          "Compass Lake",
          "Herlong",
          "Highland Home",
          "Naches",
          "Baldwin City",
          "Heartwell",
          "Bethel Acres",
          "Willow Valley",
          "Athol Springs",
          "Paw Paw Lake",
          "Lilbourn",
          "Lost River",
          "Rosa Sánchez",
          "Vamo",
          "Balko",
          "Lime Lake",
          "Teutopolis",
          "Gargatha",
          "Cadogan",
          "Lucasville",
          "Cylon",
          "Asher",
          "Keosauqua",
          "Homer City",
          "Berville",
          "Tea",
          "Dacono",
          "Saint Landry",
          "Coin",
          "Salt Wells",
          "Delray",
          "Mount Summit",
          "Smoot",
          "Lake Davis",
          "Stanardsville",
          "Corcovado",
          "Taft Heights",
          "West Hempstead",
          "Portales",
          "Coker",
          "Haydenville",
          "Mayhill",
          "Vair",
          "Crossroads",
          "Cowlington",
          "Glen Ullin",
          "Oologah",
          "Lytle",
          "Mahaffey",
          "Sunburg",
          "Johnetta",
          "Universal City",
          "Ridgemark",
          "San Jacinto",
          "Floriston",
          "Bokeelia",
          "Cale",
          "Karthaus",
          "Glancy",
          "Stoneboro",
          "Mier",
          "Wapinitia",
          "White Church",
          "Caton",
          "Plum Branch",
          "Mauldin",
          "Bonner Springs",
          "Lowellville",
          "Elverson",
          "Isabela",
          "Sayner",
          "Beals",
          "Morton Grove",
          "Birds",
          "Federalsburg",
          "Pikeview",
          "Boalsburg",
          "Port Hueneme",
          "Verdery",
          "Obetz",
          "East Fultonham",
          "Obion",
          "Cavendish",
          "Miesville",
          "Valhalla",
          "Cape Neddick",
          "Silver Plume",
          "North Beach Haven",
          "Downingtown",
          "Branson West",
          "Bergen Park",
          "Grabill",
          "North Manitou",
          "Philip",
          "Straughn",
          "Gilford",
          "Del Valle",
          "Harkers Island",
          "Licking",
          "Raton",
          "Boynton",
          "Frenchburg",
          "Robertsdale",
          "Dickerson",
          "Bruceton Mills",
          "Cloquet",
          "Claycomo",
          "Beekmantown",
          "Islip Terrace",
          "Rich Creek",
          "Griswoldville",
          "East Mountain",
          "Omer",
          "Waycross",
          "Nichols Hills",
          "Plaquemine",
          "Triadelphia",
          "Ferney",
          "Akhiok",
          "Deeson",
          "Nuangola",
          "Weld",
          "Mickleton",
          "Schererville",
          "Lexington Heights",
          "Broomtown",
          "Jamison",
          "Key Biscayne",
          "Chaseley",
          "Indian Creek",
          "Lake Ronkonkoma",
          "Morrison Bluff",
          "Huntingburg",
          "Shay",
          "Helotes",
          "Hollandsburg",
          "Liberty Grove",
          "Morita",
          "New Laguna",
          "Bourneville",
          "Mendoza",
          "Palmas del Mar",
          "Marion Junction",
          "Ware Shoals",
          "Lostine",
          "Tilleda",
          "Wapiti",
          "Amado",
          "Jeromesville",
          "Ovilla",
          "West Frostproof",
          "Flomaton",
          "Pawlet",
          "Trout Run",
          "Marin City",
          "Molalla",
          "Trumansburg",
          "Goodings Grove",
          "Cherryplain",
          "Bell Acres",
          "Connoquenessing",
          "Sarversville",
          "Munich",
          "Montoya",
          "Knights Landing",
          "Cache",
          "Towaco",
          "Lynne",
          "Plata",
          "Oak Point",
          "Alcester",
          "McAdenville",
          "Idaho City",
          "Dunkerton",
          "Cuyamungue",
          "Marfa",
          "Accomac",
          "Cos Cob",
          "Haycock",
          "Kapa'a",
          "Dickworsham",
          "Caro",
          "Ruthsburg",
          "Shell",
          "Cañon",
          "Termo",
          "La Bolt",
          "Ekwok",
          "Sinclair",
          "Wanaque",
          "Rail Road Flat",
          "Panton",
          "Segundo",
          "Old River-Winfree",
          "Drakesboro",
          "Tenstrike",
          "Petronila",
          "Elkatawa",
          "Dennis Acres",
          "Branchburg Park",
          "Bladenboro",
          "Nitro",
          "Madison Park",
          "Cataño",
          "Tiff City",
          "Jolley",
          "Bazemore",
          "Raven",
          "Spillertown",
          "Tamora",
          "Tolono",
          "Elbing",
          "Weigelstown",
          "Chalco",
          "Glenwillow",
          "Westwater",
          "Palatine Bridge",
          "Twin Peaks",
          "Markville",
          "Gardners",
          "New Braintree",
          "Greenback",
          "Blackville",
          "Abbottsburg",
          "Deer River",
          "Marguerite",
          "Laurence Harbor",
          "New Zion",
          "Valley View Park",
          "Wounded Knee",
          "Creelsboro",
          "Haltom City",
          "Spillville",
          "Seiling",
          "Coosa",
          "Akhiok",
          "Bakers Mill",
          "Humansville",
          "Dry Run",
          "Ben Arnold",
          "Yermo",
          "Gassaway",
          "Ewen",
          "North Brookfield",
          "Chateaugay",
          "Eagle Valley",
          "Beaver Bay",
          "Kinder",
          "Mount Pocono",
          "Elk Garden",
          "Coyville",
          "La Grange Park",
          "Meadowdale",
          "Tolchester Beach",
          "La Paz",
          "Moquino",
          "Mamou",
          "Waite Hill",
          "Coupland",
          "Marcella",
          "Makoti",
          "Conesus Lake",
          "McCammon",
          "Wrangell",
          "Robertsburg",
          "McQueen",
          "Switz City",
          "New Plymouth",
          "Garlin",
          "Cave Junction",
          "Grider",
          "Argusville",
          "Flowella",
          "Sandy Level",
          "Alden Bridge",
          "West Elkton",
          "Cypress Quarters",
          "Oval",
          "Cotuit",
          "Lake Crystal",
          "Orpha",
          "Capa",
          "Gresston",
          "Du Quoin",
          "The Colony",
          "Darling",
          "Sherwin",
          "Bock",
          "Caruthers",
          "Shawboro",
          "Harbour Pointe",
          "Coffeyville",
          "Golden Meadow",
          "Oakpark",
          "Wyndham",
          "Bayou Cane",
          "Nesmith",
          "Buchanan Lake Village",
          "Nehawka",
          "Soham",
          "Twodot",
          "Greig",
          "Shenorock",
          "Conewango",
          "North Muskegon",
          "Fortville",
          "Hightsville",
          "Oley",
          "North Eastham",
          "Calvert City",
          "Esopus",
          "Port Chilkoot",
          "Cramerton",
          "North York",
          "Schoharie",
          "Drumright",
          "Northrop",
          "Golf View",
          "Tempe",
          "Southside",
          "Kannapolis",
          "Nahant",
          "Port Alto",
          "Lake Clarke Shores",
          "Roachtown",
          "Cherry Grove Beach",
          "Hawarden",
          "White Horse Beach",
          "Toughkenamon",
          "Venersborg",
          "Jane",
          "Jones Creek",
          "Huntington Woods",
          "Jesmond Dene",
          "Flanagan",
          "Mashulaville",
          "Mary Esther",
          "Bowleys Quarters",
          "Red Mesa",
          "Nicasio",
          "Pharr",
          "Edgecomb",
          "Bombay Beach",
          "Arrowhead Highlands",
          "Ewart",
          "Watonga",
          "Trilby",
          "McCall",
          "Chipita Park",
          "Hanaford",
          "Arrowbear Lake",
          "Phelps City",
          "Bratt",
          "Iliamna",
          "Lompoc",
          "Middleway",
          "Kopperl",
          "Tschetter Colony",
          "Sea Island",
          "North Eaton",
          "Puerto de Luna",
          "Cookietown",
          "Lunds",
          "Bernardston",
          "Walapai",
          "Grannis",
          "Haddon Heights",
          "Grantsburg",
          "Sabinsville",
          "Schaal",
          "Lorentz",
          "Zurich",
          "El Refugio",
          "Cuyahoga Heights",
          "Vollmar",
          "Shell Knob",
          "Van Alstyne",
          "Oconto Falls",
          "Marion Hill",
          "Cloud Lake",
          "Pastura",
          "Yerington",
          "Catesby",
          "Dorchester",
          "Copake",
          "Holden Beach",
          "Wesson",
          "Wells",
          "Oakshade",
          "Newberg",
          "Reader",
          "Greenfield",
          "Dawn",
          "Wasco",
          "Cherokee",
          "Hanna",
          "Dillon",
          "Saxapahaw",
          "Virgil",
          "Corryton",
          "Greycliff",
          "Gallipolis Ferry",
          "Claremont",
          "Staley",
          "Biorka",
          "Brookville",
          "Byers",
          "Otterville",
          "Ravia",
          "Richland",
          "Wray",
          "Dover",
          "Ashland",
          "Scioto Furnace",
          "Moroni",
          "Komalty",
          "Biggs",
          "Wright City",
          "Basin",
          "Ridgeway",
          "Tarzan",
          "Lake Mohegan",
          "Scott",
          "Tremont",
          "Florahome",
          "Colebrook",
          "Meaux",
          "Nicholson",
          "Great Neck",
          "Lancaster",
          "Walker Valley",
          "Yampa",
          "Palmas del Mar",
          "Isabela",
          "Liberty Plain",
          "Linden",
          "Rogersville",
          "Roberta Mill",
          "Bowmansville",
          "Orland Hills",
          "Sigel",
          "Ellisville",
          "Midland",
          "Long Beach"
         ],
         "lat": [
          41.4972022,
          48.7163356,
          34.2689145,
          37.2811339,
          43.1992244,
          47.542218,
          35.19258,
          39.628321,
          40.8989877,
          47.1697143,
          40.0745503,
          44.8274625,
          37.6142165,
          39.6862063,
          30.2493767,
          36.5931192,
          39.8500679,
          43.0203609,
          64.8597222,
          46.0493026,
          40.9134194,
          29.7885429,
          54.75,
          34.9293315,
          36.0041223,
          41.1725134,
          45.8194098,
          43.2125562,
          33.6456587,
          48.0157092,
          48.015098,
          32.3132003,
          34.0240436,
          30.6285363,
          39.3731537,
          37.9292349,
          42.1942798,
          37.1425588,
          37.2284289,
          32.4998459,
          38.6653297,
          43.246181,
          47.5051019,
          47.4631419,
          39.070388,
          32.9598451,
          34.6769294,
          47.6965622,
          42.9958661,
          39.0820511,
          40.1676117,
          36.4169007,
          32.1129257,
          39.7606585,
          31.8582642,
          46.9009701,
          41.0208896,
          37.5776335,
          41.3890052,
          38.7803866,
          36.0003475,
          40.7870459,
          35.0888553,
          46.0539429,
          32.0045624,
          41.2729019,
          46.9183469,
          30.3457487,
          34.2591728,
          38.5350488,
          45.5672308,
          32.3561848,
          45.0757967,
          17.9941326,
          41.9292639,
          36.6862008006,
          30.9913064,
          48.2622995,
          39.0897299,
          35.7406864,
          43.8183991,
          35.941705,
          39.4284503,
          18.4432783,
          37.2794624,
          39.7139579,
          43.0042365,
          42.6703687,
          40.8759325,
          47.8272203,
          43.1489663,
          34.8778952,
          26.7542312,
          38.8213951,
          33.0276193,
          27.8946157,
          43.1770206,
          32.792,
          33.9656594,
          40.4781265,
          35.9591922,
          40.9656826,
          38.0594637,
          47.1294837,
          33.4848451,
          31.5687255859,
          34.0116799,
          36.6689446,
          33.5005827,
          39.8658742,
          30.3738103,
          37.8214116,
          35.1214409,
          33.8273947,
          36.1823602,
          18.3997792,
          39.7241289,
          44.4592341,
          30.7032675,
          41.5425502,
          45.5627429,
          38.1375074,
          41.3064828,
          40.7511704,
          38.9406392,
          40.1348354,
          48.9853824,
          39.9033204,
          46.1132871,
          39.9526127,
          60.8122222,
          42.7537967,
          42.6242257,
          28.8041579,
          37.9117174,
          37.9796525,
          39.6199647,
          34.2554474,
          32.2871413,
          37.8791795,
          39.0697466,
          55.0616667,
          41.8650534,
          29.572438,
          39.695397,
          34.474818,
          45.4535539,
          43.4710944,
          46.9832886,
          42.9600595,
          35.419715,
          47.5332872,
          47.5929997,
          45.3260745,
          45.9205077,
          29.6005047,
          33.6987135,
          29.6957647,
          44.9482979,
          48.0708347,
          39.539155,
          44.0011701,
          37.79052,
          40.1512059,
          41.2959287,
          31.1359813,
          32.9312336,
          32.9442651,
          41.7749592,
          40.8884329,
          39.9556738,
          34.5939498,
          41.5964825,
          29.1535911,
          34.2553446,
          48.2826495,
          39.8450942,
          45.6582937,
          41.0588945,
          37.9191297,
          40.6209007,
          40.5108385,
          27.6919746,
          41.5231076,
          30.6926971,
          42.6320633,
          43.2122486,
          27.3605947,
          41.2459149,
          39.1330967,
          33.1865071,
          35.8903166,
          37.2428449,
          26.2617534,
          34.890701,
          41.7250059,
          39.8121058,
          39.0342075,
          37.079179,
          40.5307776,
          47.4914884,
          39.0430375,
          40.4792348,
          33.2986656,
          40.8598045,
          41.1416991,
          33.2098407,
          32.6876455,
          32.9312336,
          41.2867896,
          36.3941959,
          42.9674944,
          45.6661472137,
          33.7542544,
          39.934278,
          33.7167949,
          44.0260775,
          45.3141273,
          48.8330088,
          30.5926937,
          40.1435142,
          31.9534835,
          46.730958,
          38.775007,
          40.5705702,
          35.3126284006,
          34.9119475,
          42.769781,
          42.2122597,
          36.5922816,
          43.68691,
          18.0597925,
          27.2219951,
          36.6339746006,
          42.4345078,
          39.1330967,
          37.8001273,
          40.7539533,
          38.879518,
          45.1221865,
          34.9934707006,
          40.7303058,
          40.5434007,
          42.9083621,
          43.4463668,
          40.0847062,
          30.8443611,
          40.6544393,
          39.3751976,
          39.1945484,
          40.0044908,
          42.6204847,
          39.8726783,
          38.2973519,
          18.4585569,
          35.1346895,
          40.7048242,
          34.1861922,
          33.2459512,
          39.482013,
          32.8895419,
          31.2810176,
          33.5123245,
          35.3058311009,
          46.8150051,
          36.4509861006,
          29.233294,
          40.8728411,
          45.3477401,
          37.4156408,
          29.5480071,
          36.8124564,
          33.7839084,
          39.3946303,
          26.7056266,
          33.6262263,
          41.1208924,
          31.8184955,
          41.3392232,
          40.5753176,
          45.1142837,
          36.8503352,
          42.0561853,
          33.8487376,
          34.77873,
          39.059726,
          41.0353371,
          40.1567641,
          18.500776,
          45.9860625,
          44.5198009,
          42.0405853,
          38.8369899,
          38.6942809,
          38.9152705,
          40.7756184,
          34.1477829,
          34.1092876,
          39.8789527,
          39.8500679,
          36.2589567,
          43.3820171,
          44.6005227,
          36.1371028,
          43.1936986,
          39.6960983,
          39.5731739,
          40.0064958,
          36.6970059,
          39.6913769,
          41.2108829,
          45.1202637,
          44.0394329,
          39.8089351,
          43.5475771,
          30.2107669,
          34.6951628,
          37.4994884,
          36.9033581,
          35.6526593006,
          37.950916,
          30.5538048,
          39.220104,
          39.6586918,
          46.7216102,
          39.202503,
          44.7708742,
          40.7431539,
          37.3823434,
          32.8706936,
          32.593754,
          44.0475198,
          31.2135511,
          35.5548377006,
          30.2890833,
          40.0525734,
          45.3305156,
          56.9455556,
          34.0231639,
          41.1550825,
          44.6986707,
          39.7901134,
          41.4789246,
          43.2250269,
          34.3606453,
          41.1216623,
          25.693713,
          47.4502759,
          42.2269684,
          40.8350983,
          35.387863,
          38.2989422,
          40.7364533,
          29.5780056,
          39.760321,
          39.6559424,
          32.1845661,
          35.0408767,
          39.2820094,
          30.00494,
          18.0819088,
          32.437358,
          34.3984511,
          45.4873692,
          44.8155317,
          44.4685604,
          31.7078658,
          40.8042239,
          32.5265264,
          27.733641,
          31.000182,
          43.34674,
          41.3861872,
          37.868538,
          45.1473445,
          42.5422939,
          41.6291984,
          42.6292474,
          40.5900673,
          40.8178427,
          40.7195095,
          48.669174,
          35.0997794,
          38.7996238,
          34.6334639006,
          40.922043,
          29.1924772,
          29.8762836,
          33.1901194,
          43.0213783,
          35.2593056,
          43.8285046,
          42.5699858,
          35.8697483,
          30.3079384,
          37.7195742,
          41.0334305,
          65.2097222,
          22.0749700304,
          33.7514907,
          43.4911322,
          39.0031683,
          44.5355158,
          35.6569716,
          40.8657308,
          45.0490377,
          59.3497222,
          41.7749592,
          41.0381526,
          38.3432471,
          44.1486654,
          37.1252983,
          29.8682764,
          37.2175425,
          47.6566206,
          27.671975,
          37.5570338,
          37.0467281,
          40.5723251,
          34.5387799,
          38.4148146,
          40.4514954,
          18.4413351,
          36.668405,
          42.4788677,
          33.8945496,
          37.0870572,
          37.7664385,
          40.8938986,
          39.9861415,
          38.0527925,
          39.9837084,
          41.1838878,
          41.3617214,
          39.0783178,
          42.9109064,
          34.2388955,
          46.091888,
          40.0056483,
          42.3167581,
          35.6611904,
          33.3579297,
          34.517114,
          47.3330045,
          40.2636811,
          40.4567735,
          33.8443276,
          34.2350067,
          43.1405442,
          36.8850648,
          32.7995738,
          43.2049718,
          36.1520431006,
          34.2545377,
          56.9455556,
          30.5796601,
          37.7944806,
          40.1675853,
          30.9637973,
          34.9049849,
          38.6731544,
          46.535222,
          42.2667587,
          44.9264337,
          41.1548173,
          47.2577003,
          30.485479,
          41.1220337,
          39.3834313,
          37.6861525,
          41.8347535,
          47.852874,
          39.2170720564,
          41.4597686,
          35.1725399,
          30.6338092,
          41.6186592,
          30.4599264,
          40.9870425,
          47.9611214,
          42.7756477,
          42.6504719,
          56.4708333,
          38.6553637,
          34.6706795006,
          39.035,
          43.9698864,
          37.1139534,
          42.1628912,
          35.6386903,
          47.0521927,
          27.2164329,
          36.5687491,
          32.7751427,
          39.5878325,
          27.2519902,
          41.1511863,
          41.6167766,
          44.1057973,
          42.8546892,
          44.1088749,
          32.286281,
          38.0114393,
          33.0890094,
          34.3589978,
          37.1800624,
          45.7849627,
          36.5427271,
          36.4054333,
          47.8856515,
          37.0373005,
          29.3791112,
          38.3667957,
          37.6984781,
          29.624102,
          33.6590552,
          30.8507331,
          40.8294461,
          35.4155984,
          46.4243971,
          43.681458,
          41.3317606,
          42.2386716,
          43.2561251,
          39.9322625,
          34.2696139,
          40.3875936,
          41.8651071,
          37.0333896,
          41.8278707,
          59.2288889,
          35.2387504,
          39.9781536,
          42.6659088,
          35.9923487006,
          43.7363438,
          39.7006692,
          33.414768,
          33.9245425,
          35.4873613,
          42.4264859,
          28.6599945,
          26.6453449,
          38.4631066,
          33.8273947,
          42.9958216,
          41.9309375,
          39.8314987,
          45.7737266,
          36.5472962,
          28.9685817,
          42.4805913,
          33.1803157,
          40.8780891,
          33.0867933,
          30.4099215,
          39.3353857,
          36.9613024198,
          38.0615885,
          26.1947962,
          43.9584129,
          33.3508667,
          34.2300069,
          41.641109,
          35.8487128006,
          28.4624986,
          44.911006,
          38.9244346,
          37.9579449,
          34.2108413,
          40.4033346,
          30.9657386,
          59.7567965,
          34.6391501,
          39.3034346,
          32.0698734,
          43.3702642,
          31.1835648,
          41.3133839,
          34.829682,
          34.2790367006,
          44.6994307,
          42.6709176,
          35.3444389,
          34.2406665,
          39.8773356,
          45.7763419,
          41.8678482,
          33.8262286,
          39.0109301,
          39.2344536,
          26.340345,
          41.4353301,
          40.1349833,
          36.6322872,
          33.4214995,
          44.8738805,
          40.7303435,
          26.6761772,
          34.7828401,
          38.9857508,
          36.4970385006,
          33.5303861,
          42.1034238,
          33.9135061,
          33.1154128,
          43.4172937,
          41.6689399,
          45.3001179,
          33.752053,
          35.6323013,
          34.9103368,
          45.5917918,
          42.7494277,
          35.2090451006,
          34.4165505,
          35.9473614,
          37.9808617,
          36.1536937,
          45.7632707,
          38.7706371,
          35.7145776,
          35.7959711,
          53.8269444,
          39.4231065,
          39.7113708,
          39.0506032,
          34.2457087006,
          41.1855708,
          40.0758231,
          43.9735748,
          43.6953512,
          38.7986875,
          39.5249615,
          35.0515040006,
          39.4123876,
          34.0640539006,
          46.2713177,
          34.3076471,
          32.3053922,
          41.3178717,
          32.5518326,
          44.2667467,
          29.7327446,
          41.9895388,
          30.0207608,
          34.1139993,
          40.8006567,
          44.4889465,
          41.6337047,
          40.1524837,
          18.0819088,
          18.500776,
          42.1889895,
          33.0123537,
          34.8256425,
          35.3573633,
          42.9383918,
          41.5853107,
          41.275063,
          40.6267064,
          47.1670439,
          46.3523219
         ],
         "legendgroup": "",
         "lon": [
          -102.6201979,
          -115.8743507,
          -112.7271223,
          -98.580361,
          -78.5761394,
          -98.2381519,
          -86.8511135,
          -105.0499841,
          -74.7065516,
          -98.4598177,
          -75.5351981,
          -94.2749801,
          -88.7081133,
          -77.7122154,
          -94.6071417,
          -93.3971299,
          -82.1220868,
          -71.600349,
          -147.7322222,
          -118.3883012,
          -75.9665916,
          -85.2849181,
          -163.3083333,
          -79.155033,
          -120.1290272,
          -92.3087945,
          -94.4094468,
          -78.8258709,
          -85.9124671,
          -118.9472435,
          -122.0637425,
          -97.0116691,
          -80.9456453,
          -94.6318698,
          -78.5227886,
          -86.1794145,
          -123.651735,
          -94.5107824,
          -83.1721162,
          -99.7459225,
          -90.3759499,
          -74.5176433,
          -121.907615,
          -123.8860114,
          -76.5452409,
          -86.7466522,
          -118.4453598,
          -117.2107634,
          -84.9425013,
          -79.6453386,
          -74.5151531,
          -120.6743379,
          -87.9880691,
          -76.6983049,
          -81.7267801,
          -119.6305912,
          -81.4359458,
          -75.7635403,
          -70.5133599,
          -79.8909006,
          -84.8863395,
          -73.7367983,
          -118.6425912,
          -67.8666846,
          -102.5129264,
          -70.1980734,
          -103.8388108,
          -91.1401055,
          -117.5000512,
          -89.7006499,
          -85.113118,
          -111.0884337,
          -94.1899799,
          -66.8193421,
          -72.6273124,
          -98.4338585885,
          -83.3726575,
          -124.3013299,
          -101.1462666,
          -81.563149,
          -74.9151774,
          -105.2491779,
          -74.4957076,
          -67.0649026,
          -103.1927114,
          -82.2084805,
          -75.2598859,
          -71.3020052,
          -74.5423796,
          -98.4401019,
          -72.3606431,
          -82.4240114,
          -80.9336753,
          -102.3532435,
          -96.4341524,
          -97.9685259,
          -73.0570488,
          -115.5630514,
          -87.9147494,
          -78.5408491,
          -105.8964091,
          -124.0356196,
          -100.2862511,
          -68.5972677,
          -89.3606259,
          -111.052307129,
          -117.4847714,
          -89.9687021,
          -117.7431097,
          -86.1633214,
          -87.0913555,
          -96.5072359,
          -105.2769498,
          -78.6427922,
          -80.3381077,
          -66.7908004,
          -111.1607272,
          -69.6775451,
          -83.0276398,
          -81.626238,
          -94.9472391,
          -102.8504765,
          -73.8834702,
          -80.937032,
          -81.227061,
          -74.3973717,
          -123.077974,
          -105.6444469,
          -88.6479102,
          -74.9923915,
          -161.4358333,
          -113.4902829,
          -79.066983,
          -81.725632,
          -90.6254052,
          -118.3215086,
          -110.8343268,
          -78.0074906,
          -81.0806665,
          -97.2128162,
          -92.9465808,
          -162.3102778,
          -80.7898089,
          -90.3817483,
          -74.2587527,
          -87.8664241,
          -109.5043343,
          -89.7442907,
          -94.1302482,
          -78.4055767,
          -113.8085563,
          -111.7213719,
          -93.6907581,
          -94.5461074,
          -89.6634802,
          -98.48724,
          -85.8396879,
          -90.9442629,
          -93.3480051,
          -98.6384434,
          -105.2947148,
          -75.9663138,
          -114.3894336,
          -76.2510654,
          -73.4490109,
          -102.2243041,
          -96.4597089,
          -102.564915,
          -107.113103,
          -73.8281895,
          -74.074303,
          -106.7330813,
          -73.91097,
          -81.5720175,
          -106.8994726,
          -119.7067271,
          -77.3608197,
          -88.4462301,
          -92.8921428,
          -114.4852707,
          -78.915029,
          -101.0196016,
          -82.7234337,
          -81.5184553,
          -92.3981875,
          -123.3153394,
          -82.9896604,
          -98.1236151,
          -75.8813075,
          -88.4719918,
          -84.2113095,
          -104.8036063,
          -85.1894035,
          -81.8092543,
          -80.9564659,
          -97.0028133,
          -121.5783059,
          -91.4390477,
          -106.0086329,
          -112.29828,
          -122.2542892,
          -108.5523153,
          -79.1997569,
          -111.2895709,
          -77.0552539,
          -87.8750429,
          -87.5691735,
          -93.961015,
          -96.4597089,
          -124.0597937,
          -101.3571044,
          -90.264568,
          -111.185003389,
          -99.8112042,
          -75.3901933,
          -82.4398499,
          -90.0740181,
          -91.6510007,
          -115.7087944,
          -85.3927045,
          -120.1346519,
          -86.3138546,
          -120.699516,
          -95.1863603,
          -98.787853,
          -97.0493628885,
          -114.6066314,
          -78.8664229,
          -86.2719674,
          -89.6153571,
          -113.614571,
          -65.909286,
          -82.4978748,
          -100.708656688,
          -78.4797427,
          -88.4719918,
          -75.5979836,
          -79.5811576,
          -82.9968419,
          -92.352969,
          -96.9474152885,
          -91.9623949,
          -79.1622566,
          -82.8829846,
          -96.8358847,
          -104.9394216,
          -92.257905,
          -95.2302597,
          -118.5829202,
          -78.6041789,
          -85.3846928,
          -110.9143626,
          -120.4788267,
          -78.4400099,
          -66.7762868,
          -119.4726196,
          -73.6501295,
          -103.3343978,
          -87.6877882,
          -82.3282074,
          -105.4780381,
          -94.9135442,
          -103.3396737,
          -94.7897384014,
          -101.829877,
          -95.7320981885,
          -98.7964137,
          -78.724196,
          -95.2383563,
          -84.191877,
          -98.2911235,
          -121.3657673,
          -116.958635,
          -120.021308,
          -82.1589815,
          -93.2404457,
          -78.1138962,
          -90.4964839,
          -80.1050604,
          -85.8255386,
          -121.2564517,
          -91.7862581,
          -77.0277448,
          -82.259846,
          -82.310119,
          -94.8835754,
          -80.5364593,
          -75.8327088,
          -67.0243462,
          -89.5326435,
          -67.6149935,
          -87.7825621,
          -87.6678032,
          -75.7721551,
          -104.8221988,
          -77.7924992,
          -119.1951074,
          -82.2492911,
          -82.9507363,
          -82.1220868,
          -89.1917353,
          -72.608149,
          -92.8129802,
          -76.6577239,
          -70.6208862,
          -105.7258386,
          -74.2315292,
          -75.7032742,
          -93.3693524,
          -105.3616598,
          -84.9669112,
          -85.979256,
          -101.6651441,
          -85.2913559,
          -71.4067385,
          -97.6547243,
          -76.5593693,
          -91.8570984,
          -104.4391532,
          -95.6798780885,
          -83.6257452,
          -87.7119324,
          -77.424153,
          -79.6411594,
          -92.4593566,
          -94.492453,
          -73.4920802,
          -73.192615,
          -80.8225774,
          -83.4887852,
          -94.8554918,
          -83.8544333,
          -82.3540178,
          -97.5727123885,
          -91.2342744,
          -80.6284097,
          -98.0978733,
          -154.1702778,
          -90.8595487,
          -75.978256,
          -70.4214543,
          -75.2376834,
          -87.4547605,
          -82.5246458,
          -85.5216276,
          -93.7249413,
          -80.1628248,
          -99.8201206,
          -87.9797968,
          -73.1312222,
          -93.5285202,
          -86.9549972,
          -79.4547654,
          -98.6897451,
          -87.0722345,
          -76.1199511,
          -101.6337386,
          -107.4219909,
          -83.1565742,
          -97.6861117,
          -65.797939,
          -87.2388839,
          -82.2467853,
          -117.4296256,
          -88.9112178,
          -109.4376625,
          -111.0645359,
          -82.195712,
          -96.8863898,
          -81.5831327,
          -87.2608071,
          -73.1762182,
          -77.0569132,
          -122.5091404,
          -122.5770322,
          -76.6660589,
          -87.9308893,
          -73.3581648,
          -80.1664479,
          -80.0142257,
          -79.7556061,
          -98.8326307,
          -104.0638615,
          -121.718297,
          -98.6524571885,
          -74.3454282,
          -81.9173071,
          -104.0176921,
          -96.991674,
          -96.6308708,
          -81.0753535,
          -115.8345537,
          -92.1604569,
          -106.0041892,
          -104.0190718,
          -75.6654845,
          -73.5995698,
          -161.1655556,
          -159.318143113,
          -98.1155976,
          -83.396897,
          -75.9579945,
          -107.7798127,
          -106.735591,
          -120.4602262,
          -96.6751631,
          -157.4752778,
          -107.113103,
          -74.2940378,
          -120.5121479,
          -73.340402,
          -104.7555468,
          -94.8327007,
          -87.0488847,
          -94.6747007,
          -97.6358282,
          -83.4268483,
          -94.5055021,
          -74.6848824,
          -78.7875209,
          -81.8440197,
          -74.3079248,
          -66.1182218,
          -94.617168,
          -94.7188696,
          -87.7000188,
          -81.8551195,
          -88.9195138,
          -97.2250424,
          -88.2589387,
          -97.1278103,
          -76.8224701,
          -96.1502969,
          -81.4695602,
          -109.1123346,
          -74.5740296,
          -117.2336533,
          -92.3307496,
          -77.2069266,
          -72.1259114,
          -84.1721357,
          -81.2706606,
          -78.7250179,
          -93.7927173,
          -79.463371,
          -74.2465338,
          -80.0292406,
          -117.3081,
          -102.365715,
          -85.1974583,
          -97.2691817,
          -91.9509965,
          -98.9480445885,
          -85.3544002,
          -154.1702778,
          -82.939302,
          -93.5779815,
          -77.7538812,
          -96.988043,
          -116.8203127,
          -80.7748218,
          -89.2812556,
          -72.0828545,
          -74.0796081,
          -74.226814,
          -91.3004437,
          -92.850703,
          -75.3646282,
          -79.154201,
          -95.8974859,
          -87.861726,
          -122.3334669,
          -76.2425293218,
          -86.3083403,
          -107.3689356,
          -92.4192993,
          -81.3840001,
          -97.3886085,
          -74.4743222,
          -101.8046105,
          -77.7135072,
          -112.1930226,
          -132.3766667,
          -81.9512481,
          -99.7255445885,
          -87.053,
          -116.81904,
          -85.2521825,
          -123.6481235,
          -89.9806435,
          -96.9345275,
          -98.0644475,
          -79.7192007,
          -93.720178,
          -84.5543932,
          -80.8139491,
          -77.1691356,
          -70.4369703,
          -94.2188494,
          -105.5035999,
          -100.9781948,
          -83.2523765,
          -89.2361935,
          -96.8863922,
          -90.2742605,
          -94.9477381,
          -93.5569028,
          -119.8331965,
          -76.0940962,
          -122.3051342,
          -95.6163665,
          -90.2600787,
          -78.1600014,
          -77.6124884,
          -90.7512023,
          -79.5133935,
          -98.4494766,
          -95.9916752,
          -105.4941797,
          -110.072964,
          -75.3546233,
          -73.7381876,
          -79.0311516,
          -86.26756,
          -85.8480354,
          -77.9316542,
          -75.7896403,
          -69.9911305,
          -88.3500362,
          -73.9651379,
          -135.4377778,
          -81.0750757,
          -76.7330223,
          -74.3095787,
          -96.6249124885,
          -94.4363592,
          -75.4693628,
          -111.9093095,
          -86.0224718,
          -80.6217341,
          -70.9189371,
          -96.4133057,
          -80.0758754,
          -90.0409403,
          -78.6427922,
          -96.4853085,
          -70.5578093,
          -75.757439,
          -122.4245395,
          -94.3052108,
          -95.4552208,
          -83.1668713,
          -117.1091988,
          -88.8611818,
          -88.7442171,
          -86.6630098,
          -76.3902375,
          -109.356435046,
          -122.6985975,
          -98.1836216,
          -69.630602,
          -115.7297152,
          -117.2628206,
          -92.6104663,
          -98.4369110885,
          -82.1948076,
          -116.0987364,
          -105.0066477,
          -88.835635,
          -117.0833709,
          -95.5985986,
          -87.4274794,
          -154.9110837,
          -120.4579409,
          -77.9827756,
          -97.5039076,
          -97.6861778,
          -81.3498179,
          -81.9812516,
          -104.6221654,
          -98.4771715885,
          -88.5453795,
          -72.5495336,
          -113.8841137,
          -94.3349306,
          -75.0646165,
          -92.6827041,
          -77.525262,
          -93.961022,
          -80.3023077,
          -99.4381608,
          -98.755859,
          -81.6573501,
          -104.8388616,
          -93.6343588,
          -96.5772109,
          -88.1428798,
          -80.2958956,
          -80.0739309,
          -104.9447168,
          -119.1629309,
          -99.9866879885,
          -96.6894367,
          -73.5501211,
          -78.3038892,
          -92.7626597,
          -73.2042744,
          -84.1521691,
          -122.9731565,
          -93.1051664,
          -90.712612,
          -102.1999199,
          -120.698113,
          -95.551674,
          -95.9140580885,
          -79.3711579,
          -79.321962,
          -96.01027,
          -83.7824062,
          -109.7846289,
          -82.1987576,
          -81.1461917,
          -79.551412,
          -166.2080556,
          -85.0127376,
          -104.2277358,
          -90.3984486,
          -96.7751760885,
          -91.992953,
          -102.2232495,
          -92.139051,
          -71.6306325,
          -82.76489,
          -111.5904725,
          -99.0141345885,
          -121.7127513,
          -95.0270640885,
          -112.2636205,
          -80.9603643,
          -101.9751408,
          -73.8462467,
          -82.6668019,
          -68.4155746,
          -81.8834269,
          -73.0956646,
          -92.1826264,
          -83.4315488,
          -73.7284647,
          -71.569251,
          -74.377932,
          -106.9086582,
          -65.797939,
          -67.0243462,
          -70.882822,
          -94.3654707,
          -87.2947417,
          -80.6359013,
          -78.6847515,
          -87.8431078,
          -79.1130938,
          -90.3051249,
          -122.4048441,
          -124.0543234
         ],
         "marker": {
          "color": "#636efa"
         },
         "mode": "markers",
         "name": "",
         "showlegend": false,
         "subplot": "mapbox",
         "type": "scattermapbox"
        }
       ],
       "layout": {
        "legend": {
         "tracegroupgap": 0
        },
        "mapbox": {
         "center": {
          "lat": 38.5716500574931,
          "lon": -92.49558134885778
         },
         "domain": {
          "x": [
           0,
           1
          ],
          "y": [
           0,
           1
          ]
         },
         "style": "carto-positron",
         "zoom": 3
        },
        "margin": {
         "b": 10,
         "l": 10,
         "r": 10,
         "t": 10
        },
        "template": {
         "data": {
          "bar": [
           {
            "error_x": {
             "color": "#2a3f5f"
            },
            "error_y": {
             "color": "#2a3f5f"
            },
            "marker": {
             "line": {
              "color": "#E5ECF6",
              "width": 0.5
             },
             "pattern": {
              "fillmode": "overlay",
              "size": 10,
              "solidity": 0.2
             }
            },
            "type": "bar"
           }
          ],
          "barpolar": [
           {
            "marker": {
             "line": {
              "color": "#E5ECF6",
              "width": 0.5
             },
             "pattern": {
              "fillmode": "overlay",
              "size": 10,
              "solidity": 0.2
             }
            },
            "type": "barpolar"
           }
          ],
          "carpet": [
           {
            "aaxis": {
             "endlinecolor": "#2a3f5f",
             "gridcolor": "white",
             "linecolor": "white",
             "minorgridcolor": "white",
             "startlinecolor": "#2a3f5f"
            },
            "baxis": {
             "endlinecolor": "#2a3f5f",
             "gridcolor": "white",
             "linecolor": "white",
             "minorgridcolor": "white",
             "startlinecolor": "#2a3f5f"
            },
            "type": "carpet"
           }
          ],
          "choropleth": [
           {
            "colorbar": {
             "outlinewidth": 0,
             "ticks": ""
            },
            "type": "choropleth"
           }
          ],
          "contour": [
           {
            "colorbar": {
             "outlinewidth": 0,
             "ticks": ""
            },
            "colorscale": [
             [
              0,
              "#0d0887"
             ],
             [
              0.1111111111111111,
              "#46039f"
             ],
             [
              0.2222222222222222,
              "#7201a8"
             ],
             [
              0.3333333333333333,
              "#9c179e"
             ],
             [
              0.4444444444444444,
              "#bd3786"
             ],
             [
              0.5555555555555556,
              "#d8576b"
             ],
             [
              0.6666666666666666,
              "#ed7953"
             ],
             [
              0.7777777777777778,
              "#fb9f3a"
             ],
             [
              0.8888888888888888,
              "#fdca26"
             ],
             [
              1,
              "#f0f921"
             ]
            ],
            "type": "contour"
           }
          ],
          "contourcarpet": [
           {
            "colorbar": {
             "outlinewidth": 0,
             "ticks": ""
            },
            "type": "contourcarpet"
           }
          ],
          "heatmap": [
           {
            "colorbar": {
             "outlinewidth": 0,
             "ticks": ""
            },
            "colorscale": [
             [
              0,
              "#0d0887"
             ],
             [
              0.1111111111111111,
              "#46039f"
             ],
             [
              0.2222222222222222,
              "#7201a8"
             ],
             [
              0.3333333333333333,
              "#9c179e"
             ],
             [
              0.4444444444444444,
              "#bd3786"
             ],
             [
              0.5555555555555556,
              "#d8576b"
             ],
             [
              0.6666666666666666,
              "#ed7953"
             ],
             [
              0.7777777777777778,
              "#fb9f3a"
             ],
             [
              0.8888888888888888,
              "#fdca26"
             ],
             [
              1,
              "#f0f921"
             ]
            ],
            "type": "heatmap"
           }
          ],
          "heatmapgl": [
           {
            "colorbar": {
             "outlinewidth": 0,
             "ticks": ""
            },
            "colorscale": [
             [
              0,
              "#0d0887"
             ],
             [
              0.1111111111111111,
              "#46039f"
             ],
             [
              0.2222222222222222,
              "#7201a8"
             ],
             [
              0.3333333333333333,
              "#9c179e"
             ],
             [
              0.4444444444444444,
              "#bd3786"
             ],
             [
              0.5555555555555556,
              "#d8576b"
             ],
             [
              0.6666666666666666,
              "#ed7953"
             ],
             [
              0.7777777777777778,
              "#fb9f3a"
             ],
             [
              0.8888888888888888,
              "#fdca26"
             ],
             [
              1,
              "#f0f921"
             ]
            ],
            "type": "heatmapgl"
           }
          ],
          "histogram": [
           {
            "marker": {
             "pattern": {
              "fillmode": "overlay",
              "size": 10,
              "solidity": 0.2
             }
            },
            "type": "histogram"
           }
          ],
          "histogram2d": [
           {
            "colorbar": {
             "outlinewidth": 0,
             "ticks": ""
            },
            "colorscale": [
             [
              0,
              "#0d0887"
             ],
             [
              0.1111111111111111,
              "#46039f"
             ],
             [
              0.2222222222222222,
              "#7201a8"
             ],
             [
              0.3333333333333333,
              "#9c179e"
             ],
             [
              0.4444444444444444,
              "#bd3786"
             ],
             [
              0.5555555555555556,
              "#d8576b"
             ],
             [
              0.6666666666666666,
              "#ed7953"
             ],
             [
              0.7777777777777778,
              "#fb9f3a"
             ],
             [
              0.8888888888888888,
              "#fdca26"
             ],
             [
              1,
              "#f0f921"
             ]
            ],
            "type": "histogram2d"
           }
          ],
          "histogram2dcontour": [
           {
            "colorbar": {
             "outlinewidth": 0,
             "ticks": ""
            },
            "colorscale": [
             [
              0,
              "#0d0887"
             ],
             [
              0.1111111111111111,
              "#46039f"
             ],
             [
              0.2222222222222222,
              "#7201a8"
             ],
             [
              0.3333333333333333,
              "#9c179e"
             ],
             [
              0.4444444444444444,
              "#bd3786"
             ],
             [
              0.5555555555555556,
              "#d8576b"
             ],
             [
              0.6666666666666666,
              "#ed7953"
             ],
             [
              0.7777777777777778,
              "#fb9f3a"
             ],
             [
              0.8888888888888888,
              "#fdca26"
             ],
             [
              1,
              "#f0f921"
             ]
            ],
            "type": "histogram2dcontour"
           }
          ],
          "mesh3d": [
           {
            "colorbar": {
             "outlinewidth": 0,
             "ticks": ""
            },
            "type": "mesh3d"
           }
          ],
          "parcoords": [
           {
            "line": {
             "colorbar": {
              "outlinewidth": 0,
              "ticks": ""
             }
            },
            "type": "parcoords"
           }
          ],
          "pie": [
           {
            "automargin": true,
            "type": "pie"
           }
          ],
          "scatter": [
           {
            "marker": {
             "colorbar": {
              "outlinewidth": 0,
              "ticks": ""
             }
            },
            "type": "scatter"
           }
          ],
          "scatter3d": [
           {
            "line": {
             "colorbar": {
              "outlinewidth": 0,
              "ticks": ""
             }
            },
            "marker": {
             "colorbar": {
              "outlinewidth": 0,
              "ticks": ""
             }
            },
            "type": "scatter3d"
           }
          ],
          "scattercarpet": [
           {
            "marker": {
             "colorbar": {
              "outlinewidth": 0,
              "ticks": ""
             }
            },
            "type": "scattercarpet"
           }
          ],
          "scattergeo": [
           {
            "marker": {
             "colorbar": {
              "outlinewidth": 0,
              "ticks": ""
             }
            },
            "type": "scattergeo"
           }
          ],
          "scattergl": [
           {
            "marker": {
             "colorbar": {
              "outlinewidth": 0,
              "ticks": ""
             }
            },
            "type": "scattergl"
           }
          ],
          "scattermapbox": [
           {
            "marker": {
             "colorbar": {
              "outlinewidth": 0,
              "ticks": ""
             }
            },
            "type": "scattermapbox"
           }
          ],
          "scatterpolar": [
           {
            "marker": {
             "colorbar": {
              "outlinewidth": 0,
              "ticks": ""
             }
            },
            "type": "scatterpolar"
           }
          ],
          "scatterpolargl": [
           {
            "marker": {
             "colorbar": {
              "outlinewidth": 0,
              "ticks": ""
             }
            },
            "type": "scatterpolargl"
           }
          ],
          "scatterternary": [
           {
            "marker": {
             "colorbar": {
              "outlinewidth": 0,
              "ticks": ""
             }
            },
            "type": "scatterternary"
           }
          ],
          "surface": [
           {
            "colorbar": {
             "outlinewidth": 0,
             "ticks": ""
            },
            "colorscale": [
             [
              0,
              "#0d0887"
             ],
             [
              0.1111111111111111,
              "#46039f"
             ],
             [
              0.2222222222222222,
              "#7201a8"
             ],
             [
              0.3333333333333333,
              "#9c179e"
             ],
             [
              0.4444444444444444,
              "#bd3786"
             ],
             [
              0.5555555555555556,
              "#d8576b"
             ],
             [
              0.6666666666666666,
              "#ed7953"
             ],
             [
              0.7777777777777778,
              "#fb9f3a"
             ],
             [
              0.8888888888888888,
              "#fdca26"
             ],
             [
              1,
              "#f0f921"
             ]
            ],
            "type": "surface"
           }
          ],
          "table": [
           {
            "cells": {
             "fill": {
              "color": "#EBF0F8"
             },
             "line": {
              "color": "white"
             }
            },
            "header": {
             "fill": {
              "color": "#C8D4E3"
             },
             "line": {
              "color": "white"
             }
            },
            "type": "table"
           }
          ]
         },
         "layout": {
          "annotationdefaults": {
           "arrowcolor": "#2a3f5f",
           "arrowhead": 0,
           "arrowwidth": 1
          },
          "autotypenumbers": "strict",
          "coloraxis": {
           "colorbar": {
            "outlinewidth": 0,
            "ticks": ""
           }
          },
          "colorscale": {
           "diverging": [
            [
             0,
             "#8e0152"
            ],
            [
             0.1,
             "#c51b7d"
            ],
            [
             0.2,
             "#de77ae"
            ],
            [
             0.3,
             "#f1b6da"
            ],
            [
             0.4,
             "#fde0ef"
            ],
            [
             0.5,
             "#f7f7f7"
            ],
            [
             0.6,
             "#e6f5d0"
            ],
            [
             0.7,
             "#b8e186"
            ],
            [
             0.8,
             "#7fbc41"
            ],
            [
             0.9,
             "#4d9221"
            ],
            [
             1,
             "#276419"
            ]
           ],
           "sequential": [
            [
             0,
             "#0d0887"
            ],
            [
             0.1111111111111111,
             "#46039f"
            ],
            [
             0.2222222222222222,
             "#7201a8"
            ],
            [
             0.3333333333333333,
             "#9c179e"
            ],
            [
             0.4444444444444444,
             "#bd3786"
            ],
            [
             0.5555555555555556,
             "#d8576b"
            ],
            [
             0.6666666666666666,
             "#ed7953"
            ],
            [
             0.7777777777777778,
             "#fb9f3a"
            ],
            [
             0.8888888888888888,
             "#fdca26"
            ],
            [
             1,
             "#f0f921"
            ]
           ],
           "sequentialminus": [
            [
             0,
             "#0d0887"
            ],
            [
             0.1111111111111111,
             "#46039f"
            ],
            [
             0.2222222222222222,
             "#7201a8"
            ],
            [
             0.3333333333333333,
             "#9c179e"
            ],
            [
             0.4444444444444444,
             "#bd3786"
            ],
            [
             0.5555555555555556,
             "#d8576b"
            ],
            [
             0.6666666666666666,
             "#ed7953"
            ],
            [
             0.7777777777777778,
             "#fb9f3a"
            ],
            [
             0.8888888888888888,
             "#fdca26"
            ],
            [
             1,
             "#f0f921"
            ]
           ]
          },
          "colorway": [
           "#636efa",
           "#EF553B",
           "#00cc96",
           "#ab63fa",
           "#FFA15A",
           "#19d3f3",
           "#FF6692",
           "#B6E880",
           "#FF97FF",
           "#FECB52"
          ],
          "font": {
           "color": "#2a3f5f"
          },
          "geo": {
           "bgcolor": "white",
           "lakecolor": "white",
           "landcolor": "#E5ECF6",
           "showlakes": true,
           "showland": true,
           "subunitcolor": "white"
          },
          "hoverlabel": {
           "align": "left"
          },
          "hovermode": "closest",
          "mapbox": {
           "style": "light"
          },
          "paper_bgcolor": "white",
          "plot_bgcolor": "#E5ECF6",
          "polar": {
           "angularaxis": {
            "gridcolor": "white",
            "linecolor": "white",
            "ticks": ""
           },
           "bgcolor": "#E5ECF6",
           "radialaxis": {
            "gridcolor": "white",
            "linecolor": "white",
            "ticks": ""
           }
          },
          "scene": {
           "xaxis": {
            "backgroundcolor": "#E5ECF6",
            "gridcolor": "white",
            "gridwidth": 2,
            "linecolor": "white",
            "showbackground": true,
            "ticks": "",
            "zerolinecolor": "white"
           },
           "yaxis": {
            "backgroundcolor": "#E5ECF6",
            "gridcolor": "white",
            "gridwidth": 2,
            "linecolor": "white",
            "showbackground": true,
            "ticks": "",
            "zerolinecolor": "white"
           },
           "zaxis": {
            "backgroundcolor": "#E5ECF6",
            "gridcolor": "white",
            "gridwidth": 2,
            "linecolor": "white",
            "showbackground": true,
            "ticks": "",
            "zerolinecolor": "white"
           }
          },
          "shapedefaults": {
           "line": {
            "color": "#2a3f5f"
           }
          },
          "ternary": {
           "aaxis": {
            "gridcolor": "white",
            "linecolor": "white",
            "ticks": ""
           },
           "baxis": {
            "gridcolor": "white",
            "linecolor": "white",
            "ticks": ""
           },
           "bgcolor": "#E5ECF6",
           "caxis": {
            "gridcolor": "white",
            "linecolor": "white",
            "ticks": ""
           }
          },
          "title": {
           "x": 0.05
          },
          "xaxis": {
           "automargin": true,
           "gridcolor": "white",
           "linecolor": "white",
           "ticks": "",
           "title": {
            "standoff": 15
           },
           "zerolinecolor": "white",
           "zerolinewidth": 2
          },
          "yaxis": {
           "automargin": true,
           "gridcolor": "white",
           "linecolor": "white",
           "ticks": "",
           "title": {
            "standoff": 15
           },
           "zerolinecolor": "white",
           "zerolinewidth": 2
          }
         }
        }
       }
      },
      "text/html": [
       "<div>                            <div id=\"78cd6100-97b3-4647-a042-b9c9523e2fc3\" class=\"plotly-graph-div\" style=\"height:525px; width:100%;\"></div>            <script type=\"text/javascript\">                require([\"plotly\"], function(Plotly) {                    window.PLOTLYENV=window.PLOTLYENV || {};                                    if (document.getElementById(\"78cd6100-97b3-4647-a042-b9c9523e2fc3\")) {                    Plotly.newPlot(                        \"78cd6100-97b3-4647-a042-b9c9523e2fc3\",                        [{\"customdata\":[[1],[2],[3],[4],[5],[6],[7],[8],[9],[10],[11],[12],[13],[14],[15],[16],[17],[18],[19],[20],[21],[22],[23],[24],[25],[26],[27],[28],[29],[30],[31],[32],[33],[34],[35],[36],[37],[38],[39],[40],[41],[42],[43],[44],[45],[46],[47],[48],[49],[50],[51],[52],[53],[54],[55],[56],[57],[58],[59],[60],[61],[62],[63],[64],[65],[66],[67],[68],[69],[70],[71],[72],[73],[74],[75],[76],[77],[78],[79],[80],[81],[82],[83],[84],[85],[86],[87],[88],[89],[90],[91],[92],[93],[94],[95],[96],[97],[98],[99],[100],[101],[102],[103],[104],[105],[106],[107],[108],[109],[110],[111],[112],[113],[114],[115],[116],[117],[118],[119],[120],[121],[122],[123],[124],[125],[126],[127],[128],[129],[130],[131],[132],[133],[134],[135],[136],[137],[138],[139],[140],[141],[142],[143],[144],[145],[146],[147],[148],[149],[150],[151],[152],[153],[154],[155],[156],[157],[158],[159],[160],[161],[162],[163],[164],[165],[166],[167],[168],[169],[170],[171],[172],[173],[174],[175],[176],[177],[178],[179],[180],[181],[182],[183],[184],[185],[186],[187],[188],[189],[190],[191],[192],[193],[194],[195],[196],[197],[198],[199],[200],[201],[401],[402],[403],[404],[405],[406],[407],[408],[409],[410],[411],[412],[413],[414],[415],[416],[417],[418],[419],[420],[421],[422],[423],[424],[425],[426],[427],[428],[429],[430],[431],[432],[433],[434],[435],[436],[437],[438],[439],[440],[441],[442],[443],[444],[445],[446],[447],[448],[449],[450],[451],[452],[453],[454],[455],[456],[457],[458],[459],[460],[461],[462],[463],[464],[465],[466],[467],[468],[469],[470],[471],[472],[473],[474],[475],[476],[477],[478],[479],[480],[481],[482],[483],[484],[485],[486],[487],[488],[489],[490],[491],[492],[493],[494],[495],[496],[497],[498],[499],[500],[501],[502],[503],[504],[505],[506],[507],[508],[509],[510],[511],[512],[513],[514],[515],[516],[517],[518],[519],[520],[521],[522],[523],[524],[525],[526],[527],[528],[529],[530],[531],[532],[533],[534],[535],[536],[537],[538],[539],[540],[541],[542],[543],[544],[545],[546],[547],[548],[549],[550],[551],[552],[553],[554],[555],[556],[557],[558],[559],[560],[561],[562],[563],[564],[565],[566],[567],[568],[569],[570],[571],[572],[573],[574],[575],[576],[577],[578],[579],[580],[581],[582],[583],[584],[585],[586],[587],[588],[589],[590],[591],[592],[593],[594],[595],[596],[597],[598],[599],[600],[601],[801],[802],[803],[804],[805],[806],[807],[808],[809],[810],[811],[812],[813],[814],[815],[816],[817],[818],[819],[820],[821],[822],[823],[824],[825],[826],[827],[828],[829],[830],[831],[832],[833],[834],[835],[836],[837],[838],[839],[840],[841],[842],[843],[844],[845],[846],[847],[848],[849],[850],[851],[852],[853],[854],[855],[856],[857],[858],[859],[860],[861],[862],[863],[864],[865],[866],[867],[868],[869],[870],[871],[872],[873],[874],[875],[876],[877],[878],[879],[880],[881],[882],[883],[884],[885],[886],[887],[888],[889],[890],[891],[892],[893],[894],[895],[896],[897],[898],[899],[900],[901],[902],[903],[904],[905],[906],[907],[908],[909],[910],[911],[912],[913],[914],[915],[916],[917],[918],[919],[920],[921],[922],[923],[924],[925],[926],[927],[928],[929],[930],[931],[932],[933],[934],[935],[936],[937],[938],[939],[940],[941],[942],[943],[944],[945],[946],[947],[948],[949],[950],[951],[952],[953],[954],[955],[956],[957],[958],[959],[960],[961],[962],[963],[964],[965],[966],[967],[968],[969],[970],[971],[972],[973],[974],[975],[976],[977],[978],[979],[980],[981],[982],[983],[984],[985],[986],[987],[988],[989],[990],[991],[992],[993],[994],[995],[996],[997],[998],[999],[1000],[1001],[1002],[1003],[1004],[1005],[1006],[1007],[1008],[1009],[1010],[1011],[1012],[1013],[1014],[1015],[1016],[1017],[1018],[1019],[1020],[1021],[1022],[1023],[1024],[1025],[1026],[1027],[1028],[1029],[1030],[1031],[1032],[1033],[1034],[1035],[1036],[1037],[1038],[1039],[1040],[1041],[1042],[1043],[1044],[1045],[1046],[1047],[1048],[1049],[1050],[1051],[1052],[1053],[1054],[1055],[1056],[1057],[1058],[1059],[1060],[1061]],\"hovertemplate\":\"<b>%{hovertext}</b><br><br>lat=%{lat}<br>Long=%{lon}<br>CustomerID=%{customdata[0]}<extra></extra>\",\"hovertext\":[\"Lisco\",\"Sylvanite\",\"Peeples Valley\",\"Medicine Lodge\",\"Gasport\",\"Jessie\",\"Frankewing\",\"Bow Mar\",\"Netcong\",\"Wimbledon\",\"Devault\",\"Biscay\",\"Stonefort\",\"Long Meadow\",\"Batson\",\"Coney Island\",\"East Fultonham\",\"Goffstown\",\"Lemeta\",\"College Place\",\"Tresckow\",\"Ward Ridge\",\"Ikatan\",\"Dundarrach\",\"Avenal\",\"Hedrick\",\"Bowlus\",\"North Ridge\",\"Eulaton\",\"Koontzville\",\"Lake Stevens\",\"Maypearl\",\"Boyden Arbor\",\"Dallardsville\",\"Slanesville\",\"Ekron\",\"Kerby\",\"Airport Drive\",\"Diablock\",\"Impact\",\"Olivette\",\"Arietta\",\"Upper Preston\",\"Amanda Park\",\"Severna Park\",\"Jemison\",\"Lake Hughes\",\"Trentwood\",\"Muir\",\"Hambleton\",\"Imlaystown\",\"Idria\",\"Nanafalia\",\"Railroad\",\"Gum Branch\",\"Royal City\",\"Lakemore\",\"Mappsburg\",\"Edgartown\",\"East Dailey\",\"Fairfield Glade\",\"Great Neck Estates\",\"Stallion Springs\",\"Hodgdon\",\"North Cowden\",\"Madaket\",\"Sentinel Butte\",\"Gardere\",\"Lytle Creek\",\"New Baden\",\"Good Hart\",\"Cortaro\",\"Cokato\",\"Indios\",\"Windsor Locks\",\"Yewed\",\"Hahira\",\"Sekiu\",\"Page City\",\"Valdese\",\"Big Moose\",\"La Cueva\",\"Absecon\",\"Aceitunas\",\"Andrix\",\"New Lexington\",\"Sauquoit\",\"Dracut\",\"Victory Gardens\",\"Tolna\",\"Alstead\",\"Sans Souci\",\"Clewiston\",\"Cheyenne Wells\",\"Lavon\",\"South La Paloma\",\"Manchester Center\",\"El Centro\",\"Guin\",\"Tunnelhill\",\"Cundiyo\",\"Fieldbrook\",\"Kalvesta\",\"Wallagrass\",\"Tomnolen\",\"Tumacacori\",\"Glen Avon\",\"Bernie\",\"South Laguna\",\"North Crows Nest\",\"Oriole Beach\",\"Sallyards\",\"Dahlia\",\"Cherry Grove Beach\",\"Bethania\",\"Rafael Cap\\u00f3\",\"Scofield\",\"Vassalboro\",\"Statenville\",\"Bratenahl\",\"Elrosa\",\"McClave\",\"Roe Park\",\"Hanoverton\",\"Annamoriah\",\"Francis Mills\",\"Point Roberts\",\"East Portal\",\"Mineral Hills\",\"Maple Shade\",\"Kwethluk\",\"Minidoka\",\"Lake Erie Beach\",\"Tavares\",\"Terre du Lac\",\"Mount Montgomery\",\"Carbonville\",\"Navassa\",\"Hardeeville\",\"Furley\",\"Arrow Rock\",\"King Cove\",\"Ashtabula\",\"Larose\",\"Manahawkin\",\"Belgreen\",\"Fishtail\",\"Baraboo\",\"Inguadona\",\"Corfu\",\"Antares\",\"Sun River\",\"Marcell\",\"Eden Valley\",\"Arbor Vitae\",\"Hollywood Park\",\"Saks\",\"Donner\",\"Saint Louis Park\",\"Crary\",\"Aspen Park\",\"Glen Park\",\"Panaca\",\"Rothsville\",\"Topstone\",\"McCamey\",\"Rockwall\",\"Seagraves\",\"Sinclair\",\"Eastchester\",\"Ortley Beach\",\"Madrone\",\"Wappingers Falls\",\"Astor Park\",\"San Acacia\",\"Malott\",\"Orrtanna\",\"Armstrong Creek\",\"Hiteman\",\"Caselton\",\"Heilwood\",\"Hayes Center\",\"Tierra Verde\",\"South Euclid\",\"Vidrine\",\"Placer\",\"Brown City\",\"Premont\",\"Wilkes-Barre\",\"Teutopolis\",\"Orchard Hill\",\"Optimo\",\"Knifley\",\"Naples Park\",\"Lesslie\",\"Howells\",\"Magalia\",\"Buell\",\"Antonito\",\"Tooele\",\"Skyway\",\"Orchard Mesa\",\"Black Lick\",\"Queen Valley\",\"Penns Creek\",\"Bourbonnais\",\"Tuscaloosa\",\"Mooringsport\",\"Rockwall\",\"Orick\",\"Bernstein\",\"Edmund\",\"Bozeman Hot Springs\",\"Truscott\",\"Rose Tree\",\"Leathersville\",\"Necedah\",\"Chetek\",\"Yaak\",\"Compass Lake\",\"Herlong\",\"Highland Home\",\"Naches\",\"Baldwin City\",\"Heartwell\",\"Bethel Acres\",\"Willow Valley\",\"Athol Springs\",\"Paw Paw Lake\",\"Lilbourn\",\"Lost River\",\"Rosa S\\u00e1nchez\",\"Vamo\",\"Balko\",\"Lime Lake\",\"Teutopolis\",\"Gargatha\",\"Cadogan\",\"Lucasville\",\"Cylon\",\"Asher\",\"Keosauqua\",\"Homer City\",\"Berville\",\"Tea\",\"Dacono\",\"Saint Landry\",\"Coin\",\"Salt Wells\",\"Delray\",\"Mount Summit\",\"Smoot\",\"Lake Davis\",\"Stanardsville\",\"Corcovado\",\"Taft Heights\",\"West Hempstead\",\"Portales\",\"Coker\",\"Haydenville\",\"Mayhill\",\"Vair\",\"Crossroads\",\"Cowlington\",\"Glen Ullin\",\"Oologah\",\"Lytle\",\"Mahaffey\",\"Sunburg\",\"Johnetta\",\"Universal City\",\"Ridgemark\",\"San Jacinto\",\"Floriston\",\"Bokeelia\",\"Cale\",\"Karthaus\",\"Glancy\",\"Stoneboro\",\"Mier\",\"Wapinitia\",\"White Church\",\"Caton\",\"Plum Branch\",\"Mauldin\",\"Bonner Springs\",\"Lowellville\",\"Elverson\",\"Isabela\",\"Sayner\",\"Beals\",\"Morton Grove\",\"Birds\",\"Federalsburg\",\"Pikeview\",\"Boalsburg\",\"Port Hueneme\",\"Verdery\",\"Obetz\",\"East Fultonham\",\"Obion\",\"Cavendish\",\"Miesville\",\"Valhalla\",\"Cape Neddick\",\"Silver Plume\",\"North Beach Haven\",\"Downingtown\",\"Branson West\",\"Bergen Park\",\"Grabill\",\"North Manitou\",\"Philip\",\"Straughn\",\"Gilford\",\"Del Valle\",\"Harkers Island\",\"Licking\",\"Raton\",\"Boynton\",\"Frenchburg\",\"Robertsdale\",\"Dickerson\",\"Bruceton Mills\",\"Cloquet\",\"Claycomo\",\"Beekmantown\",\"Islip Terrace\",\"Rich Creek\",\"Griswoldville\",\"East Mountain\",\"Omer\",\"Waycross\",\"Nichols Hills\",\"Plaquemine\",\"Triadelphia\",\"Ferney\",\"Akhiok\",\"Deeson\",\"Nuangola\",\"Weld\",\"Mickleton\",\"Schererville\",\"Lexington Heights\",\"Broomtown\",\"Jamison\",\"Key Biscayne\",\"Chaseley\",\"Indian Creek\",\"Lake Ronkonkoma\",\"Morrison Bluff\",\"Huntingburg\",\"Shay\",\"Helotes\",\"Hollandsburg\",\"Liberty Grove\",\"Morita\",\"New Laguna\",\"Bourneville\",\"Mendoza\",\"Palmas del Mar\",\"Marion Junction\",\"Ware Shoals\",\"Lostine\",\"Tilleda\",\"Wapiti\",\"Amado\",\"Jeromesville\",\"Ovilla\",\"West Frostproof\",\"Flomaton\",\"Pawlet\",\"Trout Run\",\"Marin City\",\"Molalla\",\"Trumansburg\",\"Goodings Grove\",\"Cherryplain\",\"Bell Acres\",\"Connoquenessing\",\"Sarversville\",\"Munich\",\"Montoya\",\"Knights Landing\",\"Cache\",\"Towaco\",\"Lynne\",\"Plata\",\"Oak Point\",\"Alcester\",\"McAdenville\",\"Idaho City\",\"Dunkerton\",\"Cuyamungue\",\"Marfa\",\"Accomac\",\"Cos Cob\",\"Haycock\",\"Kapa'a\",\"Dickworsham\",\"Caro\",\"Ruthsburg\",\"Shell\",\"Ca\\u00f1on\",\"Termo\",\"La Bolt\",\"Ekwok\",\"Sinclair\",\"Wanaque\",\"Rail Road Flat\",\"Panton\",\"Segundo\",\"Old River-Winfree\",\"Drakesboro\",\"Tenstrike\",\"Petronila\",\"Elkatawa\",\"Dennis Acres\",\"Branchburg Park\",\"Bladenboro\",\"Nitro\",\"Madison Park\",\"Cata\\u00f1o\",\"Tiff City\",\"Jolley\",\"Bazemore\",\"Raven\",\"Spillertown\",\"Tamora\",\"Tolono\",\"Elbing\",\"Weigelstown\",\"Chalco\",\"Glenwillow\",\"Westwater\",\"Palatine Bridge\",\"Twin Peaks\",\"Markville\",\"Gardners\",\"New Braintree\",\"Greenback\",\"Blackville\",\"Abbottsburg\",\"Deer River\",\"Marguerite\",\"Laurence Harbor\",\"New Zion\",\"Valley View Park\",\"Wounded Knee\",\"Creelsboro\",\"Haltom City\",\"Spillville\",\"Seiling\",\"Coosa\",\"Akhiok\",\"Bakers Mill\",\"Humansville\",\"Dry Run\",\"Ben Arnold\",\"Yermo\",\"Gassaway\",\"Ewen\",\"North Brookfield\",\"Chateaugay\",\"Eagle Valley\",\"Beaver Bay\",\"Kinder\",\"Mount Pocono\",\"Elk Garden\",\"Coyville\",\"La Grange Park\",\"Meadowdale\",\"Tolchester Beach\",\"La Paz\",\"Moquino\",\"Mamou\",\"Waite Hill\",\"Coupland\",\"Marcella\",\"Makoti\",\"Conesus Lake\",\"McCammon\",\"Wrangell\",\"Robertsburg\",\"McQueen\",\"Switz City\",\"New Plymouth\",\"Garlin\",\"Cave Junction\",\"Grider\",\"Argusville\",\"Flowella\",\"Sandy Level\",\"Alden Bridge\",\"West Elkton\",\"Cypress Quarters\",\"Oval\",\"Cotuit\",\"Lake Crystal\",\"Orpha\",\"Capa\",\"Gresston\",\"Du Quoin\",\"The Colony\",\"Darling\",\"Sherwin\",\"Bock\",\"Caruthers\",\"Shawboro\",\"Harbour Pointe\",\"Coffeyville\",\"Golden Meadow\",\"Oakpark\",\"Wyndham\",\"Bayou Cane\",\"Nesmith\",\"Buchanan Lake Village\",\"Nehawka\",\"Soham\",\"Twodot\",\"Greig\",\"Shenorock\",\"Conewango\",\"North Muskegon\",\"Fortville\",\"Hightsville\",\"Oley\",\"North Eastham\",\"Calvert City\",\"Esopus\",\"Port Chilkoot\",\"Cramerton\",\"North York\",\"Schoharie\",\"Drumright\",\"Northrop\",\"Golf View\",\"Tempe\",\"Southside\",\"Kannapolis\",\"Nahant\",\"Port Alto\",\"Lake Clarke Shores\",\"Roachtown\",\"Cherry Grove Beach\",\"Hawarden\",\"White Horse Beach\",\"Toughkenamon\",\"Venersborg\",\"Jane\",\"Jones Creek\",\"Huntington Woods\",\"Jesmond Dene\",\"Flanagan\",\"Mashulaville\",\"Mary Esther\",\"Bowleys Quarters\",\"Red Mesa\",\"Nicasio\",\"Pharr\",\"Edgecomb\",\"Bombay Beach\",\"Arrowhead Highlands\",\"Ewart\",\"Watonga\",\"Trilby\",\"McCall\",\"Chipita Park\",\"Hanaford\",\"Arrowbear Lake\",\"Phelps City\",\"Bratt\",\"Iliamna\",\"Lompoc\",\"Middleway\",\"Kopperl\",\"Tschetter Colony\",\"Sea Island\",\"North Eaton\",\"Puerto de Luna\",\"Cookietown\",\"Lunds\",\"Bernardston\",\"Walapai\",\"Grannis\",\"Haddon Heights\",\"Grantsburg\",\"Sabinsville\",\"Schaal\",\"Lorentz\",\"Zurich\",\"El Refugio\",\"Cuyahoga Heights\",\"Vollmar\",\"Shell Knob\",\"Van Alstyne\",\"Oconto Falls\",\"Marion Hill\",\"Cloud Lake\",\"Pastura\",\"Yerington\",\"Catesby\",\"Dorchester\",\"Copake\",\"Holden Beach\",\"Wesson\",\"Wells\",\"Oakshade\",\"Newberg\",\"Reader\",\"Greenfield\",\"Dawn\",\"Wasco\",\"Cherokee\",\"Hanna\",\"Dillon\",\"Saxapahaw\",\"Virgil\",\"Corryton\",\"Greycliff\",\"Gallipolis Ferry\",\"Claremont\",\"Staley\",\"Biorka\",\"Brookville\",\"Byers\",\"Otterville\",\"Ravia\",\"Richland\",\"Wray\",\"Dover\",\"Ashland\",\"Scioto Furnace\",\"Moroni\",\"Komalty\",\"Biggs\",\"Wright City\",\"Basin\",\"Ridgeway\",\"Tarzan\",\"Lake Mohegan\",\"Scott\",\"Tremont\",\"Florahome\",\"Colebrook\",\"Meaux\",\"Nicholson\",\"Great Neck\",\"Lancaster\",\"Walker Valley\",\"Yampa\",\"Palmas del Mar\",\"Isabela\",\"Liberty Plain\",\"Linden\",\"Rogersville\",\"Roberta Mill\",\"Bowmansville\",\"Orland Hills\",\"Sigel\",\"Ellisville\",\"Midland\",\"Long Beach\"],\"lat\":[41.4972022,48.7163356,34.2689145,37.2811339,43.1992244,47.542218,35.19258,39.628321,40.8989877,47.1697143,40.0745503,44.8274625,37.6142165,39.6862063,30.2493767,36.5931192,39.8500679,43.0203609,64.8597222,46.0493026,40.9134194,29.7885429,54.75,34.9293315,36.0041223,41.1725134,45.8194098,43.2125562,33.6456587,48.0157092,48.015098,32.3132003,34.0240436,30.6285363,39.3731537,37.9292349,42.1942798,37.1425588,37.2284289,32.4998459,38.6653297,43.246181,47.5051019,47.4631419,39.070388,32.9598451,34.6769294,47.6965622,42.9958661,39.0820511,40.1676117,36.4169007,32.1129257,39.7606585,31.8582642,46.9009701,41.0208896,37.5776335,41.3890052,38.7803866,36.0003475,40.7870459,35.0888553,46.0539429,32.0045624,41.2729019,46.9183469,30.3457487,34.2591728,38.5350488,45.5672308,32.3561848,45.0757967,17.9941326,41.9292639,36.6862008006,30.9913064,48.2622995,39.0897299,35.7406864,43.8183991,35.941705,39.4284503,18.4432783,37.2794624,39.7139579,43.0042365,42.6703687,40.8759325,47.8272203,43.1489663,34.8778952,26.7542312,38.8213951,33.0276193,27.8946157,43.1770206,32.792,33.9656594,40.4781265,35.9591922,40.9656826,38.0594637,47.1294837,33.4848451,31.5687255859,34.0116799,36.6689446,33.5005827,39.8658742,30.3738103,37.8214116,35.1214409,33.8273947,36.1823602,18.3997792,39.7241289,44.4592341,30.7032675,41.5425502,45.5627429,38.1375074,41.3064828,40.7511704,38.9406392,40.1348354,48.9853824,39.9033204,46.1132871,39.9526127,60.8122222,42.7537967,42.6242257,28.8041579,37.9117174,37.9796525,39.6199647,34.2554474,32.2871413,37.8791795,39.0697466,55.0616667,41.8650534,29.572438,39.695397,34.474818,45.4535539,43.4710944,46.9832886,42.9600595,35.419715,47.5332872,47.5929997,45.3260745,45.9205077,29.6005047,33.6987135,29.6957647,44.9482979,48.0708347,39.539155,44.0011701,37.79052,40.1512059,41.2959287,31.1359813,32.9312336,32.9442651,41.7749592,40.8884329,39.9556738,34.5939498,41.5964825,29.1535911,34.2553446,48.2826495,39.8450942,45.6582937,41.0588945,37.9191297,40.6209007,40.5108385,27.6919746,41.5231076,30.6926971,42.6320633,43.2122486,27.3605947,41.2459149,39.1330967,33.1865071,35.8903166,37.2428449,26.2617534,34.890701,41.7250059,39.8121058,39.0342075,37.079179,40.5307776,47.4914884,39.0430375,40.4792348,33.2986656,40.8598045,41.1416991,33.2098407,32.6876455,32.9312336,41.2867896,36.3941959,42.9674944,45.6661472137,33.7542544,39.934278,33.7167949,44.0260775,45.3141273,48.8330088,30.5926937,40.1435142,31.9534835,46.730958,38.775007,40.5705702,35.3126284006,34.9119475,42.769781,42.2122597,36.5922816,43.68691,18.0597925,27.2219951,36.6339746006,42.4345078,39.1330967,37.8001273,40.7539533,38.879518,45.1221865,34.9934707006,40.7303058,40.5434007,42.9083621,43.4463668,40.0847062,30.8443611,40.6544393,39.3751976,39.1945484,40.0044908,42.6204847,39.8726783,38.2973519,18.4585569,35.1346895,40.7048242,34.1861922,33.2459512,39.482013,32.8895419,31.2810176,33.5123245,35.3058311009,46.8150051,36.4509861006,29.233294,40.8728411,45.3477401,37.4156408,29.5480071,36.8124564,33.7839084,39.3946303,26.7056266,33.6262263,41.1208924,31.8184955,41.3392232,40.5753176,45.1142837,36.8503352,42.0561853,33.8487376,34.77873,39.059726,41.0353371,40.1567641,18.500776,45.9860625,44.5198009,42.0405853,38.8369899,38.6942809,38.9152705,40.7756184,34.1477829,34.1092876,39.8789527,39.8500679,36.2589567,43.3820171,44.6005227,36.1371028,43.1936986,39.6960983,39.5731739,40.0064958,36.6970059,39.6913769,41.2108829,45.1202637,44.0394329,39.8089351,43.5475771,30.2107669,34.6951628,37.4994884,36.9033581,35.6526593006,37.950916,30.5538048,39.220104,39.6586918,46.7216102,39.202503,44.7708742,40.7431539,37.3823434,32.8706936,32.593754,44.0475198,31.2135511,35.5548377006,30.2890833,40.0525734,45.3305156,56.9455556,34.0231639,41.1550825,44.6986707,39.7901134,41.4789246,43.2250269,34.3606453,41.1216623,25.693713,47.4502759,42.2269684,40.8350983,35.387863,38.2989422,40.7364533,29.5780056,39.760321,39.6559424,32.1845661,35.0408767,39.2820094,30.00494,18.0819088,32.437358,34.3984511,45.4873692,44.8155317,44.4685604,31.7078658,40.8042239,32.5265264,27.733641,31.000182,43.34674,41.3861872,37.868538,45.1473445,42.5422939,41.6291984,42.6292474,40.5900673,40.8178427,40.7195095,48.669174,35.0997794,38.7996238,34.6334639006,40.922043,29.1924772,29.8762836,33.1901194,43.0213783,35.2593056,43.8285046,42.5699858,35.8697483,30.3079384,37.7195742,41.0334305,65.2097222,22.0749700304,33.7514907,43.4911322,39.0031683,44.5355158,35.6569716,40.8657308,45.0490377,59.3497222,41.7749592,41.0381526,38.3432471,44.1486654,37.1252983,29.8682764,37.2175425,47.6566206,27.671975,37.5570338,37.0467281,40.5723251,34.5387799,38.4148146,40.4514954,18.4413351,36.668405,42.4788677,33.8945496,37.0870572,37.7664385,40.8938986,39.9861415,38.0527925,39.9837084,41.1838878,41.3617214,39.0783178,42.9109064,34.2388955,46.091888,40.0056483,42.3167581,35.6611904,33.3579297,34.517114,47.3330045,40.2636811,40.4567735,33.8443276,34.2350067,43.1405442,36.8850648,32.7995738,43.2049718,36.1520431006,34.2545377,56.9455556,30.5796601,37.7944806,40.1675853,30.9637973,34.9049849,38.6731544,46.535222,42.2667587,44.9264337,41.1548173,47.2577003,30.485479,41.1220337,39.3834313,37.6861525,41.8347535,47.852874,39.2170720564,41.4597686,35.1725399,30.6338092,41.6186592,30.4599264,40.9870425,47.9611214,42.7756477,42.6504719,56.4708333,38.6553637,34.6706795006,39.035,43.9698864,37.1139534,42.1628912,35.6386903,47.0521927,27.2164329,36.5687491,32.7751427,39.5878325,27.2519902,41.1511863,41.6167766,44.1057973,42.8546892,44.1088749,32.286281,38.0114393,33.0890094,34.3589978,37.1800624,45.7849627,36.5427271,36.4054333,47.8856515,37.0373005,29.3791112,38.3667957,37.6984781,29.624102,33.6590552,30.8507331,40.8294461,35.4155984,46.4243971,43.681458,41.3317606,42.2386716,43.2561251,39.9322625,34.2696139,40.3875936,41.8651071,37.0333896,41.8278707,59.2288889,35.2387504,39.9781536,42.6659088,35.9923487006,43.7363438,39.7006692,33.414768,33.9245425,35.4873613,42.4264859,28.6599945,26.6453449,38.4631066,33.8273947,42.9958216,41.9309375,39.8314987,45.7737266,36.5472962,28.9685817,42.4805913,33.1803157,40.8780891,33.0867933,30.4099215,39.3353857,36.9613024198,38.0615885,26.1947962,43.9584129,33.3508667,34.2300069,41.641109,35.8487128006,28.4624986,44.911006,38.9244346,37.9579449,34.2108413,40.4033346,30.9657386,59.7567965,34.6391501,39.3034346,32.0698734,43.3702642,31.1835648,41.3133839,34.829682,34.2790367006,44.6994307,42.6709176,35.3444389,34.2406665,39.8773356,45.7763419,41.8678482,33.8262286,39.0109301,39.2344536,26.340345,41.4353301,40.1349833,36.6322872,33.4214995,44.8738805,40.7303435,26.6761772,34.7828401,38.9857508,36.4970385006,33.5303861,42.1034238,33.9135061,33.1154128,43.4172937,41.6689399,45.3001179,33.752053,35.6323013,34.9103368,45.5917918,42.7494277,35.2090451006,34.4165505,35.9473614,37.9808617,36.1536937,45.7632707,38.7706371,35.7145776,35.7959711,53.8269444,39.4231065,39.7113708,39.0506032,34.2457087006,41.1855708,40.0758231,43.9735748,43.6953512,38.7986875,39.5249615,35.0515040006,39.4123876,34.0640539006,46.2713177,34.3076471,32.3053922,41.3178717,32.5518326,44.2667467,29.7327446,41.9895388,30.0207608,34.1139993,40.8006567,44.4889465,41.6337047,40.1524837,18.0819088,18.500776,42.1889895,33.0123537,34.8256425,35.3573633,42.9383918,41.5853107,41.275063,40.6267064,47.1670439,46.3523219],\"legendgroup\":\"\",\"lon\":[-102.6201979,-115.8743507,-112.7271223,-98.580361,-78.5761394,-98.2381519,-86.8511135,-105.0499841,-74.7065516,-98.4598177,-75.5351981,-94.2749801,-88.7081133,-77.7122154,-94.6071417,-93.3971299,-82.1220868,-71.600349,-147.7322222,-118.3883012,-75.9665916,-85.2849181,-163.3083333,-79.155033,-120.1290272,-92.3087945,-94.4094468,-78.8258709,-85.9124671,-118.9472435,-122.0637425,-97.0116691,-80.9456453,-94.6318698,-78.5227886,-86.1794145,-123.651735,-94.5107824,-83.1721162,-99.7459225,-90.3759499,-74.5176433,-121.907615,-123.8860114,-76.5452409,-86.7466522,-118.4453598,-117.2107634,-84.9425013,-79.6453386,-74.5151531,-120.6743379,-87.9880691,-76.6983049,-81.7267801,-119.6305912,-81.4359458,-75.7635403,-70.5133599,-79.8909006,-84.8863395,-73.7367983,-118.6425912,-67.8666846,-102.5129264,-70.1980734,-103.8388108,-91.1401055,-117.5000512,-89.7006499,-85.113118,-111.0884337,-94.1899799,-66.8193421,-72.6273124,-98.4338585885,-83.3726575,-124.3013299,-101.1462666,-81.563149,-74.9151774,-105.2491779,-74.4957076,-67.0649026,-103.1927114,-82.2084805,-75.2598859,-71.3020052,-74.5423796,-98.4401019,-72.3606431,-82.4240114,-80.9336753,-102.3532435,-96.4341524,-97.9685259,-73.0570488,-115.5630514,-87.9147494,-78.5408491,-105.8964091,-124.0356196,-100.2862511,-68.5972677,-89.3606259,-111.052307129,-117.4847714,-89.9687021,-117.7431097,-86.1633214,-87.0913555,-96.5072359,-105.2769498,-78.6427922,-80.3381077,-66.7908004,-111.1607272,-69.6775451,-83.0276398,-81.626238,-94.9472391,-102.8504765,-73.8834702,-80.937032,-81.227061,-74.3973717,-123.077974,-105.6444469,-88.6479102,-74.9923915,-161.4358333,-113.4902829,-79.066983,-81.725632,-90.6254052,-118.3215086,-110.8343268,-78.0074906,-81.0806665,-97.2128162,-92.9465808,-162.3102778,-80.7898089,-90.3817483,-74.2587527,-87.8664241,-109.5043343,-89.7442907,-94.1302482,-78.4055767,-113.8085563,-111.7213719,-93.6907581,-94.5461074,-89.6634802,-98.48724,-85.8396879,-90.9442629,-93.3480051,-98.6384434,-105.2947148,-75.9663138,-114.3894336,-76.2510654,-73.4490109,-102.2243041,-96.4597089,-102.564915,-107.113103,-73.8281895,-74.074303,-106.7330813,-73.91097,-81.5720175,-106.8994726,-119.7067271,-77.3608197,-88.4462301,-92.8921428,-114.4852707,-78.915029,-101.0196016,-82.7234337,-81.5184553,-92.3981875,-123.3153394,-82.9896604,-98.1236151,-75.8813075,-88.4719918,-84.2113095,-104.8036063,-85.1894035,-81.8092543,-80.9564659,-97.0028133,-121.5783059,-91.4390477,-106.0086329,-112.29828,-122.2542892,-108.5523153,-79.1997569,-111.2895709,-77.0552539,-87.8750429,-87.5691735,-93.961015,-96.4597089,-124.0597937,-101.3571044,-90.264568,-111.185003389,-99.8112042,-75.3901933,-82.4398499,-90.0740181,-91.6510007,-115.7087944,-85.3927045,-120.1346519,-86.3138546,-120.699516,-95.1863603,-98.787853,-97.0493628885,-114.6066314,-78.8664229,-86.2719674,-89.6153571,-113.614571,-65.909286,-82.4978748,-100.708656688,-78.4797427,-88.4719918,-75.5979836,-79.5811576,-82.9968419,-92.352969,-96.9474152885,-91.9623949,-79.1622566,-82.8829846,-96.8358847,-104.9394216,-92.257905,-95.2302597,-118.5829202,-78.6041789,-85.3846928,-110.9143626,-120.4788267,-78.4400099,-66.7762868,-119.4726196,-73.6501295,-103.3343978,-87.6877882,-82.3282074,-105.4780381,-94.9135442,-103.3396737,-94.7897384014,-101.829877,-95.7320981885,-98.7964137,-78.724196,-95.2383563,-84.191877,-98.2911235,-121.3657673,-116.958635,-120.021308,-82.1589815,-93.2404457,-78.1138962,-90.4964839,-80.1050604,-85.8255386,-121.2564517,-91.7862581,-77.0277448,-82.259846,-82.310119,-94.8835754,-80.5364593,-75.8327088,-67.0243462,-89.5326435,-67.6149935,-87.7825621,-87.6678032,-75.7721551,-104.8221988,-77.7924992,-119.1951074,-82.2492911,-82.9507363,-82.1220868,-89.1917353,-72.608149,-92.8129802,-76.6577239,-70.6208862,-105.7258386,-74.2315292,-75.7032742,-93.3693524,-105.3616598,-84.9669112,-85.979256,-101.6651441,-85.2913559,-71.4067385,-97.6547243,-76.5593693,-91.8570984,-104.4391532,-95.6798780885,-83.6257452,-87.7119324,-77.424153,-79.6411594,-92.4593566,-94.492453,-73.4920802,-73.192615,-80.8225774,-83.4887852,-94.8554918,-83.8544333,-82.3540178,-97.5727123885,-91.2342744,-80.6284097,-98.0978733,-154.1702778,-90.8595487,-75.978256,-70.4214543,-75.2376834,-87.4547605,-82.5246458,-85.5216276,-93.7249413,-80.1628248,-99.8201206,-87.9797968,-73.1312222,-93.5285202,-86.9549972,-79.4547654,-98.6897451,-87.0722345,-76.1199511,-101.6337386,-107.4219909,-83.1565742,-97.6861117,-65.797939,-87.2388839,-82.2467853,-117.4296256,-88.9112178,-109.4376625,-111.0645359,-82.195712,-96.8863898,-81.5831327,-87.2608071,-73.1762182,-77.0569132,-122.5091404,-122.5770322,-76.6660589,-87.9308893,-73.3581648,-80.1664479,-80.0142257,-79.7556061,-98.8326307,-104.0638615,-121.718297,-98.6524571885,-74.3454282,-81.9173071,-104.0176921,-96.991674,-96.6308708,-81.0753535,-115.8345537,-92.1604569,-106.0041892,-104.0190718,-75.6654845,-73.5995698,-161.1655556,-159.318143113,-98.1155976,-83.396897,-75.9579945,-107.7798127,-106.735591,-120.4602262,-96.6751631,-157.4752778,-107.113103,-74.2940378,-120.5121479,-73.340402,-104.7555468,-94.8327007,-87.0488847,-94.6747007,-97.6358282,-83.4268483,-94.5055021,-74.6848824,-78.7875209,-81.8440197,-74.3079248,-66.1182218,-94.617168,-94.7188696,-87.7000188,-81.8551195,-88.9195138,-97.2250424,-88.2589387,-97.1278103,-76.8224701,-96.1502969,-81.4695602,-109.1123346,-74.5740296,-117.2336533,-92.3307496,-77.2069266,-72.1259114,-84.1721357,-81.2706606,-78.7250179,-93.7927173,-79.463371,-74.2465338,-80.0292406,-117.3081,-102.365715,-85.1974583,-97.2691817,-91.9509965,-98.9480445885,-85.3544002,-154.1702778,-82.939302,-93.5779815,-77.7538812,-96.988043,-116.8203127,-80.7748218,-89.2812556,-72.0828545,-74.0796081,-74.226814,-91.3004437,-92.850703,-75.3646282,-79.154201,-95.8974859,-87.861726,-122.3334669,-76.2425293218,-86.3083403,-107.3689356,-92.4192993,-81.3840001,-97.3886085,-74.4743222,-101.8046105,-77.7135072,-112.1930226,-132.3766667,-81.9512481,-99.7255445885,-87.053,-116.81904,-85.2521825,-123.6481235,-89.9806435,-96.9345275,-98.0644475,-79.7192007,-93.720178,-84.5543932,-80.8139491,-77.1691356,-70.4369703,-94.2188494,-105.5035999,-100.9781948,-83.2523765,-89.2361935,-96.8863922,-90.2742605,-94.9477381,-93.5569028,-119.8331965,-76.0940962,-122.3051342,-95.6163665,-90.2600787,-78.1600014,-77.6124884,-90.7512023,-79.5133935,-98.4494766,-95.9916752,-105.4941797,-110.072964,-75.3546233,-73.7381876,-79.0311516,-86.26756,-85.8480354,-77.9316542,-75.7896403,-69.9911305,-88.3500362,-73.9651379,-135.4377778,-81.0750757,-76.7330223,-74.3095787,-96.6249124885,-94.4363592,-75.4693628,-111.9093095,-86.0224718,-80.6217341,-70.9189371,-96.4133057,-80.0758754,-90.0409403,-78.6427922,-96.4853085,-70.5578093,-75.757439,-122.4245395,-94.3052108,-95.4552208,-83.1668713,-117.1091988,-88.8611818,-88.7442171,-86.6630098,-76.3902375,-109.356435046,-122.6985975,-98.1836216,-69.630602,-115.7297152,-117.2628206,-92.6104663,-98.4369110885,-82.1948076,-116.0987364,-105.0066477,-88.835635,-117.0833709,-95.5985986,-87.4274794,-154.9110837,-120.4579409,-77.9827756,-97.5039076,-97.6861778,-81.3498179,-81.9812516,-104.6221654,-98.4771715885,-88.5453795,-72.5495336,-113.8841137,-94.3349306,-75.0646165,-92.6827041,-77.525262,-93.961022,-80.3023077,-99.4381608,-98.755859,-81.6573501,-104.8388616,-93.6343588,-96.5772109,-88.1428798,-80.2958956,-80.0739309,-104.9447168,-119.1629309,-99.9866879885,-96.6894367,-73.5501211,-78.3038892,-92.7626597,-73.2042744,-84.1521691,-122.9731565,-93.1051664,-90.712612,-102.1999199,-120.698113,-95.551674,-95.9140580885,-79.3711579,-79.321962,-96.01027,-83.7824062,-109.7846289,-82.1987576,-81.1461917,-79.551412,-166.2080556,-85.0127376,-104.2277358,-90.3984486,-96.7751760885,-91.992953,-102.2232495,-92.139051,-71.6306325,-82.76489,-111.5904725,-99.0141345885,-121.7127513,-95.0270640885,-112.2636205,-80.9603643,-101.9751408,-73.8462467,-82.6668019,-68.4155746,-81.8834269,-73.0956646,-92.1826264,-83.4315488,-73.7284647,-71.569251,-74.377932,-106.9086582,-65.797939,-67.0243462,-70.882822,-94.3654707,-87.2947417,-80.6359013,-78.6847515,-87.8431078,-79.1130938,-90.3051249,-122.4048441,-124.0543234],\"marker\":{\"color\":\"#636efa\"},\"mode\":\"markers\",\"name\":\"\",\"showlegend\":false,\"subplot\":\"mapbox\",\"type\":\"scattermapbox\"}],                        {\"template\":{\"data\":{\"bar\":[{\"error_x\":{\"color\":\"#2a3f5f\"},\"error_y\":{\"color\":\"#2a3f5f\"},\"marker\":{\"line\":{\"color\":\"#E5ECF6\",\"width\":0.5},\"pattern\":{\"fillmode\":\"overlay\",\"size\":10,\"solidity\":0.2}},\"type\":\"bar\"}],\"barpolar\":[{\"marker\":{\"line\":{\"color\":\"#E5ECF6\",\"width\":0.5},\"pattern\":{\"fillmode\":\"overlay\",\"size\":10,\"solidity\":0.2}},\"type\":\"barpolar\"}],\"carpet\":[{\"aaxis\":{\"endlinecolor\":\"#2a3f5f\",\"gridcolor\":\"white\",\"linecolor\":\"white\",\"minorgridcolor\":\"white\",\"startlinecolor\":\"#2a3f5f\"},\"baxis\":{\"endlinecolor\":\"#2a3f5f\",\"gridcolor\":\"white\",\"linecolor\":\"white\",\"minorgridcolor\":\"white\",\"startlinecolor\":\"#2a3f5f\"},\"type\":\"carpet\"}],\"choropleth\":[{\"colorbar\":{\"outlinewidth\":0,\"ticks\":\"\"},\"type\":\"choropleth\"}],\"contour\":[{\"colorbar\":{\"outlinewidth\":0,\"ticks\":\"\"},\"colorscale\":[[0.0,\"#0d0887\"],[0.1111111111111111,\"#46039f\"],[0.2222222222222222,\"#7201a8\"],[0.3333333333333333,\"#9c179e\"],[0.4444444444444444,\"#bd3786\"],[0.5555555555555556,\"#d8576b\"],[0.6666666666666666,\"#ed7953\"],[0.7777777777777778,\"#fb9f3a\"],[0.8888888888888888,\"#fdca26\"],[1.0,\"#f0f921\"]],\"type\":\"contour\"}],\"contourcarpet\":[{\"colorbar\":{\"outlinewidth\":0,\"ticks\":\"\"},\"type\":\"contourcarpet\"}],\"heatmap\":[{\"colorbar\":{\"outlinewidth\":0,\"ticks\":\"\"},\"colorscale\":[[0.0,\"#0d0887\"],[0.1111111111111111,\"#46039f\"],[0.2222222222222222,\"#7201a8\"],[0.3333333333333333,\"#9c179e\"],[0.4444444444444444,\"#bd3786\"],[0.5555555555555556,\"#d8576b\"],[0.6666666666666666,\"#ed7953\"],[0.7777777777777778,\"#fb9f3a\"],[0.8888888888888888,\"#fdca26\"],[1.0,\"#f0f921\"]],\"type\":\"heatmap\"}],\"heatmapgl\":[{\"colorbar\":{\"outlinewidth\":0,\"ticks\":\"\"},\"colorscale\":[[0.0,\"#0d0887\"],[0.1111111111111111,\"#46039f\"],[0.2222222222222222,\"#7201a8\"],[0.3333333333333333,\"#9c179e\"],[0.4444444444444444,\"#bd3786\"],[0.5555555555555556,\"#d8576b\"],[0.6666666666666666,\"#ed7953\"],[0.7777777777777778,\"#fb9f3a\"],[0.8888888888888888,\"#fdca26\"],[1.0,\"#f0f921\"]],\"type\":\"heatmapgl\"}],\"histogram\":[{\"marker\":{\"pattern\":{\"fillmode\":\"overlay\",\"size\":10,\"solidity\":0.2}},\"type\":\"histogram\"}],\"histogram2d\":[{\"colorbar\":{\"outlinewidth\":0,\"ticks\":\"\"},\"colorscale\":[[0.0,\"#0d0887\"],[0.1111111111111111,\"#46039f\"],[0.2222222222222222,\"#7201a8\"],[0.3333333333333333,\"#9c179e\"],[0.4444444444444444,\"#bd3786\"],[0.5555555555555556,\"#d8576b\"],[0.6666666666666666,\"#ed7953\"],[0.7777777777777778,\"#fb9f3a\"],[0.8888888888888888,\"#fdca26\"],[1.0,\"#f0f921\"]],\"type\":\"histogram2d\"}],\"histogram2dcontour\":[{\"colorbar\":{\"outlinewidth\":0,\"ticks\":\"\"},\"colorscale\":[[0.0,\"#0d0887\"],[0.1111111111111111,\"#46039f\"],[0.2222222222222222,\"#7201a8\"],[0.3333333333333333,\"#9c179e\"],[0.4444444444444444,\"#bd3786\"],[0.5555555555555556,\"#d8576b\"],[0.6666666666666666,\"#ed7953\"],[0.7777777777777778,\"#fb9f3a\"],[0.8888888888888888,\"#fdca26\"],[1.0,\"#f0f921\"]],\"type\":\"histogram2dcontour\"}],\"mesh3d\":[{\"colorbar\":{\"outlinewidth\":0,\"ticks\":\"\"},\"type\":\"mesh3d\"}],\"parcoords\":[{\"line\":{\"colorbar\":{\"outlinewidth\":0,\"ticks\":\"\"}},\"type\":\"parcoords\"}],\"pie\":[{\"automargin\":true,\"type\":\"pie\"}],\"scatter\":[{\"marker\":{\"colorbar\":{\"outlinewidth\":0,\"ticks\":\"\"}},\"type\":\"scatter\"}],\"scatter3d\":[{\"line\":{\"colorbar\":{\"outlinewidth\":0,\"ticks\":\"\"}},\"marker\":{\"colorbar\":{\"outlinewidth\":0,\"ticks\":\"\"}},\"type\":\"scatter3d\"}],\"scattercarpet\":[{\"marker\":{\"colorbar\":{\"outlinewidth\":0,\"ticks\":\"\"}},\"type\":\"scattercarpet\"}],\"scattergeo\":[{\"marker\":{\"colorbar\":{\"outlinewidth\":0,\"ticks\":\"\"}},\"type\":\"scattergeo\"}],\"scattergl\":[{\"marker\":{\"colorbar\":{\"outlinewidth\":0,\"ticks\":\"\"}},\"type\":\"scattergl\"}],\"scattermapbox\":[{\"marker\":{\"colorbar\":{\"outlinewidth\":0,\"ticks\":\"\"}},\"type\":\"scattermapbox\"}],\"scatterpolar\":[{\"marker\":{\"colorbar\":{\"outlinewidth\":0,\"ticks\":\"\"}},\"type\":\"scatterpolar\"}],\"scatterpolargl\":[{\"marker\":{\"colorbar\":{\"outlinewidth\":0,\"ticks\":\"\"}},\"type\":\"scatterpolargl\"}],\"scatterternary\":[{\"marker\":{\"colorbar\":{\"outlinewidth\":0,\"ticks\":\"\"}},\"type\":\"scatterternary\"}],\"surface\":[{\"colorbar\":{\"outlinewidth\":0,\"ticks\":\"\"},\"colorscale\":[[0.0,\"#0d0887\"],[0.1111111111111111,\"#46039f\"],[0.2222222222222222,\"#7201a8\"],[0.3333333333333333,\"#9c179e\"],[0.4444444444444444,\"#bd3786\"],[0.5555555555555556,\"#d8576b\"],[0.6666666666666666,\"#ed7953\"],[0.7777777777777778,\"#fb9f3a\"],[0.8888888888888888,\"#fdca26\"],[1.0,\"#f0f921\"]],\"type\":\"surface\"}],\"table\":[{\"cells\":{\"fill\":{\"color\":\"#EBF0F8\"},\"line\":{\"color\":\"white\"}},\"header\":{\"fill\":{\"color\":\"#C8D4E3\"},\"line\":{\"color\":\"white\"}},\"type\":\"table\"}]},\"layout\":{\"annotationdefaults\":{\"arrowcolor\":\"#2a3f5f\",\"arrowhead\":0,\"arrowwidth\":1},\"autotypenumbers\":\"strict\",\"coloraxis\":{\"colorbar\":{\"outlinewidth\":0,\"ticks\":\"\"}},\"colorscale\":{\"diverging\":[[0,\"#8e0152\"],[0.1,\"#c51b7d\"],[0.2,\"#de77ae\"],[0.3,\"#f1b6da\"],[0.4,\"#fde0ef\"],[0.5,\"#f7f7f7\"],[0.6,\"#e6f5d0\"],[0.7,\"#b8e186\"],[0.8,\"#7fbc41\"],[0.9,\"#4d9221\"],[1,\"#276419\"]],\"sequential\":[[0.0,\"#0d0887\"],[0.1111111111111111,\"#46039f\"],[0.2222222222222222,\"#7201a8\"],[0.3333333333333333,\"#9c179e\"],[0.4444444444444444,\"#bd3786\"],[0.5555555555555556,\"#d8576b\"],[0.6666666666666666,\"#ed7953\"],[0.7777777777777778,\"#fb9f3a\"],[0.8888888888888888,\"#fdca26\"],[1.0,\"#f0f921\"]],\"sequentialminus\":[[0.0,\"#0d0887\"],[0.1111111111111111,\"#46039f\"],[0.2222222222222222,\"#7201a8\"],[0.3333333333333333,\"#9c179e\"],[0.4444444444444444,\"#bd3786\"],[0.5555555555555556,\"#d8576b\"],[0.6666666666666666,\"#ed7953\"],[0.7777777777777778,\"#fb9f3a\"],[0.8888888888888888,\"#fdca26\"],[1.0,\"#f0f921\"]]},\"colorway\":[\"#636efa\",\"#EF553B\",\"#00cc96\",\"#ab63fa\",\"#FFA15A\",\"#19d3f3\",\"#FF6692\",\"#B6E880\",\"#FF97FF\",\"#FECB52\"],\"font\":{\"color\":\"#2a3f5f\"},\"geo\":{\"bgcolor\":\"white\",\"lakecolor\":\"white\",\"landcolor\":\"#E5ECF6\",\"showlakes\":true,\"showland\":true,\"subunitcolor\":\"white\"},\"hoverlabel\":{\"align\":\"left\"},\"hovermode\":\"closest\",\"mapbox\":{\"style\":\"light\"},\"paper_bgcolor\":\"white\",\"plot_bgcolor\":\"#E5ECF6\",\"polar\":{\"angularaxis\":{\"gridcolor\":\"white\",\"linecolor\":\"white\",\"ticks\":\"\"},\"bgcolor\":\"#E5ECF6\",\"radialaxis\":{\"gridcolor\":\"white\",\"linecolor\":\"white\",\"ticks\":\"\"}},\"scene\":{\"xaxis\":{\"backgroundcolor\":\"#E5ECF6\",\"gridcolor\":\"white\",\"gridwidth\":2,\"linecolor\":\"white\",\"showbackground\":true,\"ticks\":\"\",\"zerolinecolor\":\"white\"},\"yaxis\":{\"backgroundcolor\":\"#E5ECF6\",\"gridcolor\":\"white\",\"gridwidth\":2,\"linecolor\":\"white\",\"showbackground\":true,\"ticks\":\"\",\"zerolinecolor\":\"white\"},\"zaxis\":{\"backgroundcolor\":\"#E5ECF6\",\"gridcolor\":\"white\",\"gridwidth\":2,\"linecolor\":\"white\",\"showbackground\":true,\"ticks\":\"\",\"zerolinecolor\":\"white\"}},\"shapedefaults\":{\"line\":{\"color\":\"#2a3f5f\"}},\"ternary\":{\"aaxis\":{\"gridcolor\":\"white\",\"linecolor\":\"white\",\"ticks\":\"\"},\"baxis\":{\"gridcolor\":\"white\",\"linecolor\":\"white\",\"ticks\":\"\"},\"bgcolor\":\"#E5ECF6\",\"caxis\":{\"gridcolor\":\"white\",\"linecolor\":\"white\",\"ticks\":\"\"}},\"title\":{\"x\":0.05},\"xaxis\":{\"automargin\":true,\"gridcolor\":\"white\",\"linecolor\":\"white\",\"ticks\":\"\",\"title\":{\"standoff\":15},\"zerolinecolor\":\"white\",\"zerolinewidth\":2},\"yaxis\":{\"automargin\":true,\"gridcolor\":\"white\",\"linecolor\":\"white\",\"ticks\":\"\",\"title\":{\"standoff\":15},\"zerolinecolor\":\"white\",\"zerolinewidth\":2}}},\"mapbox\":{\"domain\":{\"x\":[0.0,1.0],\"y\":[0.0,1.0]},\"center\":{\"lat\":38.5716500574931,\"lon\":-92.49558134885778},\"zoom\":3,\"style\":\"carto-positron\"},\"legend\":{\"tracegroupgap\":0},\"margin\":{\"t\":10,\"r\":10,\"l\":10,\"b\":10}},                        {\"responsive\": true}                    ).then(function(){\n",
       "                            \n",
       "var gd = document.getElementById('78cd6100-97b3-4647-a042-b9c9523e2fc3');\n",
       "var x = new MutationObserver(function (mutations, observer) {{\n",
       "        var display = window.getComputedStyle(gd).display;\n",
       "        if (!display || display === 'none') {{\n",
       "            console.log([gd, 'removed!']);\n",
       "            Plotly.purge(gd);\n",
       "            observer.disconnect();\n",
       "        }}\n",
       "}});\n",
       "\n",
       "// Listen for the removal of the full notebook cells\n",
       "var notebookContainer = gd.closest('#notebook-container');\n",
       "if (notebookContainer) {{\n",
       "    x.observe(notebookContainer, {childList: true});\n",
       "}}\n",
       "\n",
       "// Listen for the clearing of the current output cell\n",
       "var outputEl = gd.closest('.output');\n",
       "if (outputEl) {{\n",
       "    x.observe(outputEl, {childList: true});\n",
       "}}\n",
       "\n",
       "                        })                };                });            </script>        </div>"
      ]
     },
     "metadata": {},
     "output_type": "display_data"
    }
   ],
   "source": [
    "fig.update_layout(mapbox_style='carto-positron', margin={'r':10, 'l':10, 't':10, 'b':10})\n",
    "fig.show()"
   ]
  },
  {
   "cell_type": "code",
   "execution_count": 93,
   "id": "4289e843",
   "metadata": {},
   "outputs": [],
   "source": [
    "conn1 = pyodbc.connect('Driver={SQL Server};'\n",
    "                      'Server=KSTUDENTWSB\\SQLEXPRESS;'\n",
    "                      'Database=Northwind;'\n",
    "                      'Trusted_Connection=yes;')"
   ]
  },
  {
   "cell_type": "code",
   "execution_count": 94,
   "id": "8a3539aa",
   "metadata": {},
   "outputs": [
    {
     "name": "stderr",
     "output_type": "stream",
     "text": [
      "C:\\Users\\studentwsb\\anaconda3\\lib\\site-packages\\pandas\\io\\sql.py:761: UserWarning:\n",
      "\n",
      "pandas only support SQLAlchemy connectable(engine/connection) ordatabase string URI or sqlite3 DBAPI2 connectionother DBAPI2 objects are not tested, please consider using SQLAlchemy\n",
      "\n"
     ]
    }
   ],
   "source": [
    "df1 = pd.read_sql_query('SELECT * from dbo.[Order Details]', conn1)"
   ]
  },
  {
   "cell_type": "code",
   "execution_count": 95,
   "id": "72523cfa",
   "metadata": {},
   "outputs": [
    {
     "data": {
      "text/html": [
       "<div>\n",
       "<style scoped>\n",
       "    .dataframe tbody tr th:only-of-type {\n",
       "        vertical-align: middle;\n",
       "    }\n",
       "\n",
       "    .dataframe tbody tr th {\n",
       "        vertical-align: top;\n",
       "    }\n",
       "\n",
       "    .dataframe thead th {\n",
       "        text-align: right;\n",
       "    }\n",
       "</style>\n",
       "<table border=\"1\" class=\"dataframe\">\n",
       "  <thead>\n",
       "    <tr style=\"text-align: right;\">\n",
       "      <th></th>\n",
       "      <th>OrderID</th>\n",
       "      <th>ProductID</th>\n",
       "      <th>UnitPrice</th>\n",
       "      <th>Quantity</th>\n",
       "      <th>Discount</th>\n",
       "    </tr>\n",
       "  </thead>\n",
       "  <tbody>\n",
       "    <tr>\n",
       "      <th>0</th>\n",
       "      <td>10248</td>\n",
       "      <td>11</td>\n",
       "      <td>14.00</td>\n",
       "      <td>12</td>\n",
       "      <td>0.00</td>\n",
       "    </tr>\n",
       "    <tr>\n",
       "      <th>1</th>\n",
       "      <td>10248</td>\n",
       "      <td>42</td>\n",
       "      <td>9.80</td>\n",
       "      <td>10</td>\n",
       "      <td>0.00</td>\n",
       "    </tr>\n",
       "    <tr>\n",
       "      <th>2</th>\n",
       "      <td>10248</td>\n",
       "      <td>72</td>\n",
       "      <td>34.80</td>\n",
       "      <td>5</td>\n",
       "      <td>0.00</td>\n",
       "    </tr>\n",
       "    <tr>\n",
       "      <th>3</th>\n",
       "      <td>10249</td>\n",
       "      <td>14</td>\n",
       "      <td>18.60</td>\n",
       "      <td>9</td>\n",
       "      <td>0.00</td>\n",
       "    </tr>\n",
       "    <tr>\n",
       "      <th>4</th>\n",
       "      <td>10249</td>\n",
       "      <td>51</td>\n",
       "      <td>42.40</td>\n",
       "      <td>40</td>\n",
       "      <td>0.00</td>\n",
       "    </tr>\n",
       "    <tr>\n",
       "      <th>...</th>\n",
       "      <td>...</td>\n",
       "      <td>...</td>\n",
       "      <td>...</td>\n",
       "      <td>...</td>\n",
       "      <td>...</td>\n",
       "    </tr>\n",
       "    <tr>\n",
       "      <th>2150</th>\n",
       "      <td>11077</td>\n",
       "      <td>64</td>\n",
       "      <td>33.25</td>\n",
       "      <td>2</td>\n",
       "      <td>0.03</td>\n",
       "    </tr>\n",
       "    <tr>\n",
       "      <th>2151</th>\n",
       "      <td>11077</td>\n",
       "      <td>66</td>\n",
       "      <td>17.00</td>\n",
       "      <td>1</td>\n",
       "      <td>0.00</td>\n",
       "    </tr>\n",
       "    <tr>\n",
       "      <th>2152</th>\n",
       "      <td>11077</td>\n",
       "      <td>73</td>\n",
       "      <td>15.00</td>\n",
       "      <td>2</td>\n",
       "      <td>0.01</td>\n",
       "    </tr>\n",
       "    <tr>\n",
       "      <th>2153</th>\n",
       "      <td>11077</td>\n",
       "      <td>75</td>\n",
       "      <td>7.75</td>\n",
       "      <td>4</td>\n",
       "      <td>0.00</td>\n",
       "    </tr>\n",
       "    <tr>\n",
       "      <th>2154</th>\n",
       "      <td>11077</td>\n",
       "      <td>77</td>\n",
       "      <td>13.00</td>\n",
       "      <td>2</td>\n",
       "      <td>0.00</td>\n",
       "    </tr>\n",
       "  </tbody>\n",
       "</table>\n",
       "<p>2155 rows × 5 columns</p>\n",
       "</div>"
      ],
      "text/plain": [
       "      OrderID  ProductID  UnitPrice  Quantity  Discount\n",
       "0       10248         11      14.00        12      0.00\n",
       "1       10248         42       9.80        10      0.00\n",
       "2       10248         72      34.80         5      0.00\n",
       "3       10249         14      18.60         9      0.00\n",
       "4       10249         51      42.40        40      0.00\n",
       "...       ...        ...        ...       ...       ...\n",
       "2150    11077         64      33.25         2      0.03\n",
       "2151    11077         66      17.00         1      0.00\n",
       "2152    11077         73      15.00         2      0.01\n",
       "2153    11077         75       7.75         4      0.00\n",
       "2154    11077         77      13.00         2      0.00\n",
       "\n",
       "[2155 rows x 5 columns]"
      ]
     },
     "execution_count": 95,
     "metadata": {},
     "output_type": "execute_result"
    }
   ],
   "source": [
    "df1"
   ]
  },
  {
   "cell_type": "code",
   "execution_count": 100,
   "id": "1a3a2873",
   "metadata": {},
   "outputs": [],
   "source": [
    "retail = df1.copy()"
   ]
  },
  {
   "cell_type": "code",
   "execution_count": 101,
   "id": "426b6d0d",
   "metadata": {},
   "outputs": [
    {
     "data": {
      "text/html": [
       "<div>\n",
       "<style scoped>\n",
       "    .dataframe tbody tr th:only-of-type {\n",
       "        vertical-align: middle;\n",
       "    }\n",
       "\n",
       "    .dataframe tbody tr th {\n",
       "        vertical-align: top;\n",
       "    }\n",
       "\n",
       "    .dataframe thead th {\n",
       "        text-align: right;\n",
       "    }\n",
       "</style>\n",
       "<table border=\"1\" class=\"dataframe\">\n",
       "  <thead>\n",
       "    <tr style=\"text-align: right;\">\n",
       "      <th></th>\n",
       "      <th>OrderID</th>\n",
       "      <th>ProductID</th>\n",
       "      <th>UnitPrice</th>\n",
       "      <th>Quantity</th>\n",
       "      <th>Discount</th>\n",
       "    </tr>\n",
       "  </thead>\n",
       "  <tbody>\n",
       "    <tr>\n",
       "      <th>0</th>\n",
       "      <td>10248</td>\n",
       "      <td>11</td>\n",
       "      <td>14.00</td>\n",
       "      <td>12</td>\n",
       "      <td>0.00</td>\n",
       "    </tr>\n",
       "    <tr>\n",
       "      <th>1</th>\n",
       "      <td>10248</td>\n",
       "      <td>42</td>\n",
       "      <td>9.80</td>\n",
       "      <td>10</td>\n",
       "      <td>0.00</td>\n",
       "    </tr>\n",
       "    <tr>\n",
       "      <th>2</th>\n",
       "      <td>10248</td>\n",
       "      <td>72</td>\n",
       "      <td>34.80</td>\n",
       "      <td>5</td>\n",
       "      <td>0.00</td>\n",
       "    </tr>\n",
       "    <tr>\n",
       "      <th>3</th>\n",
       "      <td>10249</td>\n",
       "      <td>14</td>\n",
       "      <td>18.60</td>\n",
       "      <td>9</td>\n",
       "      <td>0.00</td>\n",
       "    </tr>\n",
       "    <tr>\n",
       "      <th>4</th>\n",
       "      <td>10249</td>\n",
       "      <td>51</td>\n",
       "      <td>42.40</td>\n",
       "      <td>40</td>\n",
       "      <td>0.00</td>\n",
       "    </tr>\n",
       "    <tr>\n",
       "      <th>...</th>\n",
       "      <td>...</td>\n",
       "      <td>...</td>\n",
       "      <td>...</td>\n",
       "      <td>...</td>\n",
       "      <td>...</td>\n",
       "    </tr>\n",
       "    <tr>\n",
       "      <th>2150</th>\n",
       "      <td>11077</td>\n",
       "      <td>64</td>\n",
       "      <td>33.25</td>\n",
       "      <td>2</td>\n",
       "      <td>0.03</td>\n",
       "    </tr>\n",
       "    <tr>\n",
       "      <th>2151</th>\n",
       "      <td>11077</td>\n",
       "      <td>66</td>\n",
       "      <td>17.00</td>\n",
       "      <td>1</td>\n",
       "      <td>0.00</td>\n",
       "    </tr>\n",
       "    <tr>\n",
       "      <th>2152</th>\n",
       "      <td>11077</td>\n",
       "      <td>73</td>\n",
       "      <td>15.00</td>\n",
       "      <td>2</td>\n",
       "      <td>0.01</td>\n",
       "    </tr>\n",
       "    <tr>\n",
       "      <th>2153</th>\n",
       "      <td>11077</td>\n",
       "      <td>75</td>\n",
       "      <td>7.75</td>\n",
       "      <td>4</td>\n",
       "      <td>0.00</td>\n",
       "    </tr>\n",
       "    <tr>\n",
       "      <th>2154</th>\n",
       "      <td>11077</td>\n",
       "      <td>77</td>\n",
       "      <td>13.00</td>\n",
       "      <td>2</td>\n",
       "      <td>0.00</td>\n",
       "    </tr>\n",
       "  </tbody>\n",
       "</table>\n",
       "<p>2155 rows × 5 columns</p>\n",
       "</div>"
      ],
      "text/plain": [
       "      OrderID  ProductID  UnitPrice  Quantity  Discount\n",
       "0       10248         11      14.00        12      0.00\n",
       "1       10248         42       9.80        10      0.00\n",
       "2       10248         72      34.80         5      0.00\n",
       "3       10249         14      18.60         9      0.00\n",
       "4       10249         51      42.40        40      0.00\n",
       "...       ...        ...        ...       ...       ...\n",
       "2150    11077         64      33.25         2      0.03\n",
       "2151    11077         66      17.00         1      0.00\n",
       "2152    11077         73      15.00         2      0.01\n",
       "2153    11077         75       7.75         4      0.00\n",
       "2154    11077         77      13.00         2      0.00\n",
       "\n",
       "[2155 rows x 5 columns]"
      ]
     },
     "execution_count": 101,
     "metadata": {},
     "output_type": "execute_result"
    }
   ],
   "source": [
    "retail"
   ]
  },
  {
   "cell_type": "code",
   "execution_count": 102,
   "id": "7f950dcc",
   "metadata": {},
   "outputs": [
    {
     "name": "stdout",
     "output_type": "stream",
     "text": [
      "<class 'pandas.core.frame.DataFrame'>\n",
      "RangeIndex: 2155 entries, 0 to 2154\n",
      "Data columns (total 5 columns):\n",
      " #   Column     Non-Null Count  Dtype  \n",
      "---  ------     --------------  -----  \n",
      " 0   OrderID    2155 non-null   int64  \n",
      " 1   ProductID  2155 non-null   int64  \n",
      " 2   UnitPrice  2155 non-null   float64\n",
      " 3   Quantity   2155 non-null   int64  \n",
      " 4   Discount   2155 non-null   float64\n",
      "dtypes: float64(2), int64(3)\n",
      "memory usage: 84.3 KB\n"
     ]
    }
   ],
   "source": [
    "retail.info()"
   ]
  },
  {
   "cell_type": "code",
   "execution_count": 103,
   "id": "592d3b29",
   "metadata": {},
   "outputs": [
    {
     "data": {
      "text/plain": [
       "OrderID      0\n",
       "ProductID    0\n",
       "UnitPrice    0\n",
       "Quantity     0\n",
       "Discount     0\n",
       "dtype: int64"
      ]
     },
     "execution_count": 103,
     "metadata": {},
     "output_type": "execute_result"
    }
   ],
   "source": [
    "retail.isnull().sum()"
   ]
  },
  {
   "cell_type": "code",
   "execution_count": 104,
   "id": "26065c05",
   "metadata": {},
   "outputs": [
    {
     "data": {
      "text/html": [
       "<div>\n",
       "<style scoped>\n",
       "    .dataframe tbody tr th:only-of-type {\n",
       "        vertical-align: middle;\n",
       "    }\n",
       "\n",
       "    .dataframe tbody tr th {\n",
       "        vertical-align: top;\n",
       "    }\n",
       "\n",
       "    .dataframe thead th {\n",
       "        text-align: right;\n",
       "    }\n",
       "</style>\n",
       "<table border=\"1\" class=\"dataframe\">\n",
       "  <thead>\n",
       "    <tr style=\"text-align: right;\">\n",
       "      <th></th>\n",
       "      <th>OrderID</th>\n",
       "      <th>ProductID</th>\n",
       "      <th>UnitPrice</th>\n",
       "      <th>Quantity</th>\n",
       "      <th>Discount</th>\n",
       "    </tr>\n",
       "  </thead>\n",
       "  <tbody>\n",
       "    <tr>\n",
       "      <th>0</th>\n",
       "      <td>10248</td>\n",
       "      <td>11</td>\n",
       "      <td>14.0</td>\n",
       "      <td>12</td>\n",
       "      <td>0.00</td>\n",
       "    </tr>\n",
       "    <tr>\n",
       "      <th>1</th>\n",
       "      <td>10248</td>\n",
       "      <td>42</td>\n",
       "      <td>9.8</td>\n",
       "      <td>10</td>\n",
       "      <td>0.00</td>\n",
       "    </tr>\n",
       "    <tr>\n",
       "      <th>2</th>\n",
       "      <td>10248</td>\n",
       "      <td>72</td>\n",
       "      <td>34.8</td>\n",
       "      <td>5</td>\n",
       "      <td>0.00</td>\n",
       "    </tr>\n",
       "    <tr>\n",
       "      <th>3</th>\n",
       "      <td>10249</td>\n",
       "      <td>14</td>\n",
       "      <td>18.6</td>\n",
       "      <td>9</td>\n",
       "      <td>0.00</td>\n",
       "    </tr>\n",
       "    <tr>\n",
       "      <th>4</th>\n",
       "      <td>10249</td>\n",
       "      <td>51</td>\n",
       "      <td>42.4</td>\n",
       "      <td>40</td>\n",
       "      <td>0.00</td>\n",
       "    </tr>\n",
       "    <tr>\n",
       "      <th>5</th>\n",
       "      <td>10250</td>\n",
       "      <td>41</td>\n",
       "      <td>7.7</td>\n",
       "      <td>10</td>\n",
       "      <td>0.00</td>\n",
       "    </tr>\n",
       "    <tr>\n",
       "      <th>6</th>\n",
       "      <td>10250</td>\n",
       "      <td>51</td>\n",
       "      <td>42.4</td>\n",
       "      <td>35</td>\n",
       "      <td>0.15</td>\n",
       "    </tr>\n",
       "    <tr>\n",
       "      <th>7</th>\n",
       "      <td>10250</td>\n",
       "      <td>65</td>\n",
       "      <td>16.8</td>\n",
       "      <td>15</td>\n",
       "      <td>0.15</td>\n",
       "    </tr>\n",
       "    <tr>\n",
       "      <th>8</th>\n",
       "      <td>10251</td>\n",
       "      <td>22</td>\n",
       "      <td>16.8</td>\n",
       "      <td>6</td>\n",
       "      <td>0.05</td>\n",
       "    </tr>\n",
       "    <tr>\n",
       "      <th>9</th>\n",
       "      <td>10251</td>\n",
       "      <td>57</td>\n",
       "      <td>15.6</td>\n",
       "      <td>15</td>\n",
       "      <td>0.05</td>\n",
       "    </tr>\n",
       "  </tbody>\n",
       "</table>\n",
       "</div>"
      ],
      "text/plain": [
       "   OrderID  ProductID  UnitPrice  Quantity  Discount\n",
       "0    10248         11       14.0        12      0.00\n",
       "1    10248         42        9.8        10      0.00\n",
       "2    10248         72       34.8         5      0.00\n",
       "3    10249         14       18.6         9      0.00\n",
       "4    10249         51       42.4        40      0.00\n",
       "5    10250         41        7.7        10      0.00\n",
       "6    10250         51       42.4        35      0.15\n",
       "7    10250         65       16.8        15      0.15\n",
       "8    10251         22       16.8         6      0.05\n",
       "9    10251         57       15.6        15      0.05"
      ]
     },
     "execution_count": 104,
     "metadata": {},
     "output_type": "execute_result"
    }
   ],
   "source": [
    "# SELECT TOP(10) from dbo.[Order Details]\n",
    "retail.head(10)"
   ]
  },
  {
   "cell_type": "code",
   "execution_count": 105,
   "id": "c0e1da17",
   "metadata": {},
   "outputs": [
    {
     "data": {
      "text/html": [
       "<div>\n",
       "<style scoped>\n",
       "    .dataframe tbody tr th:only-of-type {\n",
       "        vertical-align: middle;\n",
       "    }\n",
       "\n",
       "    .dataframe tbody tr th {\n",
       "        vertical-align: top;\n",
       "    }\n",
       "\n",
       "    .dataframe thead th {\n",
       "        text-align: right;\n",
       "    }\n",
       "</style>\n",
       "<table border=\"1\" class=\"dataframe\">\n",
       "  <thead>\n",
       "    <tr style=\"text-align: right;\">\n",
       "      <th></th>\n",
       "      <th>OrderID</th>\n",
       "      <th>UnitPrice</th>\n",
       "      <th>Quantity</th>\n",
       "    </tr>\n",
       "  </thead>\n",
       "  <tbody>\n",
       "    <tr>\n",
       "      <th>0</th>\n",
       "      <td>10248</td>\n",
       "      <td>14.00</td>\n",
       "      <td>12</td>\n",
       "    </tr>\n",
       "    <tr>\n",
       "      <th>1</th>\n",
       "      <td>10248</td>\n",
       "      <td>9.80</td>\n",
       "      <td>10</td>\n",
       "    </tr>\n",
       "    <tr>\n",
       "      <th>2</th>\n",
       "      <td>10248</td>\n",
       "      <td>34.80</td>\n",
       "      <td>5</td>\n",
       "    </tr>\n",
       "    <tr>\n",
       "      <th>3</th>\n",
       "      <td>10249</td>\n",
       "      <td>18.60</td>\n",
       "      <td>9</td>\n",
       "    </tr>\n",
       "    <tr>\n",
       "      <th>4</th>\n",
       "      <td>10249</td>\n",
       "      <td>42.40</td>\n",
       "      <td>40</td>\n",
       "    </tr>\n",
       "    <tr>\n",
       "      <th>...</th>\n",
       "      <td>...</td>\n",
       "      <td>...</td>\n",
       "      <td>...</td>\n",
       "    </tr>\n",
       "    <tr>\n",
       "      <th>2150</th>\n",
       "      <td>11077</td>\n",
       "      <td>33.25</td>\n",
       "      <td>2</td>\n",
       "    </tr>\n",
       "    <tr>\n",
       "      <th>2151</th>\n",
       "      <td>11077</td>\n",
       "      <td>17.00</td>\n",
       "      <td>1</td>\n",
       "    </tr>\n",
       "    <tr>\n",
       "      <th>2152</th>\n",
       "      <td>11077</td>\n",
       "      <td>15.00</td>\n",
       "      <td>2</td>\n",
       "    </tr>\n",
       "    <tr>\n",
       "      <th>2153</th>\n",
       "      <td>11077</td>\n",
       "      <td>7.75</td>\n",
       "      <td>4</td>\n",
       "    </tr>\n",
       "    <tr>\n",
       "      <th>2154</th>\n",
       "      <td>11077</td>\n",
       "      <td>13.00</td>\n",
       "      <td>2</td>\n",
       "    </tr>\n",
       "  </tbody>\n",
       "</table>\n",
       "<p>2155 rows × 3 columns</p>\n",
       "</div>"
      ],
      "text/plain": [
       "      OrderID  UnitPrice  Quantity\n",
       "0       10248      14.00        12\n",
       "1       10248       9.80        10\n",
       "2       10248      34.80         5\n",
       "3       10249      18.60         9\n",
       "4       10249      42.40        40\n",
       "...       ...        ...       ...\n",
       "2150    11077      33.25         2\n",
       "2151    11077      17.00         1\n",
       "2152    11077      15.00         2\n",
       "2153    11077       7.75         4\n",
       "2154    11077      13.00         2\n",
       "\n",
       "[2155 rows x 3 columns]"
      ]
     },
     "execution_count": 105,
     "metadata": {},
     "output_type": "execute_result"
    }
   ],
   "source": [
    "# SELECT OrderID, Unitprice, Quantity from dbo.[Order Details]\n",
    "retail[['OrderID','UnitPrice','Quantity']]"
   ]
  },
  {
   "cell_type": "code",
   "execution_count": 106,
   "id": "e8f05de9",
   "metadata": {},
   "outputs": [
    {
     "data": {
      "text/html": [
       "<div>\n",
       "<style scoped>\n",
       "    .dataframe tbody tr th:only-of-type {\n",
       "        vertical-align: middle;\n",
       "    }\n",
       "\n",
       "    .dataframe tbody tr th {\n",
       "        vertical-align: top;\n",
       "    }\n",
       "\n",
       "    .dataframe thead th {\n",
       "        text-align: right;\n",
       "    }\n",
       "</style>\n",
       "<table border=\"1\" class=\"dataframe\">\n",
       "  <thead>\n",
       "    <tr style=\"text-align: right;\">\n",
       "      <th></th>\n",
       "      <th>OrderID</th>\n",
       "      <th>UnitPrice</th>\n",
       "      <th>Quantity</th>\n",
       "    </tr>\n",
       "  </thead>\n",
       "  <tbody>\n",
       "    <tr>\n",
       "      <th>0</th>\n",
       "      <td>10248</td>\n",
       "      <td>14.00</td>\n",
       "      <td>12</td>\n",
       "    </tr>\n",
       "    <tr>\n",
       "      <th>1</th>\n",
       "      <td>10248</td>\n",
       "      <td>9.80</td>\n",
       "      <td>10</td>\n",
       "    </tr>\n",
       "    <tr>\n",
       "      <th>2</th>\n",
       "      <td>10248</td>\n",
       "      <td>34.80</td>\n",
       "      <td>5</td>\n",
       "    </tr>\n",
       "    <tr>\n",
       "      <th>3</th>\n",
       "      <td>10249</td>\n",
       "      <td>18.60</td>\n",
       "      <td>9</td>\n",
       "    </tr>\n",
       "    <tr>\n",
       "      <th>4</th>\n",
       "      <td>10249</td>\n",
       "      <td>42.40</td>\n",
       "      <td>40</td>\n",
       "    </tr>\n",
       "    <tr>\n",
       "      <th>...</th>\n",
       "      <td>...</td>\n",
       "      <td>...</td>\n",
       "      <td>...</td>\n",
       "    </tr>\n",
       "    <tr>\n",
       "      <th>2150</th>\n",
       "      <td>11077</td>\n",
       "      <td>33.25</td>\n",
       "      <td>2</td>\n",
       "    </tr>\n",
       "    <tr>\n",
       "      <th>2151</th>\n",
       "      <td>11077</td>\n",
       "      <td>17.00</td>\n",
       "      <td>1</td>\n",
       "    </tr>\n",
       "    <tr>\n",
       "      <th>2152</th>\n",
       "      <td>11077</td>\n",
       "      <td>15.00</td>\n",
       "      <td>2</td>\n",
       "    </tr>\n",
       "    <tr>\n",
       "      <th>2153</th>\n",
       "      <td>11077</td>\n",
       "      <td>7.75</td>\n",
       "      <td>4</td>\n",
       "    </tr>\n",
       "    <tr>\n",
       "      <th>2154</th>\n",
       "      <td>11077</td>\n",
       "      <td>13.00</td>\n",
       "      <td>2</td>\n",
       "    </tr>\n",
       "  </tbody>\n",
       "</table>\n",
       "<p>2155 rows × 3 columns</p>\n",
       "</div>"
      ],
      "text/plain": [
       "      OrderID  UnitPrice  Quantity\n",
       "0       10248      14.00        12\n",
       "1       10248       9.80        10\n",
       "2       10248      34.80         5\n",
       "3       10249      18.60         9\n",
       "4       10249      42.40        40\n",
       "...       ...        ...       ...\n",
       "2150    11077      33.25         2\n",
       "2151    11077      17.00         1\n",
       "2152    11077      15.00         2\n",
       "2153    11077       7.75         4\n",
       "2154    11077      13.00         2\n",
       "\n",
       "[2155 rows x 3 columns]"
      ]
     },
     "execution_count": 106,
     "metadata": {},
     "output_type": "execute_result"
    }
   ],
   "source": [
    "retail.iloc[:,[0,2,3]]"
   ]
  },
  {
   "cell_type": "code",
   "execution_count": 107,
   "id": "d11de79d",
   "metadata": {},
   "outputs": [
    {
     "data": {
      "text/html": [
       "<div>\n",
       "<style scoped>\n",
       "    .dataframe tbody tr th:only-of-type {\n",
       "        vertical-align: middle;\n",
       "    }\n",
       "\n",
       "    .dataframe tbody tr th {\n",
       "        vertical-align: top;\n",
       "    }\n",
       "\n",
       "    .dataframe thead th {\n",
       "        text-align: right;\n",
       "    }\n",
       "</style>\n",
       "<table border=\"1\" class=\"dataframe\">\n",
       "  <thead>\n",
       "    <tr style=\"text-align: right;\">\n",
       "      <th></th>\n",
       "      <th>OrderID</th>\n",
       "      <th>UnitPrice</th>\n",
       "      <th>Quantity</th>\n",
       "    </tr>\n",
       "  </thead>\n",
       "  <tbody>\n",
       "    <tr>\n",
       "      <th>0</th>\n",
       "      <td>10248</td>\n",
       "      <td>14.0</td>\n",
       "      <td>12</td>\n",
       "    </tr>\n",
       "    <tr>\n",
       "      <th>1</th>\n",
       "      <td>10248</td>\n",
       "      <td>9.8</td>\n",
       "      <td>10</td>\n",
       "    </tr>\n",
       "    <tr>\n",
       "      <th>2</th>\n",
       "      <td>10248</td>\n",
       "      <td>34.8</td>\n",
       "      <td>5</td>\n",
       "    </tr>\n",
       "    <tr>\n",
       "      <th>3</th>\n",
       "      <td>10249</td>\n",
       "      <td>18.6</td>\n",
       "      <td>9</td>\n",
       "    </tr>\n",
       "    <tr>\n",
       "      <th>4</th>\n",
       "      <td>10249</td>\n",
       "      <td>42.4</td>\n",
       "      <td>40</td>\n",
       "    </tr>\n",
       "    <tr>\n",
       "      <th>5</th>\n",
       "      <td>10250</td>\n",
       "      <td>7.7</td>\n",
       "      <td>10</td>\n",
       "    </tr>\n",
       "    <tr>\n",
       "      <th>6</th>\n",
       "      <td>10250</td>\n",
       "      <td>42.4</td>\n",
       "      <td>35</td>\n",
       "    </tr>\n",
       "    <tr>\n",
       "      <th>7</th>\n",
       "      <td>10250</td>\n",
       "      <td>16.8</td>\n",
       "      <td>15</td>\n",
       "    </tr>\n",
       "    <tr>\n",
       "      <th>8</th>\n",
       "      <td>10251</td>\n",
       "      <td>16.8</td>\n",
       "      <td>6</td>\n",
       "    </tr>\n",
       "    <tr>\n",
       "      <th>9</th>\n",
       "      <td>10251</td>\n",
       "      <td>15.6</td>\n",
       "      <td>15</td>\n",
       "    </tr>\n",
       "    <tr>\n",
       "      <th>10</th>\n",
       "      <td>10251</td>\n",
       "      <td>16.8</td>\n",
       "      <td>20</td>\n",
       "    </tr>\n",
       "    <tr>\n",
       "      <th>11</th>\n",
       "      <td>10252</td>\n",
       "      <td>64.8</td>\n",
       "      <td>40</td>\n",
       "    </tr>\n",
       "    <tr>\n",
       "      <th>12</th>\n",
       "      <td>10252</td>\n",
       "      <td>2.0</td>\n",
       "      <td>25</td>\n",
       "    </tr>\n",
       "    <tr>\n",
       "      <th>13</th>\n",
       "      <td>10252</td>\n",
       "      <td>27.2</td>\n",
       "      <td>40</td>\n",
       "    </tr>\n",
       "    <tr>\n",
       "      <th>14</th>\n",
       "      <td>10253</td>\n",
       "      <td>10.0</td>\n",
       "      <td>20</td>\n",
       "    </tr>\n",
       "    <tr>\n",
       "      <th>15</th>\n",
       "      <td>10253</td>\n",
       "      <td>14.4</td>\n",
       "      <td>42</td>\n",
       "    </tr>\n",
       "    <tr>\n",
       "      <th>16</th>\n",
       "      <td>10253</td>\n",
       "      <td>16.0</td>\n",
       "      <td>40</td>\n",
       "    </tr>\n",
       "    <tr>\n",
       "      <th>17</th>\n",
       "      <td>10254</td>\n",
       "      <td>3.6</td>\n",
       "      <td>15</td>\n",
       "    </tr>\n",
       "    <tr>\n",
       "      <th>18</th>\n",
       "      <td>10254</td>\n",
       "      <td>19.2</td>\n",
       "      <td>21</td>\n",
       "    </tr>\n",
       "    <tr>\n",
       "      <th>19</th>\n",
       "      <td>10254</td>\n",
       "      <td>8.0</td>\n",
       "      <td>21</td>\n",
       "    </tr>\n",
       "  </tbody>\n",
       "</table>\n",
       "</div>"
      ],
      "text/plain": [
       "    OrderID  UnitPrice  Quantity\n",
       "0     10248       14.0        12\n",
       "1     10248        9.8        10\n",
       "2     10248       34.8         5\n",
       "3     10249       18.6         9\n",
       "4     10249       42.4        40\n",
       "5     10250        7.7        10\n",
       "6     10250       42.4        35\n",
       "7     10250       16.8        15\n",
       "8     10251       16.8         6\n",
       "9     10251       15.6        15\n",
       "10    10251       16.8        20\n",
       "11    10252       64.8        40\n",
       "12    10252        2.0        25\n",
       "13    10252       27.2        40\n",
       "14    10253       10.0        20\n",
       "15    10253       14.4        42\n",
       "16    10253       16.0        40\n",
       "17    10254        3.6        15\n",
       "18    10254       19.2        21\n",
       "19    10254        8.0        21"
      ]
     },
     "execution_count": 107,
     "metadata": {},
     "output_type": "execute_result"
    }
   ],
   "source": [
    "# SELECT TOP(20) OrderID, Unitprice, Quantity from dbo.[Order Details]\n",
    "retail.head(20)[['OrderID','UnitPrice','Quantity']]"
   ]
  },
  {
   "cell_type": "code",
   "execution_count": 108,
   "id": "ceced2ab",
   "metadata": {},
   "outputs": [
    {
     "data": {
      "text/html": [
       "<div>\n",
       "<style scoped>\n",
       "    .dataframe tbody tr th:only-of-type {\n",
       "        vertical-align: middle;\n",
       "    }\n",
       "\n",
       "    .dataframe tbody tr th {\n",
       "        vertical-align: top;\n",
       "    }\n",
       "\n",
       "    .dataframe thead th {\n",
       "        text-align: right;\n",
       "    }\n",
       "</style>\n",
       "<table border=\"1\" class=\"dataframe\">\n",
       "  <thead>\n",
       "    <tr style=\"text-align: right;\">\n",
       "      <th></th>\n",
       "      <th>OrderID</th>\n",
       "      <th>UnitPrice</th>\n",
       "      <th>Quantity</th>\n",
       "    </tr>\n",
       "  </thead>\n",
       "  <tbody>\n",
       "    <tr>\n",
       "      <th>0</th>\n",
       "      <td>10248</td>\n",
       "      <td>14.0</td>\n",
       "      <td>12</td>\n",
       "    </tr>\n",
       "    <tr>\n",
       "      <th>1</th>\n",
       "      <td>10248</td>\n",
       "      <td>9.8</td>\n",
       "      <td>10</td>\n",
       "    </tr>\n",
       "    <tr>\n",
       "      <th>2</th>\n",
       "      <td>10248</td>\n",
       "      <td>34.8</td>\n",
       "      <td>5</td>\n",
       "    </tr>\n",
       "    <tr>\n",
       "      <th>3</th>\n",
       "      <td>10249</td>\n",
       "      <td>18.6</td>\n",
       "      <td>9</td>\n",
       "    </tr>\n",
       "    <tr>\n",
       "      <th>4</th>\n",
       "      <td>10249</td>\n",
       "      <td>42.4</td>\n",
       "      <td>40</td>\n",
       "    </tr>\n",
       "    <tr>\n",
       "      <th>5</th>\n",
       "      <td>10250</td>\n",
       "      <td>7.7</td>\n",
       "      <td>10</td>\n",
       "    </tr>\n",
       "    <tr>\n",
       "      <th>6</th>\n",
       "      <td>10250</td>\n",
       "      <td>42.4</td>\n",
       "      <td>35</td>\n",
       "    </tr>\n",
       "    <tr>\n",
       "      <th>7</th>\n",
       "      <td>10250</td>\n",
       "      <td>16.8</td>\n",
       "      <td>15</td>\n",
       "    </tr>\n",
       "    <tr>\n",
       "      <th>8</th>\n",
       "      <td>10251</td>\n",
       "      <td>16.8</td>\n",
       "      <td>6</td>\n",
       "    </tr>\n",
       "    <tr>\n",
       "      <th>9</th>\n",
       "      <td>10251</td>\n",
       "      <td>15.6</td>\n",
       "      <td>15</td>\n",
       "    </tr>\n",
       "    <tr>\n",
       "      <th>10</th>\n",
       "      <td>10251</td>\n",
       "      <td>16.8</td>\n",
       "      <td>20</td>\n",
       "    </tr>\n",
       "    <tr>\n",
       "      <th>11</th>\n",
       "      <td>10252</td>\n",
       "      <td>64.8</td>\n",
       "      <td>40</td>\n",
       "    </tr>\n",
       "    <tr>\n",
       "      <th>12</th>\n",
       "      <td>10252</td>\n",
       "      <td>2.0</td>\n",
       "      <td>25</td>\n",
       "    </tr>\n",
       "    <tr>\n",
       "      <th>13</th>\n",
       "      <td>10252</td>\n",
       "      <td>27.2</td>\n",
       "      <td>40</td>\n",
       "    </tr>\n",
       "    <tr>\n",
       "      <th>14</th>\n",
       "      <td>10253</td>\n",
       "      <td>10.0</td>\n",
       "      <td>20</td>\n",
       "    </tr>\n",
       "    <tr>\n",
       "      <th>15</th>\n",
       "      <td>10253</td>\n",
       "      <td>14.4</td>\n",
       "      <td>42</td>\n",
       "    </tr>\n",
       "    <tr>\n",
       "      <th>16</th>\n",
       "      <td>10253</td>\n",
       "      <td>16.0</td>\n",
       "      <td>40</td>\n",
       "    </tr>\n",
       "    <tr>\n",
       "      <th>17</th>\n",
       "      <td>10254</td>\n",
       "      <td>3.6</td>\n",
       "      <td>15</td>\n",
       "    </tr>\n",
       "    <tr>\n",
       "      <th>18</th>\n",
       "      <td>10254</td>\n",
       "      <td>19.2</td>\n",
       "      <td>21</td>\n",
       "    </tr>\n",
       "    <tr>\n",
       "      <th>19</th>\n",
       "      <td>10254</td>\n",
       "      <td>8.0</td>\n",
       "      <td>21</td>\n",
       "    </tr>\n",
       "  </tbody>\n",
       "</table>\n",
       "</div>"
      ],
      "text/plain": [
       "    OrderID  UnitPrice  Quantity\n",
       "0     10248       14.0        12\n",
       "1     10248        9.8        10\n",
       "2     10248       34.8         5\n",
       "3     10249       18.6         9\n",
       "4     10249       42.4        40\n",
       "5     10250        7.7        10\n",
       "6     10250       42.4        35\n",
       "7     10250       16.8        15\n",
       "8     10251       16.8         6\n",
       "9     10251       15.6        15\n",
       "10    10251       16.8        20\n",
       "11    10252       64.8        40\n",
       "12    10252        2.0        25\n",
       "13    10252       27.2        40\n",
       "14    10253       10.0        20\n",
       "15    10253       14.4        42\n",
       "16    10253       16.0        40\n",
       "17    10254        3.6        15\n",
       "18    10254       19.2        21\n",
       "19    10254        8.0        21"
      ]
     },
     "execution_count": 108,
     "metadata": {},
     "output_type": "execute_result"
    }
   ],
   "source": [
    "retail.head(20).iloc[:,[0,2,3]]"
   ]
  },
  {
   "cell_type": "code",
   "execution_count": 109,
   "id": "a43862ed",
   "metadata": {},
   "outputs": [
    {
     "data": {
      "text/html": [
       "<div>\n",
       "<style scoped>\n",
       "    .dataframe tbody tr th:only-of-type {\n",
       "        vertical-align: middle;\n",
       "    }\n",
       "\n",
       "    .dataframe tbody tr th {\n",
       "        vertical-align: top;\n",
       "    }\n",
       "\n",
       "    .dataframe thead th {\n",
       "        text-align: right;\n",
       "    }\n",
       "</style>\n",
       "<table border=\"1\" class=\"dataframe\">\n",
       "  <thead>\n",
       "    <tr style=\"text-align: right;\">\n",
       "      <th></th>\n",
       "      <th>OrderID</th>\n",
       "      <th>UnitPrice</th>\n",
       "      <th>Quantity</th>\n",
       "    </tr>\n",
       "  </thead>\n",
       "  <tbody>\n",
       "    <tr>\n",
       "      <th>0</th>\n",
       "      <td>10248</td>\n",
       "      <td>14.0</td>\n",
       "      <td>12</td>\n",
       "    </tr>\n",
       "    <tr>\n",
       "      <th>1</th>\n",
       "      <td>10248</td>\n",
       "      <td>9.8</td>\n",
       "      <td>10</td>\n",
       "    </tr>\n",
       "    <tr>\n",
       "      <th>2</th>\n",
       "      <td>10248</td>\n",
       "      <td>34.8</td>\n",
       "      <td>5</td>\n",
       "    </tr>\n",
       "    <tr>\n",
       "      <th>3</th>\n",
       "      <td>10249</td>\n",
       "      <td>18.6</td>\n",
       "      <td>9</td>\n",
       "    </tr>\n",
       "    <tr>\n",
       "      <th>4</th>\n",
       "      <td>10249</td>\n",
       "      <td>42.4</td>\n",
       "      <td>40</td>\n",
       "    </tr>\n",
       "    <tr>\n",
       "      <th>5</th>\n",
       "      <td>10250</td>\n",
       "      <td>7.7</td>\n",
       "      <td>10</td>\n",
       "    </tr>\n",
       "    <tr>\n",
       "      <th>6</th>\n",
       "      <td>10250</td>\n",
       "      <td>42.4</td>\n",
       "      <td>35</td>\n",
       "    </tr>\n",
       "    <tr>\n",
       "      <th>7</th>\n",
       "      <td>10250</td>\n",
       "      <td>16.8</td>\n",
       "      <td>15</td>\n",
       "    </tr>\n",
       "    <tr>\n",
       "      <th>8</th>\n",
       "      <td>10251</td>\n",
       "      <td>16.8</td>\n",
       "      <td>6</td>\n",
       "    </tr>\n",
       "    <tr>\n",
       "      <th>9</th>\n",
       "      <td>10251</td>\n",
       "      <td>15.6</td>\n",
       "      <td>15</td>\n",
       "    </tr>\n",
       "    <tr>\n",
       "      <th>10</th>\n",
       "      <td>10251</td>\n",
       "      <td>16.8</td>\n",
       "      <td>20</td>\n",
       "    </tr>\n",
       "    <tr>\n",
       "      <th>11</th>\n",
       "      <td>10252</td>\n",
       "      <td>64.8</td>\n",
       "      <td>40</td>\n",
       "    </tr>\n",
       "    <tr>\n",
       "      <th>12</th>\n",
       "      <td>10252</td>\n",
       "      <td>2.0</td>\n",
       "      <td>25</td>\n",
       "    </tr>\n",
       "    <tr>\n",
       "      <th>13</th>\n",
       "      <td>10252</td>\n",
       "      <td>27.2</td>\n",
       "      <td>40</td>\n",
       "    </tr>\n",
       "    <tr>\n",
       "      <th>14</th>\n",
       "      <td>10253</td>\n",
       "      <td>10.0</td>\n",
       "      <td>20</td>\n",
       "    </tr>\n",
       "    <tr>\n",
       "      <th>15</th>\n",
       "      <td>10253</td>\n",
       "      <td>14.4</td>\n",
       "      <td>42</td>\n",
       "    </tr>\n",
       "    <tr>\n",
       "      <th>16</th>\n",
       "      <td>10253</td>\n",
       "      <td>16.0</td>\n",
       "      <td>40</td>\n",
       "    </tr>\n",
       "    <tr>\n",
       "      <th>17</th>\n",
       "      <td>10254</td>\n",
       "      <td>3.6</td>\n",
       "      <td>15</td>\n",
       "    </tr>\n",
       "    <tr>\n",
       "      <th>18</th>\n",
       "      <td>10254</td>\n",
       "      <td>19.2</td>\n",
       "      <td>21</td>\n",
       "    </tr>\n",
       "    <tr>\n",
       "      <th>19</th>\n",
       "      <td>10254</td>\n",
       "      <td>8.0</td>\n",
       "      <td>21</td>\n",
       "    </tr>\n",
       "  </tbody>\n",
       "</table>\n",
       "</div>"
      ],
      "text/plain": [
       "    OrderID  UnitPrice  Quantity\n",
       "0     10248       14.0        12\n",
       "1     10248        9.8        10\n",
       "2     10248       34.8         5\n",
       "3     10249       18.6         9\n",
       "4     10249       42.4        40\n",
       "5     10250        7.7        10\n",
       "6     10250       42.4        35\n",
       "7     10250       16.8        15\n",
       "8     10251       16.8         6\n",
       "9     10251       15.6        15\n",
       "10    10251       16.8        20\n",
       "11    10252       64.8        40\n",
       "12    10252        2.0        25\n",
       "13    10252       27.2        40\n",
       "14    10253       10.0        20\n",
       "15    10253       14.4        42\n",
       "16    10253       16.0        40\n",
       "17    10254        3.6        15\n",
       "18    10254       19.2        21\n",
       "19    10254        8.0        21"
      ]
     },
     "execution_count": 109,
     "metadata": {},
     "output_type": "execute_result"
    }
   ],
   "source": [
    "retail.iloc[:,[0,2,3]].head(20)"
   ]
  },
  {
   "cell_type": "code",
   "execution_count": 110,
   "id": "a90f7c9f",
   "metadata": {},
   "outputs": [
    {
     "data": {
      "text/html": [
       "<div>\n",
       "<style scoped>\n",
       "    .dataframe tbody tr th:only-of-type {\n",
       "        vertical-align: middle;\n",
       "    }\n",
       "\n",
       "    .dataframe tbody tr th {\n",
       "        vertical-align: top;\n",
       "    }\n",
       "\n",
       "    .dataframe thead th {\n",
       "        text-align: right;\n",
       "    }\n",
       "</style>\n",
       "<table border=\"1\" class=\"dataframe\">\n",
       "  <thead>\n",
       "    <tr style=\"text-align: right;\">\n",
       "      <th></th>\n",
       "      <th>OrderID</th>\n",
       "      <th>UnitPrice</th>\n",
       "      <th>Quantity</th>\n",
       "    </tr>\n",
       "  </thead>\n",
       "  <tbody>\n",
       "    <tr>\n",
       "      <th>1</th>\n",
       "      <td>10248</td>\n",
       "      <td>9.8</td>\n",
       "      <td>10</td>\n",
       "    </tr>\n",
       "    <tr>\n",
       "      <th>2</th>\n",
       "      <td>10248</td>\n",
       "      <td>34.8</td>\n",
       "      <td>5</td>\n",
       "    </tr>\n",
       "    <tr>\n",
       "      <th>3</th>\n",
       "      <td>10249</td>\n",
       "      <td>18.6</td>\n",
       "      <td>9</td>\n",
       "    </tr>\n",
       "    <tr>\n",
       "      <th>4</th>\n",
       "      <td>10249</td>\n",
       "      <td>42.4</td>\n",
       "      <td>40</td>\n",
       "    </tr>\n",
       "    <tr>\n",
       "      <th>5</th>\n",
       "      <td>10250</td>\n",
       "      <td>7.7</td>\n",
       "      <td>10</td>\n",
       "    </tr>\n",
       "    <tr>\n",
       "      <th>6</th>\n",
       "      <td>10250</td>\n",
       "      <td>42.4</td>\n",
       "      <td>35</td>\n",
       "    </tr>\n",
       "    <tr>\n",
       "      <th>7</th>\n",
       "      <td>10250</td>\n",
       "      <td>16.8</td>\n",
       "      <td>15</td>\n",
       "    </tr>\n",
       "    <tr>\n",
       "      <th>8</th>\n",
       "      <td>10251</td>\n",
       "      <td>16.8</td>\n",
       "      <td>6</td>\n",
       "    </tr>\n",
       "    <tr>\n",
       "      <th>9</th>\n",
       "      <td>10251</td>\n",
       "      <td>15.6</td>\n",
       "      <td>15</td>\n",
       "    </tr>\n",
       "    <tr>\n",
       "      <th>10</th>\n",
       "      <td>10251</td>\n",
       "      <td>16.8</td>\n",
       "      <td>20</td>\n",
       "    </tr>\n",
       "    <tr>\n",
       "      <th>11</th>\n",
       "      <td>10252</td>\n",
       "      <td>64.8</td>\n",
       "      <td>40</td>\n",
       "    </tr>\n",
       "    <tr>\n",
       "      <th>12</th>\n",
       "      <td>10252</td>\n",
       "      <td>2.0</td>\n",
       "      <td>25</td>\n",
       "    </tr>\n",
       "    <tr>\n",
       "      <th>13</th>\n",
       "      <td>10252</td>\n",
       "      <td>27.2</td>\n",
       "      <td>40</td>\n",
       "    </tr>\n",
       "    <tr>\n",
       "      <th>14</th>\n",
       "      <td>10253</td>\n",
       "      <td>10.0</td>\n",
       "      <td>20</td>\n",
       "    </tr>\n",
       "    <tr>\n",
       "      <th>15</th>\n",
       "      <td>10253</td>\n",
       "      <td>14.4</td>\n",
       "      <td>42</td>\n",
       "    </tr>\n",
       "    <tr>\n",
       "      <th>16</th>\n",
       "      <td>10253</td>\n",
       "      <td>16.0</td>\n",
       "      <td>40</td>\n",
       "    </tr>\n",
       "    <tr>\n",
       "      <th>17</th>\n",
       "      <td>10254</td>\n",
       "      <td>3.6</td>\n",
       "      <td>15</td>\n",
       "    </tr>\n",
       "    <tr>\n",
       "      <th>18</th>\n",
       "      <td>10254</td>\n",
       "      <td>19.2</td>\n",
       "      <td>21</td>\n",
       "    </tr>\n",
       "  </tbody>\n",
       "</table>\n",
       "</div>"
      ],
      "text/plain": [
       "    OrderID  UnitPrice  Quantity\n",
       "1     10248        9.8        10\n",
       "2     10248       34.8         5\n",
       "3     10249       18.6         9\n",
       "4     10249       42.4        40\n",
       "5     10250        7.7        10\n",
       "6     10250       42.4        35\n",
       "7     10250       16.8        15\n",
       "8     10251       16.8         6\n",
       "9     10251       15.6        15\n",
       "10    10251       16.8        20\n",
       "11    10252       64.8        40\n",
       "12    10252        2.0        25\n",
       "13    10252       27.2        40\n",
       "14    10253       10.0        20\n",
       "15    10253       14.4        42\n",
       "16    10253       16.0        40\n",
       "17    10254        3.6        15\n",
       "18    10254       19.2        21"
      ]
     },
     "execution_count": 110,
     "metadata": {},
     "output_type": "execute_result"
    }
   ],
   "source": [
    "retail.iloc[1:19,[0,2,3]]"
   ]
  },
  {
   "cell_type": "code",
   "execution_count": 118,
   "id": "37d1c507",
   "metadata": {},
   "outputs": [
    {
     "data": {
      "text/html": [
       "<div>\n",
       "<style scoped>\n",
       "    .dataframe tbody tr th:only-of-type {\n",
       "        vertical-align: middle;\n",
       "    }\n",
       "\n",
       "    .dataframe tbody tr th {\n",
       "        vertical-align: top;\n",
       "    }\n",
       "\n",
       "    .dataframe thead th {\n",
       "        text-align: right;\n",
       "    }\n",
       "</style>\n",
       "<table border=\"1\" class=\"dataframe\">\n",
       "  <thead>\n",
       "    <tr style=\"text-align: right;\">\n",
       "      <th></th>\n",
       "      <th>OrderID</th>\n",
       "      <th>ProductID</th>\n",
       "      <th>UnitPrice</th>\n",
       "      <th>Quantity</th>\n",
       "      <th>Discount</th>\n",
       "    </tr>\n",
       "  </thead>\n",
       "  <tbody>\n",
       "    <tr>\n",
       "      <th>5</th>\n",
       "      <td>10250</td>\n",
       "      <td>41</td>\n",
       "      <td>7.7</td>\n",
       "      <td>10</td>\n",
       "      <td>0.00</td>\n",
       "    </tr>\n",
       "    <tr>\n",
       "      <th>6</th>\n",
       "      <td>10250</td>\n",
       "      <td>51</td>\n",
       "      <td>42.4</td>\n",
       "      <td>35</td>\n",
       "      <td>0.15</td>\n",
       "    </tr>\n",
       "    <tr>\n",
       "      <th>7</th>\n",
       "      <td>10250</td>\n",
       "      <td>65</td>\n",
       "      <td>16.8</td>\n",
       "      <td>15</td>\n",
       "      <td>0.15</td>\n",
       "    </tr>\n",
       "  </tbody>\n",
       "</table>\n",
       "</div>"
      ],
      "text/plain": [
       "   OrderID  ProductID  UnitPrice  Quantity  Discount\n",
       "5    10250         41        7.7        10      0.00\n",
       "6    10250         51       42.4        35      0.15\n",
       "7    10250         65       16.8        15      0.15"
      ]
     },
     "execution_count": 118,
     "metadata": {},
     "output_type": "execute_result"
    }
   ],
   "source": [
    "# SELECT * from dbo.[Order Details] where OrderID = 10250\n",
    "retail.query('OrderID == 10250')"
   ]
  },
  {
   "cell_type": "code",
   "execution_count": 121,
   "id": "d79fa166",
   "metadata": {},
   "outputs": [
    {
     "data": {
      "text/html": [
       "<div>\n",
       "<style scoped>\n",
       "    .dataframe tbody tr th:only-of-type {\n",
       "        vertical-align: middle;\n",
       "    }\n",
       "\n",
       "    .dataframe tbody tr th {\n",
       "        vertical-align: top;\n",
       "    }\n",
       "\n",
       "    .dataframe thead th {\n",
       "        text-align: right;\n",
       "    }\n",
       "</style>\n",
       "<table border=\"1\" class=\"dataframe\">\n",
       "  <thead>\n",
       "    <tr style=\"text-align: right;\">\n",
       "      <th></th>\n",
       "      <th>OrderID</th>\n",
       "      <th>ProductID</th>\n",
       "      <th>UnitPrice</th>\n",
       "      <th>Quantity</th>\n",
       "      <th>Discount</th>\n",
       "    </tr>\n",
       "  </thead>\n",
       "  <tbody>\n",
       "    <tr>\n",
       "      <th>5</th>\n",
       "      <td>10250</td>\n",
       "      <td>41</td>\n",
       "      <td>7.7</td>\n",
       "      <td>10</td>\n",
       "      <td>0.00</td>\n",
       "    </tr>\n",
       "    <tr>\n",
       "      <th>6</th>\n",
       "      <td>10250</td>\n",
       "      <td>51</td>\n",
       "      <td>42.4</td>\n",
       "      <td>35</td>\n",
       "      <td>0.15</td>\n",
       "    </tr>\n",
       "    <tr>\n",
       "      <th>7</th>\n",
       "      <td>10250</td>\n",
       "      <td>65</td>\n",
       "      <td>16.8</td>\n",
       "      <td>15</td>\n",
       "      <td>0.15</td>\n",
       "    </tr>\n",
       "  </tbody>\n",
       "</table>\n",
       "</div>"
      ],
      "text/plain": [
       "   OrderID  ProductID  UnitPrice  Quantity  Discount\n",
       "5    10250         41        7.7        10      0.00\n",
       "6    10250         51       42.4        35      0.15\n",
       "7    10250         65       16.8        15      0.15"
      ]
     },
     "execution_count": 121,
     "metadata": {},
     "output_type": "execute_result"
    }
   ],
   "source": [
    "retail[retail['OrderID'] == 10250]"
   ]
  },
  {
   "cell_type": "code",
   "execution_count": 123,
   "id": "51669a1f",
   "metadata": {},
   "outputs": [
    {
     "data": {
      "text/html": [
       "<div>\n",
       "<style scoped>\n",
       "    .dataframe tbody tr th:only-of-type {\n",
       "        vertical-align: middle;\n",
       "    }\n",
       "\n",
       "    .dataframe tbody tr th {\n",
       "        vertical-align: top;\n",
       "    }\n",
       "\n",
       "    .dataframe thead th {\n",
       "        text-align: right;\n",
       "    }\n",
       "</style>\n",
       "<table border=\"1\" class=\"dataframe\">\n",
       "  <thead>\n",
       "    <tr style=\"text-align: right;\">\n",
       "      <th></th>\n",
       "      <th>OrderID</th>\n",
       "      <th>ProductID</th>\n",
       "      <th>UnitPrice</th>\n",
       "      <th>Quantity</th>\n",
       "      <th>Discount</th>\n",
       "    </tr>\n",
       "  </thead>\n",
       "  <tbody>\n",
       "    <tr>\n",
       "      <th>5</th>\n",
       "      <td>10250</td>\n",
       "      <td>41</td>\n",
       "      <td>7.7</td>\n",
       "      <td>10</td>\n",
       "      <td>0.00</td>\n",
       "    </tr>\n",
       "    <tr>\n",
       "      <th>6</th>\n",
       "      <td>10250</td>\n",
       "      <td>51</td>\n",
       "      <td>42.4</td>\n",
       "      <td>35</td>\n",
       "      <td>0.15</td>\n",
       "    </tr>\n",
       "    <tr>\n",
       "      <th>7</th>\n",
       "      <td>10250</td>\n",
       "      <td>65</td>\n",
       "      <td>16.8</td>\n",
       "      <td>15</td>\n",
       "      <td>0.15</td>\n",
       "    </tr>\n",
       "  </tbody>\n",
       "</table>\n",
       "</div>"
      ],
      "text/plain": [
       "   OrderID  ProductID  UnitPrice  Quantity  Discount\n",
       "5    10250         41        7.7        10      0.00\n",
       "6    10250         51       42.4        35      0.15\n",
       "7    10250         65       16.8        15      0.15"
      ]
     },
     "execution_count": 123,
     "metadata": {},
     "output_type": "execute_result"
    }
   ],
   "source": [
    "retail[retail.OrderID == 10250]"
   ]
  },
  {
   "cell_type": "code",
   "execution_count": 128,
   "id": "63f4412b",
   "metadata": {},
   "outputs": [
    {
     "data": {
      "text/html": [
       "<div>\n",
       "<style scoped>\n",
       "    .dataframe tbody tr th:only-of-type {\n",
       "        vertical-align: middle;\n",
       "    }\n",
       "\n",
       "    .dataframe tbody tr th {\n",
       "        vertical-align: top;\n",
       "    }\n",
       "\n",
       "    .dataframe thead th {\n",
       "        text-align: right;\n",
       "    }\n",
       "</style>\n",
       "<table border=\"1\" class=\"dataframe\">\n",
       "  <thead>\n",
       "    <tr style=\"text-align: right;\">\n",
       "      <th></th>\n",
       "      <th>OrderID</th>\n",
       "      <th>ProductID</th>\n",
       "      <th>UnitPrice</th>\n",
       "      <th>Quantity</th>\n",
       "      <th>Discount</th>\n",
       "    </tr>\n",
       "  </thead>\n",
       "  <tbody>\n",
       "    <tr>\n",
       "      <th>6</th>\n",
       "      <td>10250</td>\n",
       "      <td>51</td>\n",
       "      <td>42.4</td>\n",
       "      <td>35</td>\n",
       "      <td>0.15</td>\n",
       "    </tr>\n",
       "    <tr>\n",
       "      <th>7</th>\n",
       "      <td>10250</td>\n",
       "      <td>65</td>\n",
       "      <td>16.8</td>\n",
       "      <td>15</td>\n",
       "      <td>0.15</td>\n",
       "    </tr>\n",
       "  </tbody>\n",
       "</table>\n",
       "</div>"
      ],
      "text/plain": [
       "   OrderID  ProductID  UnitPrice  Quantity  Discount\n",
       "6    10250         51       42.4        35      0.15\n",
       "7    10250         65       16.8        15      0.15"
      ]
     },
     "execution_count": 128,
     "metadata": {},
     "output_type": "execute_result"
    }
   ],
   "source": [
    "# SELECT * from dbo.[Order Details] where OrderID = 10250 and UnitPrice > 8\n",
    "retail.query('OrderID == 10250 and UnitPrice > 8')"
   ]
  },
  {
   "cell_type": "code",
   "execution_count": 147,
   "id": "2620acac",
   "metadata": {},
   "outputs": [
    {
     "data": {
      "text/html": [
       "<div>\n",
       "<style scoped>\n",
       "    .dataframe tbody tr th:only-of-type {\n",
       "        vertical-align: middle;\n",
       "    }\n",
       "\n",
       "    .dataframe tbody tr th {\n",
       "        vertical-align: top;\n",
       "    }\n",
       "\n",
       "    .dataframe thead th {\n",
       "        text-align: right;\n",
       "    }\n",
       "</style>\n",
       "<table border=\"1\" class=\"dataframe\">\n",
       "  <thead>\n",
       "    <tr style=\"text-align: right;\">\n",
       "      <th></th>\n",
       "      <th>OrderID</th>\n",
       "      <th>ProductID</th>\n",
       "      <th>UnitPrice</th>\n",
       "      <th>Quantity</th>\n",
       "      <th>Discount</th>\n",
       "    </tr>\n",
       "  </thead>\n",
       "  <tbody>\n",
       "    <tr>\n",
       "      <th>6</th>\n",
       "      <td>10250</td>\n",
       "      <td>51</td>\n",
       "      <td>42.4</td>\n",
       "      <td>35</td>\n",
       "      <td>0.15</td>\n",
       "    </tr>\n",
       "    <tr>\n",
       "      <th>7</th>\n",
       "      <td>10250</td>\n",
       "      <td>65</td>\n",
       "      <td>16.8</td>\n",
       "      <td>15</td>\n",
       "      <td>0.15</td>\n",
       "    </tr>\n",
       "  </tbody>\n",
       "</table>\n",
       "</div>"
      ],
      "text/plain": [
       "   OrderID  ProductID  UnitPrice  Quantity  Discount\n",
       "6    10250         51       42.4        35      0.15\n",
       "7    10250         65       16.8        15      0.15"
      ]
     },
     "execution_count": 147,
     "metadata": {},
     "output_type": "execute_result"
    }
   ],
   "source": [
    "# SELECT * from dbo.[Order Details] where OrderID = 10250 and UnitPrice > 8\n",
    "retail[(retail['OrderID'] == 10250) & (retail['UnitPrice'] > 8)]"
   ]
  },
  {
   "cell_type": "code",
   "execution_count": 148,
   "id": "591276c3",
   "metadata": {},
   "outputs": [
    {
     "data": {
      "text/html": [
       "<div>\n",
       "<style scoped>\n",
       "    .dataframe tbody tr th:only-of-type {\n",
       "        vertical-align: middle;\n",
       "    }\n",
       "\n",
       "    .dataframe tbody tr th {\n",
       "        vertical-align: top;\n",
       "    }\n",
       "\n",
       "    .dataframe thead th {\n",
       "        text-align: right;\n",
       "    }\n",
       "</style>\n",
       "<table border=\"1\" class=\"dataframe\">\n",
       "  <thead>\n",
       "    <tr style=\"text-align: right;\">\n",
       "      <th></th>\n",
       "      <th>OrderID</th>\n",
       "      <th>ProductID</th>\n",
       "      <th>UnitPrice</th>\n",
       "      <th>Quantity</th>\n",
       "      <th>Discount</th>\n",
       "    </tr>\n",
       "  </thead>\n",
       "  <tbody>\n",
       "    <tr>\n",
       "      <th>0</th>\n",
       "      <td>10248</td>\n",
       "      <td>11</td>\n",
       "      <td>14.00</td>\n",
       "      <td>12</td>\n",
       "      <td>0.00</td>\n",
       "    </tr>\n",
       "    <tr>\n",
       "      <th>1</th>\n",
       "      <td>10248</td>\n",
       "      <td>42</td>\n",
       "      <td>9.80</td>\n",
       "      <td>10</td>\n",
       "      <td>0.00</td>\n",
       "    </tr>\n",
       "    <tr>\n",
       "      <th>2</th>\n",
       "      <td>10248</td>\n",
       "      <td>72</td>\n",
       "      <td>34.80</td>\n",
       "      <td>5</td>\n",
       "      <td>0.00</td>\n",
       "    </tr>\n",
       "    <tr>\n",
       "      <th>3</th>\n",
       "      <td>10249</td>\n",
       "      <td>14</td>\n",
       "      <td>18.60</td>\n",
       "      <td>9</td>\n",
       "      <td>0.00</td>\n",
       "    </tr>\n",
       "    <tr>\n",
       "      <th>4</th>\n",
       "      <td>10249</td>\n",
       "      <td>51</td>\n",
       "      <td>42.40</td>\n",
       "      <td>40</td>\n",
       "      <td>0.00</td>\n",
       "    </tr>\n",
       "    <tr>\n",
       "      <th>...</th>\n",
       "      <td>...</td>\n",
       "      <td>...</td>\n",
       "      <td>...</td>\n",
       "      <td>...</td>\n",
       "      <td>...</td>\n",
       "    </tr>\n",
       "    <tr>\n",
       "      <th>2149</th>\n",
       "      <td>11077</td>\n",
       "      <td>60</td>\n",
       "      <td>34.00</td>\n",
       "      <td>2</td>\n",
       "      <td>0.06</td>\n",
       "    </tr>\n",
       "    <tr>\n",
       "      <th>2150</th>\n",
       "      <td>11077</td>\n",
       "      <td>64</td>\n",
       "      <td>33.25</td>\n",
       "      <td>2</td>\n",
       "      <td>0.03</td>\n",
       "    </tr>\n",
       "    <tr>\n",
       "      <th>2151</th>\n",
       "      <td>11077</td>\n",
       "      <td>66</td>\n",
       "      <td>17.00</td>\n",
       "      <td>1</td>\n",
       "      <td>0.00</td>\n",
       "    </tr>\n",
       "    <tr>\n",
       "      <th>2152</th>\n",
       "      <td>11077</td>\n",
       "      <td>73</td>\n",
       "      <td>15.00</td>\n",
       "      <td>2</td>\n",
       "      <td>0.01</td>\n",
       "    </tr>\n",
       "    <tr>\n",
       "      <th>2154</th>\n",
       "      <td>11077</td>\n",
       "      <td>77</td>\n",
       "      <td>13.00</td>\n",
       "      <td>2</td>\n",
       "      <td>0.00</td>\n",
       "    </tr>\n",
       "  </tbody>\n",
       "</table>\n",
       "<p>1862 rows × 5 columns</p>\n",
       "</div>"
      ],
      "text/plain": [
       "      OrderID  ProductID  UnitPrice  Quantity  Discount\n",
       "0       10248         11      14.00        12      0.00\n",
       "1       10248         42       9.80        10      0.00\n",
       "2       10248         72      34.80         5      0.00\n",
       "3       10249         14      18.60         9      0.00\n",
       "4       10249         51      42.40        40      0.00\n",
       "...       ...        ...        ...       ...       ...\n",
       "2149    11077         60      34.00         2      0.06\n",
       "2150    11077         64      33.25         2      0.03\n",
       "2151    11077         66      17.00         1      0.00\n",
       "2152    11077         73      15.00         2      0.01\n",
       "2154    11077         77      13.00         2      0.00\n",
       "\n",
       "[1862 rows x 5 columns]"
      ]
     },
     "execution_count": 148,
     "metadata": {},
     "output_type": "execute_result"
    }
   ],
   "source": [
    "# SELECT * from dbo.[Order Details] where OrderID = 10250 or UnitPrice > 8\n",
    "retail[(retail['OrderID'] == 10250) | (retail['UnitPrice'] > 8)]"
   ]
  },
  {
   "cell_type": "code",
   "execution_count": 150,
   "id": "c5e3e8f9",
   "metadata": {},
   "outputs": [
    {
     "data": {
      "text/html": [
       "<div>\n",
       "<style scoped>\n",
       "    .dataframe tbody tr th:only-of-type {\n",
       "        vertical-align: middle;\n",
       "    }\n",
       "\n",
       "    .dataframe tbody tr th {\n",
       "        vertical-align: top;\n",
       "    }\n",
       "\n",
       "    .dataframe thead th {\n",
       "        text-align: right;\n",
       "    }\n",
       "</style>\n",
       "<table border=\"1\" class=\"dataframe\">\n",
       "  <thead>\n",
       "    <tr style=\"text-align: right;\">\n",
       "      <th></th>\n",
       "      <th>OrderID</th>\n",
       "      <th>ProductID</th>\n",
       "      <th>UnitPrice</th>\n",
       "      <th>Quantity</th>\n",
       "      <th>Discount</th>\n",
       "    </tr>\n",
       "  </thead>\n",
       "  <tbody>\n",
       "    <tr>\n",
       "      <th>0</th>\n",
       "      <td>10248</td>\n",
       "      <td>11</td>\n",
       "      <td>14.00</td>\n",
       "      <td>12</td>\n",
       "      <td>0.00</td>\n",
       "    </tr>\n",
       "    <tr>\n",
       "      <th>1</th>\n",
       "      <td>10248</td>\n",
       "      <td>42</td>\n",
       "      <td>9.80</td>\n",
       "      <td>10</td>\n",
       "      <td>0.00</td>\n",
       "    </tr>\n",
       "    <tr>\n",
       "      <th>2</th>\n",
       "      <td>10248</td>\n",
       "      <td>72</td>\n",
       "      <td>34.80</td>\n",
       "      <td>5</td>\n",
       "      <td>0.00</td>\n",
       "    </tr>\n",
       "    <tr>\n",
       "      <th>3</th>\n",
       "      <td>10249</td>\n",
       "      <td>14</td>\n",
       "      <td>18.60</td>\n",
       "      <td>9</td>\n",
       "      <td>0.00</td>\n",
       "    </tr>\n",
       "    <tr>\n",
       "      <th>4</th>\n",
       "      <td>10249</td>\n",
       "      <td>51</td>\n",
       "      <td>42.40</td>\n",
       "      <td>40</td>\n",
       "      <td>0.00</td>\n",
       "    </tr>\n",
       "    <tr>\n",
       "      <th>...</th>\n",
       "      <td>...</td>\n",
       "      <td>...</td>\n",
       "      <td>...</td>\n",
       "      <td>...</td>\n",
       "      <td>...</td>\n",
       "    </tr>\n",
       "    <tr>\n",
       "      <th>2150</th>\n",
       "      <td>11077</td>\n",
       "      <td>64</td>\n",
       "      <td>33.25</td>\n",
       "      <td>2</td>\n",
       "      <td>0.03</td>\n",
       "    </tr>\n",
       "    <tr>\n",
       "      <th>2151</th>\n",
       "      <td>11077</td>\n",
       "      <td>66</td>\n",
       "      <td>17.00</td>\n",
       "      <td>1</td>\n",
       "      <td>0.00</td>\n",
       "    </tr>\n",
       "    <tr>\n",
       "      <th>2152</th>\n",
       "      <td>11077</td>\n",
       "      <td>73</td>\n",
       "      <td>15.00</td>\n",
       "      <td>2</td>\n",
       "      <td>0.01</td>\n",
       "    </tr>\n",
       "    <tr>\n",
       "      <th>2153</th>\n",
       "      <td>11077</td>\n",
       "      <td>75</td>\n",
       "      <td>7.75</td>\n",
       "      <td>4</td>\n",
       "      <td>0.00</td>\n",
       "    </tr>\n",
       "    <tr>\n",
       "      <th>2154</th>\n",
       "      <td>11077</td>\n",
       "      <td>77</td>\n",
       "      <td>13.00</td>\n",
       "      <td>2</td>\n",
       "      <td>0.00</td>\n",
       "    </tr>\n",
       "  </tbody>\n",
       "</table>\n",
       "<p>2155 rows × 5 columns</p>\n",
       "</div>"
      ],
      "text/plain": [
       "      OrderID  ProductID  UnitPrice  Quantity  Discount\n",
       "0       10248         11      14.00        12      0.00\n",
       "1       10248         42       9.80        10      0.00\n",
       "2       10248         72      34.80         5      0.00\n",
       "3       10249         14      18.60         9      0.00\n",
       "4       10249         51      42.40        40      0.00\n",
       "...       ...        ...        ...       ...       ...\n",
       "2150    11077         64      33.25         2      0.03\n",
       "2151    11077         66      17.00         1      0.00\n",
       "2152    11077         73      15.00         2      0.01\n",
       "2153    11077         75       7.75         4      0.00\n",
       "2154    11077         77      13.00         2      0.00\n",
       "\n",
       "[2155 rows x 5 columns]"
      ]
     },
     "execution_count": 150,
     "metadata": {},
     "output_type": "execute_result"
    }
   ],
   "source": [
    "# SELECT * from dbo.[Order Details] where OrderID IS NOT NULL\n",
    "retail[retail['OrderID'].notnull()]"
   ]
  },
  {
   "cell_type": "code",
   "execution_count": 154,
   "id": "72f27c9e",
   "metadata": {},
   "outputs": [
    {
     "data": {
      "text/html": [
       "<div>\n",
       "<style scoped>\n",
       "    .dataframe tbody tr th:only-of-type {\n",
       "        vertical-align: middle;\n",
       "    }\n",
       "\n",
       "    .dataframe tbody tr th {\n",
       "        vertical-align: top;\n",
       "    }\n",
       "\n",
       "    .dataframe thead th {\n",
       "        text-align: right;\n",
       "    }\n",
       "</style>\n",
       "<table border=\"1\" class=\"dataframe\">\n",
       "  <thead>\n",
       "    <tr style=\"text-align: right;\">\n",
       "      <th></th>\n",
       "      <th>OrderID</th>\n",
       "      <th>ProductID</th>\n",
       "      <th>UnitPrice</th>\n",
       "      <th>Quantity</th>\n",
       "      <th>Discount</th>\n",
       "    </tr>\n",
       "  </thead>\n",
       "  <tbody>\n",
       "    <tr>\n",
       "      <th>0</th>\n",
       "      <td>10248</td>\n",
       "      <td>11</td>\n",
       "      <td>14.00</td>\n",
       "      <td>12</td>\n",
       "      <td>0.00</td>\n",
       "    </tr>\n",
       "    <tr>\n",
       "      <th>1</th>\n",
       "      <td>10248</td>\n",
       "      <td>42</td>\n",
       "      <td>9.80</td>\n",
       "      <td>10</td>\n",
       "      <td>0.00</td>\n",
       "    </tr>\n",
       "    <tr>\n",
       "      <th>2</th>\n",
       "      <td>10248</td>\n",
       "      <td>72</td>\n",
       "      <td>34.80</td>\n",
       "      <td>5</td>\n",
       "      <td>0.00</td>\n",
       "    </tr>\n",
       "    <tr>\n",
       "      <th>3</th>\n",
       "      <td>10249</td>\n",
       "      <td>14</td>\n",
       "      <td>18.60</td>\n",
       "      <td>9</td>\n",
       "      <td>0.00</td>\n",
       "    </tr>\n",
       "    <tr>\n",
       "      <th>4</th>\n",
       "      <td>10249</td>\n",
       "      <td>51</td>\n",
       "      <td>42.40</td>\n",
       "      <td>40</td>\n",
       "      <td>0.00</td>\n",
       "    </tr>\n",
       "    <tr>\n",
       "      <th>...</th>\n",
       "      <td>...</td>\n",
       "      <td>...</td>\n",
       "      <td>...</td>\n",
       "      <td>...</td>\n",
       "      <td>...</td>\n",
       "    </tr>\n",
       "    <tr>\n",
       "      <th>2150</th>\n",
       "      <td>11077</td>\n",
       "      <td>64</td>\n",
       "      <td>33.25</td>\n",
       "      <td>2</td>\n",
       "      <td>0.03</td>\n",
       "    </tr>\n",
       "    <tr>\n",
       "      <th>2151</th>\n",
       "      <td>11077</td>\n",
       "      <td>66</td>\n",
       "      <td>17.00</td>\n",
       "      <td>1</td>\n",
       "      <td>0.00</td>\n",
       "    </tr>\n",
       "    <tr>\n",
       "      <th>2152</th>\n",
       "      <td>11077</td>\n",
       "      <td>73</td>\n",
       "      <td>15.00</td>\n",
       "      <td>2</td>\n",
       "      <td>0.01</td>\n",
       "    </tr>\n",
       "    <tr>\n",
       "      <th>2153</th>\n",
       "      <td>11077</td>\n",
       "      <td>75</td>\n",
       "      <td>7.75</td>\n",
       "      <td>4</td>\n",
       "      <td>0.00</td>\n",
       "    </tr>\n",
       "    <tr>\n",
       "      <th>2154</th>\n",
       "      <td>11077</td>\n",
       "      <td>77</td>\n",
       "      <td>13.00</td>\n",
       "      <td>2</td>\n",
       "      <td>0.00</td>\n",
       "    </tr>\n",
       "  </tbody>\n",
       "</table>\n",
       "<p>2155 rows × 5 columns</p>\n",
       "</div>"
      ],
      "text/plain": [
       "      OrderID  ProductID  UnitPrice  Quantity  Discount\n",
       "0       10248         11      14.00        12      0.00\n",
       "1       10248         42       9.80        10      0.00\n",
       "2       10248         72      34.80         5      0.00\n",
       "3       10249         14      18.60         9      0.00\n",
       "4       10249         51      42.40        40      0.00\n",
       "...       ...        ...        ...       ...       ...\n",
       "2150    11077         64      33.25         2      0.03\n",
       "2151    11077         66      17.00         1      0.00\n",
       "2152    11077         73      15.00         2      0.01\n",
       "2153    11077         75       7.75         4      0.00\n",
       "2154    11077         77      13.00         2      0.00\n",
       "\n",
       "[2155 rows x 5 columns]"
      ]
     },
     "execution_count": 154,
     "metadata": {},
     "output_type": "execute_result"
    }
   ],
   "source": [
    "retail[retail.OrderID != None]"
   ]
  },
  {
   "cell_type": "code",
   "execution_count": 156,
   "id": "4b7133a0",
   "metadata": {},
   "outputs": [
    {
     "data": {
      "text/html": [
       "<div>\n",
       "<style scoped>\n",
       "    .dataframe tbody tr th:only-of-type {\n",
       "        vertical-align: middle;\n",
       "    }\n",
       "\n",
       "    .dataframe tbody tr th {\n",
       "        vertical-align: top;\n",
       "    }\n",
       "\n",
       "    .dataframe thead th {\n",
       "        text-align: right;\n",
       "    }\n",
       "</style>\n",
       "<table border=\"1\" class=\"dataframe\">\n",
       "  <thead>\n",
       "    <tr style=\"text-align: right;\">\n",
       "      <th></th>\n",
       "      <th>OrderID</th>\n",
       "      <th>ProductID</th>\n",
       "      <th>UnitPrice</th>\n",
       "      <th>Quantity</th>\n",
       "      <th>Discount</th>\n",
       "    </tr>\n",
       "  </thead>\n",
       "  <tbody>\n",
       "    <tr>\n",
       "      <th>0</th>\n",
       "      <td>10248</td>\n",
       "      <td>11</td>\n",
       "      <td>14.00</td>\n",
       "      <td>12</td>\n",
       "      <td>0.00</td>\n",
       "    </tr>\n",
       "    <tr>\n",
       "      <th>1</th>\n",
       "      <td>10248</td>\n",
       "      <td>42</td>\n",
       "      <td>9.80</td>\n",
       "      <td>10</td>\n",
       "      <td>0.00</td>\n",
       "    </tr>\n",
       "    <tr>\n",
       "      <th>2</th>\n",
       "      <td>10248</td>\n",
       "      <td>72</td>\n",
       "      <td>34.80</td>\n",
       "      <td>5</td>\n",
       "      <td>0.00</td>\n",
       "    </tr>\n",
       "    <tr>\n",
       "      <th>3</th>\n",
       "      <td>10249</td>\n",
       "      <td>14</td>\n",
       "      <td>18.60</td>\n",
       "      <td>9</td>\n",
       "      <td>0.00</td>\n",
       "    </tr>\n",
       "    <tr>\n",
       "      <th>4</th>\n",
       "      <td>10249</td>\n",
       "      <td>51</td>\n",
       "      <td>42.40</td>\n",
       "      <td>40</td>\n",
       "      <td>0.00</td>\n",
       "    </tr>\n",
       "    <tr>\n",
       "      <th>...</th>\n",
       "      <td>...</td>\n",
       "      <td>...</td>\n",
       "      <td>...</td>\n",
       "      <td>...</td>\n",
       "      <td>...</td>\n",
       "    </tr>\n",
       "    <tr>\n",
       "      <th>2150</th>\n",
       "      <td>11077</td>\n",
       "      <td>64</td>\n",
       "      <td>33.25</td>\n",
       "      <td>2</td>\n",
       "      <td>0.03</td>\n",
       "    </tr>\n",
       "    <tr>\n",
       "      <th>2151</th>\n",
       "      <td>11077</td>\n",
       "      <td>66</td>\n",
       "      <td>17.00</td>\n",
       "      <td>1</td>\n",
       "      <td>0.00</td>\n",
       "    </tr>\n",
       "    <tr>\n",
       "      <th>2152</th>\n",
       "      <td>11077</td>\n",
       "      <td>73</td>\n",
       "      <td>15.00</td>\n",
       "      <td>2</td>\n",
       "      <td>0.01</td>\n",
       "    </tr>\n",
       "    <tr>\n",
       "      <th>2153</th>\n",
       "      <td>11077</td>\n",
       "      <td>75</td>\n",
       "      <td>7.75</td>\n",
       "      <td>4</td>\n",
       "      <td>0.00</td>\n",
       "    </tr>\n",
       "    <tr>\n",
       "      <th>2154</th>\n",
       "      <td>11077</td>\n",
       "      <td>77</td>\n",
       "      <td>13.00</td>\n",
       "      <td>2</td>\n",
       "      <td>0.00</td>\n",
       "    </tr>\n",
       "  </tbody>\n",
       "</table>\n",
       "<p>2155 rows × 5 columns</p>\n",
       "</div>"
      ],
      "text/plain": [
       "      OrderID  ProductID  UnitPrice  Quantity  Discount\n",
       "0       10248         11      14.00        12      0.00\n",
       "1       10248         42       9.80        10      0.00\n",
       "2       10248         72      34.80         5      0.00\n",
       "3       10249         14      18.60         9      0.00\n",
       "4       10249         51      42.40        40      0.00\n",
       "...       ...        ...        ...       ...       ...\n",
       "2150    11077         64      33.25         2      0.03\n",
       "2151    11077         66      17.00         1      0.00\n",
       "2152    11077         73      15.00         2      0.01\n",
       "2153    11077         75       7.75         4      0.00\n",
       "2154    11077         77      13.00         2      0.00\n",
       "\n",
       "[2155 rows x 5 columns]"
      ]
     },
     "execution_count": 156,
     "metadata": {},
     "output_type": "execute_result"
    }
   ],
   "source": [
    "retail[retail.OrderID != '']"
   ]
  },
  {
   "cell_type": "code",
   "execution_count": 160,
   "id": "7b3bc5cd",
   "metadata": {},
   "outputs": [
    {
     "data": {
      "text/plain": [
       "OrderID\n",
       "10248     3\n",
       "10249     2\n",
       "10250     3\n",
       "10251     3\n",
       "10252     3\n",
       "         ..\n",
       "11073     2\n",
       "11074     1\n",
       "11075     3\n",
       "11076     3\n",
       "11077    25\n",
       "Length: 830, dtype: int64"
      ]
     },
     "execution_count": 160,
     "metadata": {},
     "output_type": "execute_result"
    }
   ],
   "source": [
    "# SELECT orderid, count(*) from dbo.[Order Details] group by OrderID\n",
    "retail.groupby(['OrderID']).size()"
   ]
  },
  {
   "cell_type": "code",
   "execution_count": 165,
   "id": "11a1d613",
   "metadata": {},
   "outputs": [],
   "source": [
    "# SELECT *, Quantity*UnitPrice*(1-Discount) AS TotalSales FROM dbo.[Order Details]\n",
    "retail['TotalSales'] = retail.Quantity*retail.UnitPrice*(1-retail.Discount)"
   ]
  },
  {
   "cell_type": "code",
   "execution_count": 166,
   "id": "a286e61e",
   "metadata": {},
   "outputs": [
    {
     "data": {
      "text/html": [
       "<div>\n",
       "<style scoped>\n",
       "    .dataframe tbody tr th:only-of-type {\n",
       "        vertical-align: middle;\n",
       "    }\n",
       "\n",
       "    .dataframe tbody tr th {\n",
       "        vertical-align: top;\n",
       "    }\n",
       "\n",
       "    .dataframe thead th {\n",
       "        text-align: right;\n",
       "    }\n",
       "</style>\n",
       "<table border=\"1\" class=\"dataframe\">\n",
       "  <thead>\n",
       "    <tr style=\"text-align: right;\">\n",
       "      <th></th>\n",
       "      <th>OrderID</th>\n",
       "      <th>ProductID</th>\n",
       "      <th>UnitPrice</th>\n",
       "      <th>Quantity</th>\n",
       "      <th>Discount</th>\n",
       "      <th>TotalSales</th>\n",
       "    </tr>\n",
       "  </thead>\n",
       "  <tbody>\n",
       "    <tr>\n",
       "      <th>0</th>\n",
       "      <td>10248</td>\n",
       "      <td>11</td>\n",
       "      <td>14.00</td>\n",
       "      <td>12</td>\n",
       "      <td>0.00</td>\n",
       "      <td>168.000</td>\n",
       "    </tr>\n",
       "    <tr>\n",
       "      <th>1</th>\n",
       "      <td>10248</td>\n",
       "      <td>42</td>\n",
       "      <td>9.80</td>\n",
       "      <td>10</td>\n",
       "      <td>0.00</td>\n",
       "      <td>98.000</td>\n",
       "    </tr>\n",
       "    <tr>\n",
       "      <th>2</th>\n",
       "      <td>10248</td>\n",
       "      <td>72</td>\n",
       "      <td>34.80</td>\n",
       "      <td>5</td>\n",
       "      <td>0.00</td>\n",
       "      <td>174.000</td>\n",
       "    </tr>\n",
       "    <tr>\n",
       "      <th>3</th>\n",
       "      <td>10249</td>\n",
       "      <td>14</td>\n",
       "      <td>18.60</td>\n",
       "      <td>9</td>\n",
       "      <td>0.00</td>\n",
       "      <td>167.400</td>\n",
       "    </tr>\n",
       "    <tr>\n",
       "      <th>4</th>\n",
       "      <td>10249</td>\n",
       "      <td>51</td>\n",
       "      <td>42.40</td>\n",
       "      <td>40</td>\n",
       "      <td>0.00</td>\n",
       "      <td>1696.000</td>\n",
       "    </tr>\n",
       "    <tr>\n",
       "      <th>...</th>\n",
       "      <td>...</td>\n",
       "      <td>...</td>\n",
       "      <td>...</td>\n",
       "      <td>...</td>\n",
       "      <td>...</td>\n",
       "      <td>...</td>\n",
       "    </tr>\n",
       "    <tr>\n",
       "      <th>2150</th>\n",
       "      <td>11077</td>\n",
       "      <td>64</td>\n",
       "      <td>33.25</td>\n",
       "      <td>2</td>\n",
       "      <td>0.03</td>\n",
       "      <td>64.505</td>\n",
       "    </tr>\n",
       "    <tr>\n",
       "      <th>2151</th>\n",
       "      <td>11077</td>\n",
       "      <td>66</td>\n",
       "      <td>17.00</td>\n",
       "      <td>1</td>\n",
       "      <td>0.00</td>\n",
       "      <td>17.000</td>\n",
       "    </tr>\n",
       "    <tr>\n",
       "      <th>2152</th>\n",
       "      <td>11077</td>\n",
       "      <td>73</td>\n",
       "      <td>15.00</td>\n",
       "      <td>2</td>\n",
       "      <td>0.01</td>\n",
       "      <td>29.700</td>\n",
       "    </tr>\n",
       "    <tr>\n",
       "      <th>2153</th>\n",
       "      <td>11077</td>\n",
       "      <td>75</td>\n",
       "      <td>7.75</td>\n",
       "      <td>4</td>\n",
       "      <td>0.00</td>\n",
       "      <td>31.000</td>\n",
       "    </tr>\n",
       "    <tr>\n",
       "      <th>2154</th>\n",
       "      <td>11077</td>\n",
       "      <td>77</td>\n",
       "      <td>13.00</td>\n",
       "      <td>2</td>\n",
       "      <td>0.00</td>\n",
       "      <td>26.000</td>\n",
       "    </tr>\n",
       "  </tbody>\n",
       "</table>\n",
       "<p>2155 rows × 6 columns</p>\n",
       "</div>"
      ],
      "text/plain": [
       "      OrderID  ProductID  UnitPrice  Quantity  Discount  TotalSales\n",
       "0       10248         11      14.00        12      0.00     168.000\n",
       "1       10248         42       9.80        10      0.00      98.000\n",
       "2       10248         72      34.80         5      0.00     174.000\n",
       "3       10249         14      18.60         9      0.00     167.400\n",
       "4       10249         51      42.40        40      0.00    1696.000\n",
       "...       ...        ...        ...       ...       ...         ...\n",
       "2150    11077         64      33.25         2      0.03      64.505\n",
       "2151    11077         66      17.00         1      0.00      17.000\n",
       "2152    11077         73      15.00         2      0.01      29.700\n",
       "2153    11077         75       7.75         4      0.00      31.000\n",
       "2154    11077         77      13.00         2      0.00      26.000\n",
       "\n",
       "[2155 rows x 6 columns]"
      ]
     },
     "execution_count": 166,
     "metadata": {},
     "output_type": "execute_result"
    }
   ],
   "source": [
    "retail"
   ]
  },
  {
   "cell_type": "code",
   "execution_count": 175,
   "id": "fc5a2fa4",
   "metadata": {},
   "outputs": [
    {
     "data": {
      "text/html": [
       "<div>\n",
       "<style scoped>\n",
       "    .dataframe tbody tr th:only-of-type {\n",
       "        vertical-align: middle;\n",
       "    }\n",
       "\n",
       "    .dataframe tbody tr th {\n",
       "        vertical-align: top;\n",
       "    }\n",
       "\n",
       "    .dataframe thead tr th {\n",
       "        text-align: left;\n",
       "    }\n",
       "\n",
       "    .dataframe thead tr:last-of-type th {\n",
       "        text-align: right;\n",
       "    }\n",
       "</style>\n",
       "<table border=\"1\" class=\"dataframe\">\n",
       "  <thead>\n",
       "    <tr>\n",
       "      <th></th>\n",
       "      <th colspan=\"2\" halign=\"left\">TotalSales</th>\n",
       "    </tr>\n",
       "    <tr>\n",
       "      <th></th>\n",
       "      <th>mean</th>\n",
       "      <th>count</th>\n",
       "    </tr>\n",
       "    <tr>\n",
       "      <th>OrderID</th>\n",
       "      <th></th>\n",
       "      <th></th>\n",
       "    </tr>\n",
       "  </thead>\n",
       "  <tbody>\n",
       "    <tr>\n",
       "      <th>10248</th>\n",
       "      <td>146.666667</td>\n",
       "      <td>3</td>\n",
       "    </tr>\n",
       "    <tr>\n",
       "      <th>10249</th>\n",
       "      <td>931.700000</td>\n",
       "      <td>2</td>\n",
       "    </tr>\n",
       "    <tr>\n",
       "      <th>10250</th>\n",
       "      <td>517.533330</td>\n",
       "      <td>3</td>\n",
       "    </tr>\n",
       "    <tr>\n",
       "      <th>10251</th>\n",
       "      <td>218.020000</td>\n",
       "      <td>3</td>\n",
       "    </tr>\n",
       "    <tr>\n",
       "      <th>10252</th>\n",
       "      <td>1199.299999</td>\n",
       "      <td>3</td>\n",
       "    </tr>\n",
       "    <tr>\n",
       "      <th>...</th>\n",
       "      <td>...</td>\n",
       "      <td>...</td>\n",
       "    </tr>\n",
       "    <tr>\n",
       "      <th>11073</th>\n",
       "      <td>150.000000</td>\n",
       "      <td>2</td>\n",
       "    </tr>\n",
       "    <tr>\n",
       "      <th>11074</th>\n",
       "      <td>232.085000</td>\n",
       "      <td>1</td>\n",
       "    </tr>\n",
       "    <tr>\n",
       "      <th>11075</th>\n",
       "      <td>166.033332</td>\n",
       "      <td>3</td>\n",
       "    </tr>\n",
       "    <tr>\n",
       "      <th>11076</th>\n",
       "      <td>264.250000</td>\n",
       "      <td>3</td>\n",
       "    </tr>\n",
       "    <tr>\n",
       "      <th>11077</th>\n",
       "      <td>50.228820</td>\n",
       "      <td>25</td>\n",
       "    </tr>\n",
       "  </tbody>\n",
       "</table>\n",
       "<p>830 rows × 2 columns</p>\n",
       "</div>"
      ],
      "text/plain": [
       "          TotalSales      \n",
       "                mean count\n",
       "OrderID                   \n",
       "10248     146.666667     3\n",
       "10249     931.700000     2\n",
       "10250     517.533330     3\n",
       "10251     218.020000     3\n",
       "10252    1199.299999     3\n",
       "...              ...   ...\n",
       "11073     150.000000     2\n",
       "11074     232.085000     1\n",
       "11075     166.033332     3\n",
       "11076     264.250000     3\n",
       "11077      50.228820    25\n",
       "\n",
       "[830 rows x 2 columns]"
      ]
     },
     "execution_count": 175,
     "metadata": {},
     "output_type": "execute_result"
    }
   ],
   "source": [
    "# SELECT orderid, AVG(Quantity*UnitPrice*(1-Discount)) FROM dbo.[Order Details] GROUP BY orderid\n",
    "retail.groupby('OrderID').agg({'TotalSales':['mean','count']})"
   ]
  },
  {
   "cell_type": "code",
   "execution_count": 177,
   "id": "7984a9e7",
   "metadata": {},
   "outputs": [
    {
     "data": {
      "text/html": [
       "<div>\n",
       "<style scoped>\n",
       "    .dataframe tbody tr th:only-of-type {\n",
       "        vertical-align: middle;\n",
       "    }\n",
       "\n",
       "    .dataframe tbody tr th {\n",
       "        vertical-align: top;\n",
       "    }\n",
       "\n",
       "    .dataframe thead th {\n",
       "        text-align: right;\n",
       "    }\n",
       "</style>\n",
       "<table border=\"1\" class=\"dataframe\">\n",
       "  <thead>\n",
       "    <tr style=\"text-align: right;\">\n",
       "      <th></th>\n",
       "      <th>TotalSales</th>\n",
       "      <th>OrderID</th>\n",
       "    </tr>\n",
       "    <tr>\n",
       "      <th>OrderID</th>\n",
       "      <th></th>\n",
       "      <th></th>\n",
       "    </tr>\n",
       "  </thead>\n",
       "  <tbody>\n",
       "    <tr>\n",
       "      <th>10248</th>\n",
       "      <td>146.666667</td>\n",
       "      <td>3</td>\n",
       "    </tr>\n",
       "    <tr>\n",
       "      <th>10249</th>\n",
       "      <td>931.700000</td>\n",
       "      <td>2</td>\n",
       "    </tr>\n",
       "    <tr>\n",
       "      <th>10250</th>\n",
       "      <td>517.533330</td>\n",
       "      <td>3</td>\n",
       "    </tr>\n",
       "    <tr>\n",
       "      <th>10251</th>\n",
       "      <td>218.020000</td>\n",
       "      <td>3</td>\n",
       "    </tr>\n",
       "    <tr>\n",
       "      <th>10252</th>\n",
       "      <td>1199.299999</td>\n",
       "      <td>3</td>\n",
       "    </tr>\n",
       "    <tr>\n",
       "      <th>...</th>\n",
       "      <td>...</td>\n",
       "      <td>...</td>\n",
       "    </tr>\n",
       "    <tr>\n",
       "      <th>11073</th>\n",
       "      <td>150.000000</td>\n",
       "      <td>2</td>\n",
       "    </tr>\n",
       "    <tr>\n",
       "      <th>11074</th>\n",
       "      <td>232.085000</td>\n",
       "      <td>1</td>\n",
       "    </tr>\n",
       "    <tr>\n",
       "      <th>11075</th>\n",
       "      <td>166.033332</td>\n",
       "      <td>3</td>\n",
       "    </tr>\n",
       "    <tr>\n",
       "      <th>11076</th>\n",
       "      <td>264.250000</td>\n",
       "      <td>3</td>\n",
       "    </tr>\n",
       "    <tr>\n",
       "      <th>11077</th>\n",
       "      <td>50.228820</td>\n",
       "      <td>25</td>\n",
       "    </tr>\n",
       "  </tbody>\n",
       "</table>\n",
       "<p>830 rows × 2 columns</p>\n",
       "</div>"
      ],
      "text/plain": [
       "          TotalSales  OrderID\n",
       "OrderID                      \n",
       "10248     146.666667        3\n",
       "10249     931.700000        2\n",
       "10250     517.533330        3\n",
       "10251     218.020000        3\n",
       "10252    1199.299999        3\n",
       "...              ...      ...\n",
       "11073     150.000000        2\n",
       "11074     232.085000        1\n",
       "11075     166.033332        3\n",
       "11076     264.250000        3\n",
       "11077      50.228820       25\n",
       "\n",
       "[830 rows x 2 columns]"
      ]
     },
     "execution_count": 177,
     "metadata": {},
     "output_type": "execute_result"
    }
   ],
   "source": [
    "retail.groupby('OrderID').aggregate({'TotalSales':np.mean,'OrderID':np.size})"
   ]
  },
  {
   "cell_type": "code",
   "execution_count": 178,
   "id": "5ced50b3",
   "metadata": {},
   "outputs": [
    {
     "name": "stdout",
     "output_type": "stream",
     "text": [
      "<class 'pandas.core.frame.DataFrame'>\n",
      "RangeIndex: 2155 entries, 0 to 2154\n",
      "Data columns (total 7 columns):\n",
      " #   Column      Non-Null Count  Dtype  \n",
      "---  ------      --------------  -----  \n",
      " 0   OrderID     2155 non-null   int64  \n",
      " 1   ProductID   2155 non-null   int64  \n",
      " 2   UnitPrice   2155 non-null   float64\n",
      " 3   Quantity    2155 non-null   int64  \n",
      " 4   Discount    2155 non-null   float64\n",
      " 5   TotalSales  2155 non-null   float64\n",
      " 6   AVG         2155 non-null   float64\n",
      "dtypes: float64(4), int64(3)\n",
      "memory usage: 118.0 KB\n"
     ]
    }
   ],
   "source": [
    "retail.info()"
   ]
  },
  {
   "cell_type": "code",
   "execution_count": 179,
   "id": "2d19078a",
   "metadata": {},
   "outputs": [],
   "source": [
    "retail.OrderID = retail.OrderID.apply(lambda x: str(int(x)))"
   ]
  },
  {
   "cell_type": "code",
   "execution_count": 180,
   "id": "26d312aa",
   "metadata": {},
   "outputs": [
    {
     "name": "stdout",
     "output_type": "stream",
     "text": [
      "<class 'pandas.core.frame.DataFrame'>\n",
      "RangeIndex: 2155 entries, 0 to 2154\n",
      "Data columns (total 7 columns):\n",
      " #   Column      Non-Null Count  Dtype  \n",
      "---  ------      --------------  -----  \n",
      " 0   OrderID     2155 non-null   object \n",
      " 1   ProductID   2155 non-null   int64  \n",
      " 2   UnitPrice   2155 non-null   float64\n",
      " 3   Quantity    2155 non-null   int64  \n",
      " 4   Discount    2155 non-null   float64\n",
      " 5   TotalSales  2155 non-null   float64\n",
      " 6   AVG         2155 non-null   float64\n",
      "dtypes: float64(4), int64(2), object(1)\n",
      "memory usage: 118.0+ KB\n"
     ]
    }
   ],
   "source": [
    "retail.info()"
   ]
  },
  {
   "cell_type": "code",
   "execution_count": null,
   "id": "b687efac",
   "metadata": {},
   "outputs": [],
   "source": []
  }
 ],
 "metadata": {
  "kernelspec": {
   "display_name": "Python 3 (ipykernel)",
   "language": "python",
   "name": "python3"
  },
  "language_info": {
   "codemirror_mode": {
    "name": "ipython",
    "version": 3
   },
   "file_extension": ".py",
   "mimetype": "text/x-python",
   "name": "python",
   "nbconvert_exporter": "python",
   "pygments_lexer": "ipython3",
   "version": "3.9.12"
  }
 },
 "nbformat": 4,
 "nbformat_minor": 5
}
