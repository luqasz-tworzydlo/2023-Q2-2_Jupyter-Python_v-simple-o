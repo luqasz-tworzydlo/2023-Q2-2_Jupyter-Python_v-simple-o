{
 "cells": [
  {
   "cell_type": "code",
   "execution_count": 1,
   "id": "8ef0178c",
   "metadata": {},
   "outputs": [],
   "source": [
    "import os"
   ]
  },
  {
   "cell_type": "code",
   "execution_count": 2,
   "id": "ee24a0c5",
   "metadata": {},
   "outputs": [
    {
     "data": {
      "text/plain": [
       "'C:\\\\Users\\\\luqasz'"
      ]
     },
     "execution_count": 2,
     "metadata": {},
     "output_type": "execute_result"
    }
   ],
   "source": [
    "os.getcwd()"
   ]
  },
  {
   "cell_type": "code",
   "execution_count": 3,
   "id": "a3ba515d",
   "metadata": {},
   "outputs": [],
   "source": [
    "# zadanie nr 1\n",
    "# a) Utwórz zmienną x i przypisz do niej wartość 3.\n",
    "# b) Utwórz zmienną y i przypisz do niej wartość 4.0.\n",
    "# c) Dodaj obie liczby. Jaki wynik otrzymasz? Jaki jest typ zmiennej wynikowej?"
   ]
  },
  {
   "cell_type": "code",
   "execution_count": 4,
   "id": "44a9656f",
   "metadata": {},
   "outputs": [
    {
     "name": "stdout",
     "output_type": "stream",
     "text": [
      "7.0\n",
      "<class 'float'>\n"
     ]
    },
    {
     "data": {
      "text/plain": [
       "float"
      ]
     },
     "execution_count": 4,
     "metadata": {},
     "output_type": "execute_result"
    }
   ],
   "source": [
    "x=3\n",
    "y=4.0\n",
    "wynik=x+y\n",
    "print(wynik)\n",
    "print(type(wynik))\n",
    "\n",
    "x=3\n",
    "y=4.0\n",
    "xy=x+y\n",
    "xy\n",
    "type(xy)"
   ]
  },
  {
   "cell_type": "code",
   "execution_count": 5,
   "id": "d6c51263",
   "metadata": {},
   "outputs": [],
   "source": [
    "# zadanie nr 2\n",
    "# a) Utwórz zmienną x i przypisz do niej wartość 10.0\n",
    "# b) Utwórz zmienną y i przypisz do niej wartość 4.0\n",
    "# c) Odejmij od zmiennej x zmienną y. Jaki wynik otrzymasz? Jaki jest typ zmiennej wynikowej?"
   ]
  },
  {
   "cell_type": "code",
   "execution_count": 6,
   "id": "291ed13d",
   "metadata": {},
   "outputs": [
    {
     "name": "stdout",
     "output_type": "stream",
     "text": [
      "6.0\n",
      "<class 'float'>\n",
      "6.0\n",
      "<class 'float'>\n"
     ]
    }
   ],
   "source": [
    "x=10.0\n",
    "y=4.0\n",
    "wynik=x-y\n",
    "print(wynik)\n",
    "print(type(wynik))\n",
    "\n",
    "x=10.0\n",
    "y=4.0\n",
    "xy=x-y\n",
    "print(xy)\n",
    "print(type(xy))"
   ]
  },
  {
   "cell_type": "code",
   "execution_count": 7,
   "id": "71e54658",
   "metadata": {},
   "outputs": [],
   "source": [
    "# zadanie nr 3\n",
    "# a) x = 3.0\n",
    "# b) Zmień typ zmiennej x na int."
   ]
  },
  {
   "cell_type": "code",
   "execution_count": 8,
   "id": "84edf275",
   "metadata": {},
   "outputs": [
    {
     "name": "stdout",
     "output_type": "stream",
     "text": [
      "<class 'float'>\n",
      "3\n",
      "<class 'int'>\n"
     ]
    }
   ],
   "source": [
    "x=3.0\n",
    "print(type(x))\n",
    "x=int(x)\n",
    "print(x)\n",
    "print(type(x))"
   ]
  },
  {
   "cell_type": "code",
   "execution_count": 9,
   "id": "8e4b6f83",
   "metadata": {},
   "outputs": [],
   "source": [
    "# zdanie nr 4\n",
    "# a) x = 3\n",
    "# b) zmień type zmiennej na str\n",
    "# c) Wydrukuj. Co otrzymasz?"
   ]
  },
  {
   "cell_type": "code",
   "execution_count": 10,
   "id": "a123be79",
   "metadata": {},
   "outputs": [
    {
     "name": "stdout",
     "output_type": "stream",
     "text": [
      "<class 'int'>\n",
      "3\n",
      "<class 'str'>\n"
     ]
    }
   ],
   "source": [
    "x=3\n",
    "print(type(x))\n",
    "x=str(x)\n",
    "print(x)\n",
    "print(type(x))"
   ]
  },
  {
   "cell_type": "code",
   "execution_count": 11,
   "id": "f61fa851",
   "metadata": {},
   "outputs": [],
   "source": [
    "# zadanie nr 5\n",
    "# a) x = 3\n",
    "# b) zmień type zmiennej na str\n",
    "# c) Wydrukuj. Co otrzymasz?"
   ]
  },
  {
   "cell_type": "code",
   "execution_count": 12,
   "id": "984b04a7",
   "metadata": {},
   "outputs": [],
   "source": [
    "x=3\n",
    "y=3.0"
   ]
  },
  {
   "cell_type": "code",
   "execution_count": 13,
   "id": "8f9e9cb0",
   "metadata": {},
   "outputs": [],
   "source": [
    "# A) poniższy przykład sprawdza wartość, a nie typ"
   ]
  },
  {
   "cell_type": "code",
   "execution_count": 14,
   "id": "a7a4a9c3",
   "metadata": {},
   "outputs": [
    {
     "data": {
      "text/plain": [
       "True"
      ]
     },
     "execution_count": 14,
     "metadata": {},
     "output_type": "execute_result"
    }
   ],
   "source": [
    "x==y"
   ]
  },
  {
   "cell_type": "code",
   "execution_count": 15,
   "id": "a564f47c",
   "metadata": {},
   "outputs": [],
   "source": [
    "# B) poniższy przykład sprawzda czy to 0\n",
    "# sprawdza, czy podane wartości równają się 0"
   ]
  },
  {
   "cell_type": "code",
   "execution_count": 16,
   "id": "3af5c063",
   "metadata": {},
   "outputs": [
    {
     "data": {
      "text/plain": [
       "False"
      ]
     },
     "execution_count": 16,
     "metadata": {},
     "output_type": "execute_result"
    }
   ],
   "source": [
    "x==y==False"
   ]
  },
  {
   "cell_type": "code",
   "execution_count": 17,
   "id": "eb4d8b58",
   "metadata": {},
   "outputs": [],
   "source": [
    "# C) poniższy przykład sprawdza czy to 1\n",
    "# sprawdza, czy podane wartości równają się 1"
   ]
  },
  {
   "cell_type": "code",
   "execution_count": 18,
   "id": "0012e6f8",
   "metadata": {},
   "outputs": [
    {
     "data": {
      "text/plain": [
       "False"
      ]
     },
     "execution_count": 18,
     "metadata": {},
     "output_type": "execute_result"
    }
   ],
   "source": [
    "x==y==True"
   ]
  },
  {
   "cell_type": "code",
   "execution_count": 19,
   "id": "61f78927",
   "metadata": {},
   "outputs": [],
   "source": [
    "# zadanie nr 6\n",
    "# a. Utwórz zmienną x i przypisz do niej wartość 3.\n",
    "# b. Utwórz zmienną y i przypisz do niej wartość 3.\n",
    "# c. Utwórz zmienną z i przypisz do niej wartość wyniku operatora porównania zmiennej x i y.\n",
    "# d. Używając operatora porównania porównaj z oraz True."
   ]
  },
  {
   "cell_type": "code",
   "execution_count": 20,
   "id": "0daccffa",
   "metadata": {},
   "outputs": [],
   "source": [
    "x=3\n",
    "y=3\n",
    "z=x+y"
   ]
  },
  {
   "cell_type": "code",
   "execution_count": 21,
   "id": "ec1b9d1c",
   "metadata": {},
   "outputs": [],
   "source": [
    "# false to inaczej = 6\n",
    "# true oznacza wartość -6,\n",
    "# zaś false oznacza wartrość 6"
   ]
  },
  {
   "cell_type": "code",
   "execution_count": 22,
   "id": "f7d17271",
   "metadata": {},
   "outputs": [
    {
     "data": {
      "text/plain": [
       "False"
      ]
     },
     "execution_count": 22,
     "metadata": {},
     "output_type": "execute_result"
    }
   ],
   "source": [
    "z==True"
   ]
  },
  {
   "cell_type": "code",
   "execution_count": 23,
   "id": "8647b685",
   "metadata": {},
   "outputs": [],
   "source": [
    "# zadanie nr 7\n",
    "# a. Utwórz zmienną x i przypisz do niej tekst ”3”\n",
    "# b. Utwórz zmienną y i przypisz do niej tekst ”4”\n",
    "# c. Co wydrukuje x+y?"
   ]
  },
  {
   "cell_type": "code",
   "execution_count": 24,
   "id": "461fac7e",
   "metadata": {},
   "outputs": [],
   "source": [
    "# wynik wynosi 34, ponieważ są 2 stringi, które są sklejane, a nie dodane"
   ]
  },
  {
   "cell_type": "code",
   "execution_count": 25,
   "id": "0719e263",
   "metadata": {},
   "outputs": [
    {
     "name": "stdout",
     "output_type": "stream",
     "text": [
      "34\n"
     ]
    }
   ],
   "source": [
    "x='3'\n",
    "y='4'\n",
    "z=x+y\n",
    "print(z)"
   ]
  },
  {
   "cell_type": "code",
   "execution_count": 26,
   "id": "9d18c706",
   "metadata": {},
   "outputs": [],
   "source": [
    "# zadanie nr 8\n",
    "# a. Utwórz zmienną x i przypisz do niej tekst ”3”\n",
    "# b. Utwórz zmienną y i przypisz do niej tekst ”4”\n",
    "# c. Dodaj x i y tak, by otrzymać wynik 7 i typ int."
   ]
  },
  {
   "cell_type": "code",
   "execution_count": 27,
   "id": "303243d1",
   "metadata": {},
   "outputs": [
    {
     "name": "stdout",
     "output_type": "stream",
     "text": [
      "7\n"
     ]
    }
   ],
   "source": [
    "x='3'\n",
    "y='4'\n",
    "z=int(x)+int(y)\n",
    "print(z)"
   ]
  },
  {
   "cell_type": "code",
   "execution_count": 28,
   "id": "be73e468",
   "metadata": {},
   "outputs": [],
   "source": [
    "# zadanie nr 9\n",
    "# Utwórz listę o nazwie my_list i dodaj do niej następujące elementy: 1, 3.1, ”a”, False."
   ]
  },
  {
   "cell_type": "code",
   "execution_count": 29,
   "id": "30baadd1",
   "metadata": {},
   "outputs": [
    {
     "data": {
      "text/plain": [
       "[1, 3.1, 'a', False]"
      ]
     },
     "execution_count": 29,
     "metadata": {},
     "output_type": "execute_result"
    }
   ],
   "source": [
    "my_list=[1, 3.1, 'a', False]\n",
    "my_list"
   ]
  },
  {
   "cell_type": "code",
   "execution_count": 30,
   "id": "ed08cb6b",
   "metadata": {},
   "outputs": [],
   "source": [
    "# zadanie nr 10\n",
    "# Wydrukuj drugi element listy."
   ]
  },
  {
   "cell_type": "code",
   "execution_count": 31,
   "id": "2ec32f72",
   "metadata": {},
   "outputs": [
    {
     "data": {
      "text/plain": [
       "3.1"
      ]
     },
     "execution_count": 31,
     "metadata": {},
     "output_type": "execute_result"
    }
   ],
   "source": [
    "my_list[1]"
   ]
  },
  {
   "cell_type": "code",
   "execution_count": 32,
   "id": "d120b15e",
   "metadata": {},
   "outputs": [],
   "source": [
    "# zadanie nr 11\n",
    "# Wydrukuj liczbę elementów w liście my list2"
   ]
  },
  {
   "cell_type": "code",
   "execution_count": 33,
   "id": "5a22e891",
   "metadata": {},
   "outputs": [
    {
     "name": "stdout",
     "output_type": "stream",
     "text": [
      "4\n"
     ]
    }
   ],
   "source": [
    "my_list2=[1,2,3,4]\n",
    "print(len(my_list2))"
   ]
  },
  {
   "cell_type": "code",
   "execution_count": 34,
   "id": "221c9827",
   "metadata": {},
   "outputs": [],
   "source": [
    "# zadanie nr 12\n",
    "# Wydrukuj pierwsze 3 elementy listy my_list2"
   ]
  },
  {
   "cell_type": "code",
   "execution_count": 35,
   "id": "d4f8f956",
   "metadata": {},
   "outputs": [
    {
     "data": {
      "text/plain": [
       "[1, 2, 3]"
      ]
     },
     "execution_count": 35,
     "metadata": {},
     "output_type": "execute_result"
    }
   ],
   "source": [
    "my_list2[:3]"
   ]
  },
  {
   "cell_type": "code",
   "execution_count": 36,
   "id": "868ae88a",
   "metadata": {},
   "outputs": [],
   "source": [
    "# zadanie nr 13\n",
    "# Dołącz do list1 liste nr 2"
   ]
  },
  {
   "cell_type": "code",
   "execution_count": 37,
   "id": "265e6293",
   "metadata": {},
   "outputs": [
    {
     "data": {
      "text/plain": [
       "[1, 3.1, 'a', False, 1, 2, 3, 4]"
      ]
     },
     "execution_count": 37,
     "metadata": {},
     "output_type": "execute_result"
    }
   ],
   "source": [
    "my_list+=my_list2\n",
    "my_list"
   ]
  },
  {
   "cell_type": "code",
   "execution_count": 38,
   "id": "f4b32dcc",
   "metadata": {},
   "outputs": [],
   "source": [
    "# zadanie nr 14\n",
    "# Ile elementów posiada lista?"
   ]
  },
  {
   "cell_type": "code",
   "execution_count": 39,
   "id": "59c09758",
   "metadata": {},
   "outputs": [],
   "source": [
    "mylist3=[[1,2],[3,4],[4,5]]"
   ]
  },
  {
   "cell_type": "code",
   "execution_count": 40,
   "id": "620e0a9b",
   "metadata": {},
   "outputs": [
    {
     "data": {
      "text/plain": [
       "3"
      ]
     },
     "execution_count": 40,
     "metadata": {},
     "output_type": "execute_result"
    }
   ],
   "source": [
    "len(mylist3)"
   ]
  },
  {
   "cell_type": "code",
   "execution_count": 41,
   "id": "36310696",
   "metadata": {},
   "outputs": [
    {
     "data": {
      "text/plain": [
       "4"
      ]
     },
     "execution_count": 41,
     "metadata": {},
     "output_type": "execute_result"
    }
   ],
   "source": [
    "mylist3[1][1]"
   ]
  },
  {
   "cell_type": "code",
   "execution_count": 42,
   "id": "4a737b21",
   "metadata": {},
   "outputs": [
    {
     "name": "stdout",
     "output_type": "stream",
     "text": [
      "9.0\n",
      "15.588457268119896\n"
     ]
    }
   ],
   "source": [
    "# zadanie dodatkowe\n",
    "# napisz program obliczający pole trójkąta wykorzystujący wzór herona\n",
    "\n",
    "a=6\n",
    "b=6\n",
    "c=6\n",
    "\n",
    "p=0.5*(a+b+c)\n",
    "\n",
    "S=(p*(p-a)*(p-b)*(p-c))**(1/2)\n",
    "\n",
    "print(p)\n",
    "print(S)"
   ]
  },
  {
   "cell_type": "code",
   "execution_count": 43,
   "id": "5e65b31a",
   "metadata": {},
   "outputs": [
    {
     "name": "stdout",
     "output_type": "stream",
     "text": [
      "15.588457268119894\n"
     ]
    }
   ],
   "source": [
    "P=(a**2*(3)**(1/2))/4\n",
    "print(P)"
   ]
  },
  {
   "cell_type": "code",
   "execution_count": 44,
   "id": "f1ea445b",
   "metadata": {},
   "outputs": [],
   "source": [
    "# działania na liczbach\n",
    "# oraz operacje matematyczne"
   ]
  },
  {
   "cell_type": "code",
   "execution_count": 45,
   "id": "e79a77af",
   "metadata": {},
   "outputs": [
    {
     "data": {
      "text/plain": [
       "False"
      ]
     },
     "execution_count": 45,
     "metadata": {},
     "output_type": "execute_result"
    }
   ],
   "source": [
    "a=20\n",
    "b=25\n",
    "\n",
    "a==b"
   ]
  },
  {
   "cell_type": "code",
   "execution_count": 46,
   "id": "3bac580d",
   "metadata": {},
   "outputs": [
    {
     "data": {
      "text/plain": [
       "True"
      ]
     },
     "execution_count": 46,
     "metadata": {},
     "output_type": "execute_result"
    }
   ],
   "source": [
    "a!=b"
   ]
  },
  {
   "cell_type": "code",
   "execution_count": 47,
   "id": "be8bc768",
   "metadata": {},
   "outputs": [
    {
     "data": {
      "text/plain": [
       "True"
      ]
     },
     "execution_count": 47,
     "metadata": {},
     "output_type": "execute_result"
    }
   ],
   "source": [
    "a<b"
   ]
  },
  {
   "cell_type": "code",
   "execution_count": 48,
   "id": "dc9c46db",
   "metadata": {},
   "outputs": [
    {
     "data": {
      "text/plain": [
       "False"
      ]
     },
     "execution_count": 48,
     "metadata": {},
     "output_type": "execute_result"
    }
   ],
   "source": [
    "a>b"
   ]
  },
  {
   "cell_type": "code",
   "execution_count": 49,
   "id": "92ac36c2",
   "metadata": {},
   "outputs": [
    {
     "data": {
      "text/plain": [
       "False"
      ]
     },
     "execution_count": 49,
     "metadata": {},
     "output_type": "execute_result"
    }
   ],
   "source": [
    "a>=b"
   ]
  },
  {
   "cell_type": "code",
   "execution_count": 50,
   "id": "772c3589",
   "metadata": {},
   "outputs": [
    {
     "data": {
      "text/plain": [
       "True"
      ]
     },
     "execution_count": 50,
     "metadata": {},
     "output_type": "execute_result"
    }
   ],
   "source": [
    "a<=b"
   ]
  },
  {
   "cell_type": "code",
   "execution_count": 51,
   "id": "f56584e2",
   "metadata": {},
   "outputs": [],
   "source": [
    "# operacje na pętlach\n",
    "# pętla if --else"
   ]
  },
  {
   "cell_type": "code",
   "execution_count": 52,
   "id": "cca141fb",
   "metadata": {},
   "outputs": [
    {
     "name": "stdout",
     "output_type": "stream",
     "text": [
      "b jest wieksze od a\n"
     ]
    }
   ],
   "source": [
    "a=450\n",
    "b=3250\n",
    "\n",
    "if b>a:\n",
    "    print('b jest wieksze od a')"
   ]
  },
  {
   "cell_type": "code",
   "execution_count": 53,
   "id": "9db4951c",
   "metadata": {},
   "outputs": [
    {
     "name": "stdout",
     "output_type": "stream",
     "text": [
      "a jest wieksze od b\n"
     ]
    }
   ],
   "source": [
    "a=170\n",
    "b=17\n",
    "\n",
    "if a>b:\n",
    "    print('a jest wieksze od b')\n",
    "elif a==b:\n",
    "    print('a jest równe b')\n",
    "else: print ('b jest wieksze od a')"
   ]
  },
  {
   "cell_type": "code",
   "execution_count": 54,
   "id": "9f4f0d6e",
   "metadata": {},
   "outputs": [],
   "source": [
    "# operacje na pętlach\n",
    "# pętla while"
   ]
  },
  {
   "cell_type": "code",
   "execution_count": 55,
   "id": "59927931",
   "metadata": {},
   "outputs": [
    {
     "name": "stdout",
     "output_type": "stream",
     "text": [
      "1\n",
      "2\n",
      "3\n",
      "4\n",
      "5\n",
      "6\n",
      "7\n",
      "8\n",
      "9\n"
     ]
    }
   ],
   "source": [
    "i=1\n",
    "\n",
    "while i<10:\n",
    "    print(i)\n",
    "    i+=1"
   ]
  },
  {
   "cell_type": "code",
   "execution_count": 56,
   "id": "4c5ac668",
   "metadata": {},
   "outputs": [],
   "source": [
    "# jak działa break w pętli while"
   ]
  },
  {
   "cell_type": "code",
   "execution_count": 57,
   "id": "782a5f50",
   "metadata": {},
   "outputs": [
    {
     "name": "stdout",
     "output_type": "stream",
     "text": [
      "1\n",
      "2\n",
      "3\n",
      "4\n",
      "5\n",
      "6\n",
      "7\n",
      "8\n",
      "9\n",
      "10\n",
      "11\n",
      "12\n",
      "13\n",
      "14\n",
      "15\n"
     ]
    }
   ],
   "source": [
    "i=1\n",
    "\n",
    "while i<100:\n",
    "    print(i)\n",
    "    if i==15:\n",
    "        break\n",
    "    i+=1"
   ]
  },
  {
   "cell_type": "code",
   "execution_count": 58,
   "id": "90aa5f10",
   "metadata": {},
   "outputs": [],
   "source": [
    "# jak dziala continue w petli while"
   ]
  },
  {
   "cell_type": "code",
   "execution_count": 59,
   "id": "0a48e573",
   "metadata": {},
   "outputs": [
    {
     "name": "stdout",
     "output_type": "stream",
     "text": [
      "1\n",
      "2\n",
      "3\n",
      "4\n",
      "5\n",
      "6\n",
      "7\n",
      "8\n",
      "9\n",
      "10\n",
      "11\n",
      "12\n",
      "13\n",
      "14\n",
      "16\n",
      "17\n",
      "18\n",
      "19\n",
      "20\n",
      "21\n",
      "22\n",
      "23\n",
      "24\n",
      "25\n"
     ]
    }
   ],
   "source": [
    "i=0\n",
    "\n",
    "while i<25:\n",
    "    i+=1\n",
    "    if i==15:\n",
    "        continue\n",
    "    print(i)"
   ]
  },
  {
   "cell_type": "code",
   "execution_count": 60,
   "id": "60765a92",
   "metadata": {},
   "outputs": [
    {
     "name": "stdout",
     "output_type": "stream",
     "text": [
      "1\n",
      "2\n",
      "3\n",
      "4\n",
      "5\n",
      "6\n",
      "7\n",
      "8\n",
      "9\n",
      "10\n",
      "11\n",
      "12\n",
      "13\n",
      "14\n",
      "15\n",
      "16\n",
      "17\n",
      "18\n",
      "19\n",
      "i jest większe o 19\n"
     ]
    }
   ],
   "source": [
    "i=1\n",
    "\n",
    "while i<20:\n",
    "    print(i)\n",
    "    i+=1\n",
    "else:\n",
    "    print('i jest większe o 19')"
   ]
  },
  {
   "cell_type": "code",
   "execution_count": 61,
   "id": "4a771033",
   "metadata": {},
   "outputs": [],
   "source": [
    "# operacje na pętlach\n",
    "# pętla for"
   ]
  },
  {
   "cell_type": "code",
   "execution_count": 62,
   "id": "1555cc0c",
   "metadata": {},
   "outputs": [],
   "source": [
    "owoce=['truskawki','banany','jabłka']"
   ]
  },
  {
   "cell_type": "code",
   "execution_count": 63,
   "id": "1e7b8b42",
   "metadata": {},
   "outputs": [
    {
     "name": "stdout",
     "output_type": "stream",
     "text": [
      "truskawki\n",
      "banany\n",
      "jabłka\n"
     ]
    }
   ],
   "source": [
    "for x in owoce:\n",
    "    print(x)"
   ]
  },
  {
   "cell_type": "code",
   "execution_count": 64,
   "id": "9c6118ce",
   "metadata": {},
   "outputs": [
    {
     "name": "stdout",
     "output_type": "stream",
     "text": [
      "L\n",
      "u\n",
      "k\n",
      "a\n",
      "s\n",
      "z\n",
      " \n",
      "T\n",
      "w\n",
      "o\n",
      "r\n",
      "z\n",
      "y\n",
      "d\n",
      "l\n",
      "o\n"
     ]
    }
   ],
   "source": [
    "for x in 'Lukasz Tworzydlo':\n",
    "    print(x)"
   ]
  },
  {
   "cell_type": "code",
   "execution_count": 65,
   "id": "ea0c279e",
   "metadata": {},
   "outputs": [],
   "source": [
    "owoce=['truskawki','banany','poziomka','jabłka','pomarańcze','kiwi']"
   ]
  },
  {
   "cell_type": "code",
   "execution_count": 66,
   "id": "f7f79821",
   "metadata": {},
   "outputs": [],
   "source": [
    "# jak dziala przecięcie (break) w petli for"
   ]
  },
  {
   "cell_type": "code",
   "execution_count": 67,
   "id": "3580a5bd",
   "metadata": {},
   "outputs": [
    {
     "name": "stdout",
     "output_type": "stream",
     "text": [
      "truskawki\n",
      "banany\n"
     ]
    }
   ],
   "source": [
    "for i in owoce:\n",
    "    if i=='poziomka':\n",
    "        break\n",
    "    print(i)"
   ]
  },
  {
   "cell_type": "code",
   "execution_count": 68,
   "id": "ffeedf00",
   "metadata": {},
   "outputs": [
    {
     "name": "stdout",
     "output_type": "stream",
     "text": [
      "0\n",
      "1\n",
      "2\n",
      "3\n",
      "4\n",
      "5\n",
      "6\n",
      "7\n",
      "8\n",
      "9\n"
     ]
    }
   ],
   "source": [
    "for x in range(10):\n",
    "    print(x)"
   ]
  },
  {
   "cell_type": "code",
   "execution_count": 69,
   "id": "c62ca8ae",
   "metadata": {},
   "outputs": [
    {
     "name": "stdout",
     "output_type": "stream",
     "text": [
      "4\n",
      "5\n",
      "6\n",
      "7\n",
      "8\n",
      "9\n"
     ]
    }
   ],
   "source": [
    "for x in range(4,10):\n",
    "    print(x)"
   ]
  },
  {
   "cell_type": "code",
   "execution_count": 70,
   "id": "4d762c47",
   "metadata": {},
   "outputs": [],
   "source": [
    "owoce=['truskawki','banany','poziomka','jabłka','pomarańcze','kiwi']\n",
    "kolory=['czerwony','zolty','czarny','zielony','pomaranczowy','brazowy']"
   ]
  },
  {
   "cell_type": "code",
   "execution_count": 71,
   "id": "f18e2547",
   "metadata": {},
   "outputs": [
    {
     "name": "stdout",
     "output_type": "stream",
     "text": [
      "czerwony truskawki\n",
      "czerwony banany\n",
      "czerwony poziomka\n",
      "czerwony jabłka\n",
      "czerwony pomarańcze\n",
      "czerwony kiwi\n",
      "zolty truskawki\n",
      "zolty banany\n",
      "zolty poziomka\n",
      "zolty jabłka\n",
      "zolty pomarańcze\n",
      "zolty kiwi\n",
      "czarny truskawki\n",
      "czarny banany\n",
      "czarny poziomka\n",
      "czarny jabłka\n",
      "czarny pomarańcze\n",
      "czarny kiwi\n",
      "zielony truskawki\n",
      "zielony banany\n",
      "zielony poziomka\n",
      "zielony jabłka\n",
      "zielony pomarańcze\n",
      "zielony kiwi\n",
      "pomaranczowy truskawki\n",
      "pomaranczowy banany\n",
      "pomaranczowy poziomka\n",
      "pomaranczowy jabłka\n",
      "pomaranczowy pomarańcze\n",
      "pomaranczowy kiwi\n",
      "brazowy truskawki\n",
      "brazowy banany\n",
      "brazowy poziomka\n",
      "brazowy jabłka\n",
      "brazowy pomarańcze\n",
      "brazowy kiwi\n"
     ]
    }
   ],
   "source": [
    "for x in kolory:\n",
    "    for y in owoce:\n",
    "        print(x,y)"
   ]
  },
  {
   "cell_type": "code",
   "execution_count": 72,
   "id": "c653b256",
   "metadata": {},
   "outputs": [
    {
     "name": "stdout",
     "output_type": "stream",
     "text": [
      "2\n",
      "3\n",
      "4\n",
      "5\n",
      "6\n",
      "7\n",
      "8\n",
      "9\n",
      "10\n",
      "11\n",
      "12\n",
      "13\n",
      "14\n",
      "15\n",
      "16\n",
      "17\n",
      "18\n",
      "19\n",
      "20\n",
      "21\n",
      "22\n",
      "23\n",
      "24\n",
      "25\n",
      "26\n",
      "27\n",
      "28\n",
      "29\n",
      "30\n"
     ]
    }
   ],
   "source": [
    "# wyświetl parzyste liczby całkowite z przedziału <2,30>\n",
    "\n",
    "for x in range(2,31):\n",
    "    print(x)"
   ]
  },
  {
   "cell_type": "code",
   "execution_count": 73,
   "id": "563ac886",
   "metadata": {},
   "outputs": [
    {
     "name": "stdout",
     "output_type": "stream",
     "text": [
      "2\n",
      "4\n",
      "6\n",
      "8\n",
      "10\n",
      "12\n",
      "14\n",
      "16\n",
      "18\n",
      "20\n",
      "22\n",
      "24\n",
      "26\n",
      "28\n",
      "30\n"
     ]
    }
   ],
   "source": [
    "for i in range(2,31,2):\n",
    "    print(i)"
   ]
  },
  {
   "cell_type": "code",
   "execution_count": 74,
   "id": "b165530d",
   "metadata": {},
   "outputs": [
    {
     "name": "stdout",
     "output_type": "stream",
     "text": [
      "6\n",
      "12\n",
      "18\n",
      "24\n",
      "30\n"
     ]
    }
   ],
   "source": [
    "# wyświetl liczby całkowite z przedziału <6,35> krokiem 6\n",
    "\n",
    "i=0\n",
    "\n",
    "while i<35:\n",
    "    i+=6\n",
    "    if i>35:\n",
    "        break\n",
    "    print(i)"
   ]
  },
  {
   "cell_type": "code",
   "execution_count": 75,
   "id": "e7c6bc42",
   "metadata": {},
   "outputs": [
    {
     "name": "stdout",
     "output_type": "stream",
     "text": [
      "6\n",
      "12\n",
      "18\n",
      "24\n",
      "30\n"
     ]
    }
   ],
   "source": [
    "for x in range(6,35):\n",
    "    if x%6==0:\n",
    "        print(x)"
   ]
  },
  {
   "cell_type": "code",
   "execution_count": 76,
   "id": "7c4f2c28",
   "metadata": {},
   "outputs": [
    {
     "name": "stdout",
     "output_type": "stream",
     "text": [
      "6\n",
      "12\n",
      "18\n",
      "24\n",
      "30\n"
     ]
    }
   ],
   "source": [
    "for i in range(6,35,6):\n",
    "    print(i)"
   ]
  },
  {
   "cell_type": "code",
   "execution_count": 77,
   "id": "a43c3922",
   "metadata": {},
   "outputs": [
    {
     "name": "stdout",
     "output_type": "stream",
     "text": [
      "1000\n",
      "999\n",
      "998\n",
      "997\n",
      "996\n",
      "995\n",
      "994\n",
      "993\n",
      "992\n",
      "991\n",
      "990\n",
      "989\n",
      "988\n",
      "987\n",
      "986\n",
      "985\n",
      "984\n",
      "983\n",
      "982\n",
      "981\n",
      "980\n",
      "979\n",
      "978\n",
      "977\n",
      "976\n",
      "975\n",
      "974\n",
      "973\n",
      "972\n",
      "971\n",
      "970\n",
      "969\n",
      "968\n",
      "967\n",
      "966\n",
      "965\n",
      "964\n",
      "963\n",
      "962\n",
      "961\n",
      "960\n",
      "959\n",
      "958\n",
      "957\n",
      "956\n",
      "955\n",
      "954\n",
      "953\n",
      "952\n",
      "951\n",
      "950\n",
      "949\n",
      "948\n",
      "947\n",
      "946\n",
      "945\n",
      "944\n",
      "943\n",
      "942\n",
      "941\n",
      "940\n",
      "939\n",
      "938\n",
      "937\n",
      "936\n",
      "935\n",
      "934\n",
      "933\n",
      "932\n",
      "931\n",
      "930\n",
      "929\n",
      "928\n",
      "927\n",
      "926\n",
      "925\n",
      "924\n",
      "923\n",
      "922\n",
      "921\n",
      "920\n",
      "919\n",
      "918\n",
      "917\n",
      "916\n",
      "915\n",
      "914\n",
      "913\n",
      "912\n",
      "911\n",
      "910\n",
      "909\n",
      "908\n",
      "907\n",
      "906\n",
      "905\n",
      "904\n",
      "903\n",
      "902\n",
      "901\n",
      "900\n",
      "899\n",
      "898\n",
      "897\n",
      "896\n",
      "895\n",
      "894\n",
      "893\n",
      "892\n",
      "891\n",
      "890\n",
      "889\n",
      "888\n",
      "887\n",
      "886\n",
      "885\n",
      "884\n",
      "883\n",
      "882\n",
      "881\n",
      "880\n",
      "879\n",
      "878\n",
      "877\n",
      "876\n",
      "875\n",
      "874\n",
      "873\n",
      "872\n",
      "871\n",
      "870\n",
      "869\n",
      "868\n",
      "867\n",
      "866\n",
      "865\n",
      "864\n",
      "863\n",
      "862\n",
      "861\n",
      "860\n",
      "859\n",
      "858\n",
      "857\n",
      "856\n",
      "855\n",
      "854\n",
      "853\n",
      "852\n",
      "851\n",
      "850\n",
      "849\n",
      "848\n",
      "847\n",
      "846\n",
      "845\n",
      "844\n",
      "843\n",
      "842\n",
      "841\n",
      "840\n",
      "839\n",
      "838\n",
      "837\n",
      "836\n",
      "835\n",
      "834\n",
      "833\n",
      "832\n",
      "831\n",
      "830\n",
      "829\n",
      "828\n",
      "827\n",
      "826\n",
      "825\n",
      "824\n",
      "823\n",
      "822\n",
      "821\n",
      "820\n",
      "819\n",
      "818\n",
      "817\n",
      "816\n",
      "815\n",
      "814\n",
      "813\n",
      "812\n",
      "811\n",
      "810\n",
      "809\n",
      "808\n",
      "807\n",
      "806\n",
      "805\n",
      "804\n",
      "803\n",
      "802\n",
      "801\n",
      "800\n"
     ]
    }
   ],
   "source": [
    "# wyświetl liczby całkowite z przedziału <1000, 800> w porządku malejącym\n",
    "\n",
    "for i in range(1000,799,-1):\n",
    "    print(i)"
   ]
  },
  {
   "cell_type": "code",
   "execution_count": 78,
   "id": "f9c990bc",
   "metadata": {},
   "outputs": [
    {
     "name": "stdout",
     "output_type": "stream",
     "text": [
      "10\n",
      "5\n"
     ]
    }
   ],
   "source": [
    "# napisz program liczący wartość bewzględną z liczby\n",
    "\n",
    "x=-10\n",
    "print(abs(x))\n",
    "\n",
    "x=-5\n",
    "if x<0:\n",
    "    print(-x)\n",
    "else:\n",
    "    print(x)"
   ]
  },
  {
   "cell_type": "code",
   "execution_count": 79,
   "id": "2bc522e0",
   "metadata": {},
   "outputs": [
    {
     "name": "stdout",
     "output_type": "stream",
     "text": [
      "x jest liczbą parzystą\n"
     ]
    }
   ],
   "source": [
    "# napisz program sprawdzający czy dana liczba jest parzysta czy niepatrzysta\n",
    "\n",
    "x=6\n",
    "\n",
    "if x%2==0:\n",
    "    print('x jest liczbą parzystą')\n",
    "else:\n",
    "    print('x jest liczbą nieparzystą')"
   ]
  },
  {
   "cell_type": "code",
   "execution_count": 80,
   "id": "0d73e773",
   "metadata": {},
   "outputs": [
    {
     "name": "stdout",
     "output_type": "stream",
     "text": [
      "b jest liczbą najmniejszą i wynosi: 1\n"
     ]
    }
   ],
   "source": [
    "# napisz program podający najmniejszą liczbę z trzech liczb\n",
    "\n",
    "a=3\n",
    "b=1\n",
    "c=2\n",
    "\n",
    "if (a<b and a<c):\n",
    "    print('a jest liczbą najmniejszą i wynosi:', a)\n",
    "if (b<a and b<c):\n",
    "    print('b jest liczbą najmniejszą i wynosi:', b)\n",
    "if (c<a and c<b):\n",
    "    print('c jest liczbą najmniejszą i wynosi:', c)"
   ]
  },
  {
   "cell_type": "code",
   "execution_count": 81,
   "id": "e49abae7",
   "metadata": {},
   "outputs": [
    {
     "name": "stdout",
     "output_type": "stream",
     "text": [
      "y jest najmniejsza\n"
     ]
    }
   ],
   "source": [
    "x=5\n",
    "y=8\n",
    "z=4\n",
    "\n",
    "if x<y and x<z:\n",
    "    print('x jest najmniejsza')\n",
    "if y<x and y<z:\n",
    "    print('y jest najmniejsza')\n",
    "if z<x and z<y:\n",
    "    print('y jest najmniejsza')"
   ]
  },
  {
   "cell_type": "code",
   "execution_count": 82,
   "id": "b9bd11cf",
   "metadata": {},
   "outputs": [
    {
     "name": "stdout",
     "output_type": "stream",
     "text": [
      "Liczby nie sa w porządku rosnącym\n"
     ]
    }
   ],
   "source": [
    "# napisać program, który będzie sprawdzać, czy podane\n",
    "# liczby całkowite są ustawione w porządku rosnącym\n",
    "\n",
    "x=5\n",
    "y=8\n",
    "z=4\n",
    "\n",
    "if x<y and y<z:\n",
    "    print('Liczby są ustawione w porządku rosnącym')\n",
    "else:\n",
    "    print('Liczby nie sa w porządku rosnącym')"
   ]
  },
  {
   "cell_type": "code",
   "execution_count": 83,
   "id": "84539bac",
   "metadata": {},
   "outputs": [
    {
     "name": "stdout",
     "output_type": "stream",
     "text": [
      "Jak masz na imię? Lukasz\n",
      "Lukasz\n"
     ]
    }
   ],
   "source": [
    "# pobieranie oraz wyświetlanie imienia\n",
    "\n",
    "x=input(\"Jak masz na imię? \")\n",
    "print(x)"
   ]
  },
  {
   "cell_type": "code",
   "execution_count": 84,
   "id": "49168f19",
   "metadata": {},
   "outputs": [
    {
     "name": "stdout",
     "output_type": "stream",
     "text": [
      "Podaj wartość w typie int x: 1\n",
      "Podaj wartość w typie int y: 5\n",
      "1\n",
      "2\n",
      "3\n",
      "4\n",
      "5\n",
      "5\n",
      "4\n",
      "3\n",
      "2\n",
      "1\n"
     ]
    }
   ],
   "source": [
    "# napisz program wyświetlający z przedziału <x,y> w porządku\n",
    "# rosnącym i malejący. Wartości x i y mają być podane przez użytkownika\n",
    "\n",
    "x=int(input(\"Podaj wartość w typie int x: \"))\n",
    "y=int(input(\"Podaj wartość w typie int y: \"))\n",
    "# można podać, przykładowo: x=1 oraz y=5\n",
    "\n",
    "if x>y:\n",
    "    x,y = y\n",
    "\n",
    "# rosnąca kolejność liczb\n",
    "for i in range(x,y+1):\n",
    "    print(i)\n",
    "    \n",
    "# malejąca kolejnosc liczb\n",
    "for i in range (y, x-1, -1):\n",
    "    print(i)"
   ]
  },
  {
   "cell_type": "code",
   "execution_count": 85,
   "id": "fcf32be3",
   "metadata": {},
   "outputs": [
    {
     "name": "stdout",
     "output_type": "stream",
     "text": [
      "Podaj liczbę: 15\n",
      "1\n",
      "4\n",
      "9\n"
     ]
    }
   ],
   "source": [
    "# napisz program wypisujący wszystkie kwadraty liczb naturalnych\\\n",
    "# mniejsze od liczby podanej przez uzytkownika\n",
    "\n",
    "liczba=int(input('Podaj liczbę: ')) # można podać liczbę np. 15\n",
    "x=1\n",
    "\n",
    "while(x*x < liczba):\n",
    "    print(x*x)\n",
    "    x += 1"
   ]
  },
  {
   "cell_type": "code",
   "execution_count": 86,
   "id": "01d94372",
   "metadata": {},
   "outputs": [],
   "source": [
    "# funkcje wbudowane"
   ]
  },
  {
   "cell_type": "code",
   "execution_count": 87,
   "id": "65f88307",
   "metadata": {},
   "outputs": [],
   "source": [
    "import math #importownie biblioteki math [pakiet wbudowanych funkcji]"
   ]
  },
  {
   "cell_type": "code",
   "execution_count": 88,
   "id": "b29c99f8",
   "metadata": {},
   "outputs": [],
   "source": [
    "# funkcje własne [tworzenie własnych funkcji]"
   ]
  },
  {
   "cell_type": "code",
   "execution_count": 89,
   "id": "b5ab6166",
   "metadata": {},
   "outputs": [],
   "source": [
    "def witaj():\n",
    "    print(\"Legia Warszawa!\")"
   ]
  },
  {
   "cell_type": "code",
   "execution_count": 90,
   "id": "09ebb68c",
   "metadata": {},
   "outputs": [
    {
     "name": "stdout",
     "output_type": "stream",
     "text": [
      "Legia Warszawa!\n"
     ]
    }
   ],
   "source": [
    "witaj()"
   ]
  },
  {
   "cell_type": "code",
   "execution_count": 91,
   "id": "26be6e72",
   "metadata": {},
   "outputs": [],
   "source": [
    "def moja_funkcja(kraj = 'Polski'):\n",
    "    print('Pochodzę z ' + kraj)"
   ]
  },
  {
   "cell_type": "code",
   "execution_count": 92,
   "id": "7cff7000",
   "metadata": {},
   "outputs": [
    {
     "name": "stdout",
     "output_type": "stream",
     "text": [
      "Pochodzę z Polski\n"
     ]
    }
   ],
   "source": [
    "moja_funkcja()"
   ]
  },
  {
   "cell_type": "code",
   "execution_count": 93,
   "id": "f7641824",
   "metadata": {},
   "outputs": [
    {
     "name": "stdout",
     "output_type": "stream",
     "text": [
      "Pochodzę z Niemiec\n"
     ]
    }
   ],
   "source": [
    "moja_funkcja('Niemiec')"
   ]
  },
  {
   "cell_type": "code",
   "execution_count": 94,
   "id": "2ce4db70",
   "metadata": {},
   "outputs": [
    {
     "name": "stdout",
     "output_type": "stream",
     "text": [
      "Podaj swoje imie: Lukasz\n",
      "Witaj Lukasz!\n"
     ]
    }
   ],
   "source": [
    "def witaj(imie):\n",
    "    return f\"Witaj {imie}!\"\n",
    "\n",
    "podaj_imie = input(\"Podaj swoje imie: \")\n",
    "\n",
    "print(witaj(podaj_imie))"
   ]
  },
  {
   "cell_type": "code",
   "execution_count": 95,
   "id": "4aad96c7",
   "metadata": {},
   "outputs": [
    {
     "name": "stdout",
     "output_type": "stream",
     "text": [
      "Podaj swoje imie: Lukasz\n",
      "Podaj swoj nick: \n",
      "Witaj Lukasz zwany Luki!\n"
     ]
    }
   ],
   "source": [
    "def witaj(imie, nick = 'Luki'):\n",
    "    powitanie = f\"Witaj {imie} zwany {nick}!\"\n",
    "    return powitanie\n",
    "\n",
    "podaj_imie = input(\"Podaj swoje imie: \")\n",
    "podaj_nick = input(\"Podaj swoj nick: \")\n",
    "\n",
    "if len(podaj_nick)>0:\n",
    "    a = witaj(podaj_imie, podaj_nick)\n",
    "else:\n",
    "    a = witaj(podaj_imie)\n",
    "\n",
    "print(a)"
   ]
  },
  {
   "cell_type": "code",
   "execution_count": 96,
   "id": "bee0323d",
   "metadata": {},
   "outputs": [],
   "source": [
    "# *args [parametry funkcji, gwiazdka powoduje dowolna liczba argumentów]"
   ]
  },
  {
   "cell_type": "code",
   "execution_count": 97,
   "id": "e3daa5b3",
   "metadata": {},
   "outputs": [],
   "source": [
    "# należy uzywac nazwy 'args'\n",
    "\n",
    "def SumaKwadratow(*args):\n",
    "    print(args)\n",
    "    SumaKw=0\n",
    "    for liczba in args:\n",
    "        SumaKw += liczba**2\n",
    "    print(f\"Suma kwadratow = {SumaKw}\")"
   ]
  },
  {
   "cell_type": "code",
   "execution_count": 98,
   "id": "eb2c6b60",
   "metadata": {},
   "outputs": [
    {
     "name": "stdout",
     "output_type": "stream",
     "text": [
      "(1, 2, 3, 4, 5, 6)\n",
      "Suma kwadratow = 91\n"
     ]
    }
   ],
   "source": [
    "SumaKwadratow(1,2,3,4,5,6)"
   ]
  },
  {
   "cell_type": "code",
   "execution_count": 99,
   "id": "af812e97",
   "metadata": {},
   "outputs": [],
   "source": [
    "# to samo działa również z inną nazwą, lecz lepiej używać nazwy 'args'\n",
    "\n",
    "def SumaKwadratow(*wsb):\n",
    "    print(wsb)\n",
    "    SumaKw=0\n",
    "    for liczba in wsb:\n",
    "        SumaKw += liczba**2\n",
    "    print(f\"Suma kwadratow = {SumaKw}\")"
   ]
  },
  {
   "cell_type": "code",
   "execution_count": 100,
   "id": "f917f2c0",
   "metadata": {},
   "outputs": [
    {
     "name": "stdout",
     "output_type": "stream",
     "text": [
      "(1, 2, 3, 4, 5, 6)\n",
      "Suma kwadratow = 91\n"
     ]
    }
   ],
   "source": [
    "SumaKwadratow(1,2,3,4,5,6)"
   ]
  },
  {
   "cell_type": "code",
   "execution_count": 101,
   "id": "ead611cc",
   "metadata": {},
   "outputs": [],
   "source": [
    "# para klucz-wartosc przekazywanie argumentow\n",
    "# **kwargs"
   ]
  },
  {
   "cell_type": "code",
   "execution_count": 102,
   "id": "4b997ffd",
   "metadata": {},
   "outputs": [],
   "source": [
    "def dziecko(**kwargs):\n",
    "    print('On nazywa sie ' + kwargs['nazwisko'])"
   ]
  },
  {
   "cell_type": "code",
   "execution_count": 103,
   "id": "1005c3a8",
   "metadata": {},
   "outputs": [
    {
     "name": "stdout",
     "output_type": "stream",
     "text": [
      "On nazywa sie Pierwszy\n"
     ]
    }
   ],
   "source": [
    "dziecko(imie='Mieszko',nazwisko='Pierwszy')"
   ]
  },
  {
   "cell_type": "code",
   "execution_count": 104,
   "id": "3317dd27",
   "metadata": {},
   "outputs": [],
   "source": [
    "# obliczenie pola kwadratu\n",
    "\n",
    "def PoleKwadratu(a):\n",
    "    return a*a"
   ]
  },
  {
   "cell_type": "code",
   "execution_count": 105,
   "id": "b83f8187",
   "metadata": {},
   "outputs": [
    {
     "data": {
      "text/plain": [
       "25"
      ]
     },
     "execution_count": 105,
     "metadata": {},
     "output_type": "execute_result"
    }
   ],
   "source": [
    "PoleKwadratu(5)"
   ]
  },
  {
   "cell_type": "code",
   "execution_count": 106,
   "id": "30f0da6a",
   "metadata": {},
   "outputs": [],
   "source": [
    "# zadanie nr 15\n",
    "# #--- Exercise 15 -----\n",
    "# Policz sumę wartosci w pierwszej kolumnie\n",
    "\n",
    "# input = [\n",
    "# [1,'asdf'],\n",
    "# [3, 'dsf'],\n",
    "# [5, 'dsf'],\n",
    "# [4, 'dsf'],\n",
    "# [9, 'dsf'],\n",
    "# [33, 'dsf'],\n",
    "# [23, 'dsf']]\n",
    "\n",
    "## method 1 - with numpy\n",
    "\n",
    "## method 2 - basic method"
   ]
  },
  {
   "cell_type": "code",
   "execution_count": 107,
   "id": "07eb5c0d",
   "metadata": {},
   "outputs": [],
   "source": [
    "# Method no 1 (NumPy)"
   ]
  },
  {
   "cell_type": "code",
   "execution_count": 110,
   "id": "5455ba87",
   "metadata": {},
   "outputs": [
    {
     "name": "stdout",
     "output_type": "stream",
     "text": [
      "78\n"
     ]
    }
   ],
   "source": [
    "import numpy as np\n",
    "\n",
    "input = [\n",
    "[1,'asdf'],\n",
    "[3, 'dsf'],\n",
    "[5, 'dsf'],\n",
    "[4, 'dsf'],\n",
    "[9, 'dsf'],\n",
    "[33, 'dsf'],\n",
    "[23, 'dsf']]\n",
    "\n",
    "array_input = np.array(input) # przekonwertowanie listy wejściowej na tablicę NumPy\n",
    "first_col = array_input[:, 0] # wybranie pierwszej kolumny\n",
    "sum_first_col = np.sum(first_col.astype(int)) # zmiana wartości na int oraz ich zsumowanie\n",
    "print(sum_first_col) # wyświetlenie wyniku"
   ]
  },
  {
   "cell_type": "code",
   "execution_count": 111,
   "id": "bbdfe19e",
   "metadata": {},
   "outputs": [],
   "source": [
    "# Method no 2 (basic method)"
   ]
  },
  {
   "cell_type": "code",
   "execution_count": 112,
   "id": "51c67dfe",
   "metadata": {},
   "outputs": [
    {
     "name": "stdout",
     "output_type": "stream",
     "text": [
      "78\n"
     ]
    }
   ],
   "source": [
    "input = [\n",
    "[1,'asdf'],\n",
    "[3, 'dsf'],\n",
    "[5, 'dsf'],\n",
    "[4, 'dsf'],\n",
    "[9, 'dsf'],\n",
    "[33, 'dsf'],\n",
    "[23, 'dsf']]\n",
    "\n",
    "sum_first_col = 0 # zainicjowanie sumy na zero\n",
    "for row in input:\n",
    "    sum_first_col += row[0] # dodanie wartości z pierwszej kolumny do sumy\n",
    "print(sum_first_col) # wyświetlenie wyniku"
   ]
  },
  {
   "cell_type": "code",
   "execution_count": 113,
   "id": "90bfd074",
   "metadata": {},
   "outputs": [],
   "source": [
    "# zadania nr 16-20"
   ]
  },
  {
   "cell_type": "code",
   "execution_count": 114,
   "id": "b4bc5a97",
   "metadata": {},
   "outputs": [],
   "source": [
    "import pandas as pd\n",
    "data_shops = [['Gdynia',100, 'Biedronka'], ['Gdansk',120, 'Biedronka'], ['Sopot',130, 'Lidl'], ['Gdynia',90, 'Lidl'], ['Gdansk',150, 'Kaufland'], ['Sopot', 200, 'Kaufland'], ['Gdansk', 160, 'Lidl'] ]\n",
    "df_shops = pd.DataFrame(data_shops, columns=['City','Sales', 'Shops'])"
   ]
  },
  {
   "cell_type": "code",
   "execution_count": 115,
   "id": "db27f975",
   "metadata": {},
   "outputs": [],
   "source": [
    "# zadanie nr 16\n",
    "# Wybierz sklepy Lidl z ramki danych df_shops.\n",
    "# Choose Lidl show from df_shops data frame."
   ]
  },
  {
   "cell_type": "code",
   "execution_count": 116,
   "id": "7094f83a",
   "metadata": {},
   "outputs": [
    {
     "name": "stdout",
     "output_type": "stream",
     "text": [
      "     City  Sales Shops\n",
      "2   Sopot    130  Lidl\n",
      "3  Gdynia     90  Lidl\n",
      "6  Gdansk    160  Lidl\n"
     ]
    }
   ],
   "source": [
    "lidl_shops = df_shops[df_shops['Shops'] == 'Lidl']\n",
    "print(lidl_shops)"
   ]
  },
  {
   "cell_type": "code",
   "execution_count": 117,
   "id": "2d2d3c60",
   "metadata": {},
   "outputs": [],
   "source": [
    "# zadanie nr 17\n",
    "# Sprawdz gdzie sprzedaz byla wieksza niz 150 (df_shops).\n",
    "# Check where sales is higher than 150 (df_shops)."
   ]
  },
  {
   "cell_type": "code",
   "execution_count": 118,
   "id": "867968ae",
   "metadata": {},
   "outputs": [
    {
     "name": "stdout",
     "output_type": "stream",
     "text": [
      "     City  Sales     Shops\n",
      "5   Sopot    200  Kaufland\n",
      "6  Gdansk    160      Lidl\n"
     ]
    }
   ],
   "source": [
    "sales_higher_than_150 = df_shops[df_shops['Sales'] > 150]\n",
    "print(sales_higher_than_150)"
   ]
  },
  {
   "cell_type": "code",
   "execution_count": 119,
   "id": "7bb4f175",
   "metadata": {},
   "outputs": [],
   "source": [
    "# zadanie nr 18\n",
    "# Sprawdz w ktorych sklepach w Gdansku i Sopocie sprzedaz przewyzszyla kwote 140. (df_shops)\n",
    "# Check in what shops in Gdansk and Sopot sales is higher than 140."
   ]
  },
  {
   "cell_type": "code",
   "execution_count": 120,
   "id": "e737f59b",
   "metadata": {},
   "outputs": [
    {
     "name": "stdout",
     "output_type": "stream",
     "text": [
      "     City  Sales     Shops\n",
      "4  Gdansk    150  Kaufland\n",
      "5   Sopot    200  Kaufland\n",
      "6  Gdansk    160      Lidl\n"
     ]
    }
   ],
   "source": [
    "gdansk_sopot_sales_higher_than_140 = df_shops[(df_shops['City'].isin(['Gdansk', 'Sopot'])) & (df_shops['Sales'] > 140)]\n",
    "print(gdansk_sopot_sales_higher_than_140)"
   ]
  },
  {
   "cell_type": "code",
   "execution_count": 121,
   "id": "c8e05618",
   "metadata": {},
   "outputs": [],
   "source": [
    "# zadanie nr 19\n",
    "# Wybierz wszystkie sklepy oprocz sopockich.\n",
    "# Choose all shops except Sopot."
   ]
  },
  {
   "cell_type": "code",
   "execution_count": 122,
   "id": "963ae2c8",
   "metadata": {},
   "outputs": [
    {
     "name": "stdout",
     "output_type": "stream",
     "text": [
      "     City  Sales      Shops\n",
      "0  Gdynia    100  Biedronka\n",
      "1  Gdansk    120  Biedronka\n",
      "3  Gdynia     90       Lidl\n",
      "4  Gdansk    150   Kaufland\n",
      "6  Gdansk    160       Lidl\n"
     ]
    }
   ],
   "source": [
    "all_shops_except_sopot = df_shops[df_shops['City'] != 'Sopot']\n",
    "print(all_shops_except_sopot)"
   ]
  },
  {
   "cell_type": "code",
   "execution_count": 123,
   "id": "dcdba2f6",
   "metadata": {},
   "outputs": [],
   "source": [
    "# zadanie nr 20\n",
    "# Wybierz wszystkie sklepy Lidl w Gdansku i Sopocie, w ktorych sprzedaz byla wieksza niz 100 oraz mniejsza niz 210\n",
    "# Choose all Lidl shops in Gdansk and Sopot where sales is higher than 100 and lower than 210."
   ]
  },
  {
   "cell_type": "code",
   "execution_count": 124,
   "id": "c82f41cc",
   "metadata": {},
   "outputs": [
    {
     "name": "stdout",
     "output_type": "stream",
     "text": [
      "     City  Sales Shops\n",
      "2   Sopot    130  Lidl\n",
      "6  Gdansk    160  Lidl\n"
     ]
    }
   ],
   "source": [
    "lidl_shops_in_gdansk_sopot = df_shops[(df_shops['Shops'] == 'Lidl') & (df_shops['City'].isin(['Gdansk', 'Sopot'])) & (df_shops['Sales'] > 100) & (df_shops['Sales'] < 210)]\n",
    "print(lidl_shops_in_gdansk_sopot)"
   ]
  },
  {
   "cell_type": "code",
   "execution_count": null,
   "id": "29a62947",
   "metadata": {},
   "outputs": [],
   "source": []
  }
 ],
 "metadata": {
  "kernelspec": {
   "display_name": "Python 3 (ipykernel)",
   "language": "python",
   "name": "python3"
  },
  "language_info": {
   "codemirror_mode": {
    "name": "ipython",
    "version": 3
   },
   "file_extension": ".py",
   "mimetype": "text/x-python",
   "name": "python",
   "nbconvert_exporter": "python",
   "pygments_lexer": "ipython3",
   "version": "3.9.13"
  }
 },
 "nbformat": 4,
 "nbformat_minor": 5
}
